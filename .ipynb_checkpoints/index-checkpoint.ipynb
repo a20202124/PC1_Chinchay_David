{
  "cells": [
    {
      "cell_type": "markdown",
      "metadata": {
        "id": "Rq_-jS9HtUU-"
      },
      "source": [
        "<center><img src=\"https://i.imgur.com/zRrFdsf.png\" width=\"700\"></center>\n",
        "\n",
        "<a target=\"_blank\" href=\"https://colab.research.google.com/github/CienciaDeDatosEspacial/TheThematics/blob/main/index.ipynb\">\n",
        "  <img src=\"https://colab.research.google.com/assets/colab-badge.svg\" alt=\"Open In Colab\"/>\n",
        "</a>"
      ]
    },
    {
      "cell_type": "markdown",
      "metadata": {
        "id": "-cCaZ1r2tUVA"
      },
      "source": [
        "# The Thematic map\n",
        "\n",
        "Last session we created a file with several layers:"
      ]
    },
    {
      "cell_type": "code",
      "execution_count": null,
      "metadata": {
        "id": "iWx-Vj4xEmwD",
        "scrolled": true
      },
      "outputs": [],
      "source": [
        "import geopandas as gpd\n",
        "\n",
        "linkGit='https://github.com/CienciaDeDatosEspacial/dataSets/raw/main/'\n",
        "linkWorldMaps='WORLD/worldMaps.gpkg'"
      ]
    },
    {
      "cell_type": "markdown",
      "metadata": {
        "id": "oyEGqL-o590W"
      },
      "source": [
        "we can easily find out the layers in that geopackage file (**worldMaps.gpkg**):"
      ]
    },
    {
      "cell_type": "code",
      "execution_count": null,
      "metadata": {
        "id": "7ajknOKx5ppf"
      },
      "outputs": [],
      "source": [
        "gpd.list_layers(linkGit+linkWorldMaps)"
      ]
    },
    {
      "cell_type": "markdown",
      "metadata": {
        "id": "BWhRt9va5ppf"
      },
      "source": [
        "For the thematics we will retrieve only one layer (map):"
      ]
    },
    {
      "cell_type": "code",
      "execution_count": null,
      "metadata": {
        "id": "oSR9Kegk5ppf"
      },
      "outputs": [],
      "source": [
        "countries=gpd.read_file(linkGit+linkWorldMaps,layer='countries')\n",
        "\n",
        "# see some\n",
        "countries"
      ]
    },
    {
      "cell_type": "markdown",
      "metadata": {
        "id": "7Tm4ECPFEmwE"
      },
      "source": [
        "As you see, the GDF above has just two colums; enough to plot a map, but no more than that.\n",
        "\n",
        "Let me open a DF:"
      ]
    },
    {
      "cell_type": "code",
      "execution_count": null,
      "metadata": {
        "id": "Usm5FT0hEmwE"
      },
      "outputs": [],
      "source": [
        "import pandas as pd\n",
        "\n",
        "someDataLink='WORLD/some_dataworld.csv'\n",
        "\n",
        "someData=pd.read_csv(linkGit+someDataLink)\n",
        "\n",
        "## data available\n",
        "someData.info()"
      ]
    },
    {
      "cell_type": "markdown",
      "metadata": {
        "id": "YAfghDZ85ppg"
      },
      "source": [
        "## Pre Processing: Merging"
      ]
    },
    {
      "cell_type": "markdown",
      "metadata": {
        "id": "eWlO6ncUEmwE"
      },
      "source": [
        "The DF has some interesting numerical data (_float64_):\n",
        "* fragility: fragility index 2023 -[details here](https://fragilestatesindex.org/2023/06/14/fragile-states-index-2023-annual-report/)\n",
        "* co2: metric tonnes of CO2 emmitted -[details here](https://www.cia.gov/the-world-factbook/field/carbon-dioxide-emissions/country-comparison/)\n",
        "* sq_km: country area -[details here](https://www.cia.gov/the-world-factbook/field/area/country-comparison/)\n",
        "* num_airports: count of airports in the country -[details here](https://www.cia.gov/the-world-factbook/field/airports/country-comparison/)\n",
        "* population: country population  -[details here](https://www.cia.gov/the-world-factbook/field/population/country-comparison/)\n",
        "* mobiles: total number of mobile cellular telephone subscribers -[details here](https://www.cia.gov/the-world-factbook/field/telephones-mobile-cellular/country-comparison/)\n",
        "\n",
        "There are also other columns that may be of help:"
      ]
    },
    {
      "cell_type": "code",
      "execution_count": null,
      "metadata": {
        "id": "zR7A3vxAEmwE"
      },
      "outputs": [],
      "source": [
        "someData.head()"
      ]
    },
    {
      "cell_type": "markdown",
      "metadata": {
        "id": "fm91BTWJEmwE"
      },
      "source": [
        "Preparing thematic maps requires **social data** _about_ the geometry (line, polygon, point). The object **countries** has no social data, so the preprocessing requires geomerging."
      ]
    },
    {
      "cell_type": "markdown",
      "metadata": {
        "id": "cQgamTbX911A"
      },
      "source": [
        "### Geo Merging\n",
        "\n",
        "This is a critical preprocessing operation, as it is in charge of combining data sets, in this case combine a DF into a GDF. Some rules are needed:\n",
        "\n",
        "* There is at least one common column needed to serve for the matches.\n",
        "* The common columns, or KEYs, need contents to be written exactly in both columns.\n",
        "* It is recommended that both KEYs are named the same.\n",
        "\n",
        "Here we have the KEYs:"
      ]
    },
    {
      "cell_type": "code",
      "execution_count": null,
      "metadata": {
        "id": "QkRTmDTZ911A"
      },
      "outputs": [],
      "source": [
        "countries.COUNTRY.head()"
      ]
    },
    {
      "cell_type": "code",
      "execution_count": null,
      "metadata": {
        "id": "0IcIM7fZEmwE"
      },
      "outputs": [],
      "source": [
        "someData.Country.head()"
      ]
    },
    {
      "cell_type": "markdown",
      "metadata": {
        "id": "mL6Pw18r911A"
      },
      "source": [
        "Let's solve the _country name_ differences for the KEYs:"
      ]
    },
    {
      "cell_type": "code",
      "execution_count": null,
      "metadata": {
        "id": "97btXyge911A"
      },
      "outputs": [],
      "source": [
        "countries.rename(columns={'COUNTRY':'Country'},inplace=True)"
      ]
    },
    {
      "cell_type": "markdown",
      "metadata": {
        "id": "ucMytkM9911A"
      },
      "source": [
        "We can notice the different *case* in the KEYs. Let's work with uppercases:"
      ]
    },
    {
      "cell_type": "code",
      "execution_count": null,
      "metadata": {
        "id": "_vJq-o89911B"
      },
      "outputs": [],
      "source": [
        "countries['Country']=countries.Country.str.upper()"
      ]
    },
    {
      "cell_type": "markdown",
      "metadata": {
        "id": "qQjjpN3J911B"
      },
      "source": [
        "It is very unlikely the names are written the same. Let's verify:"
      ]
    },
    {
      "cell_type": "code",
      "execution_count": null,
      "metadata": {
        "id": "XQSKl9Nz911B"
      },
      "outputs": [],
      "source": [
        "onlyDF=set(someData.Country)- set(countries.Country)\n",
        "onlyGDF=set(countries.Country)- set(someData.Country)"
      ]
    },
    {
      "cell_type": "markdown",
      "metadata": {
        "id": "6HxnDC7W911B"
      },
      "source": [
        "Check here:"
      ]
    },
    {
      "cell_type": "code",
      "execution_count": null,
      "metadata": {
        "id": "hE_aSvmQ911B"
      },
      "outputs": [],
      "source": [
        "onlyDF # they did not find a match in the MAP GDF!"
      ]
    },
    {
      "cell_type": "markdown",
      "metadata": {
        "id": "UwI3tGw2EmwF"
      },
      "source": [
        "There are several countries in the DF that did not find a match in the GDF (map). Of course, most of them are in the map, let's see why they were not matched."
      ]
    },
    {
      "cell_type": "markdown",
      "metadata": {
        "id": "6_UJQaV3911B"
      },
      "source": [
        "### Fuzzy merging"
      ]
    },
    {
      "cell_type": "markdown",
      "metadata": {
        "id": "1Ru8Wp9f911C"
      },
      "source": [
        "We use this technique to detect similarities between strings. You need this package **thefuzz** (based on the [Levenshtein algorithm](https://en.wikipedia.org/wiki/Levenshtein_distance)):"
      ]
    },
    {
      "cell_type": "code",
      "execution_count": null,
      "metadata": {
        "id": "5kOc6YjOBuwj"
      },
      "outputs": [],
      "source": [
        "# !pip install thefuzz"
      ]
    },
    {
      "cell_type": "markdown",
      "metadata": {
        "id": "1U-xOtG9EmwF"
      },
      "source": [
        "This is the basic idea:"
      ]
    },
    {
      "cell_type": "code",
      "execution_count": null,
      "metadata": {
        "id": "OGiG_W77911G"
      },
      "outputs": [],
      "source": [
        "from thefuzz.process import extractOne as best\n",
        "\n",
        "## find the BEST match to 'BAHAMAS (THE)'\n",
        "## from all strings in 'onlyGDF'\n",
        "\n",
        "best('BAHAMAS (THE)',onlyGDF)"
      ]
    },
    {
      "cell_type": "markdown",
      "metadata": {
        "id": "c-ZO0yB2EmwF"
      },
      "source": [
        "As you see, you get a coefficient value of 90 (the closer to 100 the better). That may be a reliable result.\n",
        "\n",
        "Let's do the same for all the unmatched countries:"
      ]
    },
    {
      "cell_type": "code",
      "execution_count": null,
      "metadata": {
        "id": "os8OEiM8EmwF"
      },
      "outputs": [],
      "source": [
        "## for each country in onlyDF, find the BEST match in onlyGDF\n",
        "\n",
        "[(country, best(country,onlyGDF)) for country in onlyDF]"
      ]
    },
    {
      "cell_type": "markdown",
      "metadata": {
        "id": "fNyQ15drGM1b"
      },
      "source": [
        "Each element in the *list* above in in parentheses, for instance:\n",
        "\n",
        "```\n",
        "('TIMOR-LESTE', ('EAST TIMOR', 81))\n",
        "```\n",
        "\n",
        "That element has two elements:\n",
        "\n",
        "\n",
        "*   **'TIMOR-LESTE'** from *onlyDF*, and\n",
        "*   **('EAST TIMOR', 81)** which is the result from _best(country,onlyGDF)_. This last element, as we just saw above, shows the best match and the level of similarity (the higher the more similar).\n",
        "\n",
        "We can prepare a list where each element has three elements:\n",
        "\n"
      ]
    },
    {
      "cell_type": "code",
      "execution_count": null,
      "metadata": {
        "id": "gc6s__oIEmwF"
      },
      "outputs": [],
      "source": [
        "#or\n",
        "[(country, best(country,onlyGDF)[0],best(country,onlyGDF)[1]) for country in onlyDF]"
      ]
    },
    {
      "cell_type": "markdown",
      "metadata": {
        "id": "Bn-uTZVHEmwF"
      },
      "source": [
        "For instace, this element has 3 elements:\n",
        "\n",
        "```\n",
        " ('IRAN (ISLAMIC REPUBLIC OF)', 'IRAN', 90)\n",
        "```\n",
        "\n",
        "The level of similarity would guide us to make update (replace) the strings in one of the KEYs, so that the merging process works properly.\n",
        "\n",
        "Then, it would be better if we have a data frame instead of a list:"
      ]
    },
    {
      "cell_type": "code",
      "execution_count": null,
      "metadata": {
        "id": "dEwzfwmXEmwF"
      },
      "outputs": [],
      "source": [
        "pd.DataFrame([(country, best(country,onlyGDF)[0],best(country,onlyGDF)[1]) for country in onlyDF])"
      ]
    },
    {
      "cell_type": "markdown",
      "metadata": {
        "id": "Ny-xTkM2IcOZ"
      },
      "source": [
        "Let's sort by the column '2' (the third):"
      ]
    },
    {
      "cell_type": "code",
      "execution_count": null,
      "metadata": {
        "id": "jYicQroqIg4L"
      },
      "outputs": [],
      "source": [
        "pd.DataFrame([(country, best(country,onlyGDF)[0],best(country,onlyGDF)[1]) for country in onlyDF]).sort_values(by=2)"
      ]
    },
    {
      "cell_type": "markdown",
      "metadata": {
        "id": "TAty9HrWEmwG"
      },
      "source": [
        "The previous result helps make a plan based on these cases:\n",
        "* **ESWATINI** is always a problem, because it is also *SWAZILAND*.\n",
        "* **KOREA (THE REPUBLIC OF)** is not _NORTH KOREA_.\n",
        "* **LAO PEOPLE'S DEMOCRATIC REPUBLIC (THE)** is too long to match *LAOS* (if it exists in the map like that).\n",
        "* **SAMOA** is always a problem, because it is also *WESTERN SAMOA*.\n",
        "\n",
        "Based on this, we should see what our GDF has:"
      ]
    },
    {
      "cell_type": "code",
      "execution_count": null,
      "metadata": {
        "id": "qDvddxH1EmwG"
      },
      "outputs": [],
      "source": [
        "countries.Country[countries.Country.str.contains('SWAZ|LAO|SAMOA|KORE')]"
      ]
    },
    {
      "cell_type": "markdown",
      "metadata": {
        "id": "T6KT4jlOEmwG"
      },
      "source": [
        "Then, it makes sense to change those manually (notice the 'replace' uses Python dictionaries):"
      ]
    },
    {
      "cell_type": "code",
      "execution_count": null,
      "metadata": {
        "id": "ru9XfAN0EmwG"
      },
      "outputs": [],
      "source": [
        "# this is a {dictionary}\n",
        "\n",
        "manualChanges={'SWAZILAND':'ESWATINI',\n",
        "               'LAOS':\"LAO PEOPLE'S DEMOCRATIC REPUBLIC (THE)\",\n",
        "               'SOUTH KOREA':'KOREA (THE REPUBLIC OF)',\n",
        "               'WESTERN SAMOA':'SAMOA',\n",
        "              }\n",
        "\n",
        "countries.replace(to_replace={'Country':manualChanges},inplace=True)"
      ]
    },
    {
      "cell_type": "markdown",
      "metadata": {
        "id": "mly8JslcEmwG"
      },
      "source": [
        "At this stage, we should recompute the differences:"
      ]
    },
    {
      "cell_type": "code",
      "execution_count": null,
      "metadata": {
        "id": "JQBXlB-KEmwG"
      },
      "outputs": [],
      "source": [
        "# updating\n",
        "onlyDF=set(someData.Country)- set(countries.Country)\n",
        "onlyGDF=set(countries.Country)- set(someData.Country)"
      ]
    },
    {
      "cell_type": "markdown",
      "metadata": {
        "id": "Q-soIkXiEmwG"
      },
      "source": [
        "An re run this code:"
      ]
    },
    {
      "cell_type": "code",
      "execution_count": null,
      "metadata": {
        "id": "X_BTyMJ6911G"
      },
      "outputs": [],
      "source": [
        "# keeping high scores\n",
        "\n",
        "pd.DataFrame([(country, best(country,onlyGDF)[0],best(country,onlyGDF)[1]) for country in onlyDF]).sort_values(2)"
      ]
    },
    {
      "cell_type": "markdown",
      "metadata": {
        "id": "f4HfKg5a911G"
      },
      "source": [
        "All this is correct now!\n",
        "\n",
        "Let's prepare the changes:"
      ]
    },
    {
      "cell_type": "code",
      "execution_count": null,
      "metadata": {
        "id": "XQmFAeIhEmwK"
      },
      "outputs": [],
      "source": [
        "# new {dictionary}\n",
        "changesToDF={country: best(country,onlyGDF)[0] for country in onlyDF}\n",
        "changesToDF"
      ]
    },
    {
      "cell_type": "code",
      "execution_count": null,
      "metadata": {
        "id": "HaGAV_eE911G"
      },
      "outputs": [],
      "source": [
        "someData.replace(to_replace={'Country':changesToDF},inplace=True)"
      ]
    },
    {
      "cell_type": "markdown",
      "metadata": {
        "id": "oS24qOxKEmwL"
      },
      "source": [
        "What is left to match?"
      ]
    },
    {
      "cell_type": "code",
      "execution_count": null,
      "metadata": {
        "id": "jZTvbnY7EmwL"
      },
      "outputs": [],
      "source": [
        "# updating\n",
        "onlyDF=set(someData.Country)- set(countries.Country)\n",
        "onlyGDF=set(countries.Country)- set(someData.Country)\n",
        "[(country, best(country,onlyGDF)) for country in onlyDF]"
      ]
    },
    {
      "cell_type": "markdown",
      "metadata": {
        "id": "bxxGO8JJEmwL"
      },
      "source": [
        "Once you are here, merging can proceed:"
      ]
    },
    {
      "cell_type": "code",
      "execution_count": null,
      "metadata": {
        "id": "sRWmaebuEmwL"
      },
      "outputs": [],
      "source": [
        "## GDF to the 'left'\n",
        "theMapAndData=countries.merge(someData, on='Country')"
      ]
    },
    {
      "cell_type": "markdown",
      "metadata": {
        "id": "SZBdNu65911G"
      },
      "source": [
        "And our GDF has social data now!"
      ]
    },
    {
      "cell_type": "code",
      "execution_count": null,
      "metadata": {
        "id": "2uoQ0nu-911G"
      },
      "outputs": [],
      "source": [
        "theMapAndData.info()"
      ]
    },
    {
      "cell_type": "markdown",
      "metadata": {
        "id": "J9STy3kH847J"
      },
      "source": [
        "We should save this map of countries and their indicators in a new file:"
      ]
    },
    {
      "cell_type": "code",
      "execution_count": null,
      "metadata": {
        "id": "zSX-VqGy9CTo"
      },
      "outputs": [],
      "source": [
        "theMapAndData.to_file(\"worldindicators.json\")"
      ]
    },
    {
      "cell_type": "markdown",
      "metadata": {
        "id": "aqwztVCI5ppn"
      },
      "source": [
        "# Thematics: the DDM (Dot Density Map)\n",
        "\n",
        "You have a DDM if you use dot to show comparatively which polygon of a map has 'more' (or 'less') of some countable phenomenon of interest.\n",
        "A dot is an aggregated value, but it is constant for each dot.\n",
        "\n",
        "We have the world map, let's keep Africa:"
      ]
    },
    {
      "cell_type": "code",
      "execution_count": null,
      "metadata": {
        "id": "DbI7BXpU5ppn"
      },
      "outputs": [],
      "source": [
        "theMapAndData.region.value_counts()"
      ]
    },
    {
      "cell_type": "markdown",
      "metadata": {
        "id": "AA9LCytj5ppn"
      },
      "source": [
        "### Preprocessing: Filtering"
      ]
    },
    {
      "cell_type": "code",
      "execution_count": null,
      "metadata": {
        "id": "5m4yTGMq5ppn"
      },
      "outputs": [],
      "source": [
        "# then\n",
        "\n",
        "Africa=theMapAndData[theMapAndData.region=='AFRICA']\n",
        "Africa.plot()"
      ]
    },
    {
      "cell_type": "markdown",
      "metadata": {
        "id": "EHVMXUwo5ppn"
      },
      "source": [
        "A DDM can serve as an effective way to show the distribution of people. The most critical tasks are:\n",
        "\n",
        "* Dot Placement: The dots should be randomly distributed within each polygon to avoid misrepresenting the data.\n",
        "\n",
        "* Dot Unit: Deciding how many people each dot should represent is key for visual clarity. This value should be chosen carefully to avoid oversaturation or sparsity.\n",
        "\n",
        "The size of all dots on the map must be the same to ensure a consistent visual comparison.\n",
        "\n",
        "### Preprocessing: aggregating\n",
        "\n",
        "This is a DOT UNIT proposal:"
      ]
    },
    {
      "cell_type": "code",
      "execution_count": null,
      "metadata": {
        "id": "iay2CMzvEmwL"
      },
      "outputs": [],
      "source": [
        "justDots=Africa.copy()\n",
        "dot_value = 100000\n",
        "justDots['num_dots'] = (justDots['population'] / dot_value).astype(int)"
      ]
    },
    {
      "cell_type": "markdown",
      "metadata": {
        "id": "xlbH9Wfy5ppn"
      },
      "source": [
        "### Preprocessing: distributing dots"
      ]
    },
    {
      "cell_type": "markdown",
      "metadata": {
        "id": "V0Pf3PSN5ppn"
      },
      "source": [
        "And here, we get a location for the dots:"
      ]
    },
    {
      "cell_type": "code",
      "execution_count": null,
      "metadata": {
        "id": "i_tSLIbd5ppn"
      },
      "outputs": [],
      "source": [
        "# 2. Generate the random dot locations using .sample_points()\n",
        "justDots = justDots.sample_points(size=justDots['num_dots']).explode(index_parts=True)"
      ]
    },
    {
      "cell_type": "markdown",
      "metadata": {
        "id": "7cFJhKo0EmwL"
      },
      "source": [
        "You get this:"
      ]
    },
    {
      "cell_type": "code",
      "execution_count": null,
      "metadata": {
        "id": "qE9aVnrqEmwL"
      },
      "outputs": [],
      "source": [
        "justDots"
      ]
    },
    {
      "cell_type": "code",
      "execution_count": null,
      "metadata": {
        "id": "PNwx4JbaEmwL"
      },
      "outputs": [],
      "source": [
        "# what is it?\n",
        "type(justDots)"
      ]
    },
    {
      "cell_type": "markdown",
      "metadata": {
        "id": "9ayw6jYx5ppo"
      },
      "source": [
        "### Preprocessing: building GDF from GS"
      ]
    },
    {
      "cell_type": "markdown",
      "metadata": {
        "id": "9eBnrmsbEmwL"
      },
      "source": [
        "Notice the multi index (MI), one for a country and for a dot. As we are planing to send these points to R, we avoid MI:"
      ]
    },
    {
      "cell_type": "code",
      "execution_count": null,
      "metadata": {
        "id": "2NDwWKB1EmwL"
      },
      "outputs": [],
      "source": [
        "justDots.reset_index(drop=True, inplace=True)\n",
        "Africa_dots=gpd.GeoDataFrame(geometry=justDots)\n",
        "Africa_dots"
      ]
    },
    {
      "cell_type": "markdown",
      "metadata": {
        "id": "jQOz9Jov5ppo"
      },
      "source": [
        "Now you have a GDF:"
      ]
    },
    {
      "cell_type": "code",
      "execution_count": null,
      "metadata": {
        "id": "UKRcvavZEmwL"
      },
      "outputs": [],
      "source": [
        "Africa_dots.info()"
      ]
    },
    {
      "cell_type": "markdown",
      "metadata": {
        "id": "6Uh0D2Np5ppo"
      },
      "source": [
        "Juts plot the polygons as the base, and the points as the layer on top!"
      ]
    },
    {
      "cell_type": "code",
      "execution_count": null,
      "metadata": {
        "id": "fVM-tkhDEmwM"
      },
      "outputs": [],
      "source": [
        "base=Africa.plot(facecolor=\"white\",#color of polygon fill\n",
        "               edgecolor='grey') #color of border\n",
        "Africa_dots.plot(markersize=0.05, color='red',ax=base)"
      ]
    },
    {
      "cell_type": "markdown",
      "metadata": {
        "id": "6gdh237a5ppo"
      },
      "source": [
        "It is generally recommended that DDMs use an **equal-area projection**, which benefits density and limits area distortion."
      ]
    },
    {
      "cell_type": "code",
      "execution_count": null,
      "metadata": {
        "id": "it4Vwf-55ppp"
      },
      "outputs": [],
      "source": [
        "base=Africa.to_crs(8857).plot(facecolor=\"white\",\n",
        "                              edgecolor='grey')\n",
        "Africa_dots.to_crs(8857).plot(markersize=0.05, color='red',ax=base)"
      ]
    },
    {
      "cell_type": "markdown",
      "metadata": {
        "id": "rt_edd-v5ppp"
      },
      "source": [
        "Let's keep the continent countries with that crs:"
      ]
    },
    {
      "cell_type": "code",
      "execution_count": null,
      "metadata": {
        "id": "UZviDEnl5ppp"
      },
      "outputs": [],
      "source": [
        "Africa_8857=Africa.to_crs(8857)\n",
        "Africa_dots_8857=Africa_dots.to_crs(8857)"
      ]
    },
    {
      "cell_type": "markdown",
      "metadata": {
        "id": "xsCqTQLj5ppp"
      },
      "source": [
        "# Thematics: the PSM (Proportional Symbol Map)\n",
        "\n",
        "You have a PSM if you use a symbol (generally a circle) to show the distribution of a variable per location.\n",
        "The symbol is an aggregated raw value, and its size varies according to those values. So now we need:"
      ]
    },
    {
      "cell_type": "markdown",
      "metadata": {
        "id": "ka5vdSNp5ppp"
      },
      "source": [
        "### Preprocessing: GDF of centroids\n",
        "\n",
        "1. A location for a symbol, generally the polygon centroid."
      ]
    },
    {
      "cell_type": "code",
      "execution_count": null,
      "metadata": {
        "id": "rz9JQjro5ppp"
      },
      "outputs": [],
      "source": [
        "Africa_8857_centroids = Africa_8857.copy()\n",
        "\n",
        "# Africa_8857_centroids will have a new geometry:\n",
        "Africa_8857_centroids['geometry'] = Africa_8857_centroids['geometry'].centroid"
      ]
    },
    {
      "cell_type": "markdown",
      "metadata": {
        "id": "9JoqkeET5ppp"
      },
      "source": [
        "2. A size of varying values (not constant as in DDMs). Let's use population again."
      ]
    },
    {
      "cell_type": "code",
      "execution_count": null,
      "metadata": {
        "id": "PA_2yR285ppp"
      },
      "outputs": [],
      "source": [
        "Africa_8857_centroids['size'] = Africa_8857_centroids['population'].apply(lambda x: x**0.5/100)\n",
        "\n",
        "## or\n",
        "# import numpy as np\n",
        "# Africa_8857_centroids['size'] = Africa_8857_centroids['population'].apply(lambda x: np.log10(x))"
      ]
    },
    {
      "cell_type": "markdown",
      "metadata": {
        "id": "LBrRi9_75ppp"
      },
      "source": [
        "We got the basics, then:"
      ]
    },
    {
      "cell_type": "code",
      "execution_count": null,
      "metadata": {
        "id": "eHPTS0sm5ppq"
      },
      "outputs": [],
      "source": [
        "base=Africa_8857.plot(facecolor=\"white\",\n",
        "                      edgecolor='grey')\n",
        "# Plot the centroids on top\n",
        "Africa_8857_centroids.plot(\n",
        "    ax=base,\n",
        "    markersize=Africa_8857_centroids['size'],\n",
        "    color='grey'\n",
        ")"
      ]
    },
    {
      "cell_type": "markdown",
      "metadata": {
        "id": "fnJPn-Ca7twP"
      },
      "source": [
        "Keep in mind that the standard way of computing centroids may bring some trouble. Let´s plot Seychelles:"
      ]
    },
    {
      "cell_type": "code",
      "execution_count": null,
      "metadata": {
        "id": "skA3Y7YZ7twP"
      },
      "outputs": [],
      "source": [
        "base=Africa_8857[Africa_8857.Country==\"SEYCHELLES\"].explore()\n",
        "Africa_8857_centroids[Africa_8857_centroids.Country==\"SEYCHELLES\"].explore(m=base,color=\"red\")"
      ]
    },
    {
      "cell_type": "markdown",
      "metadata": {
        "id": "Xhi8CXLn7twP"
      },
      "source": [
        "A good alternative to centroids is representative_point() when dealing with complex multipolygons."
      ]
    },
    {
      "cell_type": "code",
      "execution_count": null,
      "metadata": {
        "id": "lNHypuch7twP"
      },
      "outputs": [],
      "source": [
        "# replace the points\n",
        "Africa_8857_centroids[\"geometry\"]=Africa_8857.representative_point()"
      ]
    },
    {
      "cell_type": "markdown",
      "metadata": {
        "id": "M9TvDu0g7twP"
      },
      "source": [
        "We will keep that last result."
      ]
    },
    {
      "cell_type": "code",
      "execution_count": null,
      "metadata": {
        "id": "roJFMEyA7twQ"
      },
      "outputs": [],
      "source": [
        "base=Africa_8857[Africa_8857.Country==\"SEYCHELLES\"].explore()\n",
        "Africa_8857_centroids[Africa_8857_centroids.Country==\"SEYCHELLES\"].explore(m=base,color=\"red\")"
      ]
    },
    {
      "cell_type": "markdown",
      "metadata": {
        "id": "7slzbJtU5ppq"
      },
      "source": [
        "### Preprocessing: Computing new columns\n",
        "\n",
        "PPMs are not thematic maps to see precise values, but to reveal clear differences on the variable distribution used. As, human eyes are very limited to detect area differences, we may need to use some other tactics to help uncover some patterns.\n",
        "\n",
        "For example, let's confirm if we have outliers:"
      ]
    },
    {
      "cell_type": "code",
      "execution_count": null,
      "metadata": {
        "id": "m55ZDpl85ppq"
      },
      "outputs": [],
      "source": [
        "boxplotInfo=Africa_8857_centroids.boxplot(column='population',return_type=\"dict\")"
      ]
    },
    {
      "cell_type": "markdown",
      "metadata": {
        "id": "QGPhtQvV5ppq"
      },
      "source": [
        "The object **boxplotInfo** showed the boxplot, and we confirm there are outliers. We can recover them like this:"
      ]
    },
    {
      "cell_type": "code",
      "execution_count": null,
      "metadata": {
        "id": "Mt05cDL_5ppq"
      },
      "outputs": [],
      "source": [
        "outliers=boxplotInfo['fliers'][0].get_ydata()\n",
        "## see\n",
        "outliers"
      ]
    },
    {
      "cell_type": "markdown",
      "metadata": {
        "id": "1zHyd5BE5ppq"
      },
      "source": [
        "Then, these are the outlying countries:"
      ]
    },
    {
      "cell_type": "code",
      "execution_count": null,
      "metadata": {
        "id": "IOj-PSyX5ppq"
      },
      "outputs": [],
      "source": [
        "Africa_8857_centroids[Africa_8857_centroids.population.isin(outliers)]"
      ]
    },
    {
      "cell_type": "markdown",
      "metadata": {
        "id": "-vMHxIQ55ppq"
      },
      "source": [
        "Knowing this information, we can create a column as outlier flag:"
      ]
    },
    {
      "cell_type": "code",
      "execution_count": null,
      "metadata": {
        "id": "sr7R33B35ppq"
      },
      "outputs": [],
      "source": [
        "Africa_8857_centroids['population_outlier']=Africa_8857_centroids.population.isin(outliers)*1\n",
        "\n",
        "## see\n",
        "Africa_8857_centroids"
      ]
    },
    {
      "cell_type": "markdown",
      "metadata": {
        "id": "R88wmO3R5ppq"
      },
      "source": [
        "We can use that like this:"
      ]
    },
    {
      "cell_type": "code",
      "execution_count": null,
      "metadata": {
        "id": "tXsxixGD5ppq"
      },
      "outputs": [],
      "source": [
        "base = Africa_8857.plot(color='white', edgecolor='black', figsize=(10,10))\n",
        "\n",
        "# Define your color map\n",
        "mapcolor = {1: 'black', 0: 'lightgrey'}\n",
        "\n",
        "# Plot the centroids on top\n",
        "Africa_8857_centroids.plot(\n",
        "    ax=base,\n",
        "    markersize=Africa_8857_centroids['size'],\n",
        "    color=Africa_8857_centroids['population_outlier'].map(mapcolor)\n",
        ")"
      ]
    },
    {
      "cell_type": "markdown",
      "metadata": {
        "id": "T-aiC-z95ppq"
      },
      "source": [
        "Here, we do a good job for outliers, but it is difficult to interprete the other ones. We could use some redundancy, but more work is needed:\n",
        "1. Create two maps of centroids:"
      ]
    },
    {
      "cell_type": "code",
      "execution_count": null,
      "metadata": {
        "id": "kmdNew_l5ppq"
      },
      "outputs": [],
      "source": [
        "# Create explicit copies of the DataFrames\n",
        "Africa_8857_centroids_out = Africa_8857_centroids[Africa_8857_centroids.population_outlier==1].copy()\n",
        "Africa_8857_centroids_no_out = Africa_8857_centroids[Africa_8857_centroids.population_outlier==0].copy()\n"
      ]
    },
    {
      "cell_type": "markdown",
      "metadata": {
        "id": "ohlWy9W_5ppr"
      },
      "source": [
        "2. Compute sizes in each:"
      ]
    },
    {
      "cell_type": "code",
      "execution_count": null,
      "metadata": {
        "id": "lPLy_lPE5ppr"
      },
      "outputs": [],
      "source": [
        "Africa_8857_centroids_out['size'] = Africa_8857_centroids_out['population'].apply(lambda x: x**0.5 / 50)\n",
        "Africa_8857_centroids_no_out['size'] = Africa_8857_centroids_no_out['population'].apply(lambda x: x**0.5 / 50)"
      ]
    },
    {
      "cell_type": "markdown",
      "metadata": {
        "id": "xahYgH_j5ppr"
      },
      "source": [
        "Now, plot the three layers, using some color gradient for the non-outliers:"
      ]
    },
    {
      "cell_type": "code",
      "execution_count": null,
      "metadata": {
        "id": "h4uNOd4R5ppr"
      },
      "outputs": [],
      "source": [
        "base=Africa_8857.plot(color='white', edgecolor='grey',figsize=(10,10))\n",
        "\n",
        "Africa_8857_centroids_no_out.plot(\n",
        "    ax=base,\n",
        "    markersize=Africa_8857_centroids_no_out['size'],\n",
        "    edgecolor='grey',\n",
        "    c=Africa_8857_centroids_no_out['size'],\n",
        "    cmap='Blues_r'\n",
        ")\n",
        "Africa_8857_centroids_out.plot(\n",
        "    ax=base,\n",
        "    markersize=Africa_8857_centroids_out['size'],\n",
        "    color='orange'\n",
        ")"
      ]
    },
    {
      "cell_type": "markdown",
      "metadata": {
        "id": "mZicl2ut911H"
      },
      "source": [
        "# Thematics: Choropleths\n",
        "\n",
        "Notice that the DDMs may use aggregated counts, and the PSMs use the variables in its original form. Choropleths will 'paint' the whole polygon and as noticed in PSMs, we have to be very careful when using color in shape, as the area itself is a confounding. To control this visual artifact, the variable must be normalized, that is, divided by a value correlated with the area.\n",
        "\n",
        "Then, for this course, a choropleth is a normalized representation of data.\n",
        "\n",
        "Following our definition:\n",
        "\n",
        "* This is **NOT** a choropleth:\n"
      ]
    },
    {
      "cell_type": "code",
      "execution_count": null,
      "metadata": {
        "id": "4KpqfrRB911H"
      },
      "outputs": [],
      "source": [
        "Africa_8857.plot(Africa_8857.population)"
      ]
    },
    {
      "cell_type": "markdown",
      "metadata": {
        "id": "gRAe2g_R5ppr"
      },
      "source": [
        "* This **IS** a choropleth:"
      ]
    },
    {
      "cell_type": "code",
      "execution_count": null,
      "metadata": {
        "id": "bDEqe-Kj5ppr"
      },
      "outputs": [],
      "source": [
        "Africa_8857.plot(Africa_8857.population/Africa_8857.sq_km)"
      ]
    },
    {
      "cell_type": "markdown",
      "metadata": {
        "id": "la4Wko9duich"
      },
      "source": [
        "Choropleths are great to represent normalized indicators such as:\n",
        "* Densities\n",
        "* Ratios\n",
        "* Rates\n",
        "* Averages\n",
        "\n",
        "Population by area is a density indicator. This is a real number (not an integer), so most of the time the color gradient might  not be\n",
        "that useful to reveal some pattern visually. Then, we often discretize (or bin) the indicator computed."
      ]
    },
    {
      "cell_type": "markdown",
      "metadata": {
        "id": "Mvu1FQMh911J"
      },
      "source": [
        "### Preprocessing: Discretizing"
      ]
    },
    {
      "cell_type": "markdown",
      "metadata": {
        "id": "UHh74IeT911J"
      },
      "source": [
        "Now, we want to cut the variable. Run the next code to make sure you have tose packages:"
      ]
    },
    {
      "cell_type": "code",
      "execution_count": null,
      "metadata": {
        "id": "pSSN_XDv911K"
      },
      "outputs": [],
      "source": [
        "## do you have these installed?\n",
        "# ! pip show numba mapclassify numpy"
      ]
    },
    {
      "cell_type": "markdown",
      "metadata": {
        "id": "XifM5dIB911K"
      },
      "source": [
        "We will discretize this:"
      ]
    },
    {
      "cell_type": "code",
      "execution_count": null,
      "metadata": {
        "id": "G6j3Km_f5ppr"
      },
      "outputs": [],
      "source": [
        "Africa_8857['population_density']=Africa_8857.population/Africa_8857.sq_km"
      ]
    },
    {
      "cell_type": "markdown",
      "metadata": {
        "id": "zBNLOG465pps"
      },
      "source": [
        "Let's explore the bining algorithms:"
      ]
    },
    {
      "cell_type": "code",
      "execution_count": null,
      "metadata": {
        "id": "CvipvzA1911K"
      },
      "outputs": [],
      "source": [
        "import mapclassify\n",
        "import numpy as np\n",
        "\n",
        "np.random.seed(12345) # so we all get the same results!\n",
        "\n",
        "# let's try 5 intervals\n",
        "K=5\n",
        "theVar=Africa_8857['population_density']\n",
        "# same interval width, easy interpretation\n",
        "ei5 = mapclassify.EqualInterval(theVar, k=K)\n",
        "# same interval width based on standard deviation, easy - but not as the previous one, poor when high skewness\n",
        "msd = mapclassify.StdMean(theVar)\n",
        "# interval width varies, counts per interval are close, not easy to grasp, repeated values complicate cuts\n",
        "q5=mapclassify.Quantiles(theVar,k=K)\n",
        "\n",
        "# based on similarity, good for multimodal data\n",
        "mb5 = mapclassify.MaximumBreaks(theVar, k=K)\n",
        "# based on similarity, good for skewed data\n",
        "ht = mapclassify.HeadTailBreaks(theVar) # no K needed\n",
        "# based on similarity, optimizer\n",
        "fj5 = mapclassify.FisherJenks(theVar, k=K)\n",
        "# based on similarity, optimizer\n",
        "jc5 = mapclassify.JenksCaspall(theVar, k=K)\n",
        "# based on similarity, optimizer\n",
        "mp5 = mapclassify.MaxP(theVar, k=K)"
      ]
    },
    {
      "cell_type": "markdown",
      "metadata": {
        "id": "jMjS1bE0911K"
      },
      "source": [
        "How can we select the right classification?\n",
        "Let me use the the Absolute deviation around class median (ADCM) to make the comparisson:"
      ]
    },
    {
      "cell_type": "code",
      "execution_count": null,
      "metadata": {
        "id": "bKvo0_cQ911K"
      },
      "outputs": [],
      "source": [
        "class5 = ei5,msd, q5,mb5,  ht, fj5, jc5, mp5\n",
        "# Collect ADCM for each classifier\n",
        "fits = np.array([ c.adcm for c in class5])\n",
        "# Convert ADCM scores to a DataFrame\n",
        "adcms = pd.DataFrame(fits)\n",
        "# Add classifier names\n",
        "adcms['classifier'] = [c.name for c in class5]\n",
        "# Add column names to the ADCM\n",
        "adcms.columns = ['ADCM', 'Classifier']"
      ]
    },
    {
      "cell_type": "markdown",
      "metadata": {
        "id": "anEyZGV6911L"
      },
      "source": [
        "Now, plot the **adcms**:"
      ]
    },
    {
      "cell_type": "code",
      "execution_count": null,
      "metadata": {
        "id": "TnYEkaJf911L"
      },
      "outputs": [],
      "source": [
        "adcms.sort_values('ADCM').plot.barh(x='Classifier')"
      ]
    },
    {
      "cell_type": "markdown",
      "metadata": {
        "id": "v22izWrv911L"
      },
      "source": [
        "Let's save the best strategy:"
      ]
    },
    {
      "cell_type": "code",
      "execution_count": null,
      "metadata": {
        "id": "QVab2hAl911L"
      },
      "outputs": [],
      "source": [
        "Africa_8857['population_density_FJ5'] = fj5.yb"
      ]
    },
    {
      "cell_type": "code",
      "execution_count": null,
      "metadata": {
        "id": "NlOeXrph911L"
      },
      "outputs": [],
      "source": [
        "# there you are\n",
        "Africa_8857[['population_density','population_density_FJ5']].head(20)"
      ]
    },
    {
      "cell_type": "markdown",
      "metadata": {
        "id": "eZdX-5M4911L"
      },
      "source": [
        "We could create a copy of the bins to add labels:"
      ]
    },
    {
      "cell_type": "code",
      "execution_count": null,
      "metadata": {
        "id": "5GT4XA4C911P"
      },
      "outputs": [],
      "source": [
        "# renaming\n",
        "newLabelsForLevels={0:\"0_VeryLow\", 1:\"1_Low\", 2:\"2_Middle\", 3:\"3_High\", 4:\"4_VeryHigh\"}\n",
        "\n",
        "Africa_8857['population_density_FJ5_cat']=Africa_8857.loc[:,'population_density_FJ5'].replace(newLabelsForLevels)\n",
        "\n",
        "# we have\n",
        "Africa_8857[['population_density','population_density_FJ5','population_density_FJ5_cat']].head(20)"
      ]
    },
    {
      "cell_type": "markdown",
      "metadata": {
        "id": "WMBgSJUw911P"
      },
      "source": [
        "We are ready for a discrete choropleth:"
      ]
    },
    {
      "cell_type": "code",
      "execution_count": null,
      "metadata": {
        "id": "0BIR7WUe911P"
      },
      "outputs": [],
      "source": [
        "import matplotlib.pyplot as plt\n",
        "\n",
        "f, ax = plt.subplots(1, figsize=(10, 10))\n",
        "Africa_8857.plot(column='population_density_FJ5_cat', # variable to plot\n",
        "                 cmap='viridis_r', # set of colors\n",
        "                 categorical=True, # can be interpreted as category\n",
        "                 edgecolor='grey', # border color\n",
        "                 linewidth=0.3, # width of border\n",
        "                 legend=True, # need a legend?\n",
        "                 ax=ax\n",
        "       )\n",
        "\n",
        "ax.set_axis_off()"
      ]
    },
    {
      "cell_type": "markdown",
      "metadata": {
        "id": "arcSz0yJ5ppt"
      },
      "source": [
        "# Saving\n",
        "\n",
        "Let's save this maps for R."
      ]
    },
    {
      "cell_type": "code",
      "execution_count": null,
      "metadata": {
        "id": "lTq5OSOn5ppt"
      },
      "outputs": [],
      "source": [
        "## Good practice to refresh your memory\n",
        "\n",
        "## Find only GeoDataFrames in the current session\n",
        "geodataframe_list = [var for var in globals() if isinstance(globals()[var], gpd.GeoDataFrame)]\n",
        "\n",
        "print(\"List of GeoDataFrames in memory:\")\n",
        "for name in geodataframe_list:\n",
        "    print(name)"
      ]
    },
    {
      "cell_type": "markdown",
      "metadata": {
        "id": "szKzPUeW5ppt"
      },
      "source": [
        "These are the ones needed in R:"
      ]
    },
    {
      "cell_type": "code",
      "execution_count": null,
      "metadata": {
        "id": "rjtVmPGX5ppt"
      },
      "outputs": [],
      "source": [
        "# for choropleth and base map\n",
        "Africa_8857.info()"
      ]
    },
    {
      "cell_type": "code",
      "execution_count": null,
      "metadata": {
        "id": "Drp55fbM5ppt"
      },
      "outputs": [],
      "source": [
        "# for DDMs\n",
        "Africa_dots_8857.info()"
      ]
    },
    {
      "cell_type": "code",
      "execution_count": null,
      "metadata": {
        "id": "iEbIeb945ppt"
      },
      "outputs": [],
      "source": [
        "# for PSMs\n",
        "Africa_8857_centroids.info()"
      ]
    },
    {
      "cell_type": "code",
      "execution_count": null,
      "metadata": {
        "id": "jb84DFCO5ppt"
      },
      "outputs": [],
      "source": [
        "# for PSMs\n",
        "Africa_8857_centroids_out.info()"
      ]
    },
    {
      "cell_type": "code",
      "execution_count": null,
      "metadata": {
        "id": "Q4crBaKU5ppu"
      },
      "outputs": [],
      "source": [
        "# for PSMs\n",
        "Africa_8857_centroids_no_out.info()"
      ]
    },
    {
      "cell_type": "markdown",
      "metadata": {
        "id": "s29vjtOl5ppu"
      },
      "source": [
        "The file **africa_8857.gpkg** will keep all those maps as layers!"
      ]
    },
    {
      "cell_type": "code",
      "execution_count": null,
      "metadata": {
        "id": "2H5vDwCq5ppu"
      },
      "outputs": [],
      "source": [
        "Africa_8857.to_file(\"africa_8857.gpkg\",driver='GPKG',layer='continent')\n",
        "Africa_dots_8857.to_file(\"africa_8857.gpkg\",driver='GPKG',layer='population_ddm')\n",
        "Africa_8857_centroids.to_file(\"africa_8857.gpkg\",driver='GPKG',layer='population_psm')\n",
        "Africa_8857_centroids_out.to_file(\"africa_8857.gpkg\",driver='GPKG',layer='outlier_population_psm')\n",
        "Africa_8857_centroids_no_out.to_file(\"africa_8857.gpkg\",driver='GPKG',layer='no_outlier_population_psm')"
      ]
    }
  ],
  "metadata": {
    "anaconda-cloud": {
      "attach-environment": true,
      "summary": "test"
    },
    "colab": {
      "provenance": []
    },
    "hide_input": false,
    "kernelspec": {
      "display_name": "Python 3 (ipykernel)",
      "language": "python",
      "name": "python3"
    },
    "language_info": {
      "codemirror_mode": {
        "name": "ipython",
        "version": 3
      },
      "file_extension": ".py",
      "mimetype": "text/x-python",
      "name": "python",
      "nbconvert_exporter": "python",
      "pygments_lexer": "ipython3",
      "version": "3.11.13"
    },
    "toc-autonumbering": false
  },
  "nbformat": 4,
  "nbformat_minor": 0
}