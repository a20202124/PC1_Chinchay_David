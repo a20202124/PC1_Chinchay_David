{
 "cells": [
  {
   "cell_type": "markdown",
   "metadata": {
    "id": "Rq_-jS9HtUU-"
   },
   "source": [
    "<center><img src=\"https://i.imgur.com/zRrFdsf.png\" width=\"700\"></center>\n",
    "\n",
    "<a target=\"_blank\" href=\"https://colab.research.google.com/github/CienciaDeDatosEspacial/TheThematics/blob/main/index.ipynb\">\n",
    "  <img src=\"https://colab.research.google.com/assets/colab-badge.svg\" alt=\"Open In Colab\"/>\n",
    "</a>"
   ]
  },
  {
   "cell_type": "markdown",
   "metadata": {
    "id": "-cCaZ1r2tUVA"
   },
   "source": [
    "# The Thematic map\n",
    "\n",
    "Last session we created a file with several layers:"
   ]
  },
  {
   "cell_type": "code",
   "execution_count": 88,
   "metadata": {
    "id": "iWx-Vj4xEmwD"
   },
   "outputs": [],
   "source": [
    "import geopandas as gpd\n",
    "\n",
    "linkGit='https://github.com/a20202124/PC1_Chinchay_David/raw/refs/heads/main/'\n",
    "linkWorldMaps='worldMaps.gpkg'"
   ]
  },
  {
   "cell_type": "markdown",
   "metadata": {
    "id": "oyEGqL-o590W"
   },
   "source": [
    "we can easily find out the layers in that geopackage file (**worldMaps.gpkg**):"
   ]
  },
  {
   "cell_type": "code",
   "execution_count": 89,
   "metadata": {
    "colab": {
     "base_uri": "https://localhost:8080/",
     "height": 143
    },
    "id": "7ajknOKx5ppf",
    "outputId": "1eab4296-742d-4ee5-8c2d-e058b8ac79ad"
   },
   "outputs": [
    {
     "data": {
      "text/html": [
       "<div>\n",
       "<style scoped>\n",
       "    .dataframe tbody tr th:only-of-type {\n",
       "        vertical-align: middle;\n",
       "    }\n",
       "\n",
       "    .dataframe tbody tr th {\n",
       "        vertical-align: top;\n",
       "    }\n",
       "\n",
       "    .dataframe thead th {\n",
       "        text-align: right;\n",
       "    }\n",
       "</style>\n",
       "<table border=\"1\" class=\"dataframe\">\n",
       "  <thead>\n",
       "    <tr style=\"text-align: right;\">\n",
       "      <th></th>\n",
       "      <th>name</th>\n",
       "      <th>geometry_type</th>\n",
       "    </tr>\n",
       "  </thead>\n",
       "  <tbody>\n",
       "    <tr>\n",
       "      <th>0</th>\n",
       "      <td>rivers</td>\n",
       "      <td>MultiLineString</td>\n",
       "    </tr>\n",
       "    <tr>\n",
       "      <th>1</th>\n",
       "      <td>cities</td>\n",
       "      <td>Point</td>\n",
       "    </tr>\n",
       "    <tr>\n",
       "      <th>2</th>\n",
       "      <td>countries</td>\n",
       "      <td>MultiPolygon</td>\n",
       "    </tr>\n",
       "  </tbody>\n",
       "</table>\n",
       "</div>"
      ],
      "text/plain": [
       "        name    geometry_type\n",
       "0     rivers  MultiLineString\n",
       "1     cities            Point\n",
       "2  countries     MultiPolygon"
      ]
     },
     "execution_count": 89,
     "metadata": {},
     "output_type": "execute_result"
    }
   ],
   "source": [
    "gpd.list_layers(linkGit+linkWorldMaps)"
   ]
  },
  {
   "cell_type": "markdown",
   "metadata": {
    "id": "BWhRt9va5ppf"
   },
   "source": [
    "For the thematics we will retrieve only one layer (map):"
   ]
  },
  {
   "cell_type": "code",
   "execution_count": 90,
   "metadata": {
    "colab": {
     "base_uri": "https://localhost:8080/",
     "height": 423
    },
    "id": "oSR9Kegk5ppf",
    "outputId": "99973368-1521-4c94-fdf5-9fea66920a3b"
   },
   "outputs": [
    {
     "data": {
      "text/html": [
       "<div>\n",
       "<style scoped>\n",
       "    .dataframe tbody tr th:only-of-type {\n",
       "        vertical-align: middle;\n",
       "    }\n",
       "\n",
       "    .dataframe tbody tr th {\n",
       "        vertical-align: top;\n",
       "    }\n",
       "\n",
       "    .dataframe thead th {\n",
       "        text-align: right;\n",
       "    }\n",
       "</style>\n",
       "<table border=\"1\" class=\"dataframe\">\n",
       "  <thead>\n",
       "    <tr style=\"text-align: right;\">\n",
       "      <th></th>\n",
       "      <th>COUNTRY</th>\n",
       "      <th>geometry</th>\n",
       "    </tr>\n",
       "  </thead>\n",
       "  <tbody>\n",
       "    <tr>\n",
       "      <th>0</th>\n",
       "      <td>Aruba (Netherlands)</td>\n",
       "      <td>MULTIPOLYGON (((-69.88223 12.41111, -69.94695 ...</td>\n",
       "    </tr>\n",
       "    <tr>\n",
       "      <th>1</th>\n",
       "      <td>Antigua and Barbuda</td>\n",
       "      <td>MULTIPOLYGON (((-61.73889 17.54055, -61.75195 ...</td>\n",
       "    </tr>\n",
       "    <tr>\n",
       "      <th>2</th>\n",
       "      <td>Afghanistan</td>\n",
       "      <td>MULTIPOLYGON (((61.27656 35.60725, 61.29638 35...</td>\n",
       "    </tr>\n",
       "    <tr>\n",
       "      <th>3</th>\n",
       "      <td>Algeria</td>\n",
       "      <td>MULTIPOLYGON (((-5.15213 30.18047, -5.13917 30...</td>\n",
       "    </tr>\n",
       "    <tr>\n",
       "      <th>4</th>\n",
       "      <td>Azerbaijan</td>\n",
       "      <td>MULTIPOLYGON (((46.54037 38.87559, 46.49554 38...</td>\n",
       "    </tr>\n",
       "    <tr>\n",
       "      <th>...</th>\n",
       "      <td>...</td>\n",
       "      <td>...</td>\n",
       "    </tr>\n",
       "    <tr>\n",
       "      <th>247</th>\n",
       "      <td>South Sudan</td>\n",
       "      <td>MULTIPOLYGON (((34.21807 9.96458, 34.20722 9.9...</td>\n",
       "    </tr>\n",
       "    <tr>\n",
       "      <th>248</th>\n",
       "      <td>Indonesia</td>\n",
       "      <td>MULTIPOLYGON (((123.21846 -10.80917, 123.19832...</td>\n",
       "    </tr>\n",
       "    <tr>\n",
       "      <th>249</th>\n",
       "      <td>East Timor</td>\n",
       "      <td>MULTIPOLYGON (((124.41824 -9.3001, 124.40446 -...</td>\n",
       "    </tr>\n",
       "    <tr>\n",
       "      <th>250</th>\n",
       "      <td>Curacao (Netherlands)</td>\n",
       "      <td>MULTIPOLYGON (((-68.96556 12.19889, -68.91196 ...</td>\n",
       "    </tr>\n",
       "    <tr>\n",
       "      <th>251</th>\n",
       "      <td>Bonaire (Netherlands)</td>\n",
       "      <td>MULTIPOLYGON (((-68.19736 12.22264, -68.19292 ...</td>\n",
       "    </tr>\n",
       "  </tbody>\n",
       "</table>\n",
       "<p>252 rows × 2 columns</p>\n",
       "</div>"
      ],
      "text/plain": [
       "                   COUNTRY                                           geometry\n",
       "0      Aruba (Netherlands)  MULTIPOLYGON (((-69.88223 12.41111, -69.94695 ...\n",
       "1      Antigua and Barbuda  MULTIPOLYGON (((-61.73889 17.54055, -61.75195 ...\n",
       "2              Afghanistan  MULTIPOLYGON (((61.27656 35.60725, 61.29638 35...\n",
       "3                  Algeria  MULTIPOLYGON (((-5.15213 30.18047, -5.13917 30...\n",
       "4               Azerbaijan  MULTIPOLYGON (((46.54037 38.87559, 46.49554 38...\n",
       "..                     ...                                                ...\n",
       "247            South Sudan  MULTIPOLYGON (((34.21807 9.96458, 34.20722 9.9...\n",
       "248              Indonesia  MULTIPOLYGON (((123.21846 -10.80917, 123.19832...\n",
       "249             East Timor  MULTIPOLYGON (((124.41824 -9.3001, 124.40446 -...\n",
       "250  Curacao (Netherlands)  MULTIPOLYGON (((-68.96556 12.19889, -68.91196 ...\n",
       "251  Bonaire (Netherlands)  MULTIPOLYGON (((-68.19736 12.22264, -68.19292 ...\n",
       "\n",
       "[252 rows x 2 columns]"
      ]
     },
     "execution_count": 90,
     "metadata": {},
     "output_type": "execute_result"
    }
   ],
   "source": [
    "countries=gpd.read_file(linkGit+linkWorldMaps,layer='countries')\n",
    "\n",
    "# see some\n",
    "countries"
   ]
  },
  {
   "cell_type": "markdown",
   "metadata": {
    "id": "7Tm4ECPFEmwE"
   },
   "source": [
    "As you see, the GDF above has just two colums; enough to plot a map, but no more than that.\n",
    "\n",
    "Let me open a DF:"
   ]
  },
  {
   "cell_type": "code",
   "execution_count": 91,
   "metadata": {
    "colab": {
     "base_uri": "https://localhost:8080/"
    },
    "id": "Usm5FT0hEmwE",
    "outputId": "4aff6964-fd31-4e65-ffdc-d235223b02c3"
   },
   "outputs": [
    {
     "name": "stdout",
     "output_type": "stream",
     "text": [
      "<class 'pandas.core.frame.DataFrame'>\n",
      "RangeIndex: 229 entries, 0 to 228\n",
      "Data columns (total 7 columns):\n",
      " #   Column               Non-Null Count  Dtype  \n",
      "---  ------               --------------  -----  \n",
      " 0   name                 229 non-null    object \n",
      " 1   slug                 229 non-null    object \n",
      " 2    deaths/1            229 non-null    float64\n",
      " 3   000 population       229 non-null    int64  \n",
      " 4   date_of_information  229 non-null    int64  \n",
      " 5   ranking              229 non-null    object \n",
      " 6   region               0 non-null      float64\n",
      "dtypes: float64(2), int64(2), object(3)\n",
      "memory usage: 12.7+ KB\n"
     ]
    }
   ],
   "source": [
    "import pandas as pd\n",
    "\n",
    "someDataLink='Death_rate.csv'\n",
    "\n",
    "someData=pd.read_csv(linkGit+someDataLink)\n",
    "\n",
    "## data available\n",
    "someData.info()"
   ]
  },
  {
   "cell_type": "markdown",
   "metadata": {
    "id": "YAfghDZ85ppg"
   },
   "source": [
    "## Pre Processing: Merging"
   ]
  },
  {
   "cell_type": "markdown",
   "metadata": {
    "id": "eWlO6ncUEmwE"
   },
   "source": [
    "The DF has some interesting numerical data (_float64_):\n",
    "* fragility: fragility index 2023 -[details here](https://fragilestatesindex.org/2023/06/14/fragile-states-index-2023-annual-report/)\n",
    "* co2: metric tonnes of CO2 emmitted -[details here](https://www.cia.gov/the-world-factbook/field/carbon-dioxide-emissions/country-comparison/)\n",
    "* sq_km: country area -[details here](https://www.cia.gov/the-world-factbook/field/area/country-comparison/)\n",
    "* num_airports: count of airports in the country -[details here](https://www.cia.gov/the-world-factbook/field/airports/country-comparison/)\n",
    "* population: country population  -[details here](https://www.cia.gov/the-world-factbook/field/population/country-comparison/)\n",
    "* mobiles: total number of mobile cellular telephone subscribers -[details here](https://www.cia.gov/the-world-factbook/field/telephones-mobile-cellular/country-comparison/)\n",
    "\n",
    "There are also other columns that may be of help:"
   ]
  },
  {
   "cell_type": "code",
   "execution_count": 92,
   "metadata": {
    "colab": {
     "base_uri": "https://localhost:8080/",
     "height": 206
    },
    "id": "zR7A3vxAEmwE",
    "outputId": "d9a0e53e-8264-41e3-9015-37c46f2a842d"
   },
   "outputs": [
    {
     "data": {
      "text/html": [
       "<div>\n",
       "<style scoped>\n",
       "    .dataframe tbody tr th:only-of-type {\n",
       "        vertical-align: middle;\n",
       "    }\n",
       "\n",
       "    .dataframe tbody tr th {\n",
       "        vertical-align: top;\n",
       "    }\n",
       "\n",
       "    .dataframe thead th {\n",
       "        text-align: right;\n",
       "    }\n",
       "</style>\n",
       "<table border=\"1\" class=\"dataframe\">\n",
       "  <thead>\n",
       "    <tr style=\"text-align: right;\">\n",
       "      <th></th>\n",
       "      <th>name</th>\n",
       "      <th>slug</th>\n",
       "      <th>deaths/1</th>\n",
       "      <th>000 population</th>\n",
       "      <th>date_of_information</th>\n",
       "      <th>ranking</th>\n",
       "      <th>region</th>\n",
       "    </tr>\n",
       "  </thead>\n",
       "  <tbody>\n",
       "    <tr>\n",
       "      <th>0</th>\n",
       "      <td>Ukraine</td>\n",
       "      <td>ukraine</td>\n",
       "      <td>18.6</td>\n",
       "      <td>2024</td>\n",
       "      <td>1</td>\n",
       "      <td>Europe</td>\n",
       "      <td>NaN</td>\n",
       "    </tr>\n",
       "    <tr>\n",
       "      <th>1</th>\n",
       "      <td>Lithuania</td>\n",
       "      <td>lithuania</td>\n",
       "      <td>15.2</td>\n",
       "      <td>2024</td>\n",
       "      <td>2</td>\n",
       "      <td>Europe</td>\n",
       "      <td>NaN</td>\n",
       "    </tr>\n",
       "    <tr>\n",
       "      <th>2</th>\n",
       "      <td>Serbia</td>\n",
       "      <td>serbia</td>\n",
       "      <td>14.9</td>\n",
       "      <td>2024</td>\n",
       "      <td>3</td>\n",
       "      <td>Europe</td>\n",
       "      <td>NaN</td>\n",
       "    </tr>\n",
       "    <tr>\n",
       "      <th>3</th>\n",
       "      <td>Latvia</td>\n",
       "      <td>latvia</td>\n",
       "      <td>14.7</td>\n",
       "      <td>2024</td>\n",
       "      <td>4</td>\n",
       "      <td>Europe</td>\n",
       "      <td>NaN</td>\n",
       "    </tr>\n",
       "    <tr>\n",
       "      <th>4</th>\n",
       "      <td>Romania</td>\n",
       "      <td>romania</td>\n",
       "      <td>14.6</td>\n",
       "      <td>2024</td>\n",
       "      <td>5</td>\n",
       "      <td>Europe</td>\n",
       "      <td>NaN</td>\n",
       "    </tr>\n",
       "  </tbody>\n",
       "</table>\n",
       "</div>"
      ],
      "text/plain": [
       "        name       slug   deaths/1  000 population  date_of_information  \\\n",
       "0    Ukraine    ukraine       18.6            2024                    1   \n",
       "1  Lithuania  lithuania       15.2            2024                    2   \n",
       "2     Serbia     serbia       14.9            2024                    3   \n",
       "3     Latvia     latvia       14.7            2024                    4   \n",
       "4    Romania    romania       14.6            2024                    5   \n",
       "\n",
       "  ranking  region  \n",
       "0  Europe     NaN  \n",
       "1  Europe     NaN  \n",
       "2  Europe     NaN  \n",
       "3  Europe     NaN  \n",
       "4  Europe     NaN  "
      ]
     },
     "execution_count": 92,
     "metadata": {},
     "output_type": "execute_result"
    }
   ],
   "source": [
    "someData.head()"
   ]
  },
  {
   "cell_type": "markdown",
   "metadata": {
    "id": "fm91BTWJEmwE"
   },
   "source": [
    "Preparing thematic maps requires **social data** _about_ the geometry (line, polygon, point). The object **countries** has no social data, so the preprocessing requires geomerging."
   ]
  },
  {
   "cell_type": "markdown",
   "metadata": {
    "id": "cQgamTbX911A"
   },
   "source": [
    "### Geo Merging\n",
    "\n",
    "This is a critical preprocessing operation, as it is in charge of combining data sets, in this case combine a DF into a GDF. Some rules are needed:\n",
    "\n",
    "* There is at least one common column needed to serve for the matches.\n",
    "* The common columns, or KEYs, need contents to be written exactly in both columns.\n",
    "* It is recommended that both KEYs are named the same.\n",
    "\n",
    "Here we have the KEYs:"
   ]
  },
  {
   "cell_type": "code",
   "execution_count": 93,
   "metadata": {
    "colab": {
     "base_uri": "https://localhost:8080/",
     "height": 241
    },
    "id": "QkRTmDTZ911A",
    "outputId": "8c21d67c-bfda-404c-d308-4bec5720b5a8"
   },
   "outputs": [
    {
     "data": {
      "text/plain": [
       "0    Aruba (Netherlands)\n",
       "1    Antigua and Barbuda\n",
       "2            Afghanistan\n",
       "3                Algeria\n",
       "4             Azerbaijan\n",
       "Name: COUNTRY, dtype: object"
      ]
     },
     "execution_count": 93,
     "metadata": {},
     "output_type": "execute_result"
    }
   ],
   "source": [
    "countries.COUNTRY.head()"
   ]
  },
  {
   "cell_type": "code",
   "execution_count": 94,
   "metadata": {
    "colab": {
     "base_uri": "https://localhost:8080/",
     "height": 241
    },
    "id": "0IcIM7fZEmwE",
    "outputId": "cc206688-df43-4709-ac55-adb2fabaf5bf"
   },
   "outputs": [
    {
     "data": {
      "text/plain": [
       "0      Ukraine\n",
       "1    Lithuania\n",
       "2       Serbia\n",
       "3       Latvia\n",
       "4      Romania\n",
       "Name: name, dtype: object"
      ]
     },
     "execution_count": 94,
     "metadata": {},
     "output_type": "execute_result"
    }
   ],
   "source": [
    "someData.name.head()"
   ]
  },
  {
   "cell_type": "markdown",
   "metadata": {
    "id": "mL6Pw18r911A"
   },
   "source": [
    "Let's solve the _country name_ differences for the KEYs:"
   ]
  },
  {
   "cell_type": "code",
   "execution_count": 95,
   "metadata": {
    "id": "97btXyge911A"
   },
   "outputs": [],
   "source": [
    "countries.rename(columns={'COUNTRY':'name'},inplace=True)"
   ]
  },
  {
   "cell_type": "markdown",
   "metadata": {
    "id": "ucMytkM9911A"
   },
   "source": [
    "We can notice the different *case* in the KEYs. Let's work with uppercases:"
   ]
  },
  {
   "cell_type": "markdown",
   "metadata": {
    "id": "qQjjpN3J911B"
   },
   "source": [
    "It is very unlikely the names are written the same. Let's verify:"
   ]
  },
  {
   "cell_type": "code",
   "execution_count": 96,
   "metadata": {
    "id": "XQSKl9Nz911B"
   },
   "outputs": [],
   "source": [
    "onlyDF=set(someData.name)- set(countries.name)\n",
    "onlyGDF=set(countries.name)- set(someData.name)"
   ]
  },
  {
   "cell_type": "markdown",
   "metadata": {
    "id": "6HxnDC7W911B"
   },
   "source": [
    "Check here:"
   ]
  },
  {
   "cell_type": "code",
   "execution_count": 97,
   "metadata": {
    "colab": {
     "base_uri": "https://localhost:8080/"
    },
    "id": "hE_aSvmQ911B",
    "outputId": "f9c41d15-2089-45f5-8be7-5c52f7b6483e"
   },
   "outputs": [
    {
     "data": {
      "text/plain": [
       "{'American Samoa',\n",
       " 'Anguilla',\n",
       " 'Aruba',\n",
       " 'Bahamas, The',\n",
       " 'Bermuda',\n",
       " 'British Virgin Islands',\n",
       " 'Burma',\n",
       " 'Cabo Verde',\n",
       " 'Cayman Islands',\n",
       " 'Cocos (Keeling) Islands',\n",
       " 'Congo, Democratic Republic of the',\n",
       " 'Congo, Republic of the',\n",
       " 'Cook Islands',\n",
       " \"Cote d'Ivoire\",\n",
       " 'Curacao',\n",
       " 'Czechia',\n",
       " 'Eswatini',\n",
       " 'Falkland Islands (Islas Malvinas)',\n",
       " 'Faroe Islands',\n",
       " 'French Polynesia',\n",
       " 'Gambia, The',\n",
       " 'Gaza Strip',\n",
       " 'Gibraltar',\n",
       " 'Greenland',\n",
       " 'Guam',\n",
       " 'Guernsey',\n",
       " 'Hong Kong',\n",
       " 'Isle of Man',\n",
       " 'Jersey',\n",
       " 'Korea, North',\n",
       " 'Korea, South',\n",
       " 'Kosovo',\n",
       " 'Macau',\n",
       " 'Micronesia, Federated States of',\n",
       " 'Montserrat',\n",
       " 'New Caledonia',\n",
       " 'North Macedonia',\n",
       " 'Northern Mariana Islands',\n",
       " 'Palau',\n",
       " 'Puerto Rico',\n",
       " 'Saint Barthelemy',\n",
       " 'Saint Helena, Ascension, and Tristan da Cunha',\n",
       " 'Saint Kitts and Nevis',\n",
       " 'Saint Lucia',\n",
       " 'Saint Martin',\n",
       " 'Saint Pierre and Miquelon',\n",
       " 'Saint Vincent and the Grenadines',\n",
       " 'Samoa',\n",
       " 'Sint Maarten',\n",
       " 'Timor-Leste',\n",
       " 'Turkey (Turkiye)',\n",
       " 'Turks and Caicos Islands',\n",
       " 'Virgin Islands',\n",
       " 'Wallis and Futuna',\n",
       " 'West Bank'}"
      ]
     },
     "execution_count": 97,
     "metadata": {},
     "output_type": "execute_result"
    }
   ],
   "source": [
    "onlyDF # they did not find a match in the MAP GDF!"
   ]
  },
  {
   "cell_type": "markdown",
   "metadata": {
    "id": "UwI3tGw2EmwF"
   },
   "source": [
    "There are several countries in the DF that did not find a match in the GDF (map). Of course, most of them are in the map, let's see why they were not matched."
   ]
  },
  {
   "cell_type": "markdown",
   "metadata": {
    "id": "6_UJQaV3911B"
   },
   "source": [
    "### Fuzzy merging"
   ]
  },
  {
   "cell_type": "markdown",
   "metadata": {
    "id": "1Ru8Wp9f911C"
   },
   "source": [
    "We use this technique to detect similarities between strings. You need this package **thefuzz** (based on the [Levenshtein algorithm](https://en.wikipedia.org/wiki/Levenshtein_distance)):"
   ]
  },
  {
   "cell_type": "code",
   "execution_count": 161,
   "metadata": {
    "colab": {
     "base_uri": "https://localhost:8080/"
    },
    "id": "5kOc6YjOBuwj",
    "outputId": "0b39a388-c41e-4af1-f73c-bb38ca9fd445"
   },
   "outputs": [
    {
     "name": "stdout",
     "output_type": "stream",
     "text": [
      "Requirement already satisfied: thefuzz in c:\\users\\david\\miniforge3\\lib\\site-packages (0.22.1)\n",
      "Requirement already satisfied: rapidfuzz<4.0.0,>=3.0.0 in c:\\users\\david\\miniforge3\\lib\\site-packages (from thefuzz) (3.14.1)\n",
      "Note: you may need to restart the kernel to use updated packages.\n"
     ]
    }
   ],
   "source": [
    " %pip install --user thefuzz"
   ]
  },
  {
   "cell_type": "markdown",
   "metadata": {
    "id": "1U-xOtG9EmwF"
   },
   "source": [
    "This is the basic idea:"
   ]
  },
  {
   "cell_type": "code",
   "execution_count": 99,
   "metadata": {
    "colab": {
     "base_uri": "https://localhost:8080/"
    },
    "id": "OGiG_W77911G",
    "outputId": "6a4bb8d5-67ee-4bbe-d3dc-da1f79e40b8a"
   },
   "outputs": [
    {
     "data": {
      "text/plain": [
       "('Greenland (Denmark)', 71)"
      ]
     },
     "execution_count": 99,
     "metadata": {},
     "output_type": "execute_result"
    }
   ],
   "source": [
    "from thefuzz.process import extractOne as best\n",
    "\n",
    "## find the BEST match to 'BAHAMAS (THE)'\n",
    "## from all strings in 'onlyGDF'\n",
    "\n",
    "best('Finland',onlyGDF)"
   ]
  },
  {
   "cell_type": "markdown",
   "metadata": {
    "id": "c-ZO0yB2EmwF"
   },
   "source": [
    "As you see, you get a coefficient value of 90 (the closer to 100 the better). That may be a reliable result.\n",
    "\n",
    "Let's do the same for all the unmatched countries:"
   ]
  },
  {
   "cell_type": "code",
   "execution_count": 100,
   "metadata": {
    "colab": {
     "base_uri": "https://localhost:8080/"
    },
    "id": "os8OEiM8EmwF",
    "outputId": "0b0c3857-0618-44a6-d979-ee70425d67c8"
   },
   "outputs": [
    {
     "data": {
      "text/plain": [
       "[('Hong Kong', ('Congo', 68)),\n",
       " ('Gibraltar', ('Gibraltar (UK)', 95)),\n",
       " ('Czechia', ('Czech Republic', 75)),\n",
       " ('Macau', ('Macedonia', 68)),\n",
       " ('Samoa', ('American Samoa (US)', 90)),\n",
       " ('French Polynesia', ('French Polynesia (France)', 90)),\n",
       " ('Isle of Man', ('Isle of Man (UK)', 95)),\n",
       " ('Cabo Verde', ('Cape Verde', 80)),\n",
       " ('Gambia, The', ('Gambia', 90)),\n",
       " ('Jersey', ('Jersey (UK)', 90)),\n",
       " ('Micronesia, Federated States of', ('Federated States of Micronesia', 95)),\n",
       " ('Greenland', ('Greenland (Denmark)', 90)),\n",
       " ('Montserrat', ('Montserrat (UK)', 95)),\n",
       " ('Cayman Islands', ('Cayman Islands (UK)', 95)),\n",
       " ('Virgin Islands', ('British Virgin Islands(UK)', 90)),\n",
       " ('Gaza Strip', ('Gambia', 54)),\n",
       " ('Saint Kitts and Nevis', ('St. Kitts and Nevis', 90)),\n",
       " ('Puerto Rico', ('Puerto Rico (US)', 95)),\n",
       " ('Saint Martin', ('Antarctica', 64)),\n",
       " ('Cocos (Keeling) Islands', ('Cocos (Keeling) Islands (Australia)', 95)),\n",
       " ('American Samoa', ('American Samoa (US)', 95)),\n",
       " ('Timor-Leste', ('East Timor', 81)),\n",
       " ('Northern Mariana Islands', ('Northern Mariana Islands (US)', 95)),\n",
       " ('Aruba', ('Aruba (Netherlands)', 90)),\n",
       " ('Korea, South', ('South Korea', 95)),\n",
       " ('Bermuda', ('Bermuda (UK)', 90)),\n",
       " ('Bahamas, The', ('Bahamas', 90)),\n",
       " ('Saint Pierre and Miquelon',\n",
       "  ('South Georgia and the South Sandwich Is (UK)', 86)),\n",
       " ('Congo, Democratic Republic of the',\n",
       "  ('Democratic Republic of the Congo', 95)),\n",
       " ('Saint Lucia', ('St. Lucia', 80)),\n",
       " ('Congo, Republic of the', ('Democratic Republic of the Congo', 95)),\n",
       " ('British Virgin Islands', ('British Virgin Islands(UK)', 95)),\n",
       " ('Turks and Caicos Islands', ('Turks and Caicos Islands (UK)', 95)),\n",
       " ('Palau', ('Palau (US)', 90)),\n",
       " ('Falkland Islands (Islas Malvinas)', ('Pitcairn Islands (UK)', 86)),\n",
       " ('Guernsey', ('Guernsey (UK)', 90)),\n",
       " ('Kosovo', ('Svalbard (Norway)', 45)),\n",
       " ('Anguilla', ('Anguilla (UK)', 90)),\n",
       " ('New Caledonia', ('New Caledonia (France)', 90)),\n",
       " ('Sint Maarten', ('Myanmar', 62)),\n",
       " ('Turkey (Turkiye)', ('Turkey', 90)),\n",
       " ('Curacao', ('Curacao (Netherlands)', 90)),\n",
       " ('Burma', ('Curacao (Netherlands)', 60)),\n",
       " ('North Macedonia', ('Macedonia', 90)),\n",
       " ('West Bank', ('Western Sahara', 57)),\n",
       " ('Cook Islands', ('Cook Islands (New Zealand)', 90)),\n",
       " ('Wallis and Futuna', ('Wallis and Futuna (France)', 95)),\n",
       " (\"Cote d'Ivoire\", ('Ivory Coast', 63)),\n",
       " ('Eswatini', ('Martinique (France)', 60)),\n",
       " ('Saint Helena, Ascension, and Tristan da Cunha', ('St. Helena (UK)', 86)),\n",
       " ('Guam', ('Guam (US)', 90)),\n",
       " ('Korea, North', ('North Korea', 95)),\n",
       " ('Saint Vincent and the Grenadines', ('St. Vincent and the Grenadines', 94)),\n",
       " ('Saint Barthelemy', ('Swaziland', 55)),\n",
       " ('Faroe Islands', ('Faroe Islands (Denmark)', 90))]"
      ]
     },
     "execution_count": 100,
     "metadata": {},
     "output_type": "execute_result"
    }
   ],
   "source": [
    "## for each country in onlyDF, find the BEST match in onlyGDF\n",
    "\n",
    "[(name, best(name,onlyGDF)) for name in onlyDF]"
   ]
  },
  {
   "cell_type": "markdown",
   "metadata": {
    "id": "fNyQ15drGM1b"
   },
   "source": [
    "Each element in the *list* above in in parentheses, for instance:\n",
    "\n",
    "```\n",
    "('TIMOR-LESTE', ('EAST TIMOR', 81))\n",
    "```\n",
    "\n",
    "That element has two elements:\n",
    "\n",
    "\n",
    "*   **'TIMOR-LESTE'** from *onlyDF*, and\n",
    "*   **('EAST TIMOR', 81)** which is the result from _best(country,onlyGDF)_. This last element, as we just saw above, shows the best match and the level of similarity (the higher the more similar).\n",
    "\n",
    "We can prepare a list where each element has three elements:\n",
    "\n"
   ]
  },
  {
   "cell_type": "code",
   "execution_count": 101,
   "metadata": {
    "colab": {
     "base_uri": "https://localhost:8080/"
    },
    "id": "gc6s__oIEmwF",
    "outputId": "5be63c86-c821-4f96-8677-7417918eec96"
   },
   "outputs": [
    {
     "data": {
      "text/plain": [
       "[('Hong Kong', 'Congo', 68),\n",
       " ('Gibraltar', 'Gibraltar (UK)', 95),\n",
       " ('Czechia', 'Czech Republic', 75),\n",
       " ('Macau', 'Macedonia', 68),\n",
       " ('Samoa', 'American Samoa (US)', 90),\n",
       " ('French Polynesia', 'French Polynesia (France)', 90),\n",
       " ('Isle of Man', 'Isle of Man (UK)', 95),\n",
       " ('Cabo Verde', 'Cape Verde', 80),\n",
       " ('Gambia, The', 'Gambia', 90),\n",
       " ('Jersey', 'Jersey (UK)', 90),\n",
       " ('Micronesia, Federated States of', 'Federated States of Micronesia', 95),\n",
       " ('Greenland', 'Greenland (Denmark)', 90),\n",
       " ('Montserrat', 'Montserrat (UK)', 95),\n",
       " ('Cayman Islands', 'Cayman Islands (UK)', 95),\n",
       " ('Virgin Islands', 'British Virgin Islands(UK)', 90),\n",
       " ('Gaza Strip', 'Gambia', 54),\n",
       " ('Saint Kitts and Nevis', 'St. Kitts and Nevis', 90),\n",
       " ('Puerto Rico', 'Puerto Rico (US)', 95),\n",
       " ('Saint Martin', 'Antarctica', 64),\n",
       " ('Cocos (Keeling) Islands', 'Cocos (Keeling) Islands (Australia)', 95),\n",
       " ('American Samoa', 'American Samoa (US)', 95),\n",
       " ('Timor-Leste', 'East Timor', 81),\n",
       " ('Northern Mariana Islands', 'Northern Mariana Islands (US)', 95),\n",
       " ('Aruba', 'Aruba (Netherlands)', 90),\n",
       " ('Korea, South', 'South Korea', 95),\n",
       " ('Bermuda', 'Bermuda (UK)', 90),\n",
       " ('Bahamas, The', 'Bahamas', 90),\n",
       " ('Saint Pierre and Miquelon',\n",
       "  'South Georgia and the South Sandwich Is (UK)',\n",
       "  86),\n",
       " ('Congo, Democratic Republic of the', 'Democratic Republic of the Congo', 95),\n",
       " ('Saint Lucia', 'St. Lucia', 80),\n",
       " ('Congo, Republic of the', 'Democratic Republic of the Congo', 95),\n",
       " ('British Virgin Islands', 'British Virgin Islands(UK)', 95),\n",
       " ('Turks and Caicos Islands', 'Turks and Caicos Islands (UK)', 95),\n",
       " ('Palau', 'Palau (US)', 90),\n",
       " ('Falkland Islands (Islas Malvinas)', 'Pitcairn Islands (UK)', 86),\n",
       " ('Guernsey', 'Guernsey (UK)', 90),\n",
       " ('Kosovo', 'Svalbard (Norway)', 45),\n",
       " ('Anguilla', 'Anguilla (UK)', 90),\n",
       " ('New Caledonia', 'New Caledonia (France)', 90),\n",
       " ('Sint Maarten', 'Myanmar', 62),\n",
       " ('Turkey (Turkiye)', 'Turkey', 90),\n",
       " ('Curacao', 'Curacao (Netherlands)', 90),\n",
       " ('Burma', 'Curacao (Netherlands)', 60),\n",
       " ('North Macedonia', 'Macedonia', 90),\n",
       " ('West Bank', 'Western Sahara', 57),\n",
       " ('Cook Islands', 'Cook Islands (New Zealand)', 90),\n",
       " ('Wallis and Futuna', 'Wallis and Futuna (France)', 95),\n",
       " (\"Cote d'Ivoire\", 'Ivory Coast', 63),\n",
       " ('Eswatini', 'Martinique (France)', 60),\n",
       " ('Saint Helena, Ascension, and Tristan da Cunha', 'St. Helena (UK)', 86),\n",
       " ('Guam', 'Guam (US)', 90),\n",
       " ('Korea, North', 'North Korea', 95),\n",
       " ('Saint Vincent and the Grenadines', 'St. Vincent and the Grenadines', 94),\n",
       " ('Saint Barthelemy', 'Swaziland', 55),\n",
       " ('Faroe Islands', 'Faroe Islands (Denmark)', 90)]"
      ]
     },
     "execution_count": 101,
     "metadata": {},
     "output_type": "execute_result"
    }
   ],
   "source": [
    "#or\n",
    "[(name, best(name,onlyGDF)[0],best(name,onlyGDF)[1]) for name in onlyDF]"
   ]
  },
  {
   "cell_type": "markdown",
   "metadata": {
    "id": "Bn-uTZVHEmwF"
   },
   "source": [
    "For instace, this element has 3 elements:\n",
    "\n",
    "```\n",
    " ('IRAN (ISLAMIC REPUBLIC OF)', 'IRAN', 90)\n",
    "```\n",
    "\n",
    "The level of similarity would guide us to make update (replace) the strings in one of the KEYs, so that the merging process works properly.\n",
    "\n",
    "Then, it would be better if we have a data frame instead of a list:"
   ]
  },
  {
   "cell_type": "code",
   "execution_count": 102,
   "metadata": {
    "colab": {
     "base_uri": "https://localhost:8080/",
     "height": 1000
    },
    "id": "dEwzfwmXEmwF",
    "outputId": "e820b0e3-8d2c-48c3-9e80-c707f4d222a2"
   },
   "outputs": [
    {
     "data": {
      "text/html": [
       "<div>\n",
       "<style scoped>\n",
       "    .dataframe tbody tr th:only-of-type {\n",
       "        vertical-align: middle;\n",
       "    }\n",
       "\n",
       "    .dataframe tbody tr th {\n",
       "        vertical-align: top;\n",
       "    }\n",
       "\n",
       "    .dataframe thead th {\n",
       "        text-align: right;\n",
       "    }\n",
       "</style>\n",
       "<table border=\"1\" class=\"dataframe\">\n",
       "  <thead>\n",
       "    <tr style=\"text-align: right;\">\n",
       "      <th></th>\n",
       "      <th>0</th>\n",
       "      <th>1</th>\n",
       "      <th>2</th>\n",
       "    </tr>\n",
       "  </thead>\n",
       "  <tbody>\n",
       "    <tr>\n",
       "      <th>0</th>\n",
       "      <td>Hong Kong</td>\n",
       "      <td>Congo</td>\n",
       "      <td>68</td>\n",
       "    </tr>\n",
       "    <tr>\n",
       "      <th>1</th>\n",
       "      <td>Gibraltar</td>\n",
       "      <td>Gibraltar (UK)</td>\n",
       "      <td>95</td>\n",
       "    </tr>\n",
       "    <tr>\n",
       "      <th>2</th>\n",
       "      <td>Czechia</td>\n",
       "      <td>Czech Republic</td>\n",
       "      <td>75</td>\n",
       "    </tr>\n",
       "    <tr>\n",
       "      <th>3</th>\n",
       "      <td>Macau</td>\n",
       "      <td>Macedonia</td>\n",
       "      <td>68</td>\n",
       "    </tr>\n",
       "    <tr>\n",
       "      <th>4</th>\n",
       "      <td>Samoa</td>\n",
       "      <td>American Samoa (US)</td>\n",
       "      <td>90</td>\n",
       "    </tr>\n",
       "    <tr>\n",
       "      <th>5</th>\n",
       "      <td>French Polynesia</td>\n",
       "      <td>French Polynesia (France)</td>\n",
       "      <td>90</td>\n",
       "    </tr>\n",
       "    <tr>\n",
       "      <th>6</th>\n",
       "      <td>Isle of Man</td>\n",
       "      <td>Isle of Man (UK)</td>\n",
       "      <td>95</td>\n",
       "    </tr>\n",
       "    <tr>\n",
       "      <th>7</th>\n",
       "      <td>Cabo Verde</td>\n",
       "      <td>Cape Verde</td>\n",
       "      <td>80</td>\n",
       "    </tr>\n",
       "    <tr>\n",
       "      <th>8</th>\n",
       "      <td>Gambia, The</td>\n",
       "      <td>Gambia</td>\n",
       "      <td>90</td>\n",
       "    </tr>\n",
       "    <tr>\n",
       "      <th>9</th>\n",
       "      <td>Jersey</td>\n",
       "      <td>Jersey (UK)</td>\n",
       "      <td>90</td>\n",
       "    </tr>\n",
       "    <tr>\n",
       "      <th>10</th>\n",
       "      <td>Micronesia, Federated States of</td>\n",
       "      <td>Federated States of Micronesia</td>\n",
       "      <td>95</td>\n",
       "    </tr>\n",
       "    <tr>\n",
       "      <th>11</th>\n",
       "      <td>Greenland</td>\n",
       "      <td>Greenland (Denmark)</td>\n",
       "      <td>90</td>\n",
       "    </tr>\n",
       "    <tr>\n",
       "      <th>12</th>\n",
       "      <td>Montserrat</td>\n",
       "      <td>Montserrat (UK)</td>\n",
       "      <td>95</td>\n",
       "    </tr>\n",
       "    <tr>\n",
       "      <th>13</th>\n",
       "      <td>Cayman Islands</td>\n",
       "      <td>Cayman Islands (UK)</td>\n",
       "      <td>95</td>\n",
       "    </tr>\n",
       "    <tr>\n",
       "      <th>14</th>\n",
       "      <td>Virgin Islands</td>\n",
       "      <td>British Virgin Islands(UK)</td>\n",
       "      <td>90</td>\n",
       "    </tr>\n",
       "    <tr>\n",
       "      <th>15</th>\n",
       "      <td>Gaza Strip</td>\n",
       "      <td>Gambia</td>\n",
       "      <td>54</td>\n",
       "    </tr>\n",
       "    <tr>\n",
       "      <th>16</th>\n",
       "      <td>Saint Kitts and Nevis</td>\n",
       "      <td>St. Kitts and Nevis</td>\n",
       "      <td>90</td>\n",
       "    </tr>\n",
       "    <tr>\n",
       "      <th>17</th>\n",
       "      <td>Puerto Rico</td>\n",
       "      <td>Puerto Rico (US)</td>\n",
       "      <td>95</td>\n",
       "    </tr>\n",
       "    <tr>\n",
       "      <th>18</th>\n",
       "      <td>Saint Martin</td>\n",
       "      <td>Antarctica</td>\n",
       "      <td>64</td>\n",
       "    </tr>\n",
       "    <tr>\n",
       "      <th>19</th>\n",
       "      <td>Cocos (Keeling) Islands</td>\n",
       "      <td>Cocos (Keeling) Islands (Australia)</td>\n",
       "      <td>95</td>\n",
       "    </tr>\n",
       "    <tr>\n",
       "      <th>20</th>\n",
       "      <td>American Samoa</td>\n",
       "      <td>American Samoa (US)</td>\n",
       "      <td>95</td>\n",
       "    </tr>\n",
       "    <tr>\n",
       "      <th>21</th>\n",
       "      <td>Timor-Leste</td>\n",
       "      <td>East Timor</td>\n",
       "      <td>81</td>\n",
       "    </tr>\n",
       "    <tr>\n",
       "      <th>22</th>\n",
       "      <td>Northern Mariana Islands</td>\n",
       "      <td>Northern Mariana Islands (US)</td>\n",
       "      <td>95</td>\n",
       "    </tr>\n",
       "    <tr>\n",
       "      <th>23</th>\n",
       "      <td>Aruba</td>\n",
       "      <td>Aruba (Netherlands)</td>\n",
       "      <td>90</td>\n",
       "    </tr>\n",
       "    <tr>\n",
       "      <th>24</th>\n",
       "      <td>Korea, South</td>\n",
       "      <td>South Korea</td>\n",
       "      <td>95</td>\n",
       "    </tr>\n",
       "    <tr>\n",
       "      <th>25</th>\n",
       "      <td>Bermuda</td>\n",
       "      <td>Bermuda (UK)</td>\n",
       "      <td>90</td>\n",
       "    </tr>\n",
       "    <tr>\n",
       "      <th>26</th>\n",
       "      <td>Bahamas, The</td>\n",
       "      <td>Bahamas</td>\n",
       "      <td>90</td>\n",
       "    </tr>\n",
       "    <tr>\n",
       "      <th>27</th>\n",
       "      <td>Saint Pierre and Miquelon</td>\n",
       "      <td>South Georgia and the South Sandwich Is (UK)</td>\n",
       "      <td>86</td>\n",
       "    </tr>\n",
       "    <tr>\n",
       "      <th>28</th>\n",
       "      <td>Congo, Democratic Republic of the</td>\n",
       "      <td>Democratic Republic of the Congo</td>\n",
       "      <td>95</td>\n",
       "    </tr>\n",
       "    <tr>\n",
       "      <th>29</th>\n",
       "      <td>Saint Lucia</td>\n",
       "      <td>St. Lucia</td>\n",
       "      <td>80</td>\n",
       "    </tr>\n",
       "    <tr>\n",
       "      <th>30</th>\n",
       "      <td>Congo, Republic of the</td>\n",
       "      <td>Democratic Republic of the Congo</td>\n",
       "      <td>95</td>\n",
       "    </tr>\n",
       "    <tr>\n",
       "      <th>31</th>\n",
       "      <td>British Virgin Islands</td>\n",
       "      <td>British Virgin Islands(UK)</td>\n",
       "      <td>95</td>\n",
       "    </tr>\n",
       "    <tr>\n",
       "      <th>32</th>\n",
       "      <td>Turks and Caicos Islands</td>\n",
       "      <td>Turks and Caicos Islands (UK)</td>\n",
       "      <td>95</td>\n",
       "    </tr>\n",
       "    <tr>\n",
       "      <th>33</th>\n",
       "      <td>Palau</td>\n",
       "      <td>Palau (US)</td>\n",
       "      <td>90</td>\n",
       "    </tr>\n",
       "    <tr>\n",
       "      <th>34</th>\n",
       "      <td>Falkland Islands (Islas Malvinas)</td>\n",
       "      <td>Pitcairn Islands (UK)</td>\n",
       "      <td>86</td>\n",
       "    </tr>\n",
       "    <tr>\n",
       "      <th>35</th>\n",
       "      <td>Guernsey</td>\n",
       "      <td>Guernsey (UK)</td>\n",
       "      <td>90</td>\n",
       "    </tr>\n",
       "    <tr>\n",
       "      <th>36</th>\n",
       "      <td>Kosovo</td>\n",
       "      <td>Svalbard (Norway)</td>\n",
       "      <td>45</td>\n",
       "    </tr>\n",
       "    <tr>\n",
       "      <th>37</th>\n",
       "      <td>Anguilla</td>\n",
       "      <td>Anguilla (UK)</td>\n",
       "      <td>90</td>\n",
       "    </tr>\n",
       "    <tr>\n",
       "      <th>38</th>\n",
       "      <td>New Caledonia</td>\n",
       "      <td>New Caledonia (France)</td>\n",
       "      <td>90</td>\n",
       "    </tr>\n",
       "    <tr>\n",
       "      <th>39</th>\n",
       "      <td>Sint Maarten</td>\n",
       "      <td>Myanmar</td>\n",
       "      <td>62</td>\n",
       "    </tr>\n",
       "    <tr>\n",
       "      <th>40</th>\n",
       "      <td>Turkey (Turkiye)</td>\n",
       "      <td>Turkey</td>\n",
       "      <td>90</td>\n",
       "    </tr>\n",
       "    <tr>\n",
       "      <th>41</th>\n",
       "      <td>Curacao</td>\n",
       "      <td>Curacao (Netherlands)</td>\n",
       "      <td>90</td>\n",
       "    </tr>\n",
       "    <tr>\n",
       "      <th>42</th>\n",
       "      <td>Burma</td>\n",
       "      <td>Curacao (Netherlands)</td>\n",
       "      <td>60</td>\n",
       "    </tr>\n",
       "    <tr>\n",
       "      <th>43</th>\n",
       "      <td>North Macedonia</td>\n",
       "      <td>Macedonia</td>\n",
       "      <td>90</td>\n",
       "    </tr>\n",
       "    <tr>\n",
       "      <th>44</th>\n",
       "      <td>West Bank</td>\n",
       "      <td>Western Sahara</td>\n",
       "      <td>57</td>\n",
       "    </tr>\n",
       "    <tr>\n",
       "      <th>45</th>\n",
       "      <td>Cook Islands</td>\n",
       "      <td>Cook Islands (New Zealand)</td>\n",
       "      <td>90</td>\n",
       "    </tr>\n",
       "    <tr>\n",
       "      <th>46</th>\n",
       "      <td>Wallis and Futuna</td>\n",
       "      <td>Wallis and Futuna (France)</td>\n",
       "      <td>95</td>\n",
       "    </tr>\n",
       "    <tr>\n",
       "      <th>47</th>\n",
       "      <td>Cote d'Ivoire</td>\n",
       "      <td>Ivory Coast</td>\n",
       "      <td>63</td>\n",
       "    </tr>\n",
       "    <tr>\n",
       "      <th>48</th>\n",
       "      <td>Eswatini</td>\n",
       "      <td>Martinique (France)</td>\n",
       "      <td>60</td>\n",
       "    </tr>\n",
       "    <tr>\n",
       "      <th>49</th>\n",
       "      <td>Saint Helena, Ascension, and Tristan da Cunha</td>\n",
       "      <td>St. Helena (UK)</td>\n",
       "      <td>86</td>\n",
       "    </tr>\n",
       "    <tr>\n",
       "      <th>50</th>\n",
       "      <td>Guam</td>\n",
       "      <td>Guam (US)</td>\n",
       "      <td>90</td>\n",
       "    </tr>\n",
       "    <tr>\n",
       "      <th>51</th>\n",
       "      <td>Korea, North</td>\n",
       "      <td>North Korea</td>\n",
       "      <td>95</td>\n",
       "    </tr>\n",
       "    <tr>\n",
       "      <th>52</th>\n",
       "      <td>Saint Vincent and the Grenadines</td>\n",
       "      <td>St. Vincent and the Grenadines</td>\n",
       "      <td>94</td>\n",
       "    </tr>\n",
       "    <tr>\n",
       "      <th>53</th>\n",
       "      <td>Saint Barthelemy</td>\n",
       "      <td>Swaziland</td>\n",
       "      <td>55</td>\n",
       "    </tr>\n",
       "    <tr>\n",
       "      <th>54</th>\n",
       "      <td>Faroe Islands</td>\n",
       "      <td>Faroe Islands (Denmark)</td>\n",
       "      <td>90</td>\n",
       "    </tr>\n",
       "  </tbody>\n",
       "</table>\n",
       "</div>"
      ],
      "text/plain": [
       "                                                0  \\\n",
       "0                                       Hong Kong   \n",
       "1                                       Gibraltar   \n",
       "2                                         Czechia   \n",
       "3                                           Macau   \n",
       "4                                           Samoa   \n",
       "5                                French Polynesia   \n",
       "6                                     Isle of Man   \n",
       "7                                      Cabo Verde   \n",
       "8                                     Gambia, The   \n",
       "9                                          Jersey   \n",
       "10                Micronesia, Federated States of   \n",
       "11                                      Greenland   \n",
       "12                                     Montserrat   \n",
       "13                                 Cayman Islands   \n",
       "14                                 Virgin Islands   \n",
       "15                                     Gaza Strip   \n",
       "16                          Saint Kitts and Nevis   \n",
       "17                                    Puerto Rico   \n",
       "18                                   Saint Martin   \n",
       "19                        Cocos (Keeling) Islands   \n",
       "20                                 American Samoa   \n",
       "21                                    Timor-Leste   \n",
       "22                       Northern Mariana Islands   \n",
       "23                                          Aruba   \n",
       "24                                   Korea, South   \n",
       "25                                        Bermuda   \n",
       "26                                   Bahamas, The   \n",
       "27                      Saint Pierre and Miquelon   \n",
       "28              Congo, Democratic Republic of the   \n",
       "29                                    Saint Lucia   \n",
       "30                         Congo, Republic of the   \n",
       "31                         British Virgin Islands   \n",
       "32                       Turks and Caicos Islands   \n",
       "33                                          Palau   \n",
       "34              Falkland Islands (Islas Malvinas)   \n",
       "35                                       Guernsey   \n",
       "36                                         Kosovo   \n",
       "37                                       Anguilla   \n",
       "38                                  New Caledonia   \n",
       "39                                   Sint Maarten   \n",
       "40                               Turkey (Turkiye)   \n",
       "41                                        Curacao   \n",
       "42                                          Burma   \n",
       "43                                North Macedonia   \n",
       "44                                      West Bank   \n",
       "45                                   Cook Islands   \n",
       "46                              Wallis and Futuna   \n",
       "47                                  Cote d'Ivoire   \n",
       "48                                       Eswatini   \n",
       "49  Saint Helena, Ascension, and Tristan da Cunha   \n",
       "50                                           Guam   \n",
       "51                                   Korea, North   \n",
       "52               Saint Vincent and the Grenadines   \n",
       "53                               Saint Barthelemy   \n",
       "54                                  Faroe Islands   \n",
       "\n",
       "                                               1   2  \n",
       "0                                          Congo  68  \n",
       "1                                 Gibraltar (UK)  95  \n",
       "2                                 Czech Republic  75  \n",
       "3                                      Macedonia  68  \n",
       "4                            American Samoa (US)  90  \n",
       "5                      French Polynesia (France)  90  \n",
       "6                               Isle of Man (UK)  95  \n",
       "7                                     Cape Verde  80  \n",
       "8                                         Gambia  90  \n",
       "9                                    Jersey (UK)  90  \n",
       "10                Federated States of Micronesia  95  \n",
       "11                           Greenland (Denmark)  90  \n",
       "12                               Montserrat (UK)  95  \n",
       "13                           Cayman Islands (UK)  95  \n",
       "14                    British Virgin Islands(UK)  90  \n",
       "15                                        Gambia  54  \n",
       "16                           St. Kitts and Nevis  90  \n",
       "17                              Puerto Rico (US)  95  \n",
       "18                                    Antarctica  64  \n",
       "19           Cocos (Keeling) Islands (Australia)  95  \n",
       "20                           American Samoa (US)  95  \n",
       "21                                    East Timor  81  \n",
       "22                 Northern Mariana Islands (US)  95  \n",
       "23                           Aruba (Netherlands)  90  \n",
       "24                                   South Korea  95  \n",
       "25                                  Bermuda (UK)  90  \n",
       "26                                       Bahamas  90  \n",
       "27  South Georgia and the South Sandwich Is (UK)  86  \n",
       "28              Democratic Republic of the Congo  95  \n",
       "29                                     St. Lucia  80  \n",
       "30              Democratic Republic of the Congo  95  \n",
       "31                    British Virgin Islands(UK)  95  \n",
       "32                 Turks and Caicos Islands (UK)  95  \n",
       "33                                    Palau (US)  90  \n",
       "34                         Pitcairn Islands (UK)  86  \n",
       "35                                 Guernsey (UK)  90  \n",
       "36                             Svalbard (Norway)  45  \n",
       "37                                 Anguilla (UK)  90  \n",
       "38                        New Caledonia (France)  90  \n",
       "39                                       Myanmar  62  \n",
       "40                                        Turkey  90  \n",
       "41                         Curacao (Netherlands)  90  \n",
       "42                         Curacao (Netherlands)  60  \n",
       "43                                     Macedonia  90  \n",
       "44                                Western Sahara  57  \n",
       "45                    Cook Islands (New Zealand)  90  \n",
       "46                    Wallis and Futuna (France)  95  \n",
       "47                                   Ivory Coast  63  \n",
       "48                           Martinique (France)  60  \n",
       "49                               St. Helena (UK)  86  \n",
       "50                                     Guam (US)  90  \n",
       "51                                   North Korea  95  \n",
       "52                St. Vincent and the Grenadines  94  \n",
       "53                                     Swaziland  55  \n",
       "54                       Faroe Islands (Denmark)  90  "
      ]
     },
     "execution_count": 102,
     "metadata": {},
     "output_type": "execute_result"
    }
   ],
   "source": [
    "pd.DataFrame([(name, best(name,onlyGDF)[0],best(name,onlyGDF)[1]) for name in onlyDF])"
   ]
  },
  {
   "cell_type": "markdown",
   "metadata": {
    "id": "Ny-xTkM2IcOZ"
   },
   "source": [
    "Let's sort by the column '2' (the third):"
   ]
  },
  {
   "cell_type": "code",
   "execution_count": 103,
   "metadata": {
    "colab": {
     "base_uri": "https://localhost:8080/",
     "height": 1000
    },
    "id": "jYicQroqIg4L",
    "outputId": "249b2ba2-e34c-4cfd-a7d0-d87c3c94a4c5"
   },
   "outputs": [
    {
     "data": {
      "text/html": [
       "<div>\n",
       "<style scoped>\n",
       "    .dataframe tbody tr th:only-of-type {\n",
       "        vertical-align: middle;\n",
       "    }\n",
       "\n",
       "    .dataframe tbody tr th {\n",
       "        vertical-align: top;\n",
       "    }\n",
       "\n",
       "    .dataframe thead th {\n",
       "        text-align: right;\n",
       "    }\n",
       "</style>\n",
       "<table border=\"1\" class=\"dataframe\">\n",
       "  <thead>\n",
       "    <tr style=\"text-align: right;\">\n",
       "      <th></th>\n",
       "      <th>0</th>\n",
       "      <th>1</th>\n",
       "      <th>2</th>\n",
       "    </tr>\n",
       "  </thead>\n",
       "  <tbody>\n",
       "    <tr>\n",
       "      <th>36</th>\n",
       "      <td>Kosovo</td>\n",
       "      <td>Svalbard (Norway)</td>\n",
       "      <td>45</td>\n",
       "    </tr>\n",
       "    <tr>\n",
       "      <th>15</th>\n",
       "      <td>Gaza Strip</td>\n",
       "      <td>Gambia</td>\n",
       "      <td>54</td>\n",
       "    </tr>\n",
       "    <tr>\n",
       "      <th>53</th>\n",
       "      <td>Saint Barthelemy</td>\n",
       "      <td>Swaziland</td>\n",
       "      <td>55</td>\n",
       "    </tr>\n",
       "    <tr>\n",
       "      <th>44</th>\n",
       "      <td>West Bank</td>\n",
       "      <td>Western Sahara</td>\n",
       "      <td>57</td>\n",
       "    </tr>\n",
       "    <tr>\n",
       "      <th>42</th>\n",
       "      <td>Burma</td>\n",
       "      <td>Curacao (Netherlands)</td>\n",
       "      <td>60</td>\n",
       "    </tr>\n",
       "    <tr>\n",
       "      <th>48</th>\n",
       "      <td>Eswatini</td>\n",
       "      <td>Martinique (France)</td>\n",
       "      <td>60</td>\n",
       "    </tr>\n",
       "    <tr>\n",
       "      <th>39</th>\n",
       "      <td>Sint Maarten</td>\n",
       "      <td>Myanmar</td>\n",
       "      <td>62</td>\n",
       "    </tr>\n",
       "    <tr>\n",
       "      <th>47</th>\n",
       "      <td>Cote d'Ivoire</td>\n",
       "      <td>Ivory Coast</td>\n",
       "      <td>63</td>\n",
       "    </tr>\n",
       "    <tr>\n",
       "      <th>18</th>\n",
       "      <td>Saint Martin</td>\n",
       "      <td>Antarctica</td>\n",
       "      <td>64</td>\n",
       "    </tr>\n",
       "    <tr>\n",
       "      <th>3</th>\n",
       "      <td>Macau</td>\n",
       "      <td>Macedonia</td>\n",
       "      <td>68</td>\n",
       "    </tr>\n",
       "    <tr>\n",
       "      <th>0</th>\n",
       "      <td>Hong Kong</td>\n",
       "      <td>Congo</td>\n",
       "      <td>68</td>\n",
       "    </tr>\n",
       "    <tr>\n",
       "      <th>2</th>\n",
       "      <td>Czechia</td>\n",
       "      <td>Czech Republic</td>\n",
       "      <td>75</td>\n",
       "    </tr>\n",
       "    <tr>\n",
       "      <th>29</th>\n",
       "      <td>Saint Lucia</td>\n",
       "      <td>St. Lucia</td>\n",
       "      <td>80</td>\n",
       "    </tr>\n",
       "    <tr>\n",
       "      <th>7</th>\n",
       "      <td>Cabo Verde</td>\n",
       "      <td>Cape Verde</td>\n",
       "      <td>80</td>\n",
       "    </tr>\n",
       "    <tr>\n",
       "      <th>21</th>\n",
       "      <td>Timor-Leste</td>\n",
       "      <td>East Timor</td>\n",
       "      <td>81</td>\n",
       "    </tr>\n",
       "    <tr>\n",
       "      <th>34</th>\n",
       "      <td>Falkland Islands (Islas Malvinas)</td>\n",
       "      <td>Pitcairn Islands (UK)</td>\n",
       "      <td>86</td>\n",
       "    </tr>\n",
       "    <tr>\n",
       "      <th>49</th>\n",
       "      <td>Saint Helena, Ascension, and Tristan da Cunha</td>\n",
       "      <td>St. Helena (UK)</td>\n",
       "      <td>86</td>\n",
       "    </tr>\n",
       "    <tr>\n",
       "      <th>27</th>\n",
       "      <td>Saint Pierre and Miquelon</td>\n",
       "      <td>South Georgia and the South Sandwich Is (UK)</td>\n",
       "      <td>86</td>\n",
       "    </tr>\n",
       "    <tr>\n",
       "      <th>16</th>\n",
       "      <td>Saint Kitts and Nevis</td>\n",
       "      <td>St. Kitts and Nevis</td>\n",
       "      <td>90</td>\n",
       "    </tr>\n",
       "    <tr>\n",
       "      <th>50</th>\n",
       "      <td>Guam</td>\n",
       "      <td>Guam (US)</td>\n",
       "      <td>90</td>\n",
       "    </tr>\n",
       "    <tr>\n",
       "      <th>4</th>\n",
       "      <td>Samoa</td>\n",
       "      <td>American Samoa (US)</td>\n",
       "      <td>90</td>\n",
       "    </tr>\n",
       "    <tr>\n",
       "      <th>5</th>\n",
       "      <td>French Polynesia</td>\n",
       "      <td>French Polynesia (France)</td>\n",
       "      <td>90</td>\n",
       "    </tr>\n",
       "    <tr>\n",
       "      <th>45</th>\n",
       "      <td>Cook Islands</td>\n",
       "      <td>Cook Islands (New Zealand)</td>\n",
       "      <td>90</td>\n",
       "    </tr>\n",
       "    <tr>\n",
       "      <th>43</th>\n",
       "      <td>North Macedonia</td>\n",
       "      <td>Macedonia</td>\n",
       "      <td>90</td>\n",
       "    </tr>\n",
       "    <tr>\n",
       "      <th>8</th>\n",
       "      <td>Gambia, The</td>\n",
       "      <td>Gambia</td>\n",
       "      <td>90</td>\n",
       "    </tr>\n",
       "    <tr>\n",
       "      <th>41</th>\n",
       "      <td>Curacao</td>\n",
       "      <td>Curacao (Netherlands)</td>\n",
       "      <td>90</td>\n",
       "    </tr>\n",
       "    <tr>\n",
       "      <th>40</th>\n",
       "      <td>Turkey (Turkiye)</td>\n",
       "      <td>Turkey</td>\n",
       "      <td>90</td>\n",
       "    </tr>\n",
       "    <tr>\n",
       "      <th>9</th>\n",
       "      <td>Jersey</td>\n",
       "      <td>Jersey (UK)</td>\n",
       "      <td>90</td>\n",
       "    </tr>\n",
       "    <tr>\n",
       "      <th>38</th>\n",
       "      <td>New Caledonia</td>\n",
       "      <td>New Caledonia (France)</td>\n",
       "      <td>90</td>\n",
       "    </tr>\n",
       "    <tr>\n",
       "      <th>37</th>\n",
       "      <td>Anguilla</td>\n",
       "      <td>Anguilla (UK)</td>\n",
       "      <td>90</td>\n",
       "    </tr>\n",
       "    <tr>\n",
       "      <th>35</th>\n",
       "      <td>Guernsey</td>\n",
       "      <td>Guernsey (UK)</td>\n",
       "      <td>90</td>\n",
       "    </tr>\n",
       "    <tr>\n",
       "      <th>11</th>\n",
       "      <td>Greenland</td>\n",
       "      <td>Greenland (Denmark)</td>\n",
       "      <td>90</td>\n",
       "    </tr>\n",
       "    <tr>\n",
       "      <th>33</th>\n",
       "      <td>Palau</td>\n",
       "      <td>Palau (US)</td>\n",
       "      <td>90</td>\n",
       "    </tr>\n",
       "    <tr>\n",
       "      <th>54</th>\n",
       "      <td>Faroe Islands</td>\n",
       "      <td>Faroe Islands (Denmark)</td>\n",
       "      <td>90</td>\n",
       "    </tr>\n",
       "    <tr>\n",
       "      <th>26</th>\n",
       "      <td>Bahamas, The</td>\n",
       "      <td>Bahamas</td>\n",
       "      <td>90</td>\n",
       "    </tr>\n",
       "    <tr>\n",
       "      <th>25</th>\n",
       "      <td>Bermuda</td>\n",
       "      <td>Bermuda (UK)</td>\n",
       "      <td>90</td>\n",
       "    </tr>\n",
       "    <tr>\n",
       "      <th>14</th>\n",
       "      <td>Virgin Islands</td>\n",
       "      <td>British Virgin Islands(UK)</td>\n",
       "      <td>90</td>\n",
       "    </tr>\n",
       "    <tr>\n",
       "      <th>23</th>\n",
       "      <td>Aruba</td>\n",
       "      <td>Aruba (Netherlands)</td>\n",
       "      <td>90</td>\n",
       "    </tr>\n",
       "    <tr>\n",
       "      <th>52</th>\n",
       "      <td>Saint Vincent and the Grenadines</td>\n",
       "      <td>St. Vincent and the Grenadines</td>\n",
       "      <td>94</td>\n",
       "    </tr>\n",
       "    <tr>\n",
       "      <th>31</th>\n",
       "      <td>British Virgin Islands</td>\n",
       "      <td>British Virgin Islands(UK)</td>\n",
       "      <td>95</td>\n",
       "    </tr>\n",
       "    <tr>\n",
       "      <th>51</th>\n",
       "      <td>Korea, North</td>\n",
       "      <td>North Korea</td>\n",
       "      <td>95</td>\n",
       "    </tr>\n",
       "    <tr>\n",
       "      <th>19</th>\n",
       "      <td>Cocos (Keeling) Islands</td>\n",
       "      <td>Cocos (Keeling) Islands (Australia)</td>\n",
       "      <td>95</td>\n",
       "    </tr>\n",
       "    <tr>\n",
       "      <th>1</th>\n",
       "      <td>Gibraltar</td>\n",
       "      <td>Gibraltar (UK)</td>\n",
       "      <td>95</td>\n",
       "    </tr>\n",
       "    <tr>\n",
       "      <th>20</th>\n",
       "      <td>American Samoa</td>\n",
       "      <td>American Samoa (US)</td>\n",
       "      <td>95</td>\n",
       "    </tr>\n",
       "    <tr>\n",
       "      <th>46</th>\n",
       "      <td>Wallis and Futuna</td>\n",
       "      <td>Wallis and Futuna (France)</td>\n",
       "      <td>95</td>\n",
       "    </tr>\n",
       "    <tr>\n",
       "      <th>6</th>\n",
       "      <td>Isle of Man</td>\n",
       "      <td>Isle of Man (UK)</td>\n",
       "      <td>95</td>\n",
       "    </tr>\n",
       "    <tr>\n",
       "      <th>32</th>\n",
       "      <td>Turks and Caicos Islands</td>\n",
       "      <td>Turks and Caicos Islands (UK)</td>\n",
       "      <td>95</td>\n",
       "    </tr>\n",
       "    <tr>\n",
       "      <th>24</th>\n",
       "      <td>Korea, South</td>\n",
       "      <td>South Korea</td>\n",
       "      <td>95</td>\n",
       "    </tr>\n",
       "    <tr>\n",
       "      <th>13</th>\n",
       "      <td>Cayman Islands</td>\n",
       "      <td>Cayman Islands (UK)</td>\n",
       "      <td>95</td>\n",
       "    </tr>\n",
       "    <tr>\n",
       "      <th>28</th>\n",
       "      <td>Congo, Democratic Republic of the</td>\n",
       "      <td>Democratic Republic of the Congo</td>\n",
       "      <td>95</td>\n",
       "    </tr>\n",
       "    <tr>\n",
       "      <th>12</th>\n",
       "      <td>Montserrat</td>\n",
       "      <td>Montserrat (UK)</td>\n",
       "      <td>95</td>\n",
       "    </tr>\n",
       "    <tr>\n",
       "      <th>17</th>\n",
       "      <td>Puerto Rico</td>\n",
       "      <td>Puerto Rico (US)</td>\n",
       "      <td>95</td>\n",
       "    </tr>\n",
       "    <tr>\n",
       "      <th>30</th>\n",
       "      <td>Congo, Republic of the</td>\n",
       "      <td>Democratic Republic of the Congo</td>\n",
       "      <td>95</td>\n",
       "    </tr>\n",
       "    <tr>\n",
       "      <th>22</th>\n",
       "      <td>Northern Mariana Islands</td>\n",
       "      <td>Northern Mariana Islands (US)</td>\n",
       "      <td>95</td>\n",
       "    </tr>\n",
       "    <tr>\n",
       "      <th>10</th>\n",
       "      <td>Micronesia, Federated States of</td>\n",
       "      <td>Federated States of Micronesia</td>\n",
       "      <td>95</td>\n",
       "    </tr>\n",
       "  </tbody>\n",
       "</table>\n",
       "</div>"
      ],
      "text/plain": [
       "                                                0  \\\n",
       "36                                         Kosovo   \n",
       "15                                     Gaza Strip   \n",
       "53                               Saint Barthelemy   \n",
       "44                                      West Bank   \n",
       "42                                          Burma   \n",
       "48                                       Eswatini   \n",
       "39                                   Sint Maarten   \n",
       "47                                  Cote d'Ivoire   \n",
       "18                                   Saint Martin   \n",
       "3                                           Macau   \n",
       "0                                       Hong Kong   \n",
       "2                                         Czechia   \n",
       "29                                    Saint Lucia   \n",
       "7                                      Cabo Verde   \n",
       "21                                    Timor-Leste   \n",
       "34              Falkland Islands (Islas Malvinas)   \n",
       "49  Saint Helena, Ascension, and Tristan da Cunha   \n",
       "27                      Saint Pierre and Miquelon   \n",
       "16                          Saint Kitts and Nevis   \n",
       "50                                           Guam   \n",
       "4                                           Samoa   \n",
       "5                                French Polynesia   \n",
       "45                                   Cook Islands   \n",
       "43                                North Macedonia   \n",
       "8                                     Gambia, The   \n",
       "41                                        Curacao   \n",
       "40                               Turkey (Turkiye)   \n",
       "9                                          Jersey   \n",
       "38                                  New Caledonia   \n",
       "37                                       Anguilla   \n",
       "35                                       Guernsey   \n",
       "11                                      Greenland   \n",
       "33                                          Palau   \n",
       "54                                  Faroe Islands   \n",
       "26                                   Bahamas, The   \n",
       "25                                        Bermuda   \n",
       "14                                 Virgin Islands   \n",
       "23                                          Aruba   \n",
       "52               Saint Vincent and the Grenadines   \n",
       "31                         British Virgin Islands   \n",
       "51                                   Korea, North   \n",
       "19                        Cocos (Keeling) Islands   \n",
       "1                                       Gibraltar   \n",
       "20                                 American Samoa   \n",
       "46                              Wallis and Futuna   \n",
       "6                                     Isle of Man   \n",
       "32                       Turks and Caicos Islands   \n",
       "24                                   Korea, South   \n",
       "13                                 Cayman Islands   \n",
       "28              Congo, Democratic Republic of the   \n",
       "12                                     Montserrat   \n",
       "17                                    Puerto Rico   \n",
       "30                         Congo, Republic of the   \n",
       "22                       Northern Mariana Islands   \n",
       "10                Micronesia, Federated States of   \n",
       "\n",
       "                                               1   2  \n",
       "36                             Svalbard (Norway)  45  \n",
       "15                                        Gambia  54  \n",
       "53                                     Swaziland  55  \n",
       "44                                Western Sahara  57  \n",
       "42                         Curacao (Netherlands)  60  \n",
       "48                           Martinique (France)  60  \n",
       "39                                       Myanmar  62  \n",
       "47                                   Ivory Coast  63  \n",
       "18                                    Antarctica  64  \n",
       "3                                      Macedonia  68  \n",
       "0                                          Congo  68  \n",
       "2                                 Czech Republic  75  \n",
       "29                                     St. Lucia  80  \n",
       "7                                     Cape Verde  80  \n",
       "21                                    East Timor  81  \n",
       "34                         Pitcairn Islands (UK)  86  \n",
       "49                               St. Helena (UK)  86  \n",
       "27  South Georgia and the South Sandwich Is (UK)  86  \n",
       "16                           St. Kitts and Nevis  90  \n",
       "50                                     Guam (US)  90  \n",
       "4                            American Samoa (US)  90  \n",
       "5                      French Polynesia (France)  90  \n",
       "45                    Cook Islands (New Zealand)  90  \n",
       "43                                     Macedonia  90  \n",
       "8                                         Gambia  90  \n",
       "41                         Curacao (Netherlands)  90  \n",
       "40                                        Turkey  90  \n",
       "9                                    Jersey (UK)  90  \n",
       "38                        New Caledonia (France)  90  \n",
       "37                                 Anguilla (UK)  90  \n",
       "35                                 Guernsey (UK)  90  \n",
       "11                           Greenland (Denmark)  90  \n",
       "33                                    Palau (US)  90  \n",
       "54                       Faroe Islands (Denmark)  90  \n",
       "26                                       Bahamas  90  \n",
       "25                                  Bermuda (UK)  90  \n",
       "14                    British Virgin Islands(UK)  90  \n",
       "23                           Aruba (Netherlands)  90  \n",
       "52                St. Vincent and the Grenadines  94  \n",
       "31                    British Virgin Islands(UK)  95  \n",
       "51                                   North Korea  95  \n",
       "19           Cocos (Keeling) Islands (Australia)  95  \n",
       "1                                 Gibraltar (UK)  95  \n",
       "20                           American Samoa (US)  95  \n",
       "46                    Wallis and Futuna (France)  95  \n",
       "6                               Isle of Man (UK)  95  \n",
       "32                 Turks and Caicos Islands (UK)  95  \n",
       "24                                   South Korea  95  \n",
       "13                           Cayman Islands (UK)  95  \n",
       "28              Democratic Republic of the Congo  95  \n",
       "12                               Montserrat (UK)  95  \n",
       "17                              Puerto Rico (US)  95  \n",
       "30              Democratic Republic of the Congo  95  \n",
       "22                 Northern Mariana Islands (US)  95  \n",
       "10                Federated States of Micronesia  95  "
      ]
     },
     "execution_count": 103,
     "metadata": {},
     "output_type": "execute_result"
    }
   ],
   "source": [
    "pd.DataFrame([(name, best(name,onlyGDF)[0],best(name,onlyGDF)[1]) for name in onlyDF]).sort_values(by=2)"
   ]
  },
  {
   "cell_type": "markdown",
   "metadata": {
    "id": "TAty9HrWEmwG"
   },
   "source": [
    "The previous result helps make a plan based on these cases:\n",
    "* **ESWATINI** is always a problem, because it is also *SWAZILAND*.\n",
    "* **KOREA (THE REPUBLIC OF)** is not _NORTH KOREA_.\n",
    "* **LAO PEOPLE'S DEMOCRATIC REPUBLIC (THE)** is too long to match *LAOS* (if it exists in the map like that).\n",
    "* **SAMOA** is always a problem, because it is also *WESTERN SAMOA*.\n",
    "\n",
    "Based on this, we should see what our GDF has:"
   ]
  },
  {
   "cell_type": "markdown",
   "metadata": {
    "id": "T6KT4jlOEmwG"
   },
   "source": [
    "Then, it makes sense to change those manually (notice the 'replace' uses Python dictionaries):"
   ]
  },
  {
   "cell_type": "code",
   "execution_count": 104,
   "metadata": {
    "id": "ru9XfAN0EmwG"
   },
   "outputs": [],
   "source": [
    "# Definimos las correcciones manuales como diccionario\n",
    "manualChanges = {\n",
    "    # Casos de \"false match\"\n",
    "    'KOSOVO': 'KOSOVO',\n",
    "    'WEST BANK': 'STATE OF PALESTINE',\n",
    "    'GAZA STRIP': 'STATE OF PALESTINE',\n",
    "    'SINT MAARTEN': 'SINT MAARTEN (DUTCH PART)',\n",
    "    'ESWATINI': 'SWAZILAND',\n",
    "    'MACAU': 'MACAO',\n",
    "    'BURMA': 'MYANMAR',\n",
    "    'HONG KONG': 'HONG KONG (SPECIAL ADMINISTRATIVE REGION OF CHINA)',\n",
    "    'SAINT BARTHELEMY': 'SAINT BARTHELEMY',\n",
    "    'SAINT LUCIA': 'SAINT LUCIA',\n",
    "    'SAINT MARTIN': 'SAINT MARTIN (FRENCH PART)',\n",
    "    'FALKLAND ISLANDS (ISLAS MALVINAS)': 'FALKLAND ISLANDS (ISLAS MALVINAS)',\n",
    "    'SAINT HELENA, ASCENSION, AND TRISTAN DA CUNHA':\n",
    "        'SAINT HELENA, ASCENSION AND TRISTAN DA CUNHA',\n",
    "    'SAINT PIERRE AND MIQUELON': 'SAINT PIERRE AND MIQUELON',\n",
    "\n",
    "}\n",
    "\n",
    "countries.replace(\n",
    "    to_replace={'name': manualChanges},\n",
    "    inplace=True\n",
    ")\n",
    "\n"
   ]
  },
  {
   "cell_type": "markdown",
   "metadata": {
    "id": "mly8JslcEmwG"
   },
   "source": [
    "At this stage, we should recompute the differences:"
   ]
  },
  {
   "cell_type": "code",
   "execution_count": 105,
   "metadata": {
    "id": "JQBXlB-KEmwG"
   },
   "outputs": [],
   "source": [
    "# updating\n",
    "onlyDF=set(someData.name)- set(countries.name)\n",
    "onlyGDF=set(countries.name)- set(someData.name)"
   ]
  },
  {
   "cell_type": "markdown",
   "metadata": {
    "id": "Q-soIkXiEmwG"
   },
   "source": [
    "An re run this code:"
   ]
  },
  {
   "cell_type": "code",
   "execution_count": 106,
   "metadata": {
    "colab": {
     "base_uri": "https://localhost:8080/",
     "height": 1000
    },
    "id": "X_BTyMJ6911G",
    "outputId": "bc249932-c463-4af7-ad22-d560f0ceffc4"
   },
   "outputs": [
    {
     "data": {
      "text/html": [
       "<div>\n",
       "<style scoped>\n",
       "    .dataframe tbody tr th:only-of-type {\n",
       "        vertical-align: middle;\n",
       "    }\n",
       "\n",
       "    .dataframe tbody tr th {\n",
       "        vertical-align: top;\n",
       "    }\n",
       "\n",
       "    .dataframe thead th {\n",
       "        text-align: right;\n",
       "    }\n",
       "</style>\n",
       "<table border=\"1\" class=\"dataframe\">\n",
       "  <thead>\n",
       "    <tr style=\"text-align: right;\">\n",
       "      <th></th>\n",
       "      <th>0</th>\n",
       "      <th>1</th>\n",
       "      <th>2</th>\n",
       "    </tr>\n",
       "  </thead>\n",
       "  <tbody>\n",
       "    <tr>\n",
       "      <th>36</th>\n",
       "      <td>Kosovo</td>\n",
       "      <td>Svalbard (Norway)</td>\n",
       "      <td>45</td>\n",
       "    </tr>\n",
       "    <tr>\n",
       "      <th>15</th>\n",
       "      <td>Gaza Strip</td>\n",
       "      <td>Gambia</td>\n",
       "      <td>54</td>\n",
       "    </tr>\n",
       "    <tr>\n",
       "      <th>53</th>\n",
       "      <td>Saint Barthelemy</td>\n",
       "      <td>Swaziland</td>\n",
       "      <td>55</td>\n",
       "    </tr>\n",
       "    <tr>\n",
       "      <th>44</th>\n",
       "      <td>West Bank</td>\n",
       "      <td>Western Sahara</td>\n",
       "      <td>57</td>\n",
       "    </tr>\n",
       "    <tr>\n",
       "      <th>42</th>\n",
       "      <td>Burma</td>\n",
       "      <td>Curacao (Netherlands)</td>\n",
       "      <td>60</td>\n",
       "    </tr>\n",
       "    <tr>\n",
       "      <th>48</th>\n",
       "      <td>Eswatini</td>\n",
       "      <td>Martinique (France)</td>\n",
       "      <td>60</td>\n",
       "    </tr>\n",
       "    <tr>\n",
       "      <th>39</th>\n",
       "      <td>Sint Maarten</td>\n",
       "      <td>Myanmar</td>\n",
       "      <td>62</td>\n",
       "    </tr>\n",
       "    <tr>\n",
       "      <th>47</th>\n",
       "      <td>Cote d'Ivoire</td>\n",
       "      <td>Ivory Coast</td>\n",
       "      <td>63</td>\n",
       "    </tr>\n",
       "    <tr>\n",
       "      <th>18</th>\n",
       "      <td>Saint Martin</td>\n",
       "      <td>Antarctica</td>\n",
       "      <td>64</td>\n",
       "    </tr>\n",
       "    <tr>\n",
       "      <th>3</th>\n",
       "      <td>Macau</td>\n",
       "      <td>Macedonia</td>\n",
       "      <td>68</td>\n",
       "    </tr>\n",
       "    <tr>\n",
       "      <th>0</th>\n",
       "      <td>Hong Kong</td>\n",
       "      <td>Congo</td>\n",
       "      <td>68</td>\n",
       "    </tr>\n",
       "    <tr>\n",
       "      <th>2</th>\n",
       "      <td>Czechia</td>\n",
       "      <td>Czech Republic</td>\n",
       "      <td>75</td>\n",
       "    </tr>\n",
       "    <tr>\n",
       "      <th>29</th>\n",
       "      <td>Saint Lucia</td>\n",
       "      <td>St. Lucia</td>\n",
       "      <td>80</td>\n",
       "    </tr>\n",
       "    <tr>\n",
       "      <th>7</th>\n",
       "      <td>Cabo Verde</td>\n",
       "      <td>Cape Verde</td>\n",
       "      <td>80</td>\n",
       "    </tr>\n",
       "    <tr>\n",
       "      <th>21</th>\n",
       "      <td>Timor-Leste</td>\n",
       "      <td>East Timor</td>\n",
       "      <td>81</td>\n",
       "    </tr>\n",
       "    <tr>\n",
       "      <th>34</th>\n",
       "      <td>Falkland Islands (Islas Malvinas)</td>\n",
       "      <td>Pitcairn Islands (UK)</td>\n",
       "      <td>86</td>\n",
       "    </tr>\n",
       "    <tr>\n",
       "      <th>49</th>\n",
       "      <td>Saint Helena, Ascension, and Tristan da Cunha</td>\n",
       "      <td>St. Helena (UK)</td>\n",
       "      <td>86</td>\n",
       "    </tr>\n",
       "    <tr>\n",
       "      <th>27</th>\n",
       "      <td>Saint Pierre and Miquelon</td>\n",
       "      <td>South Georgia and the South Sandwich Is (UK)</td>\n",
       "      <td>86</td>\n",
       "    </tr>\n",
       "    <tr>\n",
       "      <th>16</th>\n",
       "      <td>Saint Kitts and Nevis</td>\n",
       "      <td>St. Kitts and Nevis</td>\n",
       "      <td>90</td>\n",
       "    </tr>\n",
       "    <tr>\n",
       "      <th>50</th>\n",
       "      <td>Guam</td>\n",
       "      <td>Guam (US)</td>\n",
       "      <td>90</td>\n",
       "    </tr>\n",
       "    <tr>\n",
       "      <th>4</th>\n",
       "      <td>Samoa</td>\n",
       "      <td>American Samoa (US)</td>\n",
       "      <td>90</td>\n",
       "    </tr>\n",
       "    <tr>\n",
       "      <th>5</th>\n",
       "      <td>French Polynesia</td>\n",
       "      <td>French Polynesia (France)</td>\n",
       "      <td>90</td>\n",
       "    </tr>\n",
       "    <tr>\n",
       "      <th>45</th>\n",
       "      <td>Cook Islands</td>\n",
       "      <td>Cook Islands (New Zealand)</td>\n",
       "      <td>90</td>\n",
       "    </tr>\n",
       "    <tr>\n",
       "      <th>43</th>\n",
       "      <td>North Macedonia</td>\n",
       "      <td>Macedonia</td>\n",
       "      <td>90</td>\n",
       "    </tr>\n",
       "    <tr>\n",
       "      <th>8</th>\n",
       "      <td>Gambia, The</td>\n",
       "      <td>Gambia</td>\n",
       "      <td>90</td>\n",
       "    </tr>\n",
       "    <tr>\n",
       "      <th>41</th>\n",
       "      <td>Curacao</td>\n",
       "      <td>Curacao (Netherlands)</td>\n",
       "      <td>90</td>\n",
       "    </tr>\n",
       "    <tr>\n",
       "      <th>40</th>\n",
       "      <td>Turkey (Turkiye)</td>\n",
       "      <td>Turkey</td>\n",
       "      <td>90</td>\n",
       "    </tr>\n",
       "    <tr>\n",
       "      <th>9</th>\n",
       "      <td>Jersey</td>\n",
       "      <td>Jersey (UK)</td>\n",
       "      <td>90</td>\n",
       "    </tr>\n",
       "    <tr>\n",
       "      <th>38</th>\n",
       "      <td>New Caledonia</td>\n",
       "      <td>New Caledonia (France)</td>\n",
       "      <td>90</td>\n",
       "    </tr>\n",
       "    <tr>\n",
       "      <th>37</th>\n",
       "      <td>Anguilla</td>\n",
       "      <td>Anguilla (UK)</td>\n",
       "      <td>90</td>\n",
       "    </tr>\n",
       "    <tr>\n",
       "      <th>35</th>\n",
       "      <td>Guernsey</td>\n",
       "      <td>Guernsey (UK)</td>\n",
       "      <td>90</td>\n",
       "    </tr>\n",
       "    <tr>\n",
       "      <th>11</th>\n",
       "      <td>Greenland</td>\n",
       "      <td>Greenland (Denmark)</td>\n",
       "      <td>90</td>\n",
       "    </tr>\n",
       "    <tr>\n",
       "      <th>33</th>\n",
       "      <td>Palau</td>\n",
       "      <td>Palau (US)</td>\n",
       "      <td>90</td>\n",
       "    </tr>\n",
       "    <tr>\n",
       "      <th>54</th>\n",
       "      <td>Faroe Islands</td>\n",
       "      <td>Faroe Islands (Denmark)</td>\n",
       "      <td>90</td>\n",
       "    </tr>\n",
       "    <tr>\n",
       "      <th>26</th>\n",
       "      <td>Bahamas, The</td>\n",
       "      <td>Bahamas</td>\n",
       "      <td>90</td>\n",
       "    </tr>\n",
       "    <tr>\n",
       "      <th>25</th>\n",
       "      <td>Bermuda</td>\n",
       "      <td>Bermuda (UK)</td>\n",
       "      <td>90</td>\n",
       "    </tr>\n",
       "    <tr>\n",
       "      <th>14</th>\n",
       "      <td>Virgin Islands</td>\n",
       "      <td>British Virgin Islands(UK)</td>\n",
       "      <td>90</td>\n",
       "    </tr>\n",
       "    <tr>\n",
       "      <th>23</th>\n",
       "      <td>Aruba</td>\n",
       "      <td>Aruba (Netherlands)</td>\n",
       "      <td>90</td>\n",
       "    </tr>\n",
       "    <tr>\n",
       "      <th>52</th>\n",
       "      <td>Saint Vincent and the Grenadines</td>\n",
       "      <td>St. Vincent and the Grenadines</td>\n",
       "      <td>94</td>\n",
       "    </tr>\n",
       "    <tr>\n",
       "      <th>31</th>\n",
       "      <td>British Virgin Islands</td>\n",
       "      <td>British Virgin Islands(UK)</td>\n",
       "      <td>95</td>\n",
       "    </tr>\n",
       "    <tr>\n",
       "      <th>51</th>\n",
       "      <td>Korea, North</td>\n",
       "      <td>North Korea</td>\n",
       "      <td>95</td>\n",
       "    </tr>\n",
       "    <tr>\n",
       "      <th>19</th>\n",
       "      <td>Cocos (Keeling) Islands</td>\n",
       "      <td>Cocos (Keeling) Islands (Australia)</td>\n",
       "      <td>95</td>\n",
       "    </tr>\n",
       "    <tr>\n",
       "      <th>1</th>\n",
       "      <td>Gibraltar</td>\n",
       "      <td>Gibraltar (UK)</td>\n",
       "      <td>95</td>\n",
       "    </tr>\n",
       "    <tr>\n",
       "      <th>20</th>\n",
       "      <td>American Samoa</td>\n",
       "      <td>American Samoa (US)</td>\n",
       "      <td>95</td>\n",
       "    </tr>\n",
       "    <tr>\n",
       "      <th>46</th>\n",
       "      <td>Wallis and Futuna</td>\n",
       "      <td>Wallis and Futuna (France)</td>\n",
       "      <td>95</td>\n",
       "    </tr>\n",
       "    <tr>\n",
       "      <th>6</th>\n",
       "      <td>Isle of Man</td>\n",
       "      <td>Isle of Man (UK)</td>\n",
       "      <td>95</td>\n",
       "    </tr>\n",
       "    <tr>\n",
       "      <th>32</th>\n",
       "      <td>Turks and Caicos Islands</td>\n",
       "      <td>Turks and Caicos Islands (UK)</td>\n",
       "      <td>95</td>\n",
       "    </tr>\n",
       "    <tr>\n",
       "      <th>24</th>\n",
       "      <td>Korea, South</td>\n",
       "      <td>South Korea</td>\n",
       "      <td>95</td>\n",
       "    </tr>\n",
       "    <tr>\n",
       "      <th>13</th>\n",
       "      <td>Cayman Islands</td>\n",
       "      <td>Cayman Islands (UK)</td>\n",
       "      <td>95</td>\n",
       "    </tr>\n",
       "    <tr>\n",
       "      <th>28</th>\n",
       "      <td>Congo, Democratic Republic of the</td>\n",
       "      <td>Democratic Republic of the Congo</td>\n",
       "      <td>95</td>\n",
       "    </tr>\n",
       "    <tr>\n",
       "      <th>12</th>\n",
       "      <td>Montserrat</td>\n",
       "      <td>Montserrat (UK)</td>\n",
       "      <td>95</td>\n",
       "    </tr>\n",
       "    <tr>\n",
       "      <th>17</th>\n",
       "      <td>Puerto Rico</td>\n",
       "      <td>Puerto Rico (US)</td>\n",
       "      <td>95</td>\n",
       "    </tr>\n",
       "    <tr>\n",
       "      <th>30</th>\n",
       "      <td>Congo, Republic of the</td>\n",
       "      <td>Democratic Republic of the Congo</td>\n",
       "      <td>95</td>\n",
       "    </tr>\n",
       "    <tr>\n",
       "      <th>22</th>\n",
       "      <td>Northern Mariana Islands</td>\n",
       "      <td>Northern Mariana Islands (US)</td>\n",
       "      <td>95</td>\n",
       "    </tr>\n",
       "    <tr>\n",
       "      <th>10</th>\n",
       "      <td>Micronesia, Federated States of</td>\n",
       "      <td>Federated States of Micronesia</td>\n",
       "      <td>95</td>\n",
       "    </tr>\n",
       "  </tbody>\n",
       "</table>\n",
       "</div>"
      ],
      "text/plain": [
       "                                                0  \\\n",
       "36                                         Kosovo   \n",
       "15                                     Gaza Strip   \n",
       "53                               Saint Barthelemy   \n",
       "44                                      West Bank   \n",
       "42                                          Burma   \n",
       "48                                       Eswatini   \n",
       "39                                   Sint Maarten   \n",
       "47                                  Cote d'Ivoire   \n",
       "18                                   Saint Martin   \n",
       "3                                           Macau   \n",
       "0                                       Hong Kong   \n",
       "2                                         Czechia   \n",
       "29                                    Saint Lucia   \n",
       "7                                      Cabo Verde   \n",
       "21                                    Timor-Leste   \n",
       "34              Falkland Islands (Islas Malvinas)   \n",
       "49  Saint Helena, Ascension, and Tristan da Cunha   \n",
       "27                      Saint Pierre and Miquelon   \n",
       "16                          Saint Kitts and Nevis   \n",
       "50                                           Guam   \n",
       "4                                           Samoa   \n",
       "5                                French Polynesia   \n",
       "45                                   Cook Islands   \n",
       "43                                North Macedonia   \n",
       "8                                     Gambia, The   \n",
       "41                                        Curacao   \n",
       "40                               Turkey (Turkiye)   \n",
       "9                                          Jersey   \n",
       "38                                  New Caledonia   \n",
       "37                                       Anguilla   \n",
       "35                                       Guernsey   \n",
       "11                                      Greenland   \n",
       "33                                          Palau   \n",
       "54                                  Faroe Islands   \n",
       "26                                   Bahamas, The   \n",
       "25                                        Bermuda   \n",
       "14                                 Virgin Islands   \n",
       "23                                          Aruba   \n",
       "52               Saint Vincent and the Grenadines   \n",
       "31                         British Virgin Islands   \n",
       "51                                   Korea, North   \n",
       "19                        Cocos (Keeling) Islands   \n",
       "1                                       Gibraltar   \n",
       "20                                 American Samoa   \n",
       "46                              Wallis and Futuna   \n",
       "6                                     Isle of Man   \n",
       "32                       Turks and Caicos Islands   \n",
       "24                                   Korea, South   \n",
       "13                                 Cayman Islands   \n",
       "28              Congo, Democratic Republic of the   \n",
       "12                                     Montserrat   \n",
       "17                                    Puerto Rico   \n",
       "30                         Congo, Republic of the   \n",
       "22                       Northern Mariana Islands   \n",
       "10                Micronesia, Federated States of   \n",
       "\n",
       "                                               1   2  \n",
       "36                             Svalbard (Norway)  45  \n",
       "15                                        Gambia  54  \n",
       "53                                     Swaziland  55  \n",
       "44                                Western Sahara  57  \n",
       "42                         Curacao (Netherlands)  60  \n",
       "48                           Martinique (France)  60  \n",
       "39                                       Myanmar  62  \n",
       "47                                   Ivory Coast  63  \n",
       "18                                    Antarctica  64  \n",
       "3                                      Macedonia  68  \n",
       "0                                          Congo  68  \n",
       "2                                 Czech Republic  75  \n",
       "29                                     St. Lucia  80  \n",
       "7                                     Cape Verde  80  \n",
       "21                                    East Timor  81  \n",
       "34                         Pitcairn Islands (UK)  86  \n",
       "49                               St. Helena (UK)  86  \n",
       "27  South Georgia and the South Sandwich Is (UK)  86  \n",
       "16                           St. Kitts and Nevis  90  \n",
       "50                                     Guam (US)  90  \n",
       "4                            American Samoa (US)  90  \n",
       "5                      French Polynesia (France)  90  \n",
       "45                    Cook Islands (New Zealand)  90  \n",
       "43                                     Macedonia  90  \n",
       "8                                         Gambia  90  \n",
       "41                         Curacao (Netherlands)  90  \n",
       "40                                        Turkey  90  \n",
       "9                                    Jersey (UK)  90  \n",
       "38                        New Caledonia (France)  90  \n",
       "37                                 Anguilla (UK)  90  \n",
       "35                                 Guernsey (UK)  90  \n",
       "11                           Greenland (Denmark)  90  \n",
       "33                                    Palau (US)  90  \n",
       "54                       Faroe Islands (Denmark)  90  \n",
       "26                                       Bahamas  90  \n",
       "25                                  Bermuda (UK)  90  \n",
       "14                    British Virgin Islands(UK)  90  \n",
       "23                           Aruba (Netherlands)  90  \n",
       "52                St. Vincent and the Grenadines  94  \n",
       "31                    British Virgin Islands(UK)  95  \n",
       "51                                   North Korea  95  \n",
       "19           Cocos (Keeling) Islands (Australia)  95  \n",
       "1                                 Gibraltar (UK)  95  \n",
       "20                           American Samoa (US)  95  \n",
       "46                    Wallis and Futuna (France)  95  \n",
       "6                               Isle of Man (UK)  95  \n",
       "32                 Turks and Caicos Islands (UK)  95  \n",
       "24                                   South Korea  95  \n",
       "13                           Cayman Islands (UK)  95  \n",
       "28              Democratic Republic of the Congo  95  \n",
       "12                               Montserrat (UK)  95  \n",
       "17                              Puerto Rico (US)  95  \n",
       "30              Democratic Republic of the Congo  95  \n",
       "22                 Northern Mariana Islands (US)  95  \n",
       "10                Federated States of Micronesia  95  "
      ]
     },
     "execution_count": 106,
     "metadata": {},
     "output_type": "execute_result"
    }
   ],
   "source": [
    "# keeping high scores\n",
    "\n",
    "pd.DataFrame([(name, best(name,onlyGDF)[0],best(name,onlyGDF)[1]) for name in onlyDF]).sort_values(2)"
   ]
  },
  {
   "cell_type": "markdown",
   "metadata": {
    "id": "f4HfKg5a911G"
   },
   "source": [
    "All this is correct now!\n",
    "\n",
    "Let's prepare the changes:"
   ]
  },
  {
   "cell_type": "code",
   "execution_count": 107,
   "metadata": {
    "colab": {
     "base_uri": "https://localhost:8080/"
    },
    "id": "XQmFAeIhEmwK",
    "outputId": "863e0b3a-0729-45fd-eeb4-1438426fb75b"
   },
   "outputs": [
    {
     "data": {
      "text/plain": [
       "{'Hong Kong': 'Congo',\n",
       " 'Gibraltar': 'Gibraltar (UK)',\n",
       " 'Czechia': 'Czech Republic',\n",
       " 'Macau': 'Macedonia',\n",
       " 'Samoa': 'American Samoa (US)',\n",
       " 'French Polynesia': 'French Polynesia (France)',\n",
       " 'Isle of Man': 'Isle of Man (UK)',\n",
       " 'Cabo Verde': 'Cape Verde',\n",
       " 'Gambia, The': 'Gambia',\n",
       " 'Jersey': 'Jersey (UK)',\n",
       " 'Micronesia, Federated States of': 'Federated States of Micronesia',\n",
       " 'Greenland': 'Greenland (Denmark)',\n",
       " 'Montserrat': 'Montserrat (UK)',\n",
       " 'Cayman Islands': 'Cayman Islands (UK)',\n",
       " 'Virgin Islands': 'British Virgin Islands(UK)',\n",
       " 'Gaza Strip': 'Gambia',\n",
       " 'Saint Kitts and Nevis': 'St. Kitts and Nevis',\n",
       " 'Puerto Rico': 'Puerto Rico (US)',\n",
       " 'Saint Martin': 'Antarctica',\n",
       " 'Cocos (Keeling) Islands': 'Cocos (Keeling) Islands (Australia)',\n",
       " 'American Samoa': 'American Samoa (US)',\n",
       " 'Timor-Leste': 'East Timor',\n",
       " 'Northern Mariana Islands': 'Northern Mariana Islands (US)',\n",
       " 'Aruba': 'Aruba (Netherlands)',\n",
       " 'Korea, South': 'South Korea',\n",
       " 'Bermuda': 'Bermuda (UK)',\n",
       " 'Bahamas, The': 'Bahamas',\n",
       " 'Saint Pierre and Miquelon': 'South Georgia and the South Sandwich Is (UK)',\n",
       " 'Congo, Democratic Republic of the': 'Democratic Republic of the Congo',\n",
       " 'Saint Lucia': 'St. Lucia',\n",
       " 'Congo, Republic of the': 'Democratic Republic of the Congo',\n",
       " 'British Virgin Islands': 'British Virgin Islands(UK)',\n",
       " 'Turks and Caicos Islands': 'Turks and Caicos Islands (UK)',\n",
       " 'Palau': 'Palau (US)',\n",
       " 'Falkland Islands (Islas Malvinas)': 'Pitcairn Islands (UK)',\n",
       " 'Guernsey': 'Guernsey (UK)',\n",
       " 'Kosovo': 'Svalbard (Norway)',\n",
       " 'Anguilla': 'Anguilla (UK)',\n",
       " 'New Caledonia': 'New Caledonia (France)',\n",
       " 'Sint Maarten': 'Myanmar',\n",
       " 'Turkey (Turkiye)': 'Turkey',\n",
       " 'Curacao': 'Curacao (Netherlands)',\n",
       " 'Burma': 'Curacao (Netherlands)',\n",
       " 'North Macedonia': 'Macedonia',\n",
       " 'West Bank': 'Western Sahara',\n",
       " 'Cook Islands': 'Cook Islands (New Zealand)',\n",
       " 'Wallis and Futuna': 'Wallis and Futuna (France)',\n",
       " \"Cote d'Ivoire\": 'Ivory Coast',\n",
       " 'Eswatini': 'Martinique (France)',\n",
       " 'Saint Helena, Ascension, and Tristan da Cunha': 'St. Helena (UK)',\n",
       " 'Guam': 'Guam (US)',\n",
       " 'Korea, North': 'North Korea',\n",
       " 'Saint Vincent and the Grenadines': 'St. Vincent and the Grenadines',\n",
       " 'Saint Barthelemy': 'Swaziland',\n",
       " 'Faroe Islands': 'Faroe Islands (Denmark)'}"
      ]
     },
     "execution_count": 107,
     "metadata": {},
     "output_type": "execute_result"
    }
   ],
   "source": [
    "# new {dictionary}\n",
    "changesToDF={name: best(name,onlyGDF)[0] for name in onlyDF}\n",
    "changesToDF"
   ]
  },
  {
   "cell_type": "code",
   "execution_count": 108,
   "metadata": {
    "id": "HaGAV_eE911G"
   },
   "outputs": [],
   "source": [
    "someData.replace(to_replace={'name':changesToDF},inplace=True)"
   ]
  },
  {
   "cell_type": "markdown",
   "metadata": {
    "id": "oS24qOxKEmwL"
   },
   "source": [
    "What is left to match?"
   ]
  },
  {
   "cell_type": "code",
   "execution_count": 109,
   "metadata": {
    "colab": {
     "base_uri": "https://localhost:8080/"
    },
    "id": "jZTvbnY7EmwL",
    "outputId": "f07df6f9-7391-46f3-cbce-5d1e16334ae9"
   },
   "outputs": [
    {
     "data": {
      "text/plain": [
       "[]"
      ]
     },
     "execution_count": 109,
     "metadata": {},
     "output_type": "execute_result"
    }
   ],
   "source": [
    "# updating\n",
    "onlyDF=set(someData.name)- set(countries.name)\n",
    "onlyGDF=set(countries.name)- set(someData.name)\n",
    "[(name, best(name,onlyGDF)) for name in onlyDF]"
   ]
  },
  {
   "cell_type": "markdown",
   "metadata": {
    "id": "bxxGO8JJEmwL"
   },
   "source": [
    "Once you are here, merging can proceed:"
   ]
  },
  {
   "cell_type": "code",
   "execution_count": 110,
   "metadata": {
    "id": "sRWmaebuEmwL"
   },
   "outputs": [],
   "source": [
    "## GDF to the 'left'\n",
    "theMapAndData=countries.merge(someData, on='name')"
   ]
  },
  {
   "cell_type": "markdown",
   "metadata": {
    "id": "SZBdNu65911G"
   },
   "source": [
    "And our GDF has social data now!"
   ]
  },
  {
   "cell_type": "code",
   "execution_count": 111,
   "metadata": {
    "colab": {
     "base_uri": "https://localhost:8080/"
    },
    "id": "2uoQ0nu-911G",
    "outputId": "ffb68dd2-8b1f-4235-f64a-67910fe2f118"
   },
   "outputs": [
    {
     "name": "stdout",
     "output_type": "stream",
     "text": [
      "<class 'geopandas.geodataframe.GeoDataFrame'>\n",
      "RangeIndex: 229 entries, 0 to 228\n",
      "Data columns (total 8 columns):\n",
      " #   Column               Non-Null Count  Dtype   \n",
      "---  ------               --------------  -----   \n",
      " 0   name                 229 non-null    object  \n",
      " 1   geometry             229 non-null    geometry\n",
      " 2   slug                 229 non-null    object  \n",
      " 3    deaths/1            229 non-null    float64 \n",
      " 4   000 population       229 non-null    int64   \n",
      " 5   date_of_information  229 non-null    int64   \n",
      " 6   ranking              229 non-null    object  \n",
      " 7   region               0 non-null      float64 \n",
      "dtypes: float64(2), geometry(1), int64(2), object(3)\n",
      "memory usage: 14.4+ KB\n"
     ]
    }
   ],
   "source": [
    "theMapAndData.info()"
   ]
  },
  {
   "cell_type": "markdown",
   "metadata": {
    "id": "J9STy3kH847J"
   },
   "source": [
    "We should save this map of countries and their indicators in a new file:"
   ]
  },
  {
   "cell_type": "code",
   "execution_count": 112,
   "metadata": {
    "id": "zSX-VqGy9CTo"
   },
   "outputs": [],
   "source": [
    "theMapAndData.to_file(\"worldindicators.json\")"
   ]
  },
  {
   "cell_type": "markdown",
   "metadata": {
    "id": "aqwztVCI5ppn"
   },
   "source": [
    "# Thematics: the DDM (Dot Density Map)\n",
    "\n",
    "You have a DDM if you use dot to show comparatively which polygon of a map has 'more' (or 'less') of some countable phenomenon of interest.\n",
    "A dot is an aggregated value, but it is constant for each dot.\n",
    "\n",
    "We have the world map, let's keep Africa:"
   ]
  },
  {
   "cell_type": "code",
   "execution_count": 113,
   "metadata": {
    "colab": {
     "base_uri": "https://localhost:8080/",
     "height": 429
    },
    "id": "DbI7BXpU5ppn",
    "outputId": "b1c44959-ac6c-4302-e661-cc7892f4fde2"
   },
   "outputs": [
    {
     "data": {
      "text/plain": [
       "ranking\n",
       "Africa                               55\n",
       "Europe                               49\n",
       "Central America and the Caribbean    32\n",
       "Australia and Oceania                21\n",
       "East and Southeast Asia              20\n",
       "Middle East                          16\n",
       "South America                        13\n",
       "Central Asia                          9\n",
       "South Asia                            8\n",
       "North America                         6\n",
       "Name: count, dtype: int64"
      ]
     },
     "execution_count": 113,
     "metadata": {},
     "output_type": "execute_result"
    }
   ],
   "source": [
    "theMapAndData.ranking.value_counts()"
   ]
  },
  {
   "cell_type": "markdown",
   "metadata": {
    "id": "AA9LCytj5ppn"
   },
   "source": [
    "### Preprocessing: Filtering"
   ]
  },
  {
   "cell_type": "code",
   "execution_count": 114,
   "metadata": {
    "colab": {
     "base_uri": "https://localhost:8080/",
     "height": 447
    },
    "id": "5m4yTGMq5ppn",
    "outputId": "0501c54f-b4fb-4109-e69d-0e002031ca55"
   },
   "outputs": [
    {
     "data": {
      "text/plain": [
       "<Axes: >"
      ]
     },
     "execution_count": 114,
     "metadata": {},
     "output_type": "execute_result"
    },
    {
     "data": {
      "image/png": "[encoded data removed]",
      "text/plain": [
       "<Figure size 640x480 with 1 Axes>"
      ]
     },
     "metadata": {},
     "output_type": "display_data"
    }
   ],
   "source": [
    "# then\n",
    "\n",
    "America=theMapAndData[theMapAndData.ranking=='South America']\n",
    "America.plot()"
   ]
  },
  {
   "cell_type": "markdown",
   "metadata": {
    "id": "EHVMXUwo5ppn"
   },
   "source": [
    "A DDM can serve as an effective way to show the distribution of people. The most critical tasks are:\n",
    "\n",
    "* Dot Placement: The dots should be randomly distributed within each polygon to avoid misrepresenting the data.\n",
    "\n",
    "* Dot Unit: Deciding how many people each dot should represent is key for visual clarity. This value should be chosen carefully to avoid oversaturation or sparsity.\n",
    "\n",
    "The size of all dots on the map must be the same to ensure a consistent visual comparison.\n",
    "\n",
    "### Preprocessing: aggregating\n",
    "\n",
    "This is a DOT UNIT proposal:"
   ]
  },
  {
   "cell_type": "code",
   "execution_count": 115,
   "metadata": {
    "id": "iay2CMzvEmwL"
   },
   "outputs": [],
   "source": [
    "justDots=America.copy()\n",
    "dot_value = 0.1\n",
    "justDots['num_dots'] = (justDots[' deaths/1'] / dot_value).astype(int)"
   ]
  },
  {
   "cell_type": "markdown",
   "metadata": {
    "id": "xlbH9Wfy5ppn"
   },
   "source": [
    "### Preprocessing: distributing dots"
   ]
  },
  {
   "cell_type": "markdown",
   "metadata": {
    "id": "V0Pf3PSN5ppn"
   },
   "source": [
    "And here, we get a location for the dots:"
   ]
  },
  {
   "cell_type": "code",
   "execution_count": 116,
   "metadata": {
    "id": "i_tSLIbd5ppn"
   },
   "outputs": [],
   "source": [
    "# 2. Generate the random dot locations using .sample_points()\n",
    "justDots = justDots.sample_points(size=justDots['num_dots']).explode(index_parts=True)"
   ]
  },
  {
   "cell_type": "markdown",
   "metadata": {
    "id": "7cFJhKo0EmwL"
   },
   "source": [
    "You get this:"
   ]
  },
  {
   "cell_type": "code",
   "execution_count": 117,
   "metadata": {
    "colab": {
     "base_uri": "https://localhost:8080/",
     "height": 458
    },
    "id": "qE9aVnrqEmwL",
    "outputId": "8e24db9a-1efe-4465-977a-8220702236be"
   },
   "outputs": [
    {
     "data": {
      "text/plain": [
       "11   0     POINT (-72.21631 -49.87929)\n",
       "     1     POINT (-71.43596 -40.35735)\n",
       "     2     POINT (-71.30681 -51.09084)\n",
       "     3     POINT (-71.28395 -46.95679)\n",
       "     4     POINT (-70.93509 -41.47532)\n",
       "                      ...             \n",
       "213  60      POINT (-61.63873 7.00369)\n",
       "     61      POINT (-61.45428 9.18142)\n",
       "     62      POINT (-61.06868 9.01596)\n",
       "     63       POINT (-60.7779 5.00154)\n",
       "     64      POINT (-60.10211 8.54622)\n",
       "Name: sampled_points, Length: 924, dtype: geometry"
      ]
     },
     "execution_count": 117,
     "metadata": {},
     "output_type": "execute_result"
    }
   ],
   "source": [
    "justDots"
   ]
  },
  {
   "cell_type": "code",
   "execution_count": 118,
   "metadata": {
    "colab": {
     "base_uri": "https://localhost:8080/",
     "height": 186
    },
    "id": "PNwx4JbaEmwL",
    "outputId": "47888b01-3420-4621-9b2b-cf4b75b43624"
   },
   "outputs": [
    {
     "data": {
      "text/plain": [
       "geopandas.geoseries.GeoSeries"
      ]
     },
     "execution_count": 118,
     "metadata": {},
     "output_type": "execute_result"
    }
   ],
   "source": [
    "# what is it?\n",
    "type(justDots)"
   ]
  },
  {
   "cell_type": "markdown",
   "metadata": {
    "id": "9ayw6jYx5ppo"
   },
   "source": [
    "### Preprocessing: building GDF from GS"
   ]
  },
  {
   "cell_type": "markdown",
   "metadata": {
    "id": "9eBnrmsbEmwL"
   },
   "source": [
    "Notice the multi index (MI), one for a country and for a dot. As we are planing to send these points to R, we avoid MI:"
   ]
  },
  {
   "cell_type": "code",
   "execution_count": 119,
   "metadata": {
    "colab": {
     "base_uri": "https://localhost:8080/",
     "height": 423
    },
    "id": "2NDwWKB1EmwL",
    "outputId": "38638254-bdc4-42af-ecf5-2c83190b9ea7"
   },
   "outputs": [
    {
     "data": {
      "text/html": [
       "<div>\n",
       "<style scoped>\n",
       "    .dataframe tbody tr th:only-of-type {\n",
       "        vertical-align: middle;\n",
       "    }\n",
       "\n",
       "    .dataframe tbody tr th {\n",
       "        vertical-align: top;\n",
       "    }\n",
       "\n",
       "    .dataframe thead th {\n",
       "        text-align: right;\n",
       "    }\n",
       "</style>\n",
       "<table border=\"1\" class=\"dataframe\">\n",
       "  <thead>\n",
       "    <tr style=\"text-align: right;\">\n",
       "      <th></th>\n",
       "      <th>geometry</th>\n",
       "    </tr>\n",
       "  </thead>\n",
       "  <tbody>\n",
       "    <tr>\n",
       "      <th>0</th>\n",
       "      <td>POINT (-72.21631 -49.87929)</td>\n",
       "    </tr>\n",
       "    <tr>\n",
       "      <th>1</th>\n",
       "      <td>POINT (-71.43596 -40.35735)</td>\n",
       "    </tr>\n",
       "    <tr>\n",
       "      <th>2</th>\n",
       "      <td>POINT (-71.30681 -51.09084)</td>\n",
       "    </tr>\n",
       "    <tr>\n",
       "      <th>3</th>\n",
       "      <td>POINT (-71.28395 -46.95679)</td>\n",
       "    </tr>\n",
       "    <tr>\n",
       "      <th>4</th>\n",
       "      <td>POINT (-70.93509 -41.47532)</td>\n",
       "    </tr>\n",
       "    <tr>\n",
       "      <th>...</th>\n",
       "      <td>...</td>\n",
       "    </tr>\n",
       "    <tr>\n",
       "      <th>919</th>\n",
       "      <td>POINT (-61.63873 7.00369)</td>\n",
       "    </tr>\n",
       "    <tr>\n",
       "      <th>920</th>\n",
       "      <td>POINT (-61.45428 9.18142)</td>\n",
       "    </tr>\n",
       "    <tr>\n",
       "      <th>921</th>\n",
       "      <td>POINT (-61.06868 9.01596)</td>\n",
       "    </tr>\n",
       "    <tr>\n",
       "      <th>922</th>\n",
       "      <td>POINT (-60.7779 5.00154)</td>\n",
       "    </tr>\n",
       "    <tr>\n",
       "      <th>923</th>\n",
       "      <td>POINT (-60.10211 8.54622)</td>\n",
       "    </tr>\n",
       "  </tbody>\n",
       "</table>\n",
       "<p>924 rows × 1 columns</p>\n",
       "</div>"
      ],
      "text/plain": [
       "                        geometry\n",
       "0    POINT (-72.21631 -49.87929)\n",
       "1    POINT (-71.43596 -40.35735)\n",
       "2    POINT (-71.30681 -51.09084)\n",
       "3    POINT (-71.28395 -46.95679)\n",
       "4    POINT (-70.93509 -41.47532)\n",
       "..                           ...\n",
       "919    POINT (-61.63873 7.00369)\n",
       "920    POINT (-61.45428 9.18142)\n",
       "921    POINT (-61.06868 9.01596)\n",
       "922     POINT (-60.7779 5.00154)\n",
       "923    POINT (-60.10211 8.54622)\n",
       "\n",
       "[924 rows x 1 columns]"
      ]
     },
     "execution_count": 119,
     "metadata": {},
     "output_type": "execute_result"
    }
   ],
   "source": [
    "justDots.reset_index(drop=True, inplace=True)\n",
    "America_dots=gpd.GeoDataFrame(geometry=justDots)\n",
    "America_dots"
   ]
  },
  {
   "cell_type": "markdown",
   "metadata": {
    "id": "jQOz9Jov5ppo"
   },
   "source": [
    "Now you have a GDF:"
   ]
  },
  {
   "cell_type": "code",
   "execution_count": 120,
   "metadata": {
    "colab": {
     "base_uri": "https://localhost:8080/"
    },
    "id": "UKRcvavZEmwL",
    "outputId": "a9180f08-b78d-4b05-8924-69ef530c5be6"
   },
   "outputs": [
    {
     "name": "stdout",
     "output_type": "stream",
     "text": [
      "<class 'geopandas.geodataframe.GeoDataFrame'>\n",
      "RangeIndex: 924 entries, 0 to 923\n",
      "Data columns (total 1 columns):\n",
      " #   Column    Non-Null Count  Dtype   \n",
      "---  ------    --------------  -----   \n",
      " 0   geometry  924 non-null    geometry\n",
      "dtypes: geometry(1)\n",
      "memory usage: 7.3 KB\n"
     ]
    }
   ],
   "source": [
    "America_dots.info()"
   ]
  },
  {
   "cell_type": "markdown",
   "metadata": {
    "id": "6Uh0D2Np5ppo"
   },
   "source": [
    "Juts plot the polygons as the base, and the points as the layer on top!"
   ]
  },
  {
   "cell_type": "code",
   "execution_count": 121,
   "metadata": {
    "colab": {
     "base_uri": "https://localhost:8080/",
     "height": 447
    },
    "id": "fVM-tkhDEmwM",
    "outputId": "57e2308f-3cff-4d9f-bab9-30b5eecd4118"
   },
   "outputs": [
    {
     "data": {
      "text/plain": [
       "<Axes: >"
      ]
     },
     "execution_count": 121,
     "metadata": {},
     "output_type": "execute_result"
    },
    {
     "data": {
      "image/png": "[encoded data removed]",
      "text/plain": [
       "<Figure size 640x480 with 1 Axes>"
      ]
     },
     "metadata": {},
     "output_type": "display_data"
    }
   ],
   "source": [
    "base=America.plot(facecolor=\"white\",#color of polygon fill\n",
    "               edgecolor='grey') #color of border\n",
    "America_dots.plot(markersize=0.05, color='red',ax=base)"
   ]
  },
  {
   "cell_type": "markdown",
   "metadata": {
    "id": "6gdh237a5ppo"
   },
   "source": [
    "It is generally recommended that DDMs use an **equal-area projection**, which benefits density and limits area distortion."
   ]
  },
  {
   "cell_type": "code",
   "execution_count": 122,
   "metadata": {
    "colab": {
     "base_uri": "https://localhost:8080/",
     "height": 480
    },
    "id": "it4Vwf-55ppp",
    "outputId": "ef6cfc7a-2725-4599-b26c-92b6deaa69a6"
   },
   "outputs": [
    {
     "data": {
      "text/plain": [
       "<Axes: >"
      ]
     },
     "execution_count": 122,
     "metadata": {},
     "output_type": "execute_result"
    },
    {
     "data": {
      "image/png": "[encoded data removed]",
      "text/plain": [
       "<Figure size 640x480 with 1 Axes>"
      ]
     },
     "metadata": {},
     "output_type": "display_data"
    }
   ],
   "source": [
    "base=America.to_crs(8857).plot(facecolor=\"white\",\n",
    "                              edgecolor='grey')\n",
    "America_dots.to_crs(8857).plot(markersize=0.05, color='red',ax=base)"
   ]
  },
  {
   "cell_type": "markdown",
   "metadata": {
    "id": "rt_edd-v5ppp"
   },
   "source": [
    "Let's keep the continent countries with that crs:"
   ]
  },
  {
   "cell_type": "code",
   "execution_count": 123,
   "metadata": {
    "id": "UZviDEnl5ppp"
   },
   "outputs": [],
   "source": [
    "America_8857=America.to_crs(8857)\n",
    "America_dots_8857=America_dots.to_crs(8857)"
   ]
  },
  {
   "cell_type": "markdown",
   "metadata": {
    "id": "xsCqTQLj5ppp"
   },
   "source": [
    "# Thematics: the PSM (Proportional Symbol Map)\n",
    "\n",
    "You have a PSM if you use a symbol (generally a circle) to show the distribution of a variable per location.\n",
    "The symbol is an aggregated raw value, and its size varies according to those values. So now we need:"
   ]
  },
  {
   "cell_type": "markdown",
   "metadata": {
    "id": "ka5vdSNp5ppp"
   },
   "source": [
    "### Preprocessing: GDF of centroids\n",
    "\n",
    "1. A location for a symbol, generally the polygon centroid."
   ]
  },
  {
   "cell_type": "code",
   "execution_count": 124,
   "metadata": {
    "id": "rz9JQjro5ppp"
   },
   "outputs": [],
   "source": [
    "America_8857_centroids = America_8857.copy()\n",
    "\n",
    "# Africa_8857_centroids will have a new geometry:\n",
    "America_8857_centroids['geometry'] = America_8857_centroids['geometry'].centroid"
   ]
  },
  {
   "cell_type": "markdown",
   "metadata": {
    "id": "9JoqkeET5ppp"
   },
   "source": [
    "2. A size of varying values (not constant as in DDMs). Let's use population again."
   ]
  },
  {
   "cell_type": "code",
   "execution_count": 125,
   "metadata": {
    "id": "PA_2yR285ppp"
   },
   "outputs": [],
   "source": [
    "America_8857_centroids['size'] = America_8857_centroids[' deaths/1'].apply(lambda x: (x**0.5) * 20)\n",
    "\n",
    "## or\n",
    "# import numpy as np\n",
    "# Africa_8857_centroids['size'] = Africa_8857_centroids['population'].apply(lambda x: np.log10(x))"
   ]
  },
  {
   "cell_type": "markdown",
   "metadata": {
    "id": "LBrRi9_75ppp"
   },
   "source": [
    "We got the basics, then:"
   ]
  },
  {
   "cell_type": "code",
   "execution_count": 126,
   "metadata": {
    "colab": {
     "base_uri": "https://localhost:8080/",
     "height": 480
    },
    "id": "eHPTS0sm5ppq",
    "outputId": "3de79248-1abb-4f00-a56b-4e5d7e75660e"
   },
   "outputs": [
    {
     "data": {
      "text/plain": [
       "<Axes: >"
      ]
     },
     "execution_count": 126,
     "metadata": {},
     "output_type": "execute_result"
    },
    {
     "data": {
      "image/png": "[encoded data removed]",
      "text/plain": [
       "<Figure size 640x480 with 1 Axes>"
      ]
     },
     "metadata": {},
     "output_type": "display_data"
    }
   ],
   "source": [
    "base=America_8857.plot(facecolor=\"white\",\n",
    "                      edgecolor='grey')\n",
    "# Plot the centroids on top\n",
    "America_8857_centroids.plot(\n",
    "    ax=base,\n",
    "    markersize=America_8857_centroids['size'],\n",
    "    color='grey'\n",
    ")"
   ]
  },
  {
   "cell_type": "code",
   "execution_count": 162,
   "metadata": {
    "colab": {
     "base_uri": "https://localhost:8080/"
    },
    "id": "OSvQv1bb3CJJ",
    "outputId": "67229b44-ada3-4e5a-cafd-dbb8ee2b32ee"
   },
   "outputs": [
    {
     "name": "stdout",
     "output_type": "stream",
     "text": [
      "Requirement already satisfied: matplotlib in c:\\users\\david\\miniforge3\\lib\\site-packages (3.10.3)\n",
      "Requirement already satisfied: contourpy>=1.0.1 in c:\\users\\david\\miniforge3\\lib\\site-packages (from matplotlib) (1.3.2)\n",
      "Requirement already satisfied: cycler>=0.10 in c:\\users\\david\\miniforge3\\lib\\site-packages (from matplotlib) (0.12.1)\n",
      "Requirement already satisfied: fonttools>=4.22.0 in c:\\users\\david\\miniforge3\\lib\\site-packages (from matplotlib) (4.58.4)\n",
      "Requirement already satisfied: kiwisolver>=1.3.1 in c:\\users\\david\\miniforge3\\lib\\site-packages (from matplotlib) (1.4.8)\n",
      "Requirement already satisfied: numpy>=1.23 in c:\\users\\david\\miniforge3\\lib\\site-packages (from matplotlib) (2.3.0)\n",
      "Requirement already satisfied: packaging>=20.0 in c:\\users\\david\\miniforge3\\lib\\site-packages (from matplotlib) (24.1)\n",
      "Requirement already satisfied: pillow>=8 in c:\\users\\david\\miniforge3\\lib\\site-packages (from matplotlib) (11.2.1)\n",
      "Requirement already satisfied: pyparsing>=2.3.1 in c:\\users\\david\\miniforge3\\lib\\site-packages (from matplotlib) (3.2.4)\n",
      "Requirement already satisfied: python-dateutil>=2.7 in c:\\users\\david\\miniforge3\\lib\\site-packages (from matplotlib) (2.9.0.post0)\n",
      "Requirement already satisfied: six>=1.5 in c:\\users\\david\\miniforge3\\lib\\site-packages (from python-dateutil>=2.7->matplotlib) (1.17.0)\n",
      "Note: you may need to restart the kernel to use updated packages.\n"
     ]
    }
   ],
   "source": [
    "%pip install --user matplotlib"
   ]
  },
  {
   "cell_type": "code",
   "execution_count": 163,
   "metadata": {
    "colab": {
     "base_uri": "https://localhost:8080/"
    },
    "id": "af7F73b53BzW",
    "outputId": "f2510c54-195e-4587-a60b-d0eadc3d78f5"
   },
   "outputs": [
    {
     "name": "stdout",
     "output_type": "stream",
     "text": [
      "Requirement already satisfied: mapclassify in c:\\users\\david\\miniforge3\\lib\\site-packages (2.10.0)\n",
      "Requirement already satisfied: networkx>=3.2 in c:\\users\\david\\miniforge3\\lib\\site-packages (from mapclassify) (3.5)\n",
      "Requirement already satisfied: numpy>=1.26 in c:\\users\\david\\miniforge3\\lib\\site-packages (from mapclassify) (2.3.0)\n",
      "Requirement already satisfied: pandas>=2.1 in c:\\users\\david\\miniforge3\\lib\\site-packages (from mapclassify) (2.3.0)\n",
      "Requirement already satisfied: scikit-learn>=1.4 in c:\\users\\david\\miniforge3\\lib\\site-packages (from mapclassify) (1.7.0)\n",
      "Requirement already satisfied: scipy>=1.12 in c:\\users\\david\\miniforge3\\lib\\site-packages (from mapclassify) (1.15.2)\n",
      "Requirement already satisfied: python-dateutil>=2.8.2 in c:\\users\\david\\miniforge3\\lib\\site-packages (from pandas>=2.1->mapclassify) (2.9.0.post0)\n",
      "Requirement already satisfied: pytz>=2020.1 in c:\\users\\david\\miniforge3\\lib\\site-packages (from pandas>=2.1->mapclassify) (2025.2)\n",
      "Requirement already satisfied: tzdata>=2022.7 in c:\\users\\david\\miniforge3\\lib\\site-packages (from pandas>=2.1->mapclassify) (2025.2)\n",
      "Requirement already satisfied: joblib>=1.2.0 in c:\\users\\david\\miniforge3\\lib\\site-packages (from scikit-learn>=1.4->mapclassify) (1.5.2)\n",
      "Requirement already satisfied: threadpoolctl>=3.1.0 in c:\\users\\david\\miniforge3\\lib\\site-packages (from scikit-learn>=1.4->mapclassify) (3.6.0)\n",
      "Requirement already satisfied: six>=1.5 in c:\\users\\david\\miniforge3\\lib\\site-packages (from python-dateutil>=2.8.2->pandas>=2.1->mapclassify) (1.17.0)\n",
      "Note: you may need to restart the kernel to use updated packages.\n"
     ]
    }
   ],
   "source": [
    "%pip install --user mapclassify"
   ]
  },
  {
   "cell_type": "code",
   "execution_count": 164,
   "metadata": {
    "colab": {
     "base_uri": "https://localhost:8080/"
    },
    "id": "u_tBlk7v3NPS",
    "outputId": "fda7f6bb-39d1-4e8d-c5c0-9e44e60e8bcc"
   },
   "outputs": [
    {
     "name": "stdout",
     "output_type": "stream",
     "text": [
      "Note: you may need to restart the kernel to use updated packages.\n"
     ]
    }
   ],
   "source": [
    "%pip install --user folium>=0.12\" matplotlib mapclassify"
   ]
  },
  {
   "cell_type": "markdown",
   "metadata": {
    "id": "fnJPn-Ca7twP"
   },
   "source": [
    "Keep in mind that the standard way of computing centroids may bring some trouble. Let´s plot Seychelles:"
   ]
  },
  {
   "cell_type": "code",
   "execution_count": 130,
   "metadata": {
    "colab": {
     "base_uri": "https://localhost:8080/",
     "height": 913
    },
    "id": "skA3Y7YZ7twP",
    "outputId": "1cf70c2e-f952-4cfc-fbe8-0f519ec1db8f"
   },
   "outputs": [
    {
     "name": "stderr",
     "output_type": "stream",
     "text": [
      "C:\\Users\\david\\AppData\\Local\\Temp\\ipykernel_28204\\1862418379.py:1: UserWarning: The GeoSeries you are attempting to plot is composed of empty geometries. Nothing has been displayed.\n",
      "  base=America_8857[America_8857.name==\"SEYCHELLES\"].explore()\n",
      "C:\\Users\\david\\AppData\\Local\\Temp\\ipykernel_28204\\1862418379.py:2: UserWarning: The GeoSeries you are attempting to plot is composed of empty geometries. Nothing has been displayed.\n",
      "  America_8857_centroids[America_8857_centroids.name==\"SEYCHELLES\"].explore(m=base,color=\"red\")\n"
     ]
    },
    {
     "data": {
      "text/html": [
       "<div style=\"width:100%;\"><div style=\"position:relative;width:100%;height:0;padding-bottom:60%;\"><span style=\"color:#565656\">Make this Notebook Trusted to load map: File -> Trust Notebook</span><iframe srcdoc=\"&lt;!DOCTYPE html&gt;\n",
       "&lt;html&gt;\n",
       "&lt;head&gt;\n",
       "    \n",
       "    &lt;meta http-equiv=&quot;content-type&quot; content=&quot;text/html; charset=UTF-8&quot; /&gt;\n",
       "    &lt;script src=&quot;https://cdn.jsdelivr.net/npm/leaflet@1.9.3/dist/leaflet.js&quot;&gt;&lt;/script&gt;\n",
       "    &lt;script src=&quot;https://code.jquery.com/jquery-3.7.1.min.js&quot;&gt;&lt;/script&gt;\n",
       "    &lt;script src=&quot;https://cdn.jsdelivr.net/npm/bootstrap@5.2.2/dist/js/bootstrap.bundle.min.js&quot;&gt;&lt;/script&gt;\n",
       "    &lt;script src=&quot;https://cdnjs.cloudflare.com/ajax/libs/Leaflet.awesome-markers/2.0.2/leaflet.awesome-markers.js&quot;&gt;&lt;/script&gt;\n",
       "    &lt;link rel=&quot;stylesheet&quot; href=&quot;https://cdn.jsdelivr.net/npm/leaflet@1.9.3/dist/leaflet.css&quot;/&gt;\n",
       "    &lt;link rel=&quot;stylesheet&quot; href=&quot;https://cdn.jsdelivr.net/npm/bootstrap@5.2.2/dist/css/bootstrap.min.css&quot;/&gt;\n",
       "    &lt;link rel=&quot;stylesheet&quot; href=&quot;https://netdna.bootstrapcdn.com/bootstrap/3.0.0/css/bootstrap-glyphicons.css&quot;/&gt;\n",
       "    &lt;link rel=&quot;stylesheet&quot; href=&quot;https://cdn.jsdelivr.net/npm/@fortawesome/fontawesome-free@6.2.0/css/all.min.css&quot;/&gt;\n",
       "    &lt;link rel=&quot;stylesheet&quot; href=&quot;https://cdnjs.cloudflare.com/ajax/libs/Leaflet.awesome-markers/2.0.2/leaflet.awesome-markers.css&quot;/&gt;\n",
       "    &lt;link rel=&quot;stylesheet&quot; href=&quot;https://cdn.jsdelivr.net/gh/python-visualization/folium/folium/templates/leaflet.awesome.rotate.min.css&quot;/&gt;\n",
       "    \n",
       "            &lt;meta name=&quot;viewport&quot; content=&quot;width=device-width,\n",
       "                initial-scale=1.0, maximum-scale=1.0, user-scalable=no&quot; /&gt;\n",
       "            &lt;style&gt;\n",
       "                #map_4a44e7a2422c7fc82ea51caf69629c6b {\n",
       "                    position: relative;\n",
       "                    width: 100.0%;\n",
       "                    height: 100.0%;\n",
       "                    left: 0.0%;\n",
       "                    top: 0.0%;\n",
       "                }\n",
       "                .leaflet-container { font-size: 1rem; }\n",
       "            &lt;/style&gt;\n",
       "\n",
       "            &lt;style&gt;html, body {\n",
       "                width: 100%;\n",
       "                height: 100%;\n",
       "                margin: 0;\n",
       "                padding: 0;\n",
       "            }\n",
       "            &lt;/style&gt;\n",
       "\n",
       "            &lt;style&gt;#map {\n",
       "                position:absolute;\n",
       "                top:0;\n",
       "                bottom:0;\n",
       "                right:0;\n",
       "                left:0;\n",
       "                }\n",
       "            &lt;/style&gt;\n",
       "\n",
       "            &lt;script&gt;\n",
       "                L_NO_TOUCH = false;\n",
       "                L_DISABLE_3D = false;\n",
       "            &lt;/script&gt;\n",
       "\n",
       "        \n",
       "&lt;/head&gt;\n",
       "&lt;body&gt;\n",
       "    \n",
       "    \n",
       "            &lt;div class=&quot;folium-map&quot; id=&quot;map_4a44e7a2422c7fc82ea51caf69629c6b&quot; &gt;&lt;/div&gt;\n",
       "        \n",
       "&lt;/body&gt;\n",
       "&lt;script&gt;\n",
       "    \n",
       "    \n",
       "            var map_4a44e7a2422c7fc82ea51caf69629c6b = L.map(\n",
       "                &quot;map_4a44e7a2422c7fc82ea51caf69629c6b&quot;,\n",
       "                {\n",
       "                    center: [0.0, 0.0],\n",
       "                    crs: L.CRS.EPSG3857,\n",
       "                    ...{\n",
       "  &quot;zoom&quot;: 1,\n",
       "  &quot;zoomControl&quot;: true,\n",
       "  &quot;preferCanvas&quot;: false,\n",
       "}\n",
       "\n",
       "                }\n",
       "            );\n",
       "            L.control.scale().addTo(map_4a44e7a2422c7fc82ea51caf69629c6b);\n",
       "\n",
       "            \n",
       "\n",
       "        \n",
       "    \n",
       "            var tile_layer_1f678c61c168ceeddca2c2fcdf9eecee = L.tileLayer(\n",
       "                &quot;https://tile.openstreetmap.org/{z}/{x}/{y}.png&quot;,\n",
       "                {\n",
       "  &quot;minZoom&quot;: 0,\n",
       "  &quot;maxZoom&quot;: 19,\n",
       "  &quot;maxNativeZoom&quot;: 19,\n",
       "  &quot;noWrap&quot;: false,\n",
       "  &quot;attribution&quot;: &quot;\\u0026copy; \\u003ca href=\\&quot;https://www.openstreetmap.org/copyright\\&quot;\\u003eOpenStreetMap\\u003c/a\\u003e contributors&quot;,\n",
       "  &quot;subdomains&quot;: &quot;abc&quot;,\n",
       "  &quot;detectRetina&quot;: false,\n",
       "  &quot;tms&quot;: false,\n",
       "  &quot;opacity&quot;: 1,\n",
       "}\n",
       "\n",
       "            );\n",
       "        \n",
       "    \n",
       "            tile_layer_1f678c61c168ceeddca2c2fcdf9eecee.addTo(map_4a44e7a2422c7fc82ea51caf69629c6b);\n",
       "        \n",
       "&lt;/script&gt;\n",
       "&lt;/html&gt;\" style=\"position:absolute;width:100%;height:100%;left:0;top:0;border:none !important;\" allowfullscreen webkitallowfullscreen mozallowfullscreen></iframe></div></div>"
      ],
      "text/plain": [
       "<folium.folium.Map at 0x1513fdb03e0>"
      ]
     },
     "execution_count": 130,
     "metadata": {},
     "output_type": "execute_result"
    }
   ],
   "source": [
    "base=America_8857[America_8857.name==\"SEYCHELLES\"].explore()\n",
    "America_8857_centroids[America_8857_centroids.name==\"SEYCHELLES\"].explore(m=base,color=\"red\")"
   ]
  },
  {
   "cell_type": "markdown",
   "metadata": {
    "id": "Xhi8CXLn7twP"
   },
   "source": [
    "A good alternative to centroids is representative_point() when dealing with complex multipolygons."
   ]
  },
  {
   "cell_type": "code",
   "execution_count": 131,
   "metadata": {
    "id": "lNHypuch7twP"
   },
   "outputs": [],
   "source": [
    "# replace the points\n",
    "America_8857_centroids[\"geometry\"]=America_8857.representative_point()"
   ]
  },
  {
   "cell_type": "markdown",
   "metadata": {
    "id": "M9TvDu0g7twP"
   },
   "source": [
    "We will keep that last result."
   ]
  },
  {
   "cell_type": "code",
   "execution_count": 132,
   "metadata": {
    "colab": {
     "base_uri": "https://localhost:8080/",
     "height": 913
    },
    "id": "roJFMEyA7twQ",
    "outputId": "e7eee6e2-f4e3-4343-9396-64ccf7e9a8fc"
   },
   "outputs": [
    {
     "name": "stderr",
     "output_type": "stream",
     "text": [
      "C:\\Users\\david\\AppData\\Local\\Temp\\ipykernel_28204\\1862418379.py:1: UserWarning: The GeoSeries you are attempting to plot is composed of empty geometries. Nothing has been displayed.\n",
      "  base=America_8857[America_8857.name==\"SEYCHELLES\"].explore()\n",
      "C:\\Users\\david\\AppData\\Local\\Temp\\ipykernel_28204\\1862418379.py:2: UserWarning: The GeoSeries you are attempting to plot is composed of empty geometries. Nothing has been displayed.\n",
      "  America_8857_centroids[America_8857_centroids.name==\"SEYCHELLES\"].explore(m=base,color=\"red\")\n"
     ]
    },
    {
     "data": {
      "text/html": [
       "<div style=\"width:100%;\"><div style=\"position:relative;width:100%;height:0;padding-bottom:60%;\"><span style=\"color:#565656\">Make this Notebook Trusted to load map: File -> Trust Notebook</span><iframe srcdoc=\"&lt;!DOCTYPE html&gt;\n",
       "&lt;html&gt;\n",
       "&lt;head&gt;\n",
       "    \n",
       "    &lt;meta http-equiv=&quot;content-type&quot; content=&quot;text/html; charset=UTF-8&quot; /&gt;\n",
       "    &lt;script src=&quot;https://cdn.jsdelivr.net/npm/leaflet@1.9.3/dist/leaflet.js&quot;&gt;&lt;/script&gt;\n",
       "    &lt;script src=&quot;https://code.jquery.com/jquery-3.7.1.min.js&quot;&gt;&lt;/script&gt;\n",
       "    &lt;script src=&quot;https://cdn.jsdelivr.net/npm/bootstrap@5.2.2/dist/js/bootstrap.bundle.min.js&quot;&gt;&lt;/script&gt;\n",
       "    &lt;script src=&quot;https://cdnjs.cloudflare.com/ajax/libs/Leaflet.awesome-markers/2.0.2/leaflet.awesome-markers.js&quot;&gt;&lt;/script&gt;\n",
       "    &lt;link rel=&quot;stylesheet&quot; href=&quot;https://cdn.jsdelivr.net/npm/leaflet@1.9.3/dist/leaflet.css&quot;/&gt;\n",
       "    &lt;link rel=&quot;stylesheet&quot; href=&quot;https://cdn.jsdelivr.net/npm/bootstrap@5.2.2/dist/css/bootstrap.min.css&quot;/&gt;\n",
       "    &lt;link rel=&quot;stylesheet&quot; href=&quot;https://netdna.bootstrapcdn.com/bootstrap/3.0.0/css/bootstrap-glyphicons.css&quot;/&gt;\n",
       "    &lt;link rel=&quot;stylesheet&quot; href=&quot;https://cdn.jsdelivr.net/npm/@fortawesome/fontawesome-free@6.2.0/css/all.min.css&quot;/&gt;\n",
       "    &lt;link rel=&quot;stylesheet&quot; href=&quot;https://cdnjs.cloudflare.com/ajax/libs/Leaflet.awesome-markers/2.0.2/leaflet.awesome-markers.css&quot;/&gt;\n",
       "    &lt;link rel=&quot;stylesheet&quot; href=&quot;https://cdn.jsdelivr.net/gh/python-visualization/folium/folium/templates/leaflet.awesome.rotate.min.css&quot;/&gt;\n",
       "    \n",
       "            &lt;meta name=&quot;viewport&quot; content=&quot;width=device-width,\n",
       "                initial-scale=1.0, maximum-scale=1.0, user-scalable=no&quot; /&gt;\n",
       "            &lt;style&gt;\n",
       "                #map_20ef63b0b45e74b3ac68a07d5958fcf6 {\n",
       "                    position: relative;\n",
       "                    width: 100.0%;\n",
       "                    height: 100.0%;\n",
       "                    left: 0.0%;\n",
       "                    top: 0.0%;\n",
       "                }\n",
       "                .leaflet-container { font-size: 1rem; }\n",
       "            &lt;/style&gt;\n",
       "\n",
       "            &lt;style&gt;html, body {\n",
       "                width: 100%;\n",
       "                height: 100%;\n",
       "                margin: 0;\n",
       "                padding: 0;\n",
       "            }\n",
       "            &lt;/style&gt;\n",
       "\n",
       "            &lt;style&gt;#map {\n",
       "                position:absolute;\n",
       "                top:0;\n",
       "                bottom:0;\n",
       "                right:0;\n",
       "                left:0;\n",
       "                }\n",
       "            &lt;/style&gt;\n",
       "\n",
       "            &lt;script&gt;\n",
       "                L_NO_TOUCH = false;\n",
       "                L_DISABLE_3D = false;\n",
       "            &lt;/script&gt;\n",
       "\n",
       "        \n",
       "&lt;/head&gt;\n",
       "&lt;body&gt;\n",
       "    \n",
       "    \n",
       "            &lt;div class=&quot;folium-map&quot; id=&quot;map_20ef63b0b45e74b3ac68a07d5958fcf6&quot; &gt;&lt;/div&gt;\n",
       "        \n",
       "&lt;/body&gt;\n",
       "&lt;script&gt;\n",
       "    \n",
       "    \n",
       "            var map_20ef63b0b45e74b3ac68a07d5958fcf6 = L.map(\n",
       "                &quot;map_20ef63b0b45e74b3ac68a07d5958fcf6&quot;,\n",
       "                {\n",
       "                    center: [0.0, 0.0],\n",
       "                    crs: L.CRS.EPSG3857,\n",
       "                    ...{\n",
       "  &quot;zoom&quot;: 1,\n",
       "  &quot;zoomControl&quot;: true,\n",
       "  &quot;preferCanvas&quot;: false,\n",
       "}\n",
       "\n",
       "                }\n",
       "            );\n",
       "            L.control.scale().addTo(map_20ef63b0b45e74b3ac68a07d5958fcf6);\n",
       "\n",
       "            \n",
       "\n",
       "        \n",
       "    \n",
       "            var tile_layer_d4b41a97d40038ae22e4dfc9a5ae4201 = L.tileLayer(\n",
       "                &quot;https://tile.openstreetmap.org/{z}/{x}/{y}.png&quot;,\n",
       "                {\n",
       "  &quot;minZoom&quot;: 0,\n",
       "  &quot;maxZoom&quot;: 19,\n",
       "  &quot;maxNativeZoom&quot;: 19,\n",
       "  &quot;noWrap&quot;: false,\n",
       "  &quot;attribution&quot;: &quot;\\u0026copy; \\u003ca href=\\&quot;https://www.openstreetmap.org/copyright\\&quot;\\u003eOpenStreetMap\\u003c/a\\u003e contributors&quot;,\n",
       "  &quot;subdomains&quot;: &quot;abc&quot;,\n",
       "  &quot;detectRetina&quot;: false,\n",
       "  &quot;tms&quot;: false,\n",
       "  &quot;opacity&quot;: 1,\n",
       "}\n",
       "\n",
       "            );\n",
       "        \n",
       "    \n",
       "            tile_layer_d4b41a97d40038ae22e4dfc9a5ae4201.addTo(map_20ef63b0b45e74b3ac68a07d5958fcf6);\n",
       "        \n",
       "&lt;/script&gt;\n",
       "&lt;/html&gt;\" style=\"position:absolute;width:100%;height:100%;left:0;top:0;border:none !important;\" allowfullscreen webkitallowfullscreen mozallowfullscreen></iframe></div></div>"
      ],
      "text/plain": [
       "<folium.folium.Map at 0x15142c44590>"
      ]
     },
     "execution_count": 132,
     "metadata": {},
     "output_type": "execute_result"
    }
   ],
   "source": [
    "base=America_8857[America_8857.name==\"SEYCHELLES\"].explore()\n",
    "America_8857_centroids[America_8857_centroids.name==\"SEYCHELLES\"].explore(m=base,color=\"red\")"
   ]
  },
  {
   "cell_type": "markdown",
   "metadata": {
    "id": "7slzbJtU5ppq"
   },
   "source": [
    "### Preprocessing: Computing new columns\n",
    "\n",
    "PPMs are not thematic maps to see precise values, but to reveal clear differences on the variable distribution used. As, human eyes are very limited to detect area differences, we may need to use some other tactics to help uncover some patterns.\n",
    "\n",
    "For example, let's confirm if we have outliers:"
   ]
  },
  {
   "cell_type": "code",
   "execution_count": 133,
   "metadata": {
    "colab": {
     "base_uri": "https://localhost:8080/",
     "height": 430
    },
    "id": "m55ZDpl85ppq",
    "outputId": "ae4b9c6f-37fc-4d52-f49b-5a8ab5e00595"
   },
   "outputs": [
    {
     "data": {
      "image/png": "[encoded data removed]",
      "text/plain": [
       "<Figure size 640x480 with 1 Axes>"
      ]
     },
     "metadata": {},
     "output_type": "display_data"
    }
   ],
   "source": [
    "boxplotInfo=America_8857_centroids.boxplot(column=' deaths/1',return_type=\"dict\")"
   ]
  },
  {
   "cell_type": "markdown",
   "metadata": {
    "id": "QGPhtQvV5ppq"
   },
   "source": [
    "The object **boxplotInfo** showed the boxplot, and we confirm there are outliers. We can recover them like this:"
   ]
  },
  {
   "cell_type": "code",
   "execution_count": 134,
   "metadata": {
    "colab": {
     "base_uri": "https://localhost:8080/"
    },
    "id": "Mt05cDL_5ppq",
    "outputId": "b183ecf3-16ad-499a-bff7-2b933a46b9c3"
   },
   "outputs": [
    {
     "data": {
      "text/plain": [
       "array([4.9, 4.9, 10.9, 9.1], dtype=object)"
      ]
     },
     "execution_count": 134,
     "metadata": {},
     "output_type": "execute_result"
    }
   ],
   "source": [
    "outliers=boxplotInfo['fliers'][0].get_ydata()\n",
    "## see\n",
    "outliers"
   ]
  },
  {
   "cell_type": "markdown",
   "metadata": {
    "id": "1zHyd5BE5ppq"
   },
   "source": [
    "Then, these are the outlying countries:"
   ]
  },
  {
   "cell_type": "code",
   "execution_count": 135,
   "metadata": {
    "colab": {
     "base_uri": "https://localhost:8080/",
     "height": 175
    },
    "id": "IOj-PSyX5ppq",
    "outputId": "1b4b6616-a9ad-40b0-eadd-feec8e1bc427"
   },
   "outputs": [
    {
     "data": {
      "text/html": [
       "<div>\n",
       "<style scoped>\n",
       "    .dataframe tbody tr th:only-of-type {\n",
       "        vertical-align: middle;\n",
       "    }\n",
       "\n",
       "    .dataframe tbody tr th {\n",
       "        vertical-align: top;\n",
       "    }\n",
       "\n",
       "    .dataframe thead th {\n",
       "        text-align: right;\n",
       "    }\n",
       "</style>\n",
       "<table border=\"1\" class=\"dataframe\">\n",
       "  <thead>\n",
       "    <tr style=\"text-align: right;\">\n",
       "      <th></th>\n",
       "      <th>name</th>\n",
       "      <th>geometry</th>\n",
       "      <th>slug</th>\n",
       "      <th>deaths/1</th>\n",
       "      <th>000 population</th>\n",
       "      <th>date_of_information</th>\n",
       "      <th>ranking</th>\n",
       "      <th>region</th>\n",
       "      <th>size</th>\n",
       "    </tr>\n",
       "  </thead>\n",
       "  <tbody>\n",
       "    <tr>\n",
       "      <th>154</th>\n",
       "      <td>Paraguay</td>\n",
       "      <td>POINT (-5383797.6 -2964049.838)</td>\n",
       "      <td>paraguay</td>\n",
       "      <td>4.9</td>\n",
       "      <td>2024</td>\n",
       "      <td>196</td>\n",
       "      <td>South America</td>\n",
       "      <td>NaN</td>\n",
       "      <td>44.271887</td>\n",
       "    </tr>\n",
       "    <tr>\n",
       "      <th>155</th>\n",
       "      <td>Pitcairn Islands (UK)</td>\n",
       "      <td>POINT (-11769531.111 -3084092.814)</td>\n",
       "      <td>falkland-islands-islas-malvinas</td>\n",
       "      <td>4.9</td>\n",
       "      <td>2012</td>\n",
       "      <td>201</td>\n",
       "      <td>South America</td>\n",
       "      <td>NaN</td>\n",
       "      <td>44.271887</td>\n",
       "    </tr>\n",
       "    <tr>\n",
       "      <th>156</th>\n",
       "      <td>Peru</td>\n",
       "      <td>POINT (-7214274.314 -1170745.732)</td>\n",
       "      <td>peru</td>\n",
       "      <td>10.9</td>\n",
       "      <td>2024</td>\n",
       "      <td>26</td>\n",
       "      <td>South America</td>\n",
       "      <td>NaN</td>\n",
       "      <td>66.030296</td>\n",
       "    </tr>\n",
       "    <tr>\n",
       "      <th>210</th>\n",
       "      <td>Uruguay</td>\n",
       "      <td>POINT (-4944550.554 -4064051.998)</td>\n",
       "      <td>uruguay</td>\n",
       "      <td>9.1</td>\n",
       "      <td>2024</td>\n",
       "      <td>57</td>\n",
       "      <td>South America</td>\n",
       "      <td>NaN</td>\n",
       "      <td>60.332413</td>\n",
       "    </tr>\n",
       "  </tbody>\n",
       "</table>\n",
       "</div>"
      ],
      "text/plain": [
       "                      name                            geometry  \\\n",
       "154               Paraguay     POINT (-5383797.6 -2964049.838)   \n",
       "155  Pitcairn Islands (UK)  POINT (-11769531.111 -3084092.814)   \n",
       "156                   Peru   POINT (-7214274.314 -1170745.732)   \n",
       "210                Uruguay   POINT (-4944550.554 -4064051.998)   \n",
       "\n",
       "                                slug   deaths/1  000 population  \\\n",
       "154                         paraguay        4.9            2024   \n",
       "155  falkland-islands-islas-malvinas        4.9            2012   \n",
       "156                             peru       10.9            2024   \n",
       "210                          uruguay        9.1            2024   \n",
       "\n",
       "     date_of_information        ranking  region       size  \n",
       "154                  196  South America     NaN  44.271887  \n",
       "155                  201  South America     NaN  44.271887  \n",
       "156                   26  South America     NaN  66.030296  \n",
       "210                   57  South America     NaN  60.332413  "
      ]
     },
     "execution_count": 135,
     "metadata": {},
     "output_type": "execute_result"
    }
   ],
   "source": [
    "America_8857_centroids[America_8857_centroids[' deaths/1'].isin(outliers)]\n"
   ]
  },
  {
   "cell_type": "markdown",
   "metadata": {
    "id": "-vMHxIQ55ppq"
   },
   "source": [
    "Knowing this information, we can create a column as outlier flag:"
   ]
  },
  {
   "cell_type": "code",
   "execution_count": 136,
   "metadata": {
    "colab": {
     "base_uri": "https://localhost:8080/",
     "height": 700
    },
    "id": "sr7R33B35ppq",
    "outputId": "6d7211b7-371f-4e1c-895f-b4a4dc56b832"
   },
   "outputs": [
    {
     "data": {
      "text/html": [
       "<div>\n",
       "<style scoped>\n",
       "    .dataframe tbody tr th:only-of-type {\n",
       "        vertical-align: middle;\n",
       "    }\n",
       "\n",
       "    .dataframe tbody tr th {\n",
       "        vertical-align: top;\n",
       "    }\n",
       "\n",
       "    .dataframe thead th {\n",
       "        text-align: right;\n",
       "    }\n",
       "</style>\n",
       "<table border=\"1\" class=\"dataframe\">\n",
       "  <thead>\n",
       "    <tr style=\"text-align: right;\">\n",
       "      <th></th>\n",
       "      <th>name</th>\n",
       "      <th>geometry</th>\n",
       "      <th>slug</th>\n",
       "      <th>deaths/1</th>\n",
       "      <th>000 population</th>\n",
       "      <th>date_of_information</th>\n",
       "      <th>ranking</th>\n",
       "      <th>region</th>\n",
       "      <th>size</th>\n",
       "      <th>population_outlier</th>\n",
       "    </tr>\n",
       "  </thead>\n",
       "  <tbody>\n",
       "    <tr>\n",
       "      <th>11</th>\n",
       "      <td>Argentina</td>\n",
       "      <td>POINT (-5553772.712 -4493827.822)</td>\n",
       "      <td>argentina</td>\n",
       "      <td>7.3</td>\n",
       "      <td>2024</td>\n",
       "      <td>107</td>\n",
       "      <td>South America</td>\n",
       "      <td>NaN</td>\n",
       "      <td>54.037024</td>\n",
       "      <td>0</td>\n",
       "    </tr>\n",
       "    <tr>\n",
       "      <th>25</th>\n",
       "      <td>Bolivia</td>\n",
       "      <td>POINT (-6065512.507 -2073238.575)</td>\n",
       "      <td>bolivia</td>\n",
       "      <td>6.6</td>\n",
       "      <td>2024</td>\n",
       "      <td>130</td>\n",
       "      <td>South America</td>\n",
       "      <td>NaN</td>\n",
       "      <td>51.380930</td>\n",
       "      <td>0</td>\n",
       "    </tr>\n",
       "    <tr>\n",
       "      <th>30</th>\n",
       "      <td>Brazil</td>\n",
       "      <td>POINT (-4700709.502 -1764170.762)</td>\n",
       "      <td>brazil</td>\n",
       "      <td>7.0</td>\n",
       "      <td>2024</td>\n",
       "      <td>119</td>\n",
       "      <td>South America</td>\n",
       "      <td>NaN</td>\n",
       "      <td>52.915026</td>\n",
       "      <td>0</td>\n",
       "    </tr>\n",
       "    <tr>\n",
       "      <th>43</th>\n",
       "      <td>Chile</td>\n",
       "      <td>POINT (-6234313.161 -4304799.911)</td>\n",
       "      <td>chile</td>\n",
       "      <td>6.6</td>\n",
       "      <td>2024</td>\n",
       "      <td>133</td>\n",
       "      <td>South America</td>\n",
       "      <td>NaN</td>\n",
       "      <td>51.380930</td>\n",
       "      <td>0</td>\n",
       "    </tr>\n",
       "    <tr>\n",
       "      <th>48</th>\n",
       "      <td>Colombia</td>\n",
       "      <td>POINT (-6936232.356 525486.665)</td>\n",
       "      <td>colombia</td>\n",
       "      <td>8.0</td>\n",
       "      <td>2024</td>\n",
       "      <td>91</td>\n",
       "      <td>South America</td>\n",
       "      <td>NaN</td>\n",
       "      <td>56.568542</td>\n",
       "      <td>0</td>\n",
       "    </tr>\n",
       "    <tr>\n",
       "      <th>60</th>\n",
       "      <td>Ecuador</td>\n",
       "      <td>POINT (-7496744.998 -227636.718)</td>\n",
       "      <td>ecuador</td>\n",
       "      <td>7.2</td>\n",
       "      <td>2024</td>\n",
       "      <td>113</td>\n",
       "      <td>South America</td>\n",
       "      <td>NaN</td>\n",
       "      <td>53.665631</td>\n",
       "      <td>0</td>\n",
       "    </tr>\n",
       "    <tr>\n",
       "      <th>89</th>\n",
       "      <td>Guyana</td>\n",
       "      <td>POINT (-5636237.099 628135.992)</td>\n",
       "      <td>guyana</td>\n",
       "      <td>7.0</td>\n",
       "      <td>2024</td>\n",
       "      <td>122</td>\n",
       "      <td>South America</td>\n",
       "      <td>NaN</td>\n",
       "      <td>52.915026</td>\n",
       "      <td>0</td>\n",
       "    </tr>\n",
       "    <tr>\n",
       "      <th>151</th>\n",
       "      <td>Suriname</td>\n",
       "      <td>POINT (-5370305.407 503625.945)</td>\n",
       "      <td>suriname</td>\n",
       "      <td>6.7</td>\n",
       "      <td>2024</td>\n",
       "      <td>129</td>\n",
       "      <td>South America</td>\n",
       "      <td>NaN</td>\n",
       "      <td>51.768716</td>\n",
       "      <td>0</td>\n",
       "    </tr>\n",
       "    <tr>\n",
       "      <th>154</th>\n",
       "      <td>Paraguay</td>\n",
       "      <td>POINT (-5383797.6 -2964049.838)</td>\n",
       "      <td>paraguay</td>\n",
       "      <td>4.9</td>\n",
       "      <td>2024</td>\n",
       "      <td>196</td>\n",
       "      <td>South America</td>\n",
       "      <td>NaN</td>\n",
       "      <td>44.271887</td>\n",
       "      <td>1</td>\n",
       "    </tr>\n",
       "    <tr>\n",
       "      <th>155</th>\n",
       "      <td>Pitcairn Islands (UK)</td>\n",
       "      <td>POINT (-11769531.111 -3084092.814)</td>\n",
       "      <td>falkland-islands-islas-malvinas</td>\n",
       "      <td>4.9</td>\n",
       "      <td>2012</td>\n",
       "      <td>201</td>\n",
       "      <td>South America</td>\n",
       "      <td>NaN</td>\n",
       "      <td>44.271887</td>\n",
       "      <td>1</td>\n",
       "    </tr>\n",
       "    <tr>\n",
       "      <th>156</th>\n",
       "      <td>Peru</td>\n",
       "      <td>POINT (-7214274.314 -1170745.732)</td>\n",
       "      <td>peru</td>\n",
       "      <td>10.9</td>\n",
       "      <td>2024</td>\n",
       "      <td>26</td>\n",
       "      <td>South America</td>\n",
       "      <td>NaN</td>\n",
       "      <td>66.030296</td>\n",
       "      <td>1</td>\n",
       "    </tr>\n",
       "    <tr>\n",
       "      <th>210</th>\n",
       "      <td>Uruguay</td>\n",
       "      <td>POINT (-4944550.554 -4064051.998)</td>\n",
       "      <td>uruguay</td>\n",
       "      <td>9.1</td>\n",
       "      <td>2024</td>\n",
       "      <td>57</td>\n",
       "      <td>South America</td>\n",
       "      <td>NaN</td>\n",
       "      <td>60.332413</td>\n",
       "      <td>1</td>\n",
       "    </tr>\n",
       "    <tr>\n",
       "      <th>213</th>\n",
       "      <td>Venezuela</td>\n",
       "      <td>POINT (-6245177.294 816095.879)</td>\n",
       "      <td>venezuela</td>\n",
       "      <td>6.5</td>\n",
       "      <td>2024</td>\n",
       "      <td>137</td>\n",
       "      <td>South America</td>\n",
       "      <td>NaN</td>\n",
       "      <td>50.990195</td>\n",
       "      <td>0</td>\n",
       "    </tr>\n",
       "  </tbody>\n",
       "</table>\n",
       "</div>"
      ],
      "text/plain": [
       "                      name                            geometry  \\\n",
       "11               Argentina   POINT (-5553772.712 -4493827.822)   \n",
       "25                 Bolivia   POINT (-6065512.507 -2073238.575)   \n",
       "30                  Brazil   POINT (-4700709.502 -1764170.762)   \n",
       "43                   Chile   POINT (-6234313.161 -4304799.911)   \n",
       "48                Colombia     POINT (-6936232.356 525486.665)   \n",
       "60                 Ecuador    POINT (-7496744.998 -227636.718)   \n",
       "89                  Guyana     POINT (-5636237.099 628135.992)   \n",
       "151               Suriname     POINT (-5370305.407 503625.945)   \n",
       "154               Paraguay     POINT (-5383797.6 -2964049.838)   \n",
       "155  Pitcairn Islands (UK)  POINT (-11769531.111 -3084092.814)   \n",
       "156                   Peru   POINT (-7214274.314 -1170745.732)   \n",
       "210                Uruguay   POINT (-4944550.554 -4064051.998)   \n",
       "213              Venezuela     POINT (-6245177.294 816095.879)   \n",
       "\n",
       "                                slug   deaths/1  000 population  \\\n",
       "11                         argentina        7.3            2024   \n",
       "25                           bolivia        6.6            2024   \n",
       "30                            brazil        7.0            2024   \n",
       "43                             chile        6.6            2024   \n",
       "48                          colombia        8.0            2024   \n",
       "60                           ecuador        7.2            2024   \n",
       "89                            guyana        7.0            2024   \n",
       "151                         suriname        6.7            2024   \n",
       "154                         paraguay        4.9            2024   \n",
       "155  falkland-islands-islas-malvinas        4.9            2012   \n",
       "156                             peru       10.9            2024   \n",
       "210                          uruguay        9.1            2024   \n",
       "213                        venezuela        6.5            2024   \n",
       "\n",
       "     date_of_information        ranking  region       size  population_outlier  \n",
       "11                   107  South America     NaN  54.037024                   0  \n",
       "25                   130  South America     NaN  51.380930                   0  \n",
       "30                   119  South America     NaN  52.915026                   0  \n",
       "43                   133  South America     NaN  51.380930                   0  \n",
       "48                    91  South America     NaN  56.568542                   0  \n",
       "60                   113  South America     NaN  53.665631                   0  \n",
       "89                   122  South America     NaN  52.915026                   0  \n",
       "151                  129  South America     NaN  51.768716                   0  \n",
       "154                  196  South America     NaN  44.271887                   1  \n",
       "155                  201  South America     NaN  44.271887                   1  \n",
       "156                   26  South America     NaN  66.030296                   1  \n",
       "210                   57  South America     NaN  60.332413                   1  \n",
       "213                  137  South America     NaN  50.990195                   0  "
      ]
     },
     "execution_count": 136,
     "metadata": {},
     "output_type": "execute_result"
    }
   ],
   "source": [
    "America_8857_centroids['population_outlier']=America_8857_centroids[' deaths/1'].isin(outliers)*1\n",
    "\n",
    "## see\n",
    "America_8857_centroids"
   ]
  },
  {
   "cell_type": "markdown",
   "metadata": {
    "id": "R88wmO3R5ppq"
   },
   "source": [
    "We can use that like this:"
   ]
  },
  {
   "cell_type": "code",
   "execution_count": 137,
   "metadata": {
    "colab": {
     "base_uri": "https://localhost:8080/",
     "height": 881
    },
    "id": "tXsxixGD5ppq",
    "outputId": "5a14f1a4-e906-4660-bf2c-ccf4c69ab55d"
   },
   "outputs": [
    {
     "data": {
      "text/plain": [
       "<Axes: >"
      ]
     },
     "execution_count": 137,
     "metadata": {},
     "output_type": "execute_result"
    },
    {
     "data": {
      "image/png": "[encoded data removed]",
      "text/plain": [
       "<Figure size 1000x1000 with 1 Axes>"
      ]
     },
     "metadata": {},
     "output_type": "display_data"
    }
   ],
   "source": [
    "base = America_8857.plot(color='white', edgecolor='black', figsize=(10,10))\n",
    "\n",
    "# Define your color map\n",
    "mapcolor = {1: 'black', 0: 'lightgrey'}\n",
    "\n",
    "# Plot the centroids on top\n",
    "America_8857_centroids.plot(\n",
    "    ax=base,\n",
    "    markersize=America_8857_centroids['size'],\n",
    "    color=America_8857_centroids['population_outlier'].map(mapcolor)\n",
    ")"
   ]
  },
  {
   "cell_type": "markdown",
   "metadata": {
    "id": "T-aiC-z95ppq"
   },
   "source": [
    "Here, we do a good job for outliers, but it is difficult to interprete the other ones. We could use some redundancy, but more work is needed:\n",
    "1. Create two maps of centroids:"
   ]
  },
  {
   "cell_type": "code",
   "execution_count": 138,
   "metadata": {
    "id": "kmdNew_l5ppq"
   },
   "outputs": [],
   "source": [
    "# Create explicit copies of the DataFrames\n",
    "America_8857_centroids_out = America_8857_centroids[America_8857_centroids.population_outlier==1].copy()\n",
    "America_8857_centroids_no_out = America_8857_centroids[America_8857_centroids.population_outlier==0].copy()\n"
   ]
  },
  {
   "cell_type": "markdown",
   "metadata": {
    "id": "ohlWy9W_5ppr"
   },
   "source": [
    "2. Compute sizes in each:"
   ]
  },
  {
   "cell_type": "code",
   "execution_count": 139,
   "metadata": {
    "id": "lPLy_lPE5ppr"
   },
   "outputs": [],
   "source": [
    "America_8857_centroids_out['size'] = America_8857_centroids_out[' deaths/1'].apply(lambda x: x**0.5*10)\n",
    "America_8857_centroids_no_out['size'] = America_8857_centroids_no_out[' deaths/1'].apply(lambda x: x**0.5*10)"
   ]
  },
  {
   "cell_type": "markdown",
   "metadata": {
    "id": "xahYgH_j5ppr"
   },
   "source": [
    "Now, plot the three layers, using some color gradient for the non-outliers:"
   ]
  },
  {
   "cell_type": "code",
   "execution_count": 140,
   "metadata": {
    "colab": {
     "base_uri": "https://localhost:8080/",
     "height": 881
    },
    "id": "h4uNOd4R5ppr",
    "outputId": "b50344e2-1beb-44d7-9ae6-d7ec0c9aa1af"
   },
   "outputs": [
    {
     "data": {
      "text/plain": [
       "<Axes: >"
      ]
     },
     "execution_count": 140,
     "metadata": {},
     "output_type": "execute_result"
    },
    {
     "data": {
      "image/png": "[encoded data removed]",
      "text/plain": [
       "<Figure size 1000x1000 with 1 Axes>"
      ]
     },
     "metadata": {},
     "output_type": "display_data"
    }
   ],
   "source": [
    "base = America.to_crs(America_8857_centroids_no_out.crs).plot(color='white', edgecolor='grey', figsize=(10,10))\n",
    "\n",
    "\n",
    "America_8857_centroids_no_out.plot(\n",
    "    ax=base,\n",
    "    markersize=America_8857_centroids_no_out['size'],\n",
    "    edgecolor='grey',\n",
    "    c=America_8857_centroids_no_out['size'],\n",
    "    cmap='Blues_r'\n",
    ")\n",
    "America_8857_centroids_out.plot(\n",
    "    ax=base,\n",
    "    markersize=America_8857_centroids_out['size'],\n",
    "    color='orange'\n",
    ")"
   ]
  },
  {
   "cell_type": "markdown",
   "metadata": {
    "id": "mZicl2ut911H"
   },
   "source": [
    "# Thematics: Choropleths\n",
    "\n",
    "Notice that the DDMs may use aggregated counts, and the PSMs use the variables in its original form. Choropleths will 'paint' the whole polygon and as noticed in PSMs, we have to be very careful when using color in shape, as the area itself is a confounding. To control this visual artifact, the variable must be normalized, that is, divided by a value correlated with the area.\n",
    "\n",
    "Then, for this course, a choropleth is a normalized representation of data.\n",
    "\n",
    "Following our definition:\n",
    "\n",
    "* This is **NOT** a choropleth:\n"
   ]
  },
  {
   "cell_type": "code",
   "execution_count": 141,
   "metadata": {
    "colab": {
     "base_uri": "https://localhost:8080/",
     "height": 480
    },
    "id": "4KpqfrRB911H",
    "outputId": "0027757d-df32-4194-ade5-726cf0d05da1"
   },
   "outputs": [
    {
     "data": {
      "text/plain": [
       "<Axes: >"
      ]
     },
     "execution_count": 141,
     "metadata": {},
     "output_type": "execute_result"
    },
    {
     "data": {
      "image/png": "[encoded data removed]",
      "text/plain": [
       "<Figure size 640x480 with 1 Axes>"
      ]
     },
     "metadata": {},
     "output_type": "display_data"
    }
   ],
   "source": [
    "America_8857.plot(America_8857[' deaths/1'])\n"
   ]
  },
  {
   "cell_type": "markdown",
   "metadata": {
    "id": "gRAe2g_R5ppr"
   },
   "source": [
    "* This **IS** a choropleth:"
   ]
  },
  {
   "cell_type": "code",
   "execution_count": 142,
   "metadata": {
    "colab": {
     "base_uri": "https://localhost:8080/",
     "height": 480
    },
    "id": "bDEqe-Kj5ppr",
    "outputId": "44f6d4c1-6d4c-49f0-d0ac-852a683e8644"
   },
   "outputs": [
    {
     "data": {
      "text/plain": [
       "<Axes: >"
      ]
     },
     "execution_count": 142,
     "metadata": {},
     "output_type": "execute_result"
    },
    {
     "data": {
      "image/png": "[encoded data removed]",
      "text/plain": [
       "<Figure size 640x480 with 2 Axes>"
      ]
     },
     "metadata": {},
     "output_type": "display_data"
    }
   ],
   "source": [
    "# Tasa de muertes por cada 100,000 habitantes\n",
    "America_8857['death_rate'] = (America_8857[' deaths/1'] / America_8857['000 population']) * 100000\n",
    "\n",
    "# Graficar coroplético de tasa de muertes\n",
    "America_8857.plot(column='death_rate', legend=True, cmap=\"viridis\")\n",
    "\n"
   ]
  },
  {
   "cell_type": "markdown",
   "metadata": {
    "id": "la4Wko9duich"
   },
   "source": [
    "Choropleths are great to represent normalized indicators such as:\n",
    "* Densities\n",
    "* Ratios\n",
    "* Rates\n",
    "* Averages\n",
    "\n",
    "Population by area is a density indicator. This is a real number (not an integer), so most of the time the color gradient might  not be\n",
    "that useful to reveal some pattern visually. Then, we often discretize (or bin) the indicator computed."
   ]
  },
  {
   "cell_type": "markdown",
   "metadata": {
    "id": "Mvu1FQMh911J"
   },
   "source": [
    "### Preprocessing: Discretizing"
   ]
  },
  {
   "cell_type": "markdown",
   "metadata": {
    "id": "UHh74IeT911J"
   },
   "source": [
    "Now, we want to cut the variable. Run the next code to make sure you have tose packages:"
   ]
  },
  {
   "cell_type": "code",
   "execution_count": 166,
   "metadata": {
    "colab": {
     "base_uri": "https://localhost:8080/"
    },
    "id": "pSSN_XDv911K",
    "outputId": "16260512-6637-4664-f4f2-d1676f5e1cf4"
   },
   "outputs": [
    {
     "name": "stdout",
     "output_type": "stream",
     "text": [
      "Name: mapclassify\n",
      "Version: 2.10.0\n",
      "Summary: Classification Schemes for Choropleth Maps.\n",
      "Home-page: \n",
      "Author: \n",
      "Author-email: \n",
      "License: BSD 3-Clause\n",
      "Location: C:\\Users\\david\\miniforge3\\Lib\\site-packages\n",
      "Requires: networkx, numpy, pandas, scikit-learn, scipy\n",
      "Required-by: \n",
      "---\n",
      "Name: numpy\n",
      "Version: 2.3.0\n",
      "Summary: Fundamental package for array computing in Python\n",
      "Home-page: https://numpy.org\n",
      "Author: Travis E. Oliphant et al.\n",
      "Author-email: \n",
      "License: Copyright (c) 2005-2025, NumPy Developers.\n",
      " All rights reserved.\n",
      "\n",
      " Redistribution and use in source and binary forms, with or without\n",
      " modification, are permitted provided that the following conditions are\n",
      " met:\n",
      "\n",
      "     * Redistributions of source code must retain the above copyright\n",
      "        notice, this list of conditions and the following disclaimer.\n",
      "\n",
      "     * Redistributions in binary form must reproduce the above\n",
      "        copyright notice, this list of conditions and the following\n",
      "        disclaimer in the documentation and/or other materials provided\n",
      "        with the distribution.\n",
      "\n",
      "     * Neither the name of the NumPy Developers nor the names of any\n",
      "        contributors may be used to endorse or promote products derived\n",
      "        from this software without specific prior written permission.\n",
      "\n",
      " THIS SOFTWARE IS PROVIDED BY THE COPYRIGHT HOLDERS AND CONTRIBUTORS\n",
      " \"AS IS\" AND ANY EXPRESS OR IMPLIED WARRANTIES, INCLUDING, BUT NOT\n",
      " LIMITED TO, THE IMPLIED WARRANTIES OF MERCHANTABILITY AND FITNESS FOR\n",
      " A PARTICULAR PURPOSE ARE DISCLAIMED. IN NO EVENT SHALL THE COPYRIGHT\n",
      " OWNER OR CONTRIBUTORS BE LIABLE FOR ANY DIRECT, INDIRECT, INCIDENTAL,\n",
      " SPECIAL, EXEMPLARY, OR CONSEQUENTIAL DAMAGES (INCLUDING, BUT NOT\n",
      " LIMITED TO, PROCUREMENT OF SUBSTITUTE GOODS OR SERVICES; LOSS OF USE,\n",
      " DATA, OR PROFITS; OR BUSINESS INTERRUPTION) HOWEVER CAUSED AND ON ANY\n",
      " THEORY OF LIABILITY, WHETHER IN CONTRACT, STRICT LIABILITY, OR TORT\n",
      " (INCLUDING NEGLIGENCE OR OTHERWISE) ARISING IN ANY WAY OUT OF THE USE\n",
      " OF THIS SOFTWARE, EVEN IF ADVISED OF THE POSSIBILITY OF SUCH DAMAGE.\n",
      "\n",
      "Location: C:\\Users\\david\\miniforge3\\Lib\\site-packages\n",
      "Requires: \n",
      "Required-by: contourpy, folium, geopandas, mapclassify, matplotlib, pandas, pyogrio, scikit-learn, scipy, shapely\n",
      "Note: you may need to restart the kernel to use updated packages.\n"
     ]
    },
    {
     "name": "stderr",
     "output_type": "stream",
     "text": [
      "WARNING: Package(s) not found: numba, user\n"
     ]
    }
   ],
   "source": [
    "## do you have these installed?\n",
    "%pip show numba user mapclassify numpy"
   ]
  },
  {
   "cell_type": "markdown",
   "metadata": {
    "id": "XifM5dIB911K"
   },
   "source": [
    "We will discretize this:"
   ]
  },
  {
   "cell_type": "code",
   "execution_count": 144,
   "metadata": {
    "id": "G6j3Km_f5ppr"
   },
   "outputs": [],
   "source": [
    "America_8857['death_rate']=(America_8857[' deaths/1'] / America_8857['000 population'])"
   ]
  },
  {
   "cell_type": "markdown",
   "metadata": {
    "id": "zBNLOG465pps"
   },
   "source": [
    "Let's explore the bining algorithms:"
   ]
  },
  {
   "cell_type": "code",
   "execution_count": 145,
   "metadata": {
    "id": "CvipvzA1911K"
   },
   "outputs": [
    {
     "name": "stderr",
     "output_type": "stream",
     "text": [
      "C:\\Users\\david\\miniforge3\\Lib\\site-packages\\IPython\\core\\interactiveshell.py:3699: UserWarning: Numba not installed. Using slow pure python version.\n",
      "  exec(code_obj, self.user_global_ns, self.user_ns)\n"
     ]
    }
   ],
   "source": [
    "import mapclassify\n",
    "import numpy as np\n",
    "\n",
    "np.random.seed(12345) # so we all get the same results!\n",
    "\n",
    "# let's try 5 intervals\n",
    "K=5\n",
    "theVar=America_8857['death_rate']\n",
    "# same interval width, easy interpretation\n",
    "ei5 = mapclassify.EqualInterval(theVar, k=K)\n",
    "# same interval width based on standard deviation, easy - but not as the previous one, poor when high skewness\n",
    "msd = mapclassify.StdMean(theVar)\n",
    "# interval width varies, counts per interval are close, not easy to grasp, repeated values complicate cuts\n",
    "q5=mapclassify.Quantiles(theVar,k=K)\n",
    "\n",
    "# based on similarity, good for multimodal data\n",
    "mb5 = mapclassify.MaximumBreaks(theVar, k=K)\n",
    "# based on similarity, good for skewed data\n",
    "ht = mapclassify.HeadTailBreaks(theVar) # no K needed\n",
    "# based on similarity, optimizer\n",
    "fj5 = mapclassify.FisherJenks(theVar, k=K)\n",
    "# based on similarity, optimizer\n",
    "jc5 = mapclassify.JenksCaspall(theVar, k=K)\n",
    "# based on similarity, optimizer\n",
    "mp5 = mapclassify.MaxP(theVar, k=K)"
   ]
  },
  {
   "cell_type": "markdown",
   "metadata": {
    "id": "jMjS1bE0911K"
   },
   "source": [
    "How can we select the right classification?\n",
    "Let me use the the Absolute deviation around class median (ADCM) to make the comparisson:"
   ]
  },
  {
   "cell_type": "code",
   "execution_count": 146,
   "metadata": {
    "id": "bKvo0_cQ911K"
   },
   "outputs": [],
   "source": [
    "class5 = ei5,msd, q5,mb5,  ht, fj5, jc5, mp5\n",
    "# Collect ADCM for each classifier\n",
    "fits = np.array([ c.adcm for c in class5])\n",
    "# Convert ADCM scores to a DataFrame\n",
    "adcms = pd.DataFrame(fits)\n",
    "# Add classifier names\n",
    "adcms['classifier'] = [c.name for c in class5]\n",
    "# Add column names to the ADCM\n",
    "adcms.columns = ['ADCM', 'Classifier']"
   ]
  },
  {
   "cell_type": "markdown",
   "metadata": {
    "id": "anEyZGV6911L"
   },
   "source": [
    "Now, plot the **adcms**:"
   ]
  },
  {
   "cell_type": "code",
   "execution_count": 147,
   "metadata": {
    "colab": {
     "base_uri": "https://localhost:8080/",
     "height": 447
    },
    "id": "TnYEkaJf911L",
    "outputId": "a539abdd-e6d5-4f13-d8d0-3b68e94a3073"
   },
   "outputs": [
    {
     "data": {
      "text/plain": [
       "<Axes: ylabel='Classifier'>"
      ]
     },
     "execution_count": 147,
     "metadata": {},
     "output_type": "execute_result"
    },
    {
     "data": {
      "image/png": "[encoded data removed]",
      "text/plain": [
       "<Figure size 640x480 with 1 Axes>"
      ]
     },
     "metadata": {},
     "output_type": "display_data"
    }
   ],
   "source": [
    "adcms.sort_values('ADCM').plot.barh(x='Classifier')"
   ]
  },
  {
   "cell_type": "markdown",
   "metadata": {
    "id": "v22izWrv911L"
   },
   "source": [
    "Let's save the best strategy:"
   ]
  },
  {
   "cell_type": "code",
   "execution_count": 148,
   "metadata": {
    "id": "QVab2hAl911L"
   },
   "outputs": [],
   "source": [
    "America_8857['death_rate_FJ5'] = fj5.yb"
   ]
  },
  {
   "cell_type": "code",
   "execution_count": 149,
   "metadata": {
    "colab": {
     "base_uri": "https://localhost:8080/",
     "height": 457
    },
    "id": "NlOeXrph911L",
    "outputId": "2453ad59-f143-4d28-a464-9d3d8a82b9ee"
   },
   "outputs": [
    {
     "data": {
      "text/html": [
       "<div>\n",
       "<style scoped>\n",
       "    .dataframe tbody tr th:only-of-type {\n",
       "        vertical-align: middle;\n",
       "    }\n",
       "\n",
       "    .dataframe tbody tr th {\n",
       "        vertical-align: top;\n",
       "    }\n",
       "\n",
       "    .dataframe thead th {\n",
       "        text-align: right;\n",
       "    }\n",
       "</style>\n",
       "<table border=\"1\" class=\"dataframe\">\n",
       "  <thead>\n",
       "    <tr style=\"text-align: right;\">\n",
       "      <th></th>\n",
       "      <th>death_rate</th>\n",
       "      <th>death_rate_FJ5</th>\n",
       "    </tr>\n",
       "  </thead>\n",
       "  <tbody>\n",
       "    <tr>\n",
       "      <th>11</th>\n",
       "      <td>0.003607</td>\n",
       "      <td>2</td>\n",
       "    </tr>\n",
       "    <tr>\n",
       "      <th>25</th>\n",
       "      <td>0.003261</td>\n",
       "      <td>1</td>\n",
       "    </tr>\n",
       "    <tr>\n",
       "      <th>30</th>\n",
       "      <td>0.003458</td>\n",
       "      <td>1</td>\n",
       "    </tr>\n",
       "    <tr>\n",
       "      <th>43</th>\n",
       "      <td>0.003261</td>\n",
       "      <td>1</td>\n",
       "    </tr>\n",
       "    <tr>\n",
       "      <th>48</th>\n",
       "      <td>0.003953</td>\n",
       "      <td>2</td>\n",
       "    </tr>\n",
       "    <tr>\n",
       "      <th>60</th>\n",
       "      <td>0.003557</td>\n",
       "      <td>2</td>\n",
       "    </tr>\n",
       "    <tr>\n",
       "      <th>89</th>\n",
       "      <td>0.003458</td>\n",
       "      <td>1</td>\n",
       "    </tr>\n",
       "    <tr>\n",
       "      <th>151</th>\n",
       "      <td>0.003310</td>\n",
       "      <td>1</td>\n",
       "    </tr>\n",
       "    <tr>\n",
       "      <th>154</th>\n",
       "      <td>0.002421</td>\n",
       "      <td>0</td>\n",
       "    </tr>\n",
       "    <tr>\n",
       "      <th>155</th>\n",
       "      <td>0.002435</td>\n",
       "      <td>0</td>\n",
       "    </tr>\n",
       "    <tr>\n",
       "      <th>156</th>\n",
       "      <td>0.005385</td>\n",
       "      <td>4</td>\n",
       "    </tr>\n",
       "    <tr>\n",
       "      <th>210</th>\n",
       "      <td>0.004496</td>\n",
       "      <td>3</td>\n",
       "    </tr>\n",
       "    <tr>\n",
       "      <th>213</th>\n",
       "      <td>0.003211</td>\n",
       "      <td>1</td>\n",
       "    </tr>\n",
       "  </tbody>\n",
       "</table>\n",
       "</div>"
      ],
      "text/plain": [
       "     death_rate  death_rate_FJ5\n",
       "11     0.003607               2\n",
       "25     0.003261               1\n",
       "30     0.003458               1\n",
       "43     0.003261               1\n",
       "48     0.003953               2\n",
       "60     0.003557               2\n",
       "89     0.003458               1\n",
       "151    0.003310               1\n",
       "154    0.002421               0\n",
       "155    0.002435               0\n",
       "156    0.005385               4\n",
       "210    0.004496               3\n",
       "213    0.003211               1"
      ]
     },
     "execution_count": 149,
     "metadata": {},
     "output_type": "execute_result"
    }
   ],
   "source": [
    "# there you are\n",
    "America_8857[['death_rate','death_rate_FJ5']].head(20)"
   ]
  },
  {
   "cell_type": "markdown",
   "metadata": {
    "id": "eZdX-5M4911L"
   },
   "source": [
    "We could create a copy of the bins to add labels:"
   ]
  },
  {
   "cell_type": "code",
   "execution_count": 150,
   "metadata": {
    "colab": {
     "base_uri": "https://localhost:8080/",
     "height": 457
    },
    "id": "5GT4XA4C911P",
    "outputId": "3efc102a-26ea-46ab-ae16-158a7519fbc2"
   },
   "outputs": [
    {
     "data": {
      "text/html": [
       "<div>\n",
       "<style scoped>\n",
       "    .dataframe tbody tr th:only-of-type {\n",
       "        vertical-align: middle;\n",
       "    }\n",
       "\n",
       "    .dataframe tbody tr th {\n",
       "        vertical-align: top;\n",
       "    }\n",
       "\n",
       "    .dataframe thead th {\n",
       "        text-align: right;\n",
       "    }\n",
       "</style>\n",
       "<table border=\"1\" class=\"dataframe\">\n",
       "  <thead>\n",
       "    <tr style=\"text-align: right;\">\n",
       "      <th></th>\n",
       "      <th>death_rate</th>\n",
       "      <th>death_rate_FJ5</th>\n",
       "      <th>death_rate_FJ5_cat</th>\n",
       "    </tr>\n",
       "  </thead>\n",
       "  <tbody>\n",
       "    <tr>\n",
       "      <th>11</th>\n",
       "      <td>0.003607</td>\n",
       "      <td>2</td>\n",
       "      <td>2_Middle</td>\n",
       "    </tr>\n",
       "    <tr>\n",
       "      <th>25</th>\n",
       "      <td>0.003261</td>\n",
       "      <td>1</td>\n",
       "      <td>1_Low</td>\n",
       "    </tr>\n",
       "    <tr>\n",
       "      <th>30</th>\n",
       "      <td>0.003458</td>\n",
       "      <td>1</td>\n",
       "      <td>1_Low</td>\n",
       "    </tr>\n",
       "    <tr>\n",
       "      <th>43</th>\n",
       "      <td>0.003261</td>\n",
       "      <td>1</td>\n",
       "      <td>1_Low</td>\n",
       "    </tr>\n",
       "    <tr>\n",
       "      <th>48</th>\n",
       "      <td>0.003953</td>\n",
       "      <td>2</td>\n",
       "      <td>2_Middle</td>\n",
       "    </tr>\n",
       "    <tr>\n",
       "      <th>60</th>\n",
       "      <td>0.003557</td>\n",
       "      <td>2</td>\n",
       "      <td>2_Middle</td>\n",
       "    </tr>\n",
       "    <tr>\n",
       "      <th>89</th>\n",
       "      <td>0.003458</td>\n",
       "      <td>1</td>\n",
       "      <td>1_Low</td>\n",
       "    </tr>\n",
       "    <tr>\n",
       "      <th>151</th>\n",
       "      <td>0.003310</td>\n",
       "      <td>1</td>\n",
       "      <td>1_Low</td>\n",
       "    </tr>\n",
       "    <tr>\n",
       "      <th>154</th>\n",
       "      <td>0.002421</td>\n",
       "      <td>0</td>\n",
       "      <td>0_VeryLow</td>\n",
       "    </tr>\n",
       "    <tr>\n",
       "      <th>155</th>\n",
       "      <td>0.002435</td>\n",
       "      <td>0</td>\n",
       "      <td>0_VeryLow</td>\n",
       "    </tr>\n",
       "    <tr>\n",
       "      <th>156</th>\n",
       "      <td>0.005385</td>\n",
       "      <td>4</td>\n",
       "      <td>4_VeryHigh</td>\n",
       "    </tr>\n",
       "    <tr>\n",
       "      <th>210</th>\n",
       "      <td>0.004496</td>\n",
       "      <td>3</td>\n",
       "      <td>3_High</td>\n",
       "    </tr>\n",
       "    <tr>\n",
       "      <th>213</th>\n",
       "      <td>0.003211</td>\n",
       "      <td>1</td>\n",
       "      <td>1_Low</td>\n",
       "    </tr>\n",
       "  </tbody>\n",
       "</table>\n",
       "</div>"
      ],
      "text/plain": [
       "     death_rate  death_rate_FJ5 death_rate_FJ5_cat\n",
       "11     0.003607               2           2_Middle\n",
       "25     0.003261               1              1_Low\n",
       "30     0.003458               1              1_Low\n",
       "43     0.003261               1              1_Low\n",
       "48     0.003953               2           2_Middle\n",
       "60     0.003557               2           2_Middle\n",
       "89     0.003458               1              1_Low\n",
       "151    0.003310               1              1_Low\n",
       "154    0.002421               0          0_VeryLow\n",
       "155    0.002435               0          0_VeryLow\n",
       "156    0.005385               4         4_VeryHigh\n",
       "210    0.004496               3             3_High\n",
       "213    0.003211               1              1_Low"
      ]
     },
     "execution_count": 150,
     "metadata": {},
     "output_type": "execute_result"
    }
   ],
   "source": [
    "# renaming\n",
    "newLabelsForLevels={0:\"0_VeryLow\", 1:\"1_Low\", 2:\"2_Middle\", 3:\"3_High\", 4:\"4_VeryHigh\"}\n",
    "\n",
    "America_8857['death_rate_FJ5_cat']=America_8857.loc[:,'death_rate_FJ5'].replace(newLabelsForLevels)\n",
    "\n",
    "# we have\n",
    "America_8857[['death_rate','death_rate_FJ5','death_rate_FJ5_cat']].head(20)"
   ]
  },
  {
   "cell_type": "markdown",
   "metadata": {
    "id": "WMBgSJUw911P"
   },
   "source": [
    "We are ready for a discrete choropleth:"
   ]
  },
  {
   "cell_type": "code",
   "execution_count": 151,
   "metadata": {
    "colab": {
     "base_uri": "https://localhost:8080/",
     "height": 807
    },
    "id": "0BIR7WUe911P",
    "outputId": "176b18dc-c280-4b21-e80c-6bd5a26295f8"
   },
   "outputs": [
    {
     "data": {
      "image/png": "[encoded data removed]",
      "text/plain": [
       "<Figure size 1000x1000 with 1 Axes>"
      ]
     },
     "metadata": {},
     "output_type": "display_data"
    }
   ],
   "source": [
    "import matplotlib.pyplot as plt\n",
    "\n",
    "f, ax = plt.subplots(1, figsize=(10, 10))\n",
    "America_8857.plot(column='death_rate_FJ5_cat', # variable to plot\n",
    "                 cmap='viridis_r', # set of colors\n",
    "                 categorical=True, # can be interpreted as category\n",
    "                 edgecolor='grey', # border color\n",
    "                 linewidth=0.3, # width of border\n",
    "                 legend=True, # need a legend?\n",
    "                 ax=ax\n",
    "       )\n",
    "\n",
    "ax.set_axis_off()"
   ]
  },
  {
   "cell_type": "markdown",
   "metadata": {
    "id": "arcSz0yJ5ppt"
   },
   "source": [
    "# Saving\n",
    "\n",
    "Let's save this maps for R."
   ]
  },
  {
   "cell_type": "code",
   "execution_count": 152,
   "metadata": {
    "colab": {
     "base_uri": "https://localhost:8080/"
    },
    "id": "lTq5OSOn5ppt",
    "outputId": "fa6c1b5b-3dde-4790-c353-a1b22cf5862f"
   },
   "outputs": [
    {
     "name": "stdout",
     "output_type": "stream",
     "text": [
      "List of GeoDataFrames in memory:\n",
      "countries\n",
      "_3\n",
      "_16\n",
      "theMapAndData\n",
      "America\n",
      "America_dots\n",
      "_45\n",
      "America_8857\n",
      "America_dots_8857\n",
      "America_8857_centroids\n",
      "_61\n",
      "_62\n",
      "America_8857_centroids_out\n",
      "America_8857_centroids_no_out\n",
      "_90\n",
      "_119\n",
      "_135\n",
      "_136\n"
     ]
    }
   ],
   "source": [
    "## Good practice to refresh your memory\n",
    "\n",
    "## Find only GeoDataFrames in the current session\n",
    "geodataframe_list = [var for var in globals() if isinstance(globals()[var], gpd.GeoDataFrame)]\n",
    "\n",
    "print(\"List of GeoDataFrames in memory:\")\n",
    "for name in geodataframe_list:\n",
    "    print(name)"
   ]
  },
  {
   "cell_type": "markdown",
   "metadata": {
    "id": "szKzPUeW5ppt"
   },
   "source": [
    "These are the ones needed in R:"
   ]
  },
  {
   "cell_type": "code",
   "execution_count": 153,
   "metadata": {
    "colab": {
     "base_uri": "https://localhost:8080/"
    },
    "id": "rjtVmPGX5ppt",
    "outputId": "e849cb51-7dea-4f29-9cf8-9bb67e65aba4"
   },
   "outputs": [
    {
     "name": "stdout",
     "output_type": "stream",
     "text": [
      "<class 'geopandas.geodataframe.GeoDataFrame'>\n",
      "Index: 13 entries, 11 to 213\n",
      "Data columns (total 11 columns):\n",
      " #   Column               Non-Null Count  Dtype   \n",
      "---  ------               --------------  -----   \n",
      " 0   name                 13 non-null     object  \n",
      " 1   geometry             13 non-null     geometry\n",
      " 2   slug                 13 non-null     object  \n",
      " 3    deaths/1            13 non-null     float64 \n",
      " 4   000 population       13 non-null     int64   \n",
      " 5   date_of_information  13 non-null     int64   \n",
      " 6   ranking              13 non-null     object  \n",
      " 7   region               0 non-null      float64 \n",
      " 8   death_rate           13 non-null     float64 \n",
      " 9   death_rate_FJ5       13 non-null     int64   \n",
      " 10  death_rate_FJ5_cat   13 non-null     object  \n",
      "dtypes: float64(3), geometry(1), int64(3), object(4)\n",
      "memory usage: 1.2+ KB\n"
     ]
    }
   ],
   "source": [
    "# for choropleth and base map\n",
    "America_8857.info()"
   ]
  },
  {
   "cell_type": "code",
   "execution_count": 154,
   "metadata": {
    "colab": {
     "base_uri": "https://localhost:8080/"
    },
    "id": "Drp55fbM5ppt",
    "outputId": "f09eb11e-e44b-44d1-fa43-70ef94fc7c56"
   },
   "outputs": [
    {
     "name": "stdout",
     "output_type": "stream",
     "text": [
      "<class 'geopandas.geodataframe.GeoDataFrame'>\n",
      "RangeIndex: 924 entries, 0 to 923\n",
      "Data columns (total 1 columns):\n",
      " #   Column    Non-Null Count  Dtype   \n",
      "---  ------    --------------  -----   \n",
      " 0   geometry  924 non-null    geometry\n",
      "dtypes: geometry(1)\n",
      "memory usage: 7.3 KB\n"
     ]
    }
   ],
   "source": [
    "# for DDMs\n",
    "America_dots_8857.info()"
   ]
  },
  {
   "cell_type": "code",
   "execution_count": 155,
   "metadata": {
    "colab": {
     "base_uri": "https://localhost:8080/"
    },
    "id": "iEbIeb945ppt",
    "outputId": "62a5fe9f-87f5-4f12-de69-593958a17d97"
   },
   "outputs": [
    {
     "name": "stdout",
     "output_type": "stream",
     "text": [
      "<class 'geopandas.geodataframe.GeoDataFrame'>\n",
      "Index: 13 entries, 11 to 213\n",
      "Data columns (total 10 columns):\n",
      " #   Column               Non-Null Count  Dtype   \n",
      "---  ------               --------------  -----   \n",
      " 0   name                 13 non-null     object  \n",
      " 1   geometry             13 non-null     geometry\n",
      " 2   slug                 13 non-null     object  \n",
      " 3    deaths/1            13 non-null     float64 \n",
      " 4   000 population       13 non-null     int64   \n",
      " 5   date_of_information  13 non-null     int64   \n",
      " 6   ranking              13 non-null     object  \n",
      " 7   region               0 non-null      float64 \n",
      " 8   size                 13 non-null     float64 \n",
      " 9   population_outlier   13 non-null     int64   \n",
      "dtypes: float64(3), geometry(1), int64(3), object(3)\n",
      "memory usage: 1.1+ KB\n"
     ]
    }
   ],
   "source": [
    "# for PSMs\n",
    "America_8857_centroids.info()"
   ]
  },
  {
   "cell_type": "code",
   "execution_count": 156,
   "metadata": {
    "colab": {
     "base_uri": "https://localhost:8080/"
    },
    "id": "jb84DFCO5ppt",
    "outputId": "3ae13ec7-74e4-4f45-b66c-ec8d6e2e2c4e"
   },
   "outputs": [
    {
     "name": "stdout",
     "output_type": "stream",
     "text": [
      "<class 'geopandas.geodataframe.GeoDataFrame'>\n",
      "Index: 4 entries, 154 to 210\n",
      "Data columns (total 10 columns):\n",
      " #   Column               Non-Null Count  Dtype   \n",
      "---  ------               --------------  -----   \n",
      " 0   name                 4 non-null      object  \n",
      " 1   geometry             4 non-null      geometry\n",
      " 2   slug                 4 non-null      object  \n",
      " 3    deaths/1            4 non-null      float64 \n",
      " 4   000 population       4 non-null      int64   \n",
      " 5   date_of_information  4 non-null      int64   \n",
      " 6   ranking              4 non-null      object  \n",
      " 7   region               0 non-null      float64 \n",
      " 8   size                 4 non-null      float64 \n",
      " 9   population_outlier   4 non-null      int64   \n",
      "dtypes: float64(3), geometry(1), int64(3), object(3)\n",
      "memory usage: 352.0+ bytes\n"
     ]
    }
   ],
   "source": [
    "# for PSMs\n",
    "America_8857_centroids_out.info()"
   ]
  },
  {
   "cell_type": "code",
   "execution_count": 157,
   "metadata": {
    "colab": {
     "base_uri": "https://localhost:8080/"
    },
    "id": "Q4crBaKU5ppu",
    "outputId": "86919269-75b9-49f6-e2c9-6aec88c6fadd"
   },
   "outputs": [
    {
     "name": "stdout",
     "output_type": "stream",
     "text": [
      "<class 'geopandas.geodataframe.GeoDataFrame'>\n",
      "Index: 9 entries, 11 to 213\n",
      "Data columns (total 10 columns):\n",
      " #   Column               Non-Null Count  Dtype   \n",
      "---  ------               --------------  -----   \n",
      " 0   name                 9 non-null      object  \n",
      " 1   geometry             9 non-null      geometry\n",
      " 2   slug                 9 non-null      object  \n",
      " 3    deaths/1            9 non-null      float64 \n",
      " 4   000 population       9 non-null      int64   \n",
      " 5   date_of_information  9 non-null      int64   \n",
      " 6   ranking              9 non-null      object  \n",
      " 7   region               0 non-null      float64 \n",
      " 8   size                 9 non-null      float64 \n",
      " 9   population_outlier   9 non-null      int64   \n",
      "dtypes: float64(3), geometry(1), int64(3), object(3)\n",
      "memory usage: 792.0+ bytes\n"
     ]
    }
   ],
   "source": [
    "# for PSMs\n",
    "America_8857_centroids_no_out.info()"
   ]
  },
  {
   "cell_type": "markdown",
   "metadata": {
    "id": "s29vjtOl5ppu"
   },
   "source": [
    "The file **africa_8857.gpkg** will keep all those maps as layers!"
   ]
  },
  {
   "cell_type": "code",
   "execution_count": 158,
   "metadata": {
    "id": "2H5vDwCq5ppu"
   },
   "outputs": [],
   "source": [
    "America_8857.to_file(\"america_8857.gpkg\",driver='GPKG',layer='continent')\n",
    "America_dots_8857.to_file(\"america_8857.gpkg\",driver='GPKG',layer='population_ddm')\n",
    "America_8857_centroids.to_file(\"america_8857.gpkg\",driver='GPKG',layer='population_psm')\n",
    "America_8857_centroids_out.to_file(\"america_8857.gpkg\",driver='GPKG',layer='outlier_population_psm')\n",
    "America_8857_centroids_no_out.to_file(\"america_8857.gpkg\",driver='GPKG',layer='no_outlier_population_psm')"
   ]
  }
 ],
 "metadata": {
  "anaconda-cloud": {
   "attach-environment": true,
   "summary": "test"
  },
  "colab": {
   "provenance": []
  },
  "hide_input": false,
  "kernelspec": {
   "display_name": "Python 3 (ipykernel)",
   "language": "python",
   "name": "python3"
  },
  "language_info": {
   "codemirror_mode": {
    "name": "ipython",
    "version": 3
   },
   "file_extension": ".py",
   "mimetype": "text/x-python",
   "name": "python",
   "nbconvert_exporter": "python",
   "pygments_lexer": "ipython3",
   "version": "3.12.5"
  },
  "toc-autonumbering": false
 },
 "nbformat": 4,
 "nbformat_minor": 4
}
