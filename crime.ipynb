{
  "cells": [
    {
      "cell_type": "markdown",
      "metadata": {
        "id": "eEjivDM0Ruix"
      },
      "source": [
        "<center><img src=\"https://i.imgur.com/zRrFdsf.png\" width=\"700\"></center>\n",
        "\n",
        "<a target=\"_blank\" href=\"https://colab.research.google.com/github/CienciaDeDatosEspacial/GDF_OPS_applications/blob/main/crime.ipynb\">\n",
        "  <img src=\"https://colab.research.google.com/assets/colab-badge.svg\" alt=\"Open In Colab\"/>\n",
        "</a>\n",
        "\n",
        "\n",
        "# How is crime in this area?\n",
        "\n",
        "It is important to know a close average of crime of a place of interest. Maybe you are a city counselor who wants to request a better way to distribute your limited police resources, but you realize official reports or surveys are too aggregated to support your decision-making.\n",
        "\n",
        "This is a good case for areal interpolation. You know the county level of crime, but not the situation of your closer locality. Your interest is not a point; you cannot efficiently safeguard person by person. Thus, you are due to make your best estimate for a particular area where significant strategies could be deployed effective and efficiently."
      ]
    },
    {
      "cell_type": "markdown",
      "metadata": {
        "id": "8fGEhP5TRui4"
      },
      "source": [
        "## The libraries needed\n",
        "\n",
        "We will need Pysal, openpyxl, h3, geopy, and as usual GeoPandas. I will . Make sure they are installed:"
      ]
    },
    {
      "cell_type": "code",
      "execution_count": 1,
      "metadata": {
        "id": "RxLgF7OFRui5",
        "outputId": "e48aa152-1f19-43f1-f489-fba6e8cb5687",
        "colab": {
          "base_uri": "https://localhost:8080/"
        }
      },
      "outputs": [
        {
          "output_type": "stream",
          "name": "stdout",
          "text": [
            "\u001b[33mWARNING: Package(s) not found: h3, pysal\u001b[0m\u001b[33m\n",
            "\u001b[0mName: openpyxl\n",
            "Version: 3.1.5\n",
            "Summary: A Python library to read/write Excel 2010 xlsx/xlsm files\n",
            "Home-page: https://openpyxl.readthedocs.io\n",
            "Author: See AUTHORS\n",
            "Author-email: charlie.clark@clark-consulting.eu\n",
            "License: MIT\n",
            "Location: /usr/local/lib/python3.12/dist-packages\n",
            "Requires: et-xmlfile\n",
            "Required-by: \n",
            "---\n",
            "Name: geopandas\n",
            "Version: 1.1.1\n",
            "Summary: Geographic pandas extensions\n",
            "Home-page: \n",
            "Author: \n",
            "Author-email: Kelsey Jordahl <kjordahl@alum.mit.edu>\n",
            "License: BSD 3-Clause\n",
            "Location: /usr/local/lib/python3.12/dist-packages\n",
            "Requires: numpy, packaging, pandas, pyogrio, pyproj, shapely\n",
            "Required-by: bigframes, libpysal\n",
            "---\n",
            "Name: pandas\n",
            "Version: 2.2.2\n",
            "Summary: Powerful data structures for data analysis, time series, and statistics\n",
            "Home-page: https://pandas.pydata.org\n",
            "Author: \n",
            "Author-email: The Pandas Development Team <pandas-dev@python.org>\n",
            "License: BSD 3-Clause License\n",
            "\n",
            "Copyright (c) 2008-2011, AQR Capital Management, LLC, Lambda Foundry, Inc. and PyData Development Team\n",
            "All rights reserved.\n",
            "\n",
            "Copyright (c) 2011-2023, Open source contributors.\n",
            "\n",
            "Redistribution and use in source and binary forms, with or without\n",
            "modification, are permitted provided that the following conditions are met:\n",
            "\n",
            "* Redistributions of source code must retain the above copyright notice, this\n",
            "  list of conditions and the following disclaimer.\n",
            "\n",
            "* Redistributions in binary form must reproduce the above copyright notice,\n",
            "  this list of conditions and the following disclaimer in the documentation\n",
            "  and/or other materials provided with the distribution.\n",
            "\n",
            "* Neither the name of the copyright holder nor the names of its\n",
            "  contributors may be used to endorse or promote products derived from\n",
            "  this software without specific prior written permission.\n",
            "\n",
            "THIS SOFTWARE IS PROVIDED BY THE COPYRIGHT HOLDERS AND CONTRIBUTORS \"AS IS\"\n",
            "AND ANY EXPRESS OR IMPLIED WARRANTIES, INCLUDING, BUT NOT LIMITED TO, THE\n",
            "IMPLIED WARRANTIES OF MERCHANTABILITY AND FITNESS FOR A PARTICULAR PURPOSE ARE\n",
            "DISCLAIMED. IN NO EVENT SHALL THE COPYRIGHT HOLDER OR CONTRIBUTORS BE LIABLE\n",
            "FOR ANY DIRECT, INDIRECT, INCIDENTAL, SPECIAL, EXEMPLARY, OR CONSEQUENTIAL\n",
            "DAMAGES (INCLUDING, BUT NOT LIMITED TO, PROCUREMENT OF SUBSTITUTE GOODS OR\n",
            "SERVICES; LOSS OF USE, DATA, OR PROFITS; OR BUSINESS INTERRUPTION) HOWEVER\n",
            "CAUSED AND ON ANY THEORY OF LIABILITY, WHETHER IN CONTRACT, STRICT LIABILITY,\n",
            "OR TORT (INCLUDING NEGLIGENCE OR OTHERWISE) ARISING IN ANY WAY OUT OF THE USE\n",
            "OF THIS SOFTWARE, EVEN IF ADVISED OF THE POSSIBILITY OF SUCH DAMAGE.\n",
            "Location: /usr/local/lib/python3.12/dist-packages\n",
            "Requires: numpy, python-dateutil, pytz, tzdata\n",
            "Required-by: arviz, bigframes, bigquery-magics, bokeh, bqplot, cmdstanpy, cudf-cu12, cufflinks, dask-cuda, dask-cudf-cu12, datasets, db-dtypes, dopamine_rl, fastai, geemap, geopandas, google-colab, gradio, gspread-dataframe, holoviews, libpysal, mizani, mlxtend, pandas-datareader, pandas-gbq, panel, plotnine, prophet, pymc, seaborn, shap, sklearn-pandas, statsmodels, tensorflow_decision_forests, tsfresh, vega-datasets, xarray, yfinance\n",
            "---\n",
            "Name: geopy\n",
            "Version: 2.4.1\n",
            "Summary: Python Geocoding Toolbox\n",
            "Home-page: https://github.com/geopy/geopy\n",
            "Author: \n",
            "Author-email: \n",
            "License: MIT\n",
            "Location: /usr/local/lib/python3.12/dist-packages\n",
            "Requires: geographiclib\n",
            "Required-by: \n"
          ]
        }
      ],
      "source": [
        " !pip show pysal openpyxl geopandas pandas h3 geopy"
      ]
    },
    {
      "cell_type": "markdown",
      "metadata": {
        "id": "wX22qnLWRui7"
      },
      "source": [
        "## The data inventory\n",
        "\n",
        "According to what we have, we can make the best of it.\n",
        "\n",
        "1. Counties map in Massachussetts (from [MASS.GOV](https://www.mass.gov/info-details/massgis-data-counties)):"
      ]
    },
    {
      "cell_type": "code",
      "execution_count": 2,
      "metadata": {
        "id": "lz4o14Lgp0Cb",
        "outputId": "c3127557-150c-4e9b-e06d-64c7e8adc447",
        "colab": {
          "base_uri": "https://localhost:8080/"
        }
      },
      "outputs": [
        {
          "output_type": "stream",
          "name": "stdout",
          "text": [
            "<class 'geopandas.geodataframe.GeoDataFrame'>\n",
            "RangeIndex: 14 entries, 0 to 13\n",
            "Data columns (total 15 columns):\n",
            " #   Column             Non-Null Count  Dtype   \n",
            "---  ------             --------------  -----   \n",
            " 0   id                 14 non-null     object  \n",
            " 1   fips_id            14 non-null     int32   \n",
            " 2   county             14 non-null     object  \n",
            " 3   pop1980            14 non-null     int32   \n",
            " 4   pop1990            14 non-null     int32   \n",
            " 5   pop2000            14 non-null     int32   \n",
            " 6   pop2010            14 non-null     int32   \n",
            " 7   popch80_90         14 non-null     int32   \n",
            " 8   popch90_00         14 non-null     int32   \n",
            " 9   popch00_10         14 non-null     int32   \n",
            " 10  sq_miles           14 non-null     float64 \n",
            " 11  sq_km              14 non-null     float64 \n",
            " 12  area_acres         14 non-null     float64 \n",
            " 13  gdb_geomattr_data  0 non-null      object  \n",
            " 14  geometry           14 non-null     geometry\n",
            "dtypes: float64(3), geometry(1), int32(8), object(3)\n",
            "memory usage: 1.3+ KB\n"
          ]
        }
      ],
      "source": [
        "mainGitHub='https://github.com/CienciaDeDatosEspacial/dataSets/raw/refs/heads/main/'\n",
        "linkCountiesMA=mainGitHub+\"MASSACHUSETTS/counties_mass.zip\"\n",
        "\n",
        "import geopandas as gpd\n",
        "countiesMA = gpd.read_file(linkCountiesMA)\n",
        "\n",
        "countiesMA.info()"
      ]
    },
    {
      "cell_type": "markdown",
      "metadata": {
        "id": "d4hjM8IJRui8"
      },
      "source": [
        "2. The crime per county in the USA (from [KAGGLE](https://www.kaggle.com/datasets/mikejohnsonjr/united-states-crime-rates-by-county/data))"
      ]
    },
    {
      "cell_type": "code",
      "execution_count": 3,
      "metadata": {
        "id": "0lkm_T0YRi2W",
        "outputId": "13c265ff-dee0-4b3f-ad4a-3b1f6f97e948",
        "colab": {
          "base_uri": "https://localhost:8080/"
        }
      },
      "outputs": [
        {
          "output_type": "stream",
          "name": "stdout",
          "text": [
            "<class 'pandas.core.frame.DataFrame'>\n",
            "RangeIndex: 3136 entries, 0 to 3135\n",
            "Data columns (total 25 columns):\n",
            " #   Column                 Non-Null Count  Dtype  \n",
            "---  ------                 --------------  -----  \n",
            " 0   county_name            3136 non-null   object \n",
            " 1   state                  3136 non-null   object \n",
            " 2   crime_rate_per_100000  3136 non-null   float64\n",
            " 3   index                  3136 non-null   int64  \n",
            " 4   EDITION                3136 non-null   int64  \n",
            " 5   PART                   3136 non-null   int64  \n",
            " 6   IDNO                   3136 non-null   int64  \n",
            " 7   CPOPARST               3136 non-null   int64  \n",
            " 8   CPOPCRIM               3136 non-null   int64  \n",
            " 9   AG_ARRST               3136 non-null   int64  \n",
            " 10  AG_OFF                 3136 non-null   int64  \n",
            " 11  COVIND                 3136 non-null   float64\n",
            " 12  INDEX                  3136 non-null   int64  \n",
            " 13  MODINDX                3136 non-null   int64  \n",
            " 14  MURDER                 3136 non-null   int64  \n",
            " 15  RAPE                   3136 non-null   int64  \n",
            " 16  ROBBERY                3136 non-null   int64  \n",
            " 17  AGASSLT                3136 non-null   int64  \n",
            " 18  BURGLRY                3136 non-null   int64  \n",
            " 19  LARCENY                3136 non-null   int64  \n",
            " 20  MVTHEFT                3136 non-null   int64  \n",
            " 21  ARSON                  3136 non-null   int64  \n",
            " 22  population             3136 non-null   int64  \n",
            " 23  FIPS_ST                3136 non-null   int64  \n",
            " 24  FIPS_CTY               3136 non-null   int64  \n",
            "dtypes: float64(2), int64(21), object(2)\n",
            "memory usage: 612.6+ KB\n"
          ]
        }
      ],
      "source": [
        "import pandas as pd\n",
        "\n",
        "\n",
        "linkCrimeCountyUSA=mainGitHub+\"MASSACHUSETTS/crime_data_w_population_and_crime_rate.xlsx\"\n",
        "CrimeCountyUSA = pd.read_excel(linkCrimeCountyUSA)\n",
        "\n",
        "CrimeCountyUSA.info()"
      ]
    },
    {
      "cell_type": "markdown",
      "metadata": {
        "id": "FgTt1xCyRui9"
      },
      "source": [
        "3. The map of municipalities of MA ([MAP-GIS](https://www.mass.gov/info-details/massgis-data-municipalities))"
      ]
    },
    {
      "cell_type": "code",
      "execution_count": 4,
      "metadata": {
        "id": "yQxlitpBRui-",
        "outputId": "1b65a37a-4906-448d-9ae3-c92c3b7abf65",
        "colab": {
          "base_uri": "https://localhost:8080/"
        }
      },
      "outputs": [
        {
          "output_type": "stream",
          "name": "stdout",
          "text": [
            "<class 'geopandas.geodataframe.GeoDataFrame'>\n",
            "RangeIndex: 351 entries, 0 to 350\n",
            "Data columns (total 19 columns):\n",
            " #   Column             Non-Null Count  Dtype   \n",
            "---  ------             --------------  -----   \n",
            " 0   id                 351 non-null    object  \n",
            " 1   town               351 non-null    object  \n",
            " 2   town_id            351 non-null    int32   \n",
            " 3   type               351 non-null    object  \n",
            " 4   county             351 non-null    object  \n",
            " 5   fips_stco          351 non-null    int32   \n",
            " 6   fourcolor          351 non-null    int32   \n",
            " 7   pop1960            351 non-null    int32   \n",
            " 8   pop1970            351 non-null    int32   \n",
            " 9   pop1980            351 non-null    int32   \n",
            " 10  pop1990            351 non-null    int32   \n",
            " 11  pop2000            351 non-null    int32   \n",
            " 12  pop2010            351 non-null    int32   \n",
            " 13  pop2020            351 non-null    int32   \n",
            " 14  popch10_20         351 non-null    int32   \n",
            " 15  area_acres         351 non-null    float64 \n",
            " 16  area_sqmi          351 non-null    float64 \n",
            " 17  gdb_geomattr_data  4 non-null      object  \n",
            " 18  geometry           351 non-null    geometry\n",
            "dtypes: float64(2), geometry(1), int32(11), object(5)\n",
            "memory usage: 37.1+ KB\n"
          ]
        }
      ],
      "source": [
        "linkMunsMA=mainGitHub+\"MASSACHUSETTS/municipalities.zip\"\n",
        "\n",
        "import geopandas as gpd\n",
        "MunsMA = gpd.read_file(linkMunsMA)\n",
        "\n",
        "MunsMA.info()"
      ]
    },
    {
      "cell_type": "markdown",
      "metadata": {
        "id": "mP2LgUbORui-"
      },
      "source": [
        "## Preprocessing the \"source\" and \"target\"\n",
        "\n",
        "Areal interpolation is a technique that estimates data values for a set of target zones by redistributing known values from a different set of overlapping source zones. The goal is to obtain estimates for unknown values at the TARGET level based on the known counts at the SOURCE level.\n",
        "\n",
        "This requires some preprocessing:\n",
        "\n",
        "1. Establish a **Consistent, Projected CRS**. All GeoDataFrames must share the same projected CRS (e.g., EPSG:3857, UTM, or a local Equal-Area projection) to ensure that geometric calculations like area overlap and feature intersection are accurate and not distorted by latitude/longitude measurements.\n",
        "2. Ensure **Geometric Alignment**. Confirm that the source and target boundaries are geometrically clean (no self-intersections or gaps) and that the target units perfectly tile the source units where data is to be estimated.\n",
        "3. **The source map should have the variable of interest**. The crime data is not yet there, it is in a different file; we need to merge the crime data from a DataFrame into the counties GeoDataFrame. If you have population data, keep it.\n",
        "\n",
        "\n",
        "In all cases, give a good format to column names so they are self-descriptive.\n",
        "   "
      ]
    },
    {
      "cell_type": "markdown",
      "metadata": {
        "id": "Z1mHN5_fRui-"
      },
      "source": [
        "### The CRS\n",
        "\n",
        "Let's confirm the are projected, and share the same crs:"
      ]
    },
    {
      "cell_type": "code",
      "execution_count": 5,
      "metadata": {
        "id": "H4SrAnE_Rui_",
        "outputId": "64419032-42e7-4a94-933c-2bc1279e3645",
        "colab": {
          "base_uri": "https://localhost:8080/"
        }
      },
      "outputs": [
        {
          "output_type": "execute_result",
          "data": {
            "text/plain": [
              "(26986, 26986, True)"
            ]
          },
          "metadata": {},
          "execution_count": 5
        }
      ],
      "source": [
        "countiesMA.crs.to_epsg(), MunsMA.crs.to_epsg(), MunsMA.crs.is_projected"
      ]
    },
    {
      "cell_type": "markdown",
      "metadata": {
        "id": "bjciS7QwRui_"
      },
      "source": [
        "The crs '26986' is an adequate projection, provides the necessary local accuracy and area preservation required to run interpolation in Massachusetts."
      ]
    },
    {
      "cell_type": "markdown",
      "metadata": {
        "id": "8Nx0FvFFRui_"
      },
      "source": [
        "### The Alignment of Target GDF\n",
        "\n",
        "Let's verify we have the same amount of counties:"
      ]
    },
    {
      "cell_type": "code",
      "execution_count": 6,
      "metadata": {
        "id": "Gfn5ncxbRujA",
        "outputId": "a91a704e-fa93-4087-94f1-42a3d14a9eb8",
        "colab": {
          "base_uri": "https://localhost:8080/"
        }
      },
      "outputs": [
        {
          "output_type": "execute_result",
          "data": {
            "text/plain": [
              "(14, 14)"
            ]
          },
          "metadata": {},
          "execution_count": 6
        }
      ],
      "source": [
        "len(set(MunsMA.fips_stco)), len(set(countiesMA.fips_id))"
      ]
    },
    {
      "cell_type": "markdown",
      "metadata": {
        "id": "TNewdKXRRujA"
      },
      "source": [
        "So the count is ok."
      ]
    },
    {
      "cell_type": "markdown",
      "metadata": {
        "id": "wAfMB5rGRujA"
      },
      "source": [
        "Let me verify alignment between both GDFs. If we dissolve the municipalities/towns by county - the union of this GDF with the countiesMA GDF should have the same amount of rows (14)"
      ]
    },
    {
      "cell_type": "code",
      "execution_count": 7,
      "metadata": {
        "id": "xfYjyP48RujA",
        "outputId": "6d121495-24e5-440a-810e-d7844b1f7914",
        "colab": {
          "base_uri": "https://localhost:8080/"
        }
      },
      "outputs": [
        {
          "output_type": "execute_result",
          "data": {
            "text/plain": [
              "(35, 32)"
            ]
          },
          "metadata": {},
          "execution_count": 7
        }
      ],
      "source": [
        "countiesMA.overlay(MunsMA.dissolve(by='county'),keep_geom_type=True,how='union').shape"
      ]
    },
    {
      "cell_type": "markdown",
      "metadata": {
        "id": "mpJy9G7qRujA"
      },
      "source": [
        "We have 35 polygons. We expected 14. The smart solution is to use the municipalities themselves to build up the counties.  Let's see how MunsMA can serve for the counties map:"
      ]
    },
    {
      "cell_type": "code",
      "execution_count": 8,
      "metadata": {
        "id": "3HOUEhOVRujB",
        "outputId": "95e519ff-95b7-41d5-80eb-961eb008db22",
        "colab": {
          "base_uri": "https://localhost:8080/"
        }
      },
      "outputs": [
        {
          "output_type": "stream",
          "name": "stdout",
          "text": [
            "<class 'geopandas.geodataframe.GeoDataFrame'>\n",
            "RangeIndex: 14 entries, 0 to 13\n",
            "Data columns (total 2 columns):\n",
            " #   Column    Non-Null Count  Dtype   \n",
            "---  ------    --------------  -----   \n",
            " 0   fips_id   14 non-null     int32   \n",
            " 1   geometry  14 non-null     geometry\n",
            "dtypes: geometry(1), int32(1)\n",
            "memory usage: 300.0 bytes\n"
          ]
        }
      ],
      "source": [
        "countiesMA_source=MunsMA.dissolve(by='fips_stco',as_index=False)\n",
        "\n",
        "keep=['fips_stco','geometry']\n",
        "countiesMA_source=countiesMA_source[keep]\n",
        "countiesMA_source.rename(columns={'fips_stco':'fips_id'},inplace=True)\n",
        "\n",
        "# here\n",
        "countiesMA_source.info()"
      ]
    },
    {
      "cell_type": "markdown",
      "metadata": {
        "id": "yvIv5ILARujB"
      },
      "source": [
        "This should give 14:"
      ]
    },
    {
      "cell_type": "code",
      "execution_count": 9,
      "metadata": {
        "id": "hik0EYSpRujB",
        "outputId": "17cdb998-40ca-4bd7-ec8b-5c064e47e590",
        "colab": {
          "base_uri": "https://localhost:8080/"
        }
      },
      "outputs": [
        {
          "output_type": "execute_result",
          "data": {
            "text/plain": [
              "(14, 19)"
            ]
          },
          "metadata": {},
          "execution_count": 9
        }
      ],
      "source": [
        "countiesMA_source.overlay(MunsMA.dissolve(by='county'),keep_geom_type=True,how='union').shape"
      ]
    },
    {
      "cell_type": "markdown",
      "metadata": {
        "id": "vZQLy3XKRujB"
      },
      "source": [
        "Now we are sure both county and municipality maps align."
      ]
    },
    {
      "cell_type": "markdown",
      "metadata": {
        "id": "FM_Oqk6pRujB"
      },
      "source": [
        "### The Target map"
      ]
    },
    {
      "cell_type": "markdown",
      "metadata": {
        "id": "YNPkjuj2RujB"
      },
      "source": [
        "The municipalities map is our target. Let's just keep what may be needed:"
      ]
    },
    {
      "cell_type": "code",
      "execution_count": 10,
      "metadata": {
        "id": "_9qcm6JQRujC",
        "outputId": "8788b11c-3021-4047-c713-e1d88d14f7ad",
        "colab": {
          "base_uri": "https://localhost:8080/",
          "height": 424
        }
      },
      "outputs": [
        {
          "output_type": "execute_result",
          "data": {
            "text/plain": [
              "              town     county  fips_id  pop2020  \\\n",
              "0           LEYDEN   FRANKLIN    25011      734   \n",
              "1           HUDSON  MIDDLESEX    25017    20092   \n",
              "2         WESTWOOD    NORFOLK    25021    16266   \n",
              "3          HOLLAND    HAMPDEN    25013     2603   \n",
              "4          NORWOOD    NORFOLK    25021    31611   \n",
              "..             ...        ...      ...      ...   \n",
              "346    NORTHBRIDGE  WORCESTER    25027    16335   \n",
              "347    EASTHAMPTON  HAMPSHIRE    25015    16211   \n",
              "348  NORTH ANDOVER      ESSEX    25009    30915   \n",
              "349         NORTON    BRISTOL    25005    19202   \n",
              "350        HAMPDEN    HAMPDEN    25013     4966   \n",
              "\n",
              "                                              geometry  \n",
              "0    POLYGON ((110027.553 942832.065, 110708.203 93...  \n",
              "1    POLYGON ((197690.773 905668.345, 197791.653 90...  \n",
              "2    POLYGON ((227514.413 885958.825, 229226.782 88...  \n",
              "3    POLYGON ((147457.513 871335.125, 147357.562 86...  \n",
              "4    POLYGON ((225443.469 884850.765, 225573.992 88...  \n",
              "..                                                 ...  \n",
              "346  POLYGON ((188252.282 879479.415, 191146.102 87...  \n",
              "347  POLYGON ((103344.752 893965.825, 104317.992 89...  \n",
              "348  POLYGON ((232049.362 942816.125, 233051.542 94...  \n",
              "349  POLYGON ((233072.343 860388.955, 231021.932 85...  \n",
              "350  POLYGON ((128209.623 865065.755, 126153.943 86...  \n",
              "\n",
              "[351 rows x 5 columns]"
            ],
            "text/html": [
              "\n",
              "  <div id=\"df-b9a60ebb-4755-4f31-85dc-e1164ae085fe\" class=\"colab-df-container\">\n",
              "    <div>\n",
              "<style scoped>\n",
              "    .dataframe tbody tr th:only-of-type {\n",
              "        vertical-align: middle;\n",
              "    }\n",
              "\n",
              "    .dataframe tbody tr th {\n",
              "        vertical-align: top;\n",
              "    }\n",
              "\n",
              "    .dataframe thead th {\n",
              "        text-align: right;\n",
              "    }\n",
              "</style>\n",
              "<table border=\"1\" class=\"dataframe\">\n",
              "  <thead>\n",
              "    <tr style=\"text-align: right;\">\n",
              "      <th></th>\n",
              "      <th>town</th>\n",
              "      <th>county</th>\n",
              "      <th>fips_id</th>\n",
              "      <th>pop2020</th>\n",
              "      <th>geometry</th>\n",
              "    </tr>\n",
              "  </thead>\n",
              "  <tbody>\n",
              "    <tr>\n",
              "      <th>0</th>\n",
              "      <td>LEYDEN</td>\n",
              "      <td>FRANKLIN</td>\n",
              "      <td>25011</td>\n",
              "      <td>734</td>\n",
              "      <td>POLYGON ((110027.553 942832.065, 110708.203 93...</td>\n",
              "    </tr>\n",
              "    <tr>\n",
              "      <th>1</th>\n",
              "      <td>HUDSON</td>\n",
              "      <td>MIDDLESEX</td>\n",
              "      <td>25017</td>\n",
              "      <td>20092</td>\n",
              "      <td>POLYGON ((197690.773 905668.345, 197791.653 90...</td>\n",
              "    </tr>\n",
              "    <tr>\n",
              "      <th>2</th>\n",
              "      <td>WESTWOOD</td>\n",
              "      <td>NORFOLK</td>\n",
              "      <td>25021</td>\n",
              "      <td>16266</td>\n",
              "      <td>POLYGON ((227514.413 885958.825, 229226.782 88...</td>\n",
              "    </tr>\n",
              "    <tr>\n",
              "      <th>3</th>\n",
              "      <td>HOLLAND</td>\n",
              "      <td>HAMPDEN</td>\n",
              "      <td>25013</td>\n",
              "      <td>2603</td>\n",
              "      <td>POLYGON ((147457.513 871335.125, 147357.562 86...</td>\n",
              "    </tr>\n",
              "    <tr>\n",
              "      <th>4</th>\n",
              "      <td>NORWOOD</td>\n",
              "      <td>NORFOLK</td>\n",
              "      <td>25021</td>\n",
              "      <td>31611</td>\n",
              "      <td>POLYGON ((225443.469 884850.765, 225573.992 88...</td>\n",
              "    </tr>\n",
              "    <tr>\n",
              "      <th>...</th>\n",
              "      <td>...</td>\n",
              "      <td>...</td>\n",
              "      <td>...</td>\n",
              "      <td>...</td>\n",
              "      <td>...</td>\n",
              "    </tr>\n",
              "    <tr>\n",
              "      <th>346</th>\n",
              "      <td>NORTHBRIDGE</td>\n",
              "      <td>WORCESTER</td>\n",
              "      <td>25027</td>\n",
              "      <td>16335</td>\n",
              "      <td>POLYGON ((188252.282 879479.415, 191146.102 87...</td>\n",
              "    </tr>\n",
              "    <tr>\n",
              "      <th>347</th>\n",
              "      <td>EASTHAMPTON</td>\n",
              "      <td>HAMPSHIRE</td>\n",
              "      <td>25015</td>\n",
              "      <td>16211</td>\n",
              "      <td>POLYGON ((103344.752 893965.825, 104317.992 89...</td>\n",
              "    </tr>\n",
              "    <tr>\n",
              "      <th>348</th>\n",
              "      <td>NORTH ANDOVER</td>\n",
              "      <td>ESSEX</td>\n",
              "      <td>25009</td>\n",
              "      <td>30915</td>\n",
              "      <td>POLYGON ((232049.362 942816.125, 233051.542 94...</td>\n",
              "    </tr>\n",
              "    <tr>\n",
              "      <th>349</th>\n",
              "      <td>NORTON</td>\n",
              "      <td>BRISTOL</td>\n",
              "      <td>25005</td>\n",
              "      <td>19202</td>\n",
              "      <td>POLYGON ((233072.343 860388.955, 231021.932 85...</td>\n",
              "    </tr>\n",
              "    <tr>\n",
              "      <th>350</th>\n",
              "      <td>HAMPDEN</td>\n",
              "      <td>HAMPDEN</td>\n",
              "      <td>25013</td>\n",
              "      <td>4966</td>\n",
              "      <td>POLYGON ((128209.623 865065.755, 126153.943 86...</td>\n",
              "    </tr>\n",
              "  </tbody>\n",
              "</table>\n",
              "<p>351 rows × 5 columns</p>\n",
              "</div>\n",
              "    <div class=\"colab-df-buttons\">\n",
              "\n",
              "  <div class=\"colab-df-container\">\n",
              "    <button class=\"colab-df-convert\" onclick=\"convertToInteractive('df-b9a60ebb-4755-4f31-85dc-e1164ae085fe')\"\n",
              "            title=\"Convert this dataframe to an interactive table.\"\n",
              "            style=\"display:none;\">\n",
              "\n",
              "  <svg xmlns=\"http://www.w3.org/2000/svg\" height=\"24px\" viewBox=\"0 -960 960 960\">\n",
              "    <path d=\"M120-120v-720h720v720H120Zm60-500h600v-160H180v160Zm220 220h160v-160H400v160Zm0 220h160v-160H400v160ZM180-400h160v-160H180v160Zm440 0h160v-160H620v160ZM180-180h160v-160H180v160Zm440 0h160v-160H620v160Z\"/>\n",
              "  </svg>\n",
              "    </button>\n",
              "\n",
              "  <style>\n",
              "    .colab-df-container {\n",
              "      display:flex;\n",
              "      gap: 12px;\n",
              "    }\n",
              "\n",
              "    .colab-df-convert {\n",
              "      background-color: #E8F0FE;\n",
              "      border: none;\n",
              "      border-radius: 50%;\n",
              "      cursor: pointer;\n",
              "      display: none;\n",
              "      fill: #1967D2;\n",
              "      height: 32px;\n",
              "      padding: 0 0 0 0;\n",
              "      width: 32px;\n",
              "    }\n",
              "\n",
              "    .colab-df-convert:hover {\n",
              "      background-color: #E2EBFA;\n",
              "      box-shadow: 0px 1px 2px rgba(60, 64, 67, 0.3), 0px 1px 3px 1px rgba(60, 64, 67, 0.15);\n",
              "      fill: #174EA6;\n",
              "    }\n",
              "\n",
              "    .colab-df-buttons div {\n",
              "      margin-bottom: 4px;\n",
              "    }\n",
              "\n",
              "    [theme=dark] .colab-df-convert {\n",
              "      background-color: #3B4455;\n",
              "      fill: #D2E3FC;\n",
              "    }\n",
              "\n",
              "    [theme=dark] .colab-df-convert:hover {\n",
              "      background-color: #434B5C;\n",
              "      box-shadow: 0px 1px 3px 1px rgba(0, 0, 0, 0.15);\n",
              "      filter: drop-shadow(0px 1px 2px rgba(0, 0, 0, 0.3));\n",
              "      fill: #FFFFFF;\n",
              "    }\n",
              "  </style>\n",
              "\n",
              "    <script>\n",
              "      const buttonEl =\n",
              "        document.querySelector('#df-b9a60ebb-4755-4f31-85dc-e1164ae085fe button.colab-df-convert');\n",
              "      buttonEl.style.display =\n",
              "        google.colab.kernel.accessAllowed ? 'block' : 'none';\n",
              "\n",
              "      async function convertToInteractive(key) {\n",
              "        const element = document.querySelector('#df-b9a60ebb-4755-4f31-85dc-e1164ae085fe');\n",
              "        const dataTable =\n",
              "          await google.colab.kernel.invokeFunction('convertToInteractive',\n",
              "                                                    [key], {});\n",
              "        if (!dataTable) return;\n",
              "\n",
              "        const docLinkHtml = 'Like what you see? Visit the ' +\n",
              "          '<a target=\"_blank\" href=https://colab.research.google.com/notebooks/data_table.ipynb>data table notebook</a>'\n",
              "          + ' to learn more about interactive tables.';\n",
              "        element.innerHTML = '';\n",
              "        dataTable['output_type'] = 'display_data';\n",
              "        await google.colab.output.renderOutput(dataTable, element);\n",
              "        const docLink = document.createElement('div');\n",
              "        docLink.innerHTML = docLinkHtml;\n",
              "        element.appendChild(docLink);\n",
              "      }\n",
              "    </script>\n",
              "  </div>\n",
              "\n",
              "\n",
              "    <div id=\"df-d8dc2b5b-3e96-4902-bc79-700fe8469eeb\">\n",
              "      <button class=\"colab-df-quickchart\" onclick=\"quickchart('df-d8dc2b5b-3e96-4902-bc79-700fe8469eeb')\"\n",
              "                title=\"Suggest charts\"\n",
              "                style=\"display:none;\">\n",
              "\n",
              "<svg xmlns=\"http://www.w3.org/2000/svg\" height=\"24px\"viewBox=\"0 0 24 24\"\n",
              "     width=\"24px\">\n",
              "    <g>\n",
              "        <path d=\"M19 3H5c-1.1 0-2 .9-2 2v14c0 1.1.9 2 2 2h14c1.1 0 2-.9 2-2V5c0-1.1-.9-2-2-2zM9 17H7v-7h2v7zm4 0h-2V7h2v10zm4 0h-2v-4h2v4z\"/>\n",
              "    </g>\n",
              "</svg>\n",
              "      </button>\n",
              "\n",
              "<style>\n",
              "  .colab-df-quickchart {\n",
              "      --bg-color: #E8F0FE;\n",
              "      --fill-color: #1967D2;\n",
              "      --hover-bg-color: #E2EBFA;\n",
              "      --hover-fill-color: #174EA6;\n",
              "      --disabled-fill-color: #AAA;\n",
              "      --disabled-bg-color: #DDD;\n",
              "  }\n",
              "\n",
              "  [theme=dark] .colab-df-quickchart {\n",
              "      --bg-color: #3B4455;\n",
              "      --fill-color: #D2E3FC;\n",
              "      --hover-bg-color: #434B5C;\n",
              "      --hover-fill-color: #FFFFFF;\n",
              "      --disabled-bg-color: #3B4455;\n",
              "      --disabled-fill-color: #666;\n",
              "  }\n",
              "\n",
              "  .colab-df-quickchart {\n",
              "    background-color: var(--bg-color);\n",
              "    border: none;\n",
              "    border-radius: 50%;\n",
              "    cursor: pointer;\n",
              "    display: none;\n",
              "    fill: var(--fill-color);\n",
              "    height: 32px;\n",
              "    padding: 0;\n",
              "    width: 32px;\n",
              "  }\n",
              "\n",
              "  .colab-df-quickchart:hover {\n",
              "    background-color: var(--hover-bg-color);\n",
              "    box-shadow: 0 1px 2px rgba(60, 64, 67, 0.3), 0 1px 3px 1px rgba(60, 64, 67, 0.15);\n",
              "    fill: var(--button-hover-fill-color);\n",
              "  }\n",
              "\n",
              "  .colab-df-quickchart-complete:disabled,\n",
              "  .colab-df-quickchart-complete:disabled:hover {\n",
              "    background-color: var(--disabled-bg-color);\n",
              "    fill: var(--disabled-fill-color);\n",
              "    box-shadow: none;\n",
              "  }\n",
              "\n",
              "  .colab-df-spinner {\n",
              "    border: 2px solid var(--fill-color);\n",
              "    border-color: transparent;\n",
              "    border-bottom-color: var(--fill-color);\n",
              "    animation:\n",
              "      spin 1s steps(1) infinite;\n",
              "  }\n",
              "\n",
              "  @keyframes spin {\n",
              "    0% {\n",
              "      border-color: transparent;\n",
              "      border-bottom-color: var(--fill-color);\n",
              "      border-left-color: var(--fill-color);\n",
              "    }\n",
              "    20% {\n",
              "      border-color: transparent;\n",
              "      border-left-color: var(--fill-color);\n",
              "      border-top-color: var(--fill-color);\n",
              "    }\n",
              "    30% {\n",
              "      border-color: transparent;\n",
              "      border-left-color: var(--fill-color);\n",
              "      border-top-color: var(--fill-color);\n",
              "      border-right-color: var(--fill-color);\n",
              "    }\n",
              "    40% {\n",
              "      border-color: transparent;\n",
              "      border-right-color: var(--fill-color);\n",
              "      border-top-color: var(--fill-color);\n",
              "    }\n",
              "    60% {\n",
              "      border-color: transparent;\n",
              "      border-right-color: var(--fill-color);\n",
              "    }\n",
              "    80% {\n",
              "      border-color: transparent;\n",
              "      border-right-color: var(--fill-color);\n",
              "      border-bottom-color: var(--fill-color);\n",
              "    }\n",
              "    90% {\n",
              "      border-color: transparent;\n",
              "      border-bottom-color: var(--fill-color);\n",
              "    }\n",
              "  }\n",
              "</style>\n",
              "\n",
              "      <script>\n",
              "        async function quickchart(key) {\n",
              "          const quickchartButtonEl =\n",
              "            document.querySelector('#' + key + ' button');\n",
              "          quickchartButtonEl.disabled = true;  // To prevent multiple clicks.\n",
              "          quickchartButtonEl.classList.add('colab-df-spinner');\n",
              "          try {\n",
              "            const charts = await google.colab.kernel.invokeFunction(\n",
              "                'suggestCharts', [key], {});\n",
              "          } catch (error) {\n",
              "            console.error('Error during call to suggestCharts:', error);\n",
              "          }\n",
              "          quickchartButtonEl.classList.remove('colab-df-spinner');\n",
              "          quickchartButtonEl.classList.add('colab-df-quickchart-complete');\n",
              "        }\n",
              "        (() => {\n",
              "          let quickchartButtonEl =\n",
              "            document.querySelector('#df-d8dc2b5b-3e96-4902-bc79-700fe8469eeb button');\n",
              "          quickchartButtonEl.style.display =\n",
              "            google.colab.kernel.accessAllowed ? 'block' : 'none';\n",
              "        })();\n",
              "      </script>\n",
              "    </div>\n",
              "\n",
              "  <div id=\"id_945b04bd-aaec-4440-8874-5f76d20b14f5\">\n",
              "    <style>\n",
              "      .colab-df-generate {\n",
              "        background-color: #E8F0FE;\n",
              "        border: none;\n",
              "        border-radius: 50%;\n",
              "        cursor: pointer;\n",
              "        display: none;\n",
              "        fill: #1967D2;\n",
              "        height: 32px;\n",
              "        padding: 0 0 0 0;\n",
              "        width: 32px;\n",
              "      }\n",
              "\n",
              "      .colab-df-generate:hover {\n",
              "        background-color: #E2EBFA;\n",
              "        box-shadow: 0px 1px 2px rgba(60, 64, 67, 0.3), 0px 1px 3px 1px rgba(60, 64, 67, 0.15);\n",
              "        fill: #174EA6;\n",
              "      }\n",
              "\n",
              "      [theme=dark] .colab-df-generate {\n",
              "        background-color: #3B4455;\n",
              "        fill: #D2E3FC;\n",
              "      }\n",
              "\n",
              "      [theme=dark] .colab-df-generate:hover {\n",
              "        background-color: #434B5C;\n",
              "        box-shadow: 0px 1px 3px 1px rgba(0, 0, 0, 0.15);\n",
              "        filter: drop-shadow(0px 1px 2px rgba(0, 0, 0, 0.3));\n",
              "        fill: #FFFFFF;\n",
              "      }\n",
              "    </style>\n",
              "    <button class=\"colab-df-generate\" onclick=\"generateWithVariable('municipalitiesMA_target')\"\n",
              "            title=\"Generate code using this dataframe.\"\n",
              "            style=\"display:none;\">\n",
              "\n",
              "  <svg xmlns=\"http://www.w3.org/2000/svg\" height=\"24px\"viewBox=\"0 0 24 24\"\n",
              "       width=\"24px\">\n",
              "    <path d=\"M7,19H8.4L18.45,9,17,7.55,7,17.6ZM5,21V16.75L18.45,3.32a2,2,0,0,1,2.83,0l1.4,1.43a1.91,1.91,0,0,1,.58,1.4,1.91,1.91,0,0,1-.58,1.4L9.25,21ZM18.45,9,17,7.55Zm-12,3A5.31,5.31,0,0,0,4.9,8.1,5.31,5.31,0,0,0,1,6.5,5.31,5.31,0,0,0,4.9,4.9,5.31,5.31,0,0,0,6.5,1,5.31,5.31,0,0,0,8.1,4.9,5.31,5.31,0,0,0,12,6.5,5.46,5.46,0,0,0,6.5,12Z\"/>\n",
              "  </svg>\n",
              "    </button>\n",
              "    <script>\n",
              "      (() => {\n",
              "      const buttonEl =\n",
              "        document.querySelector('#id_945b04bd-aaec-4440-8874-5f76d20b14f5 button.colab-df-generate');\n",
              "      buttonEl.style.display =\n",
              "        google.colab.kernel.accessAllowed ? 'block' : 'none';\n",
              "\n",
              "      buttonEl.onclick = () => {\n",
              "        google.colab.notebook.generateWithVariable('municipalitiesMA_target');\n",
              "      }\n",
              "      })();\n",
              "    </script>\n",
              "  </div>\n",
              "\n",
              "    </div>\n",
              "  </div>\n"
            ],
            "application/vnd.google.colaboratory.intrinsic+json": {
              "type": "dataframe",
              "variable_name": "municipalitiesMA_target",
              "summary": "{\n  \"name\": \"municipalitiesMA_target\",\n  \"rows\": 351,\n  \"fields\": [\n    {\n      \"column\": \"town\",\n      \"properties\": {\n        \"dtype\": \"string\",\n        \"num_unique_values\": 351,\n        \"samples\": [\n          \"FRANKLIN\",\n          \"BOYLSTON\",\n          \"NATICK\"\n        ],\n        \"semantic_type\": \"\",\n        \"description\": \"\"\n      }\n    },\n    {\n      \"column\": \"county\",\n      \"properties\": {\n        \"dtype\": \"category\",\n        \"num_unique_values\": 14,\n        \"samples\": [\n          \"BARNSTABLE\",\n          \"NANTUCKET\",\n          \"FRANKLIN\"\n        ],\n        \"semantic_type\": \"\",\n        \"description\": \"\"\n      }\n    },\n    {\n      \"column\": \"fips_id\",\n      \"properties\": {\n        \"dtype\": \"int32\",\n        \"num_unique_values\": 14,\n        \"samples\": [\n          25001,\n          25019,\n          25011\n        ],\n        \"semantic_type\": \"\",\n        \"description\": \"\"\n      }\n    },\n    {\n      \"column\": \"pop2020\",\n      \"properties\": {\n        \"dtype\": \"int32\",\n        \"num_unique_values\": 351,\n        \"samples\": [\n          33261,\n          4849,\n          37006\n        ],\n        \"semantic_type\": \"\",\n        \"description\": \"\"\n      }\n    },\n    {\n      \"column\": \"geometry\",\n      \"properties\": {\n        \"dtype\": \"geometry\",\n        \"num_unique_values\": 351,\n        \"samples\": [\n          \"POLYGON ((208505.83250000328 876327.614599999, 209508.08250000328 876100.8746000007, 209507.97249999642 876109.6645999998, 209513.79249999672 876108.2945999987, 209522.68249999732 876103.8145999983, 209537.15250000358 876101.2245999984, 209551.1625000015 876100.4545999989, 209594.1424999982 876089.3746000007, 209631.8125 876091.9246000014, 209639.94250000268 876093.8346000016, 209645.68249999732 876096.7045999989, 209648.79249999672 876101.0045999996, 209649.9825000018 876104.8346000016, 209650.4624999985 876111.5245999992, 209654.29249999672 876119.6545999981, 209658.8025000021 876124.4846000001, 209661.4624999985 876126.3546000011, 209665.0225000009 876127.694600001, 209692.3125 876133.5346000008, 209728.4125000015 876135.6845999993, 209739.4125000015 876133.7646000013, 209747.3125 876131.3746000007, 209753.2824999988 876127.3145999983, 209755.44250000268 876119.1845999993, 209753.04249999672 876112.2446000017, 209745.15250000358 876103.3946000002, 209737.50249999762 876099.3346000016, 209721.7025000006 876094.2446000017, 209708.8125 876090.7245999984, 209698.5324999988 876083.7945999987, 209688.9624999985 876073.9846000001, 209684.4224999994 876063.944600001, 209681.7725000009 876052.4646000005, 209682.0225000009 876038.3546000011, 209683.94250000268 876026.6446000002, 209682.79249999672 876016.8746000007, 209680.11249999702 875994.364599999, 209678.9224999994 875983.1246000007, 209679.40250000358 875974.0346000008, 209682.7424999997 875968.5346000008, 209698.04249999672 875960.1645999998, 209711.9125000015 875952.9946000017, 209718.1325000003 875950.6046000011, 209726.0225000009 875949.8845999986, 209731.5225000009 875947.2545999996, 209738.5525000021 875949.0346000008, 209742.76250000298 875952.0346000008, 209745.6325000003 875950.8445999995, 209750.50249999762 875941.2545999996, 209749.4624999985 875935.2945999987, 209741.5724999979 875927.1645999998, 209723.6325000003 875925.2545999996, 209714.3125 875922.6246000007, 209702.69250000268 875927.444600001, 209696.61249999702 875925.9745999984, 209680.6724999994 875935.6845999993, 209670.0724999979 875937.4545999989, 209661.94250000268 875939.1246000007, 209650.22249999642 875930.9946000017, 209646.3924999982 875920.9545999989, 209644.2424999997 875912.8245999999, 209645.2025000006 875905.4045999981, 209651.18249999732 875902.0645999983, 209656.2025000006 875899.4345999993, 209670.0724999979 875883.6446000002, 209679.40250000358 875872.8946000002, 209687.76250000298 875866.1845999993, 209696.37250000238 875864.5146000013, 209703.7824999988 875867.864599999, 209710.4825000018 875882.944600001, 209715.26250000298 875897.9946000017, 209723.6325000003 875902.7745999992, 209733.6724999994 875904.4545999989, 209747.9125000015 875903.0745999999, 209760.5324999988 875899.3746000007, 209784.2824999988 875884.8845999986, 209795.93249999732 875873.4246000014, 209804.76250000298 875860.2846000008, 209806.6625000015 875852.8746000007, 209812.12250000238 875848.6845999993, 209819.76250000298 875839.9545999989, 209829.94250000268 875833.7745999992, 209838.4924999997 875833.6246000007, 209840.50249999762 875834.1345999986, 209842.00249999762 875835.3546000011, 209844.68249999732 875838.1345999986, 209856.3224999979 875855.4246000014, 209863.7725000009 875861.7846000008, 209872.1424999982 875864.5146000013, 209878.3224999979 875864.5146000013, 209883.9624999985 875862.7045999989, 209891.4224999994 875853.0546000004, 209895.6024999991 875847.9545999989, 209905.4224999994 875840.4345999993, 209912.37250000238 875817.864599999, 209910.72249999642 875816.2146000005, 209909.08250000328 875815.5146000013, 209906.61249999702 875816.8445999995, 209902.9525000006 875820.2146000005, 209898.7124999985 875826.8145999983, 209893.0525000021 875832.4646000005, 209886.47249999642 875835.2846000008, 209884.5925000012 875841.4045999981, 209877.9825000018 875846.1345999986, 209870.8125 875845.6545999981, 209863.65250000358 875839.444600001, 209850.29249999672 875826.5546000004, 209847.4224999994 875819.3946000002, 209839.3125 875817.4846000001, 209833.58250000328 875811.7545999996, 209833.1024999991 875795.5245999992, 209835.97249999642 875773.5645999983, 209840.7424999997 875759.7245999984, 209848.3825000003 875737.7745999992, 209858.4125000015 875718.6746000014, 209863.26250000298 875712.4646000005, 209867.29249999672 875711.0245999992, 209884.97249999642 875701.7146000005, 209894.1625000015 875695.6645999998, 209898.50249999762 875688.1246000007, 209901.26250000298 875681.9345999993, 209899.93249999732 875673.7945999987, 209893.25249999762 875666.1645999998, 209880.6024999991 875652.9646000005, 209874.3924999982 875648.6446000002, 209873.19250000268 875644.3546000011, 209873.19250000268 875640.9045999981, 209875.7725000009 875639.194600001, 209876.4525000006 875636.944600001, 209864.0525000021 875626.944600001, 209846.9525000006 875628.9246000014, 209835.01250000298 875626.0645999983, 209830.2424999997 875628.444600001, 209817.2424999997 875626.5945999995, 209811.3425000012 875627.4045999981, 209807.90250000358 875625.3746000007, 209804.1424999982 875624.9045999981, 209802.7725000009 875620.9246000014, 209800.3924999982 875618.9545999989, 209795.2325000018 875619.114599999, 209789.1325000003 875607.2346000001, 209786.00249999762 875606.1446000002, 209778.3425000012 875609.8946000002, 209778.65250000358 875615.6746000014, 209777.0925000012 875617.0846000016, 209773.4924999997 875615.5146000013, 209772.2424999997 875613.3346000016, 209767.86249999702 875613.6446000002, 209766.4624999985 875616.6246000007, 209766.7725000009 875619.114599999, 209768.5724999979 875621.4145999998, 209767.7124999985 875623.3346000016, 209765.0525000021 875623.3346000016, 209762.7025000006 875621.7745999992, 209762.86249999702 875616.4545999989, 209759.11249999702 875613.6545999981, 209755.1724999994 875610.364599999, 209754.1024999991 875608.9545999989, 209755.04249999672 875605.7545999996, 209757.68249999732 875600.7646000013, 209782.97249999642 875576.8946000002, 209785.36249999702 875570.6845999993, 209777.7424999997 875547.7745999992, 209775.3025000021 875542.9345999993, 209771.4224999994 875541.0945999995, 209769.5925000012 875534.364599999, 209759.8025000021 875527.8445999995, 209757.5625 875519.4846000001, 209751.8524999991 875510.5045999996, 209747.36249999702 875508.2646000013, 209745.11249999702 875502.7446000017, 209747.5625 875494.3946000002, 209747.7025000006 875489.9246000014, 209743.86249999702 875485.7545999996, 209742.19250000268 875481.9145999998, 209742.5225000009 875477.9045999981, 209742.0225000009 875475.9045999981, 209742.86249999702 875474.0745999999, 209745.2025000006 875474.5745999999, 209746.7025000006 875477.0745999999, 209749.87250000238 875479.9145999998, 209759.3825000003 875483.5846000016, 209769.8524999991 875485.8346000016, 209770.86249999702 875490.2446000017, 209770.86249999702 875494.864599999, 209772.4624999985 875495.864599999, 209779.90250000358 875493.1345999986, 209781.26250000298 875490.5945999995, 209785.44250000268 875488.3845999986, 209790.7025000006 875487.0346000008, 209794.29249999672 875479.2846000008, 209800.68249999732 875484.444600001, 209803.6325000003 875472.4045999981, 209806.0925000012 875467.4846000001, 209812.9825000018 875467.9745999984, 209817.22249999642 875453.7146000005, 209834.7424999997 875442.444600001, 209838.0525000021 875443.9045999981, 209840.9924999997 875440.9745999984, 209847.4525000006 875434.9646000005, 209850.90250000358 875428.114599999, 209855.68249999732 875420.7846000008, 209862.6625000015 875419.3046000004, 209865.40250000358 875412.9745999984, 209868.5324999988 875402.7745999992, 209867.8025000021 875392.8546000011, 209872.29249999672 875381.8746000007, 209873.3125 875367.1446000002, 209870.00249999762 875359.0645999983, 209868.1724999994 875351.7245999984, 209865.2325000018 875348.4145999998, 209866.33250000328 875343.2745999992, 209871.47249999642 875341.0745999999, 209875.8825000003 875337.3946000002, 209875.1424999982 875332.2545999996, 209871.47249999642 875322.3346000016, 209867.0625 875321.9745999984, 209866.33250000328 875316.8245999999, 209870.4125000015 875313.9545999989, 209872.5724999979 875302.5045999996, 209884.69250000268 875290.0245999992, 209890.5724999979 875287.444600001, 209898.65250000358 875273.4946000017, 209903.79249999672 875255.864599999, 209910.40250000358 875252.1845999993, 209918.12250000238 875233.0945999995, 209917.01250000298 875229.4145999998, 209912.97249999642 875227.2146000005, 209912.2424999997 875221.7045999989, 209912.61249999702 875214.3546000011, 209915.18249999732 875211.0546000004, 209918.8524999991 875190.4846000001, 209923.26250000298 875182.0346000008, 209923.62250000238 875174.3245999999, 209919.5925000012 875168.0846000016, 209920.51250000298 875160.3145999983, 209923.4825000018 875132.3546000011, 210939.43249999732 872996.0346000008, 211642.5724999979 871021.9045999981, 211145.0925000012 869541.0546000004, 209253.5525000021 865629.7245999984, 203651.22249999642 864946.194600001, 203745.9224999994 865966.5546000004, 203750.9624999985 866870.864599999, 203727.75249999762 868081.9345999993, 203651.65250000358 868085.6046000011, 203701.22249999642 869151.0146000013, 203831.33250000328 869135.9646000005, 203974.0724999979 870374.2146000005, 204417.76250000298 872415.1545999981, 204630.12250000238 874100.8245999999, 204732.87250000238 875387.4745999984, 204749.8924999982 875681.5245999992, 204750.68249999732 875691.7446000017, 204774.8825000003 875695.0745999999, 204791.61249999702 875697.364599999, 204809.1024999991 875703.444600001, 204820.6424999982 875712.9745999984, 204821.90250000358 875719.6046000011, 204817.9525000006 875726.0645999983, 204777.9224999994 875737.6746000014, 204766.3425000012 875740.9345999993, 204762.93249999732 875743.8046000004, 204760.9624999985 875746.6746000014, 204760.2424999997 875750.614599999, 204762.04249999672 875755.2745999992, 204774.8825000003 875772.6545999981, 204788.5724999979 875790.1446000002, 204792.37250000238 875818.2945999987, 204790.8524999991 875836.5445999987, 204781.72249999642 875858.6046000011, 204777.1625000015 875865.444600001, 204776.40250000358 875876.0846000016, 204792.37250000238 875895.8746000007, 204798.47249999642 875902.4545999989, 204798.29249999672 875909.7146000005, 204793.12250000238 875915.6446000002, 204784.76250000298 875919.444600001, 204775.2325000018 875921.3546000011, 204771.26250000298 875922.944600001, 204768.00249999762 875927.1446000002, 204764.2325000018 875938.4646000005, 204754.3425000012 875944.5445999987, 204742.1724999994 875945.3046000004, 204733.0525000021 875943.7846000008, 204724.68249999732 875946.8245999999, 204721.11249999702 875954.4545999989, 204721.86249999702 875962.8445999995, 204739.1325000003 875984.0945999995, 204751.3025000021 876007.6746000014, 204763.33250000328 876016.4246000014, 204769.75249999762 876019.2346000001, 204779.12250000238 876021.6446000002, 204799.76250000298 876019.6545999981, 204810.2725000009 876021.7745999992, 204820.9825000018 876028.3746000007, 204842.47249999642 876046.5245999992, 204850.26250000298 876051.4545999989, 204870.43249999732 876058.4145999998, 204895.2424999997 876073.0245999992, 204914.4924999997 876081.1345999986, 204940.93249999732 876095.7446000017, 204945.33250000328 876096.2146000005, 204950.68249999732 876094.5846000016, 204966.44250000268 876090.1845999993, 204991.72249999642 876079.9745999984, 205009.11249999702 876070.4646000005, 205021.6325000003 876068.8445999995, 205033.2424999997 876069.7745999992, 205043.4224999994 876072.7945999987, 205055.4924999997 876082.7646000013, 205060.1325000003 876086.2346000001, 205065.69250000268 876086.7045999989, 205074.04249999672 876086.2346000001, 205081.69250000268 876084.3845999986, 205101.87250000238 876075.3445999995, 205147.79249999672 876058.8746000007, 205189.40250000358 876050.3145999983, 205196.4924999997 876047.7446000017, 205203.1724999994 876045.0745999999, 205228.4924999997 876031.0445999987, 205249.1325000003 876016.4345999993, 205262.58250000328 876003.9145999998, 205270.7025000006 875992.7846000008, 205275.1024999991 875990.2346000001, 205280.6724999994 875989.7646000013, 205306.4125000015 875981.8845999986, 205314.76250000298 875981.4145999998, 205324.50249999762 875977.944600001, 205330.0625 875977.944600001, 205335.40250000358 875979.7945999987, 205360.44250000268 875981.8845999986, 205381.08250000328 875986.0546000004, 205392.68249999732 875990.2346000001, 205409.1424999982 875991.1645999998, 205415.87250000238 875994.1746000014, 205419.8125 875999.7446000017, 205419.11249999702 876011.3346000016, 205416.5625 876020.614599999, 205401.4924999997 876035.9145999998, 205388.2725000009 876054.4545999989, 205385.4924999997 876065.1345999986, 205383.6325000003 876074.1845999993, 205383.7824999988 876092.4745999984, 205381.7824999988 876109.4345999993, 205385.26250000298 876117.3145999983, 205394.76250000298 876131.4646000005, 205405.2025000006 876136.0945999995, 205415.6325000003 876139.8046000004, 205423.29249999672 876139.5745999999, 205428.0324999988 876138.0346000008, 205431.6424999982 876134.0146000013, 205433.9224999994 876119.6645999998, 205434.4224999994 876107.114599999, 205434.4224999994 876095.2846000008, 205432.33250000328 876086.2346000001, 205433.4924999997 876080.2146000005, 205437.6724999994 876076.5045999996, 205442.7725000009 876074.4045999981, 205448.5724999979 876074.8746000007, 205463.18249999732 876079.2846000008, 205473.15250000358 876083.9246000014, 205479.4125000015 876093.4246000014, 205482.6625000015 876100.1545999981, 205483.12250000238 876108.5045999996, 205484.97249999642 876114.3145999983, 205494.9525000006 876129.8346000016, 205497.9624999985 876137.7245999984, 205496.11249999702 876144.4545999989, 205488.22249999642 876150.4745999984, 205481.7325000018 876155.114599999, 205470.83250000328 876159.0546000004, 205467.12250000238 876163.694600001, 205466.19250000268 876168.3346000016, 205467.50249999762 876173.8746000007, 205471.76250000298 876177.8445999995, 205480.1024999991 876179.9246000014, 205486.6024999991 876183.6345999986, 205495.6424999982 876192.2146000005, 205500.9825000018 876199.8746000007, 205503.3025000021 876209.8445999995, 205505.1625000015 876217.7245999984, 205510.72249999642 876222.364599999, 205516.9825000018 876223.7545999996, 205525.79249999672 876227.4646000005, 205531.5925000012 876232.114599999, 205536.9224999994 876239.9946000017, 205541.1024999991 876252.9745999984, 205548.29249999672 876281.2745999992, 205556.40250000358 876303.7646000013, 205565.4525000006 876312.8145999983, 205578.43249999732 876319.5346000008, 205589.33250000328 876333.2146000005, 205598.3825000003 876349.6845999993, 205605.3224999979 876366.614599999, 205609.2824999988 876377.0445999987, 205614.61249999702 876385.3946000002, 205634.0925000012 876402.3145999983, 205641.7424999997 876406.7346000001, 205649.86249999702 876409.2846000008, 205662.61249999702 876410.444600001, 205674.6724999994 876412.2945999987, 205687.2025000006 876417.1645999998, 205699.4924999997 876422.0346000008, 205708.9924999997 876428.5245999992, 205716.65250000358 876442.9045999981, 205715.9525000006 876459.8445999995, 205718.2725000009 876469.5745999999, 205722.68249999732 876479.0846000016, 205736.36249999702 876494.8546000011, 205755.8425000012 876509.0045999996, 205763.72249999642 876511.5546000004, 205779.26250000298 876512.7146000005, 205804.7725000009 876513.1746000014, 205815.90250000358 876511.5546000004, 205824.4825000018 876507.8445999995, 205832.83250000328 876501.8145999983, 205838.6325000003 876493.0045999996, 205840.0225000009 876485.8145999983, 205848.6024999991 876469.5745999999, 205861.3524999991 876453.3445999995, 205876.3025000021 876439.6845999993, 205886.86249999702 876430.8445999995, 205902.87250000238 876424.5846000016, 205951.5724999979 876412.2945999987, 205964.3224999979 876411.6046000011, 205974.76250000298 876415.7745999992, 205987.0525000021 876426.444600001, 206002.72249999642 876447.3445999995, 206027.7124999985 876462.6345999986, 206053.8224999979 876470.0846000016, 206084.7725000009 876472.694600001, 206108.6424999982 876471.9545999989, 206132.15250000358 876474.194600001, 206158.2424999997 876482.3946000002, 206195.9125000015 876499.9246000014, 206222.76250000298 876508.8746000007, 206251.11249999702 876515.9646000005, 206276.47249999642 876517.8245999999, 206293.25249999762 876517.0745999999, 206299.22249999642 876519.694600001, 206302.5724999979 876522.2945999987, 206308.54249999672 876523.4145999998, 206316.37250000238 876524.5346000008, 206337.25249999762 876526.7745999992, 206370.4525000006 876518.944600001, 206402.8924999982 876503.2846000008, 206420.4224999994 876493.9545999989, 206440.19250000268 876485.3746000007, 206462.19250000268 876480.9045999981, 206492.40250000358 876482.0245999992, 206522.2424999997 876482.3946000002, 206558.7824999988 876486.1246000007, 206589.7424999997 876486.8746000007, 206601.6724999994 876488.364599999, 206620.3224999979 876491.7146000005, 206631.8825000003 876497.3145999983, 206643.0724999979 876506.6345999986, 206658.7325000018 876510.3546000011, 206675.5225000009 876508.1246000007, 206688.5724999979 876504.0245999992, 206697.5225000009 876495.4545999989, 206703.11249999702 876482.3946000002, 206701.62250000238 876453.6845999993, 206696.0324999988 876439.5045999996, 206691.18249999732 876433.5346000008, 206682.6024999991 876428.694600001, 206667.68249999732 876421.2346000001, 206645.68249999732 876411.1645999998, 206628.90250000358 876402.5846000016, 206620.69250000268 876395.1246000007, 206610.25249999762 876389.1545999981, 206593.8425000012 876380.9545999989, 206581.1625000015 876372.0045999996, 206570.72249999642 876361.5645999983, 206569.2325000018 876349.2545999996, 206572.58250000328 876337.694600001, 206583.0324999988 876325.7545999996, 206594.6024999991 876320.9145999998, 206601.3025000021 876313.8245999999, 206607.2725000009 876314.194600001, 206614.3524999991 876311.5846000016, 206619.58250000328 876313.4545999989, 206627.4125000015 876319.4246000014, 206629.6424999982 876326.8746000007, 206630.3924999982 876341.4246000014, 206633.75249999762 876351.4946000017, 206640.4525000006 876355.9646000005, 206647.54249999672 876354.4745999984, 206652.0225000009 876350.7446000017, 206669.5324999988 876338.6845999993, 206679.62250000238 876320.5346000008, 206683.3524999991 876305.6246000007, 206683.72249999642 876285.114599999, 206681.4825000018 876275.0346000008, 206684.0925000012 876263.1046000011, 206692.6724999994 876231.4045999981, 206698.6424999982 876225.0645999983, 206709.08250000328 876222.8245999999, 206718.4125000015 876223.944600001, 206728.47249999642 876227.2945999987, 206742.2725000009 876236.2545999996, 206756.8224999979 876246.694600001, 206782.5525000021 876259.7446000017, 206794.4924999997 876258.6246000007, 206800.83250000328 876259.3746000007, 206804.93249999732 876263.1046000011, 206808.6625000015 876272.8046000004, 206813.87250000238 876281.0045999996, 206828.0525000021 876289.5846000016, 206847.0724999979 876307.4846000001, 206873.18249999732 876334.7045999989, 206892.5724999979 876351.114599999, 206932.4825000018 876378.3445999995, 206978.3524999991 876402.5846000016, 206997.37250000238 876414.8946000002, 207010.79249999672 876427.9545999989, 207018.6325000003 876429.4345999993, 207028.3224999979 876425.3346000016, 207032.0525000021 876418.2446000017, 207034.37250000238 876411.2545999996, 207038.3524999991 876408.4846000001, 207043.61249999702 876404.8245999999, 207051.44250000268 876391.3946000002, 207055.1724999994 876372.0045999996, 207051.08250000328 876327.2545999996, 207039.1424999982 876288.8346000016, 207035.04249999672 876269.0745999999, 207027.58250000328 876249.6746000014, 207021.9825000018 876238.864599999, 207014.90250000358 876230.2846000008, 206992.15250000358 876209.7745999992, 206967.90250000358 876187.0245999992, 206961.5724999979 876174.3445999995, 206956.3425000012 876157.5645999983, 206955.6024999991 876146.0045999996, 206958.2124999985 876137.7945999987, 206964.5525000021 876125.114599999, 206979.8425000012 876102.7346000001, 206991.0324999988 876078.4946000017, 206994.2124999985 876063.9145999998, 206997.00249999762 876057.9846000001, 207002.22249999642 876052.3946000002, 207012.2824999988 876044.5546000004, 207025.3425000012 876033.3746000007, 207033.54249999672 876021.0645999983, 207056.6724999994 875992.7346000001, 207093.6024999991 875960.2745999992, 207117.4624999985 875940.1345999986, 207139.4525000006 875930.4345999993, 207159.2325000018 875924.4646000005, 207177.1325000003 875918.1345999986, 207196.15250000358 875910.6746000014, 207218.15250000358 875912.5346000008, 207250.22249999642 875924.8445999995, 207267.75249999762 875943.114599999, 207281.76250000298 875972.7545999996, 207297.69250000268 875989.8746000007, 207312.1325000003 875996.444600001, 207321.4624999985 875993.8346000016, 207325.5625 875996.444600001, 207330.7824999988 876002.7945999987, 207344.2124999985 876003.9045999981, 207352.7824999988 876006.8946000002, 207360.62250000238 876003.1645999998, 207368.8224999979 875995.3346000016, 207380.75249999762 875983.7646000013, 207397.1724999994 875976.6845999993, 207424.76250000298 875960.6446000002, 207431.8524999991 875956.1845999993, 207438.19250000268 875954.6746000014, 207444.8224999979 875955.4145999998, 207462.43249999732 875955.0546000004, 207481.8224999979 875956.5445999987, 207503.4525000006 875961.7646000013, 207527.3224999979 875972.2045999989, 207542.61249999702 875982.2745999992, 207556.0525000021 875994.5045999996, 207578.79249999672 876018.0745999999, 207622.8025000021 876059.1046000011, 207676.1325000003 876129.6046000011, 207693.2824999988 876153.8346000016, 207723.86249999702 876186.6545999981, 207751.4624999985 876213.5045999996, 207766.3825000003 876224.694600001, 207782.4224999994 876233.6446000002, 207798.4525000006 876239.9846000001, 207826.9825000018 876249.9246000014, 207852.4125000015 876265.9345999993, 207867.4825000018 876285.2446000017, 207884.9224999994 876304.8746000007, 207901.50249999762 876325.8145999983, 207922.8125 876354.4045999981, 207957.2025000006 876437.5346000008, 207969.3825000003 876471.9145999998, 207980.1325000003 876495.5745999999, 207988.3025000021 876510.3145999983, 207998.04249999672 876527.8145999983, 208009.9224999994 876540.0745999999, 208031.01250000298 876558.6246000007, 208063.65250000358 876572.6345999986, 208072.9924999997 876573.0346000008, 208082.3425000012 876569.5245999992, 208094.4125000015 876562.1345999986, 208109.2025000006 876551.614599999, 208125.5525000021 876545.7745999992, 208145.8025000021 876540.3245999999, 208166.44250000268 876533.3245999999, 208187.0625 876525.1446000002, 208216.26250000298 876516.5745999999, 208250.1325000003 876507.6246000007, 208285.1724999994 876502.1746000014, 208301.9125000015 876501.7846000008, 208321.3825000003 876496.7245999984, 208342.01250000298 876487.3845999986, 208359.5324999988 876474.5346000008, 208375.1024999991 876463.2446000017, 208400.0225000009 876442.2245999984, 208423.44250000268 876421.3746000007, 208441.29249999672 876399.3946000002, 208454.9125000015 876377.9846000001, 208472.0525000021 876359.2945999987, 208488.7824999988 876347.614599999, 208507.47249999642 876340.9946000017, 208505.83250000328 876327.614599999))\",\n          \"POLYGON ((185280.12250000238 904310.3546000011, 185955.94250000268 904031.5745999999, 185354.61249999702 901643.4345999993, 185471.9224999994 901611.7245999984, 184514.1724999994 897240.6645999998, 184377.5925000012 897293.4145999998, 184245.7124999985 897394.9045999981, 184260.6625000015 897625.3546000011, 183713.79249999672 897470.1746000014, 183710.3224999979 897650.9846000001, 183890.1024999991 897771.8245999999, 183626.2325000018 898009.694600001, 181023.51250000298 896764.5146000013, 180889.7325000018 896408.2045999989, 180067.2025000006 896165.1845999993, 180098.62250000238 896342.8145999983, 178851.18249999732 895770.0945999995, 178199.22249999642 895853.5245999992, 178267.97249999642 899333.6446000002, 178609.18249999732 902281.3845999986, 179099.2824999988 903656.0346000008, 180079.3025000021 904066.3245999999, 181392.8125 904444.6645999998, 183448.4224999994 905052.2346000001, 185280.12250000238 904310.3546000011))\",\n          \"POLYGON ((214113.50249999762 897921.8546000011, 214223.79249999672 896750.7245999984, 214231.5925000012 895929.2545999996, 214035.4924999997 895848.0245999992, 214541.00249999762 894119.0146000013, 215800.8125 891157.8145999983, 215804.7325000018 891137.7646000013, 216263.8125 888664.3346000016, 213841.79249999672 888747.7045999989, 213823.0525000021 888748.1345999986, 213813.5225000009 888731.0645999983, 213809.1625000015 888710.0346000008, 213808.36249999702 888678.6746000014, 213810.36249999702 888653.6746000014, 213815.11249999702 888628.6746000014, 213829.00249999762 888598.114599999, 213789.33250000328 888610.614599999, 213000.7325000018 888900.364599999, 213056.2725000009 889242.3245999999, 212795.8425000012 889275.4745999984, 212508.72249999642 889370.9145999998, 212308.87250000238 889502.9145999998, 212236.9224999994 889494.1545999981, 212230.75249999762 889493.8746000007, 212229.4825000018 889496.194600001, 212229.1024999991 889498.9846000001, 212228.01250000298 889502.7245999984, 212224.22249999642 889506.5146000013, 212221.0925000012 889508.0546000004, 212217.7025000006 889510.944600001, 212216.00249999762 889514.944600001, 212213.68249999732 889521.0546000004, 212209.47249999642 889524.2146000005, 212204.2025000006 889525.694600001, 212191.7824999988 889524.6345999986, 212186.7124999985 889526.114599999, 212182.50249999762 889531.8046000004, 212182.9224999994 889539.1746000014, 212181.43249999732 889541.2745999992, 212176.18249999732 889542.9646000005, 212170.2824999988 889547.4045999981, 212163.3224999979 889550.1345999986, 212156.47249999642 889557.3746000007, 212144.00249999762 889570.5645999983, 212122.87250000238 889588.9045999981, 212108.7025000006 889598.6246000007, 212104.54249999672 889603.0146000013, 212102.2325000018 889607.444600001, 212098.8524999991 889611.2346000001, 212096.1024999991 889612.2945999987, 212092.5324999988 889611.2346000001, 212088.94250000268 889607.6545999981, 212086.6325000003 889605.1246000007, 212081.9924999997 889604.9045999981, 212077.3524999991 889603.2346000001, 212075.0324999988 889602.194600001, 212073.3524999991 889602.1746000014, 212072.7824999988 889603.7545999996, 212070.8224999979 889606.8145999983, 212070.40250000358 889610.3946000002, 212069.5625 889613.5546000004, 212068.29249999672 889616.5045999996, 212061.5525000021 889619.2446000017, 212055.86249999702 889622.4045999981, 212052.5324999988 889625.9946000017, 212052.0724999979 889632.3046000004, 212052.7025000006 889639.6845999993, 212050.8125 889644.9646000005, 212046.3825000003 889651.4846000001, 212041.3924999982 889659.614599999, 212032.47249999642 889671.7146000005, 212027.00249999762 889676.1345999986, 212026.15250000358 889688.1446000002, 212020.6724999994 889696.1545999981, 212014.7824999988 889698.8946000002, 212013.93249999732 889701.2045999989, 212013.72249999642 889704.1545999981, 212016.04249999672 889707.9545999989, 212016.6724999994 889716.3845999986, 212012.8825000003 889721.2245999984, 212009.72249999642 889722.7045999989, 212008.2424999997 889727.9646000005, 212009.72249999642 889730.7045999989, 212010.7725000009 889733.8746000007, 212009.93249999732 889737.0245999992, 212008.01250000298 889737.8046000004, 212006.1424999982 889740.4045999981, 212007.61249999702 889743.3546000011, 212010.5625 889746.0945999995, 212013.72249999642 889749.2545999996, 212022.9924999997 889769.6845999993, 212022.5724999979 889773.2745999992, 212024.68249999732 889776.2245999984, 212021.94250000268 889781.0645999983, 212017.51250000298 889784.2245999984, 212013.51250000298 889789.4946000017, 212011.40250000358 889795.3946000002, 212011.83250000328 889801.9145999998, 212010.1424999982 889805.7245999984, 212005.9224999994 889808.6645999998, 212002.33250000328 889811.614599999, 211997.9224999994 889811.8346000016, 211994.3425000012 889813.0945999995, 211990.33250000328 889813.3046000004, 211986.9624999985 889812.2646000013, 211984.97249999642 889811.444600001, 211979.8025000021 889812.6746000014, 211977.3924999982 889813.7446000017, 211975.8025000021 889813.7245999984, 211974.69250000268 889813.1246000007, 211969.68249999732 889808.4545999989, 211967.37250000238 889808.4545999989, 211964.1724999994 889809.5846000016, 211960.4125000015 889816.2545999996, 211954.93249999732 889821.944600001, 211950.0925000012 889825.7346000001, 211946.08250000328 889826.1545999981, 211938.7025000006 889831.8445999995, 211932.3924999982 889837.7346000001, 211929.86249999702 889843.864599999, 211926.7025000006 889847.2245999984, 211923.9624999985 889848.0846000016, 211915.5324999988 889845.7545999996, 211909.2124999985 889847.444600001, 211906.1024999991 889849.3946000002, 211901.8425000012 889847.6545999981, 211896.9924999997 889848.0846000016, 211893.4125000015 889849.7545999996, 211890.04249999672 889855.6446000002, 211885.25249999762 889859.4745999984, 211879.9224999994 889861.7745999992, 211870.2325000018 889870.8245999999, 211862.43249999732 889871.8845999986, 211861.1625000015 889875.0445999987, 211863.1625000015 889883.1345999986, 211861.8125 889888.9846000001, 211859.5625 889893.9646000005, 211853.2424999997 889898.9246000014, 211841.9624999985 889918.3245999999, 211841.51250000298 889924.6446000002, 211837.08250000328 889931.0945999995, 211834.29249999672 889942.2346000001, 211827.22249999642 889951.3746000007, 211824.8125 889956.2245999984, 211824.12250000238 889959.7945999987, 211825.26250000298 889966.1545999981, 211827.97249999642 889981.4946000017, 211836.5525000021 890006.7646000013, 211840.15250000358 890019.3946000002, 211841.9624999985 890060.9045999981, 211841.0625 890070.8346000016, 211837.4525000006 890078.5045999996, 211829.33250000328 890098.8046000004, 211822.5625 890107.3746000007, 211798.2025000006 890110.9846000001, 211790.5225000009 890117.3145999983, 211790.5225000009 890126.3245999999, 211789.62250000238 890134.9045999981, 211791.8825000003 890140.3046000004, 211789.62250000238 890145.7346000001, 211786.9125000015 890155.2045999989, 211788.2725000009 890160.1645999998, 211786.9125000015 890166.9345999993, 211788.2725000009 890174.1545999981, 211797.29249999672 890180.0245999992, 211806.3125 890181.8245999999, 211810.83250000328 890190.3946000002, 211818.50249999762 890196.2646000013, 211826.0625 890199.3546000011, 211831.58250000328 890203.0346000008, 211834.29249999672 890209.3445999995, 211837.90250000358 890221.0745999999, 211841.9624999985 890238.6746000014, 211840.61249999702 890270.2646000013, 211830.68249999732 890295.0745999999, 211830.22249999642 890313.1246000007, 211826.62250000238 890326.2045999989, 211815.3425000012 890339.7446000017, 211805.83250000328 890346.194600001, 210160.94250000268 891009.3845999986, 209044.2025000006 891277.4946000017, 208591.0525000021 891386.1446000002, 208478.01250000298 892064.1545999981, 208291.9825000018 892247.5045999996, 208038.1724999994 893654.7446000017, 209274.36249999702 894626.9345999993, 210083.29249999672 896027.6545999981, 210348.3825000003 895630.0245999992, 210437.8425000012 895493.4946000017, 210481.0324999988 895489.7745999992, 210524.9624999985 895491.9946000017, 210571.8924999982 895496.4745999984, 210613.58250000328 895509.1345999986, 210638.90250000358 895521.7945999987, 210667.19250000268 895538.9145999998, 210684.3224999979 895555.3046000004, 210699.2124999985 895573.9145999998, 210715.5925000012 895599.9846000001, 210737.5925000012 895639.8145999983, 210768.9825000018 895700.9345999993, 210802.83250000328 895769.0045999996, 210841.54249999672 895822.4045999981, 211203.69250000268 896166.7146000005, 211279.9624999985 896156.3546000011, 211547.61249999702 896305.5245999992, 211936.6325000003 896308.364599999, 212695.7025000006 896046.864599999, 213310.1325000003 896982.2945999987, 213701.4825000018 898003.0945999995, 214113.50249999762 897921.8546000011))\"\n        ],\n        \"semantic_type\": \"\",\n        \"description\": \"\"\n      }\n    }\n  ]\n}"
            }
          },
          "metadata": {},
          "execution_count": 10
        }
      ],
      "source": [
        "keep=['town','county','fips_stco','pop2020','geometry']\n",
        "municipalitiesMA_target=MunsMA[keep].copy()\n",
        "municipalitiesMA_target.rename(columns={'fips_stco':'fips_id'},inplace=True)\n",
        "municipalitiesMA_target"
      ]
    },
    {
      "cell_type": "markdown",
      "metadata": {
        "id": "6ChwSJKjRujC"
      },
      "source": [
        "### The Merging\n",
        "\n",
        "We will merge **CrimeCountyUSA**  DF into **crimeMA** GDF.\n",
        "\n",
        "Let's check the county names, which is the key for merging DF into GDF:"
      ]
    },
    {
      "cell_type": "code",
      "execution_count": 11,
      "metadata": {
        "id": "f806dmiZRujC",
        "outputId": "b7786d5b-e4f0-4ea4-c53d-24dba7905055",
        "colab": {
          "base_uri": "https://localhost:8080/",
          "height": 141
        }
      },
      "outputs": [
        {
          "output_type": "execute_result",
          "data": {
            "text/plain": [
              "          county_name state  crime_rate_per_100000  index  EDITION  PART  \\\n",
              "0  Los Angeles County    CA             444.800814    397        1     4   \n",
              "1       Harris County    TX             696.103834     94        1     4   \n",
              "\n",
              "   IDNO  CPOPARST  CPOPCRIM  AG_ARRST  ...  RAPE  ROBBERY  AGASSLT  BURGLRY  \\\n",
              "0   206   9980757   9980757       108  ...  1976    18923    23057    49107   \n",
              "1  2651   4272223   4243516        42  ...  1143    12449    16290    43644   \n",
              "\n",
              "   LARCENY  MVTHEFT  ARSON  population  FIPS_ST  FIPS_CTY  \n",
              "0   142604    40555   2210    10017068        6        37  \n",
              "1   114208    20829   1153     4336853       48       201  \n",
              "\n",
              "[2 rows x 25 columns]"
            ],
            "text/html": [
              "\n",
              "  <div id=\"df-b15c2354-25d1-4011-92f3-9bb76b85f3fa\" class=\"colab-df-container\">\n",
              "    <div>\n",
              "<style scoped>\n",
              "    .dataframe tbody tr th:only-of-type {\n",
              "        vertical-align: middle;\n",
              "    }\n",
              "\n",
              "    .dataframe tbody tr th {\n",
              "        vertical-align: top;\n",
              "    }\n",
              "\n",
              "    .dataframe thead th {\n",
              "        text-align: right;\n",
              "    }\n",
              "</style>\n",
              "<table border=\"1\" class=\"dataframe\">\n",
              "  <thead>\n",
              "    <tr style=\"text-align: right;\">\n",
              "      <th></th>\n",
              "      <th>county_name</th>\n",
              "      <th>state</th>\n",
              "      <th>crime_rate_per_100000</th>\n",
              "      <th>index</th>\n",
              "      <th>EDITION</th>\n",
              "      <th>PART</th>\n",
              "      <th>IDNO</th>\n",
              "      <th>CPOPARST</th>\n",
              "      <th>CPOPCRIM</th>\n",
              "      <th>AG_ARRST</th>\n",
              "      <th>...</th>\n",
              "      <th>RAPE</th>\n",
              "      <th>ROBBERY</th>\n",
              "      <th>AGASSLT</th>\n",
              "      <th>BURGLRY</th>\n",
              "      <th>LARCENY</th>\n",
              "      <th>MVTHEFT</th>\n",
              "      <th>ARSON</th>\n",
              "      <th>population</th>\n",
              "      <th>FIPS_ST</th>\n",
              "      <th>FIPS_CTY</th>\n",
              "    </tr>\n",
              "  </thead>\n",
              "  <tbody>\n",
              "    <tr>\n",
              "      <th>0</th>\n",
              "      <td>Los Angeles County</td>\n",
              "      <td>CA</td>\n",
              "      <td>444.800814</td>\n",
              "      <td>397</td>\n",
              "      <td>1</td>\n",
              "      <td>4</td>\n",
              "      <td>206</td>\n",
              "      <td>9980757</td>\n",
              "      <td>9980757</td>\n",
              "      <td>108</td>\n",
              "      <td>...</td>\n",
              "      <td>1976</td>\n",
              "      <td>18923</td>\n",
              "      <td>23057</td>\n",
              "      <td>49107</td>\n",
              "      <td>142604</td>\n",
              "      <td>40555</td>\n",
              "      <td>2210</td>\n",
              "      <td>10017068</td>\n",
              "      <td>6</td>\n",
              "      <td>37</td>\n",
              "    </tr>\n",
              "    <tr>\n",
              "      <th>1</th>\n",
              "      <td>Harris County</td>\n",
              "      <td>TX</td>\n",
              "      <td>696.103834</td>\n",
              "      <td>94</td>\n",
              "      <td>1</td>\n",
              "      <td>4</td>\n",
              "      <td>2651</td>\n",
              "      <td>4272223</td>\n",
              "      <td>4243516</td>\n",
              "      <td>42</td>\n",
              "      <td>...</td>\n",
              "      <td>1143</td>\n",
              "      <td>12449</td>\n",
              "      <td>16290</td>\n",
              "      <td>43644</td>\n",
              "      <td>114208</td>\n",
              "      <td>20829</td>\n",
              "      <td>1153</td>\n",
              "      <td>4336853</td>\n",
              "      <td>48</td>\n",
              "      <td>201</td>\n",
              "    </tr>\n",
              "  </tbody>\n",
              "</table>\n",
              "<p>2 rows × 25 columns</p>\n",
              "</div>\n",
              "    <div class=\"colab-df-buttons\">\n",
              "\n",
              "  <div class=\"colab-df-container\">\n",
              "    <button class=\"colab-df-convert\" onclick=\"convertToInteractive('df-b15c2354-25d1-4011-92f3-9bb76b85f3fa')\"\n",
              "            title=\"Convert this dataframe to an interactive table.\"\n",
              "            style=\"display:none;\">\n",
              "\n",
              "  <svg xmlns=\"http://www.w3.org/2000/svg\" height=\"24px\" viewBox=\"0 -960 960 960\">\n",
              "    <path d=\"M120-120v-720h720v720H120Zm60-500h600v-160H180v160Zm220 220h160v-160H400v160Zm0 220h160v-160H400v160ZM180-400h160v-160H180v160Zm440 0h160v-160H620v160ZM180-180h160v-160H180v160Zm440 0h160v-160H620v160Z\"/>\n",
              "  </svg>\n",
              "    </button>\n",
              "\n",
              "  <style>\n",
              "    .colab-df-container {\n",
              "      display:flex;\n",
              "      gap: 12px;\n",
              "    }\n",
              "\n",
              "    .colab-df-convert {\n",
              "      background-color: #E8F0FE;\n",
              "      border: none;\n",
              "      border-radius: 50%;\n",
              "      cursor: pointer;\n",
              "      display: none;\n",
              "      fill: #1967D2;\n",
              "      height: 32px;\n",
              "      padding: 0 0 0 0;\n",
              "      width: 32px;\n",
              "    }\n",
              "\n",
              "    .colab-df-convert:hover {\n",
              "      background-color: #E2EBFA;\n",
              "      box-shadow: 0px 1px 2px rgba(60, 64, 67, 0.3), 0px 1px 3px 1px rgba(60, 64, 67, 0.15);\n",
              "      fill: #174EA6;\n",
              "    }\n",
              "\n",
              "    .colab-df-buttons div {\n",
              "      margin-bottom: 4px;\n",
              "    }\n",
              "\n",
              "    [theme=dark] .colab-df-convert {\n",
              "      background-color: #3B4455;\n",
              "      fill: #D2E3FC;\n",
              "    }\n",
              "\n",
              "    [theme=dark] .colab-df-convert:hover {\n",
              "      background-color: #434B5C;\n",
              "      box-shadow: 0px 1px 3px 1px rgba(0, 0, 0, 0.15);\n",
              "      filter: drop-shadow(0px 1px 2px rgba(0, 0, 0, 0.3));\n",
              "      fill: #FFFFFF;\n",
              "    }\n",
              "  </style>\n",
              "\n",
              "    <script>\n",
              "      const buttonEl =\n",
              "        document.querySelector('#df-b15c2354-25d1-4011-92f3-9bb76b85f3fa button.colab-df-convert');\n",
              "      buttonEl.style.display =\n",
              "        google.colab.kernel.accessAllowed ? 'block' : 'none';\n",
              "\n",
              "      async function convertToInteractive(key) {\n",
              "        const element = document.querySelector('#df-b15c2354-25d1-4011-92f3-9bb76b85f3fa');\n",
              "        const dataTable =\n",
              "          await google.colab.kernel.invokeFunction('convertToInteractive',\n",
              "                                                    [key], {});\n",
              "        if (!dataTable) return;\n",
              "\n",
              "        const docLinkHtml = 'Like what you see? Visit the ' +\n",
              "          '<a target=\"_blank\" href=https://colab.research.google.com/notebooks/data_table.ipynb>data table notebook</a>'\n",
              "          + ' to learn more about interactive tables.';\n",
              "        element.innerHTML = '';\n",
              "        dataTable['output_type'] = 'display_data';\n",
              "        await google.colab.output.renderOutput(dataTable, element);\n",
              "        const docLink = document.createElement('div');\n",
              "        docLink.innerHTML = docLinkHtml;\n",
              "        element.appendChild(docLink);\n",
              "      }\n",
              "    </script>\n",
              "  </div>\n",
              "\n",
              "\n",
              "    <div id=\"df-7b8504c8-c5d3-4135-b3fe-9bf324279319\">\n",
              "      <button class=\"colab-df-quickchart\" onclick=\"quickchart('df-7b8504c8-c5d3-4135-b3fe-9bf324279319')\"\n",
              "                title=\"Suggest charts\"\n",
              "                style=\"display:none;\">\n",
              "\n",
              "<svg xmlns=\"http://www.w3.org/2000/svg\" height=\"24px\"viewBox=\"0 0 24 24\"\n",
              "     width=\"24px\">\n",
              "    <g>\n",
              "        <path d=\"M19 3H5c-1.1 0-2 .9-2 2v14c0 1.1.9 2 2 2h14c1.1 0 2-.9 2-2V5c0-1.1-.9-2-2-2zM9 17H7v-7h2v7zm4 0h-2V7h2v10zm4 0h-2v-4h2v4z\"/>\n",
              "    </g>\n",
              "</svg>\n",
              "      </button>\n",
              "\n",
              "<style>\n",
              "  .colab-df-quickchart {\n",
              "      --bg-color: #E8F0FE;\n",
              "      --fill-color: #1967D2;\n",
              "      --hover-bg-color: #E2EBFA;\n",
              "      --hover-fill-color: #174EA6;\n",
              "      --disabled-fill-color: #AAA;\n",
              "      --disabled-bg-color: #DDD;\n",
              "  }\n",
              "\n",
              "  [theme=dark] .colab-df-quickchart {\n",
              "      --bg-color: #3B4455;\n",
              "      --fill-color: #D2E3FC;\n",
              "      --hover-bg-color: #434B5C;\n",
              "      --hover-fill-color: #FFFFFF;\n",
              "      --disabled-bg-color: #3B4455;\n",
              "      --disabled-fill-color: #666;\n",
              "  }\n",
              "\n",
              "  .colab-df-quickchart {\n",
              "    background-color: var(--bg-color);\n",
              "    border: none;\n",
              "    border-radius: 50%;\n",
              "    cursor: pointer;\n",
              "    display: none;\n",
              "    fill: var(--fill-color);\n",
              "    height: 32px;\n",
              "    padding: 0;\n",
              "    width: 32px;\n",
              "  }\n",
              "\n",
              "  .colab-df-quickchart:hover {\n",
              "    background-color: var(--hover-bg-color);\n",
              "    box-shadow: 0 1px 2px rgba(60, 64, 67, 0.3), 0 1px 3px 1px rgba(60, 64, 67, 0.15);\n",
              "    fill: var(--button-hover-fill-color);\n",
              "  }\n",
              "\n",
              "  .colab-df-quickchart-complete:disabled,\n",
              "  .colab-df-quickchart-complete:disabled:hover {\n",
              "    background-color: var(--disabled-bg-color);\n",
              "    fill: var(--disabled-fill-color);\n",
              "    box-shadow: none;\n",
              "  }\n",
              "\n",
              "  .colab-df-spinner {\n",
              "    border: 2px solid var(--fill-color);\n",
              "    border-color: transparent;\n",
              "    border-bottom-color: var(--fill-color);\n",
              "    animation:\n",
              "      spin 1s steps(1) infinite;\n",
              "  }\n",
              "\n",
              "  @keyframes spin {\n",
              "    0% {\n",
              "      border-color: transparent;\n",
              "      border-bottom-color: var(--fill-color);\n",
              "      border-left-color: var(--fill-color);\n",
              "    }\n",
              "    20% {\n",
              "      border-color: transparent;\n",
              "      border-left-color: var(--fill-color);\n",
              "      border-top-color: var(--fill-color);\n",
              "    }\n",
              "    30% {\n",
              "      border-color: transparent;\n",
              "      border-left-color: var(--fill-color);\n",
              "      border-top-color: var(--fill-color);\n",
              "      border-right-color: var(--fill-color);\n",
              "    }\n",
              "    40% {\n",
              "      border-color: transparent;\n",
              "      border-right-color: var(--fill-color);\n",
              "      border-top-color: var(--fill-color);\n",
              "    }\n",
              "    60% {\n",
              "      border-color: transparent;\n",
              "      border-right-color: var(--fill-color);\n",
              "    }\n",
              "    80% {\n",
              "      border-color: transparent;\n",
              "      border-right-color: var(--fill-color);\n",
              "      border-bottom-color: var(--fill-color);\n",
              "    }\n",
              "    90% {\n",
              "      border-color: transparent;\n",
              "      border-bottom-color: var(--fill-color);\n",
              "    }\n",
              "  }\n",
              "</style>\n",
              "\n",
              "      <script>\n",
              "        async function quickchart(key) {\n",
              "          const quickchartButtonEl =\n",
              "            document.querySelector('#' + key + ' button');\n",
              "          quickchartButtonEl.disabled = true;  // To prevent multiple clicks.\n",
              "          quickchartButtonEl.classList.add('colab-df-spinner');\n",
              "          try {\n",
              "            const charts = await google.colab.kernel.invokeFunction(\n",
              "                'suggestCharts', [key], {});\n",
              "          } catch (error) {\n",
              "            console.error('Error during call to suggestCharts:', error);\n",
              "          }\n",
              "          quickchartButtonEl.classList.remove('colab-df-spinner');\n",
              "          quickchartButtonEl.classList.add('colab-df-quickchart-complete');\n",
              "        }\n",
              "        (() => {\n",
              "          let quickchartButtonEl =\n",
              "            document.querySelector('#df-7b8504c8-c5d3-4135-b3fe-9bf324279319 button');\n",
              "          quickchartButtonEl.style.display =\n",
              "            google.colab.kernel.accessAllowed ? 'block' : 'none';\n",
              "        })();\n",
              "      </script>\n",
              "    </div>\n",
              "\n",
              "    </div>\n",
              "  </div>\n"
            ],
            "application/vnd.google.colaboratory.intrinsic+json": {
              "type": "dataframe",
              "variable_name": "CrimeCountyUSA"
            }
          },
          "metadata": {},
          "execution_count": 11
        }
      ],
      "source": [
        "CrimeCountyUSA.head(2)"
      ]
    },
    {
      "cell_type": "markdown",
      "metadata": {
        "id": "o-xCoYGORujC"
      },
      "source": [
        "The DF _CrimeCountyUSA_ has different county names than the _countiesMA_source_. But both have some \"fips\" information. _CrimeCountyUSA_ has 'FIPS_ST' and 'FIPS_CTY' which will help us build a column exactly as *fips_id* in countiesMA GDF.\n",
        "\n",
        "Let's create 'fips_id' in a copy of the CrimeCountyUSA. Let's also keep some columns."
      ]
    },
    {
      "cell_type": "code",
      "execution_count": 12,
      "metadata": {
        "id": "jbkqva0XRujC",
        "outputId": "987532cc-2237-4ab7-e925-ddc2c1090ce4",
        "colab": {
          "base_uri": "https://localhost:8080/",
          "height": 206
        }
      },
      "outputs": [
        {
          "output_type": "execute_result",
          "data": {
            "text/plain": [
              "          county_name  fips_id  population  BURGLRY  AG_ASSLT\n",
              "0  Los Angeles County     6037    10017068    49107     23057\n",
              "1       Harris County    48201     4336853    43644     16290\n",
              "2         Cook County    17031     5240700    34233     14657\n",
              "3     Maricopa County     4013     4009412    32859      9810\n",
              "4       Dallas County    48113     2480331    25141      5227"
            ],
            "text/html": [
              "\n",
              "  <div id=\"df-db700abf-19b6-400c-84f3-26662b7b0ccc\" class=\"colab-df-container\">\n",
              "    <div>\n",
              "<style scoped>\n",
              "    .dataframe tbody tr th:only-of-type {\n",
              "        vertical-align: middle;\n",
              "    }\n",
              "\n",
              "    .dataframe tbody tr th {\n",
              "        vertical-align: top;\n",
              "    }\n",
              "\n",
              "    .dataframe thead th {\n",
              "        text-align: right;\n",
              "    }\n",
              "</style>\n",
              "<table border=\"1\" class=\"dataframe\">\n",
              "  <thead>\n",
              "    <tr style=\"text-align: right;\">\n",
              "      <th></th>\n",
              "      <th>county_name</th>\n",
              "      <th>fips_id</th>\n",
              "      <th>population</th>\n",
              "      <th>BURGLRY</th>\n",
              "      <th>AG_ASSLT</th>\n",
              "    </tr>\n",
              "  </thead>\n",
              "  <tbody>\n",
              "    <tr>\n",
              "      <th>0</th>\n",
              "      <td>Los Angeles County</td>\n",
              "      <td>6037</td>\n",
              "      <td>10017068</td>\n",
              "      <td>49107</td>\n",
              "      <td>23057</td>\n",
              "    </tr>\n",
              "    <tr>\n",
              "      <th>1</th>\n",
              "      <td>Harris County</td>\n",
              "      <td>48201</td>\n",
              "      <td>4336853</td>\n",
              "      <td>43644</td>\n",
              "      <td>16290</td>\n",
              "    </tr>\n",
              "    <tr>\n",
              "      <th>2</th>\n",
              "      <td>Cook County</td>\n",
              "      <td>17031</td>\n",
              "      <td>5240700</td>\n",
              "      <td>34233</td>\n",
              "      <td>14657</td>\n",
              "    </tr>\n",
              "    <tr>\n",
              "      <th>3</th>\n",
              "      <td>Maricopa County</td>\n",
              "      <td>4013</td>\n",
              "      <td>4009412</td>\n",
              "      <td>32859</td>\n",
              "      <td>9810</td>\n",
              "    </tr>\n",
              "    <tr>\n",
              "      <th>4</th>\n",
              "      <td>Dallas County</td>\n",
              "      <td>48113</td>\n",
              "      <td>2480331</td>\n",
              "      <td>25141</td>\n",
              "      <td>5227</td>\n",
              "    </tr>\n",
              "  </tbody>\n",
              "</table>\n",
              "</div>\n",
              "    <div class=\"colab-df-buttons\">\n",
              "\n",
              "  <div class=\"colab-df-container\">\n",
              "    <button class=\"colab-df-convert\" onclick=\"convertToInteractive('df-db700abf-19b6-400c-84f3-26662b7b0ccc')\"\n",
              "            title=\"Convert this dataframe to an interactive table.\"\n",
              "            style=\"display:none;\">\n",
              "\n",
              "  <svg xmlns=\"http://www.w3.org/2000/svg\" height=\"24px\" viewBox=\"0 -960 960 960\">\n",
              "    <path d=\"M120-120v-720h720v720H120Zm60-500h600v-160H180v160Zm220 220h160v-160H400v160Zm0 220h160v-160H400v160ZM180-400h160v-160H180v160Zm440 0h160v-160H620v160ZM180-180h160v-160H180v160Zm440 0h160v-160H620v160Z\"/>\n",
              "  </svg>\n",
              "    </button>\n",
              "\n",
              "  <style>\n",
              "    .colab-df-container {\n",
              "      display:flex;\n",
              "      gap: 12px;\n",
              "    }\n",
              "\n",
              "    .colab-df-convert {\n",
              "      background-color: #E8F0FE;\n",
              "      border: none;\n",
              "      border-radius: 50%;\n",
              "      cursor: pointer;\n",
              "      display: none;\n",
              "      fill: #1967D2;\n",
              "      height: 32px;\n",
              "      padding: 0 0 0 0;\n",
              "      width: 32px;\n",
              "    }\n",
              "\n",
              "    .colab-df-convert:hover {\n",
              "      background-color: #E2EBFA;\n",
              "      box-shadow: 0px 1px 2px rgba(60, 64, 67, 0.3), 0px 1px 3px 1px rgba(60, 64, 67, 0.15);\n",
              "      fill: #174EA6;\n",
              "    }\n",
              "\n",
              "    .colab-df-buttons div {\n",
              "      margin-bottom: 4px;\n",
              "    }\n",
              "\n",
              "    [theme=dark] .colab-df-convert {\n",
              "      background-color: #3B4455;\n",
              "      fill: #D2E3FC;\n",
              "    }\n",
              "\n",
              "    [theme=dark] .colab-df-convert:hover {\n",
              "      background-color: #434B5C;\n",
              "      box-shadow: 0px 1px 3px 1px rgba(0, 0, 0, 0.15);\n",
              "      filter: drop-shadow(0px 1px 2px rgba(0, 0, 0, 0.3));\n",
              "      fill: #FFFFFF;\n",
              "    }\n",
              "  </style>\n",
              "\n",
              "    <script>\n",
              "      const buttonEl =\n",
              "        document.querySelector('#df-db700abf-19b6-400c-84f3-26662b7b0ccc button.colab-df-convert');\n",
              "      buttonEl.style.display =\n",
              "        google.colab.kernel.accessAllowed ? 'block' : 'none';\n",
              "\n",
              "      async function convertToInteractive(key) {\n",
              "        const element = document.querySelector('#df-db700abf-19b6-400c-84f3-26662b7b0ccc');\n",
              "        const dataTable =\n",
              "          await google.colab.kernel.invokeFunction('convertToInteractive',\n",
              "                                                    [key], {});\n",
              "        if (!dataTable) return;\n",
              "\n",
              "        const docLinkHtml = 'Like what you see? Visit the ' +\n",
              "          '<a target=\"_blank\" href=https://colab.research.google.com/notebooks/data_table.ipynb>data table notebook</a>'\n",
              "          + ' to learn more about interactive tables.';\n",
              "        element.innerHTML = '';\n",
              "        dataTable['output_type'] = 'display_data';\n",
              "        await google.colab.output.renderOutput(dataTable, element);\n",
              "        const docLink = document.createElement('div');\n",
              "        docLink.innerHTML = docLinkHtml;\n",
              "        element.appendChild(docLink);\n",
              "      }\n",
              "    </script>\n",
              "  </div>\n",
              "\n",
              "\n",
              "    <div id=\"df-c9fdb69e-1c6a-4541-a89a-ec3ee85ced15\">\n",
              "      <button class=\"colab-df-quickchart\" onclick=\"quickchart('df-c9fdb69e-1c6a-4541-a89a-ec3ee85ced15')\"\n",
              "                title=\"Suggest charts\"\n",
              "                style=\"display:none;\">\n",
              "\n",
              "<svg xmlns=\"http://www.w3.org/2000/svg\" height=\"24px\"viewBox=\"0 0 24 24\"\n",
              "     width=\"24px\">\n",
              "    <g>\n",
              "        <path d=\"M19 3H5c-1.1 0-2 .9-2 2v14c0 1.1.9 2 2 2h14c1.1 0 2-.9 2-2V5c0-1.1-.9-2-2-2zM9 17H7v-7h2v7zm4 0h-2V7h2v10zm4 0h-2v-4h2v4z\"/>\n",
              "    </g>\n",
              "</svg>\n",
              "      </button>\n",
              "\n",
              "<style>\n",
              "  .colab-df-quickchart {\n",
              "      --bg-color: #E8F0FE;\n",
              "      --fill-color: #1967D2;\n",
              "      --hover-bg-color: #E2EBFA;\n",
              "      --hover-fill-color: #174EA6;\n",
              "      --disabled-fill-color: #AAA;\n",
              "      --disabled-bg-color: #DDD;\n",
              "  }\n",
              "\n",
              "  [theme=dark] .colab-df-quickchart {\n",
              "      --bg-color: #3B4455;\n",
              "      --fill-color: #D2E3FC;\n",
              "      --hover-bg-color: #434B5C;\n",
              "      --hover-fill-color: #FFFFFF;\n",
              "      --disabled-bg-color: #3B4455;\n",
              "      --disabled-fill-color: #666;\n",
              "  }\n",
              "\n",
              "  .colab-df-quickchart {\n",
              "    background-color: var(--bg-color);\n",
              "    border: none;\n",
              "    border-radius: 50%;\n",
              "    cursor: pointer;\n",
              "    display: none;\n",
              "    fill: var(--fill-color);\n",
              "    height: 32px;\n",
              "    padding: 0;\n",
              "    width: 32px;\n",
              "  }\n",
              "\n",
              "  .colab-df-quickchart:hover {\n",
              "    background-color: var(--hover-bg-color);\n",
              "    box-shadow: 0 1px 2px rgba(60, 64, 67, 0.3), 0 1px 3px 1px rgba(60, 64, 67, 0.15);\n",
              "    fill: var(--button-hover-fill-color);\n",
              "  }\n",
              "\n",
              "  .colab-df-quickchart-complete:disabled,\n",
              "  .colab-df-quickchart-complete:disabled:hover {\n",
              "    background-color: var(--disabled-bg-color);\n",
              "    fill: var(--disabled-fill-color);\n",
              "    box-shadow: none;\n",
              "  }\n",
              "\n",
              "  .colab-df-spinner {\n",
              "    border: 2px solid var(--fill-color);\n",
              "    border-color: transparent;\n",
              "    border-bottom-color: var(--fill-color);\n",
              "    animation:\n",
              "      spin 1s steps(1) infinite;\n",
              "  }\n",
              "\n",
              "  @keyframes spin {\n",
              "    0% {\n",
              "      border-color: transparent;\n",
              "      border-bottom-color: var(--fill-color);\n",
              "      border-left-color: var(--fill-color);\n",
              "    }\n",
              "    20% {\n",
              "      border-color: transparent;\n",
              "      border-left-color: var(--fill-color);\n",
              "      border-top-color: var(--fill-color);\n",
              "    }\n",
              "    30% {\n",
              "      border-color: transparent;\n",
              "      border-left-color: var(--fill-color);\n",
              "      border-top-color: var(--fill-color);\n",
              "      border-right-color: var(--fill-color);\n",
              "    }\n",
              "    40% {\n",
              "      border-color: transparent;\n",
              "      border-right-color: var(--fill-color);\n",
              "      border-top-color: var(--fill-color);\n",
              "    }\n",
              "    60% {\n",
              "      border-color: transparent;\n",
              "      border-right-color: var(--fill-color);\n",
              "    }\n",
              "    80% {\n",
              "      border-color: transparent;\n",
              "      border-right-color: var(--fill-color);\n",
              "      border-bottom-color: var(--fill-color);\n",
              "    }\n",
              "    90% {\n",
              "      border-color: transparent;\n",
              "      border-bottom-color: var(--fill-color);\n",
              "    }\n",
              "  }\n",
              "</style>\n",
              "\n",
              "      <script>\n",
              "        async function quickchart(key) {\n",
              "          const quickchartButtonEl =\n",
              "            document.querySelector('#' + key + ' button');\n",
              "          quickchartButtonEl.disabled = true;  // To prevent multiple clicks.\n",
              "          quickchartButtonEl.classList.add('colab-df-spinner');\n",
              "          try {\n",
              "            const charts = await google.colab.kernel.invokeFunction(\n",
              "                'suggestCharts', [key], {});\n",
              "          } catch (error) {\n",
              "            console.error('Error during call to suggestCharts:', error);\n",
              "          }\n",
              "          quickchartButtonEl.classList.remove('colab-df-spinner');\n",
              "          quickchartButtonEl.classList.add('colab-df-quickchart-complete');\n",
              "        }\n",
              "        (() => {\n",
              "          let quickchartButtonEl =\n",
              "            document.querySelector('#df-c9fdb69e-1c6a-4541-a89a-ec3ee85ced15 button');\n",
              "          quickchartButtonEl.style.display =\n",
              "            google.colab.kernel.accessAllowed ? 'block' : 'none';\n",
              "        })();\n",
              "      </script>\n",
              "    </div>\n",
              "\n",
              "    </div>\n",
              "  </div>\n"
            ],
            "application/vnd.google.colaboratory.intrinsic+json": {
              "type": "dataframe",
              "variable_name": "crimeMA",
              "summary": "{\n  \"name\": \"crimeMA\",\n  \"rows\": 3136,\n  \"fields\": [\n    {\n      \"column\": \"county_name\",\n      \"properties\": {\n        \"dtype\": \"string\",\n        \"num_unique_values\": 1870,\n        \"samples\": [\n          \"Richardson County\",\n          \"Lexington city\",\n          \"Boyle County\"\n        ],\n        \"semantic_type\": \"\",\n        \"description\": \"\"\n      }\n    },\n    {\n      \"column\": \"fips_id\",\n      \"properties\": {\n        \"dtype\": \"number\",\n        \"std\": 15131,\n        \"min\": 1001,\n        \"max\": 56045,\n        \"num_unique_values\": 3136,\n        \"samples\": [\n          53039,\n          12017,\n          12015\n        ],\n        \"semantic_type\": \"\",\n        \"description\": \"\"\n      }\n    },\n    {\n      \"column\": \"population\",\n      \"properties\": {\n        \"dtype\": \"number\",\n        \"std\": 322656,\n        \"min\": 90,\n        \"max\": 10017068,\n        \"num_unique_values\": 3079,\n        \"samples\": [\n          1231527,\n          10146,\n          17363\n        ],\n        \"semantic_type\": \"\",\n        \"description\": \"\"\n      }\n    },\n    {\n      \"column\": \"BURGLRY\",\n      \"properties\": {\n        \"dtype\": \"number\",\n        \"std\": 2242,\n        \"min\": 0,\n        \"max\": 49107,\n        \"num_unique_values\": 1050,\n        \"samples\": [\n          1106,\n          378,\n          734\n        ],\n        \"semantic_type\": \"\",\n        \"description\": \"\"\n      }\n    },\n    {\n      \"column\": \"AG_ASSLT\",\n      \"properties\": {\n        \"dtype\": \"number\",\n        \"std\": 931,\n        \"min\": 0,\n        \"max\": 23057,\n        \"num_unique_values\": 631,\n        \"samples\": [\n          166,\n          653,\n          554\n        ],\n        \"semantic_type\": \"\",\n        \"description\": \"\"\n      }\n    }\n  ]\n}"
            }
          },
          "metadata": {},
          "execution_count": 12
        }
      ],
      "source": [
        "# just a copy\n",
        "crimeMA=CrimeCountyUSA.copy()\n",
        "\n",
        "# adding a column 'fips_id'\n",
        "crimeMA=crimeMA.assign(fips_id=crimeMA.FIPS_ST*1000+crimeMA.FIPS_CTY)\n",
        "\n",
        "# subetting crimeMA\n",
        "keep=['county_name','fips_id','population','BURGLRY','AGASSLT']\n",
        "crimeMA=crimeMA[keep]\n",
        "\n",
        "# renaming\n",
        "crimeMA.rename(columns={'AGASSLT':'AG_ASSLT'},inplace=True)\n",
        "\n",
        "# see\n",
        "crimeMA.head()"
      ]
    },
    {
      "cell_type": "markdown",
      "metadata": {
        "id": "Pmq9pImiRujC"
      },
      "source": [
        "#### Extensive and Intensive values\n",
        "\n",
        "Counts are extensive values. The crimes we selected are currently of the extensive kind. We could think of creating an intensive variable by normalizing those counts by the county population (remember Choropleths use these kind of variables):"
      ]
    },
    {
      "cell_type": "code",
      "execution_count": 13,
      "metadata": {
        "id": "1QddZ20ARujD"
      },
      "outputs": [],
      "source": [
        "crimeMA['BURGLRY_rate10K']=10000*crimeMA.BURGLRY/crimeMA.population\n",
        "crimeMA['AG_ASSLT_rate10K']=10000*crimeMA.AG_ASSLT/crimeMA.population"
      ]
    },
    {
      "cell_type": "markdown",
      "metadata": {
        "id": "4gDFieHORujD"
      },
      "source": [
        "The merge would be easy now:"
      ]
    },
    {
      "cell_type": "code",
      "execution_count": 14,
      "metadata": {
        "id": "zempxuI22O0E",
        "scrolled": true
      },
      "outputs": [],
      "source": [
        "# merge by \"fips_id\"\n",
        "countiesMA_source=countiesMA_source.merge(crimeMA)"
      ]
    },
    {
      "cell_type": "markdown",
      "metadata": {
        "id": "BPIbwAfHRujD"
      },
      "source": [
        "Our source GDF is ready:"
      ]
    },
    {
      "cell_type": "code",
      "execution_count": 15,
      "metadata": {
        "id": "-ZKL1TbqRujD",
        "outputId": "a074edc2-69c2-41b1-de18-18507024a438",
        "colab": {
          "base_uri": "https://localhost:8080/"
        }
      },
      "outputs": [
        {
          "output_type": "stream",
          "name": "stdout",
          "text": [
            "<class 'geopandas.geodataframe.GeoDataFrame'>\n",
            "RangeIndex: 14 entries, 0 to 13\n",
            "Data columns (total 8 columns):\n",
            " #   Column            Non-Null Count  Dtype   \n",
            "---  ------            --------------  -----   \n",
            " 0   fips_id           14 non-null     int32   \n",
            " 1   geometry          14 non-null     geometry\n",
            " 2   county_name       14 non-null     object  \n",
            " 3   population        14 non-null     int64   \n",
            " 4   BURGLRY           14 non-null     int64   \n",
            " 5   AG_ASSLT          14 non-null     int64   \n",
            " 6   BURGLRY_rate10K   14 non-null     float64 \n",
            " 7   AG_ASSLT_rate10K  14 non-null     float64 \n",
            "dtypes: float64(2), geometry(1), int32(1), int64(3), object(1)\n",
            "memory usage: 972.0+ bytes\n"
          ]
        }
      ],
      "source": [
        "countiesMA_source.info()"
      ]
    },
    {
      "cell_type": "markdown",
      "metadata": {
        "id": "UMSbtB6hRujD"
      },
      "source": [
        "## Option 1: Areal interpolation\n",
        "\n",
        "Areal interpolation is the simplest way to move data from one set of large boundary areas to a new set of smaller boundary areas, contained in the large one.\n",
        "\n",
        "Imagine you have crime data for entire counties (your source areas), but you need to know the crime rate for city limits (your target areas).\n",
        "\n",
        "The simplest version of areal interpolation is the \"Area-Weighted\" method:\n",
        "\n",
        "Overlap: You figure out how much of the old area (County A) overlaps the new area (City 1).\n",
        "\n",
        "Proportion: If 25% of County A's area covers City 1, you assign 25% of County A's total crime count to City 1.\n",
        "\n",
        "It's a straightforward geographical averaging—it assumes the crime is spread evenly across the entire source area. This often leads to inaccurate estimates, but it's a quick, easy baseline for transferring data between incompatible maps.\n",
        "\n",
        "Let' use tobler(area_weighted) library's **area_interpolate**. Notice we can interpolate extensice and intensive variables."
      ]
    },
    {
      "cell_type": "code",
      "source": [
        "!pip install tobler\n"
      ],
      "metadata": {
        "id": "d7Bawm7BSRtr",
        "outputId": "ce194892-3b28-4719-9c17-0adb19229d99",
        "colab": {
          "base_uri": "https://localhost:8080/"
        }
      },
      "execution_count": 17,
      "outputs": [
        {
          "output_type": "stream",
          "name": "stdout",
          "text": [
            "Collecting tobler\n",
            "  Downloading tobler-0.12.1-py3-none-any.whl.metadata (1.9 kB)\n",
            "Requirement already satisfied: numpy in /usr/local/lib/python3.12/dist-packages (from tobler) (2.0.2)\n",
            "Requirement already satisfied: pandas in /usr/local/lib/python3.12/dist-packages (from tobler) (2.2.2)\n",
            "Requirement already satisfied: geopandas>=0.13 in /usr/local/lib/python3.12/dist-packages (from tobler) (1.1.1)\n",
            "Collecting rasterio (from tobler)\n",
            "  Downloading rasterio-1.4.3-cp312-cp312-manylinux_2_17_x86_64.manylinux2014_x86_64.whl.metadata (9.1 kB)\n",
            "Requirement already satisfied: scipy in /usr/local/lib/python3.12/dist-packages (from tobler) (1.16.2)\n",
            "Requirement already satisfied: statsmodels in /usr/local/lib/python3.12/dist-packages (from tobler) (0.14.5)\n",
            "Collecting rasterstats (from tobler)\n",
            "  Downloading rasterstats-0.20.0-py3-none-any.whl.metadata (4.2 kB)\n",
            "Requirement already satisfied: libpysal in /usr/local/lib/python3.12/dist-packages (from tobler) (4.13.0)\n",
            "Requirement already satisfied: tqdm in /usr/local/lib/python3.12/dist-packages (from tobler) (4.67.1)\n",
            "Requirement already satisfied: joblib in /usr/local/lib/python3.12/dist-packages (from tobler) (1.5.2)\n",
            "Requirement already satisfied: pyogrio>=0.7.2 in /usr/local/lib/python3.12/dist-packages (from geopandas>=0.13->tobler) (0.11.1)\n",
            "Requirement already satisfied: packaging in /usr/local/lib/python3.12/dist-packages (from geopandas>=0.13->tobler) (25.0)\n",
            "Requirement already satisfied: pyproj>=3.5.0 in /usr/local/lib/python3.12/dist-packages (from geopandas>=0.13->tobler) (3.7.2)\n",
            "Requirement already satisfied: shapely>=2.0.0 in /usr/local/lib/python3.12/dist-packages (from geopandas>=0.13->tobler) (2.1.2)\n",
            "Requirement already satisfied: python-dateutil>=2.8.2 in /usr/local/lib/python3.12/dist-packages (from pandas->tobler) (2.9.0.post0)\n",
            "Requirement already satisfied: pytz>=2020.1 in /usr/local/lib/python3.12/dist-packages (from pandas->tobler) (2025.2)\n",
            "Requirement already satisfied: tzdata>=2022.7 in /usr/local/lib/python3.12/dist-packages (from pandas->tobler) (2025.2)\n",
            "Requirement already satisfied: beautifulsoup4>=4.10 in /usr/local/lib/python3.12/dist-packages (from libpysal->tobler) (4.13.5)\n",
            "Requirement already satisfied: platformdirs>=2.0.2 in /usr/local/lib/python3.12/dist-packages (from libpysal->tobler) (4.5.0)\n",
            "Requirement already satisfied: requests>=2.27 in /usr/local/lib/python3.12/dist-packages (from libpysal->tobler) (2.32.4)\n",
            "Requirement already satisfied: scikit-learn>=1.1 in /usr/local/lib/python3.12/dist-packages (from libpysal->tobler) (1.6.1)\n",
            "Collecting affine (from rasterio->tobler)\n",
            "  Downloading affine-2.4.0-py3-none-any.whl.metadata (4.0 kB)\n",
            "Requirement already satisfied: attrs in /usr/local/lib/python3.12/dist-packages (from rasterio->tobler) (25.4.0)\n",
            "Requirement already satisfied: certifi in /usr/local/lib/python3.12/dist-packages (from rasterio->tobler) (2025.10.5)\n",
            "Requirement already satisfied: click>=4.0 in /usr/local/lib/python3.12/dist-packages (from rasterio->tobler) (8.3.0)\n",
            "Collecting cligj>=0.5 (from rasterio->tobler)\n",
            "  Downloading cligj-0.7.2-py3-none-any.whl.metadata (5.0 kB)\n",
            "Collecting click-plugins (from rasterio->tobler)\n",
            "  Downloading click_plugins-1.1.1.2-py2.py3-none-any.whl.metadata (6.5 kB)\n",
            "Requirement already satisfied: pyparsing in /usr/local/lib/python3.12/dist-packages (from rasterio->tobler) (3.2.5)\n",
            "Collecting fiona (from rasterstats->tobler)\n",
            "  Downloading fiona-1.10.1-cp312-cp312-manylinux_2_17_x86_64.manylinux2014_x86_64.whl.metadata (56 kB)\n",
            "\u001b[2K     \u001b[90m━━━━━━━━━━━━━━━━━━━━━━━━━━━━━━━━━━━━━━━━\u001b[0m \u001b[32m56.6/56.6 kB\u001b[0m \u001b[31m2.0 MB/s\u001b[0m eta \u001b[36m0:00:00\u001b[0m\n",
            "\u001b[?25hRequirement already satisfied: simplejson in /usr/local/lib/python3.12/dist-packages (from rasterstats->tobler) (3.20.2)\n",
            "Requirement already satisfied: patsy>=0.5.6 in /usr/local/lib/python3.12/dist-packages (from statsmodels->tobler) (1.0.2)\n",
            "Requirement already satisfied: soupsieve>1.2 in /usr/local/lib/python3.12/dist-packages (from beautifulsoup4>=4.10->libpysal->tobler) (2.8)\n",
            "Requirement already satisfied: typing-extensions>=4.0.0 in /usr/local/lib/python3.12/dist-packages (from beautifulsoup4>=4.10->libpysal->tobler) (4.15.0)\n",
            "Requirement already satisfied: six>=1.5 in /usr/local/lib/python3.12/dist-packages (from python-dateutil>=2.8.2->pandas->tobler) (1.17.0)\n",
            "Requirement already satisfied: charset_normalizer<4,>=2 in /usr/local/lib/python3.12/dist-packages (from requests>=2.27->libpysal->tobler) (3.4.4)\n",
            "Requirement already satisfied: idna<4,>=2.5 in /usr/local/lib/python3.12/dist-packages (from requests>=2.27->libpysal->tobler) (3.11)\n",
            "Requirement already satisfied: urllib3<3,>=1.21.1 in /usr/local/lib/python3.12/dist-packages (from requests>=2.27->libpysal->tobler) (2.5.0)\n",
            "Requirement already satisfied: threadpoolctl>=3.1.0 in /usr/local/lib/python3.12/dist-packages (from scikit-learn>=1.1->libpysal->tobler) (3.6.0)\n",
            "Downloading tobler-0.12.1-py3-none-any.whl (28 kB)\n",
            "Downloading rasterio-1.4.3-cp312-cp312-manylinux_2_17_x86_64.manylinux2014_x86_64.whl (22.3 MB)\n",
            "\u001b[2K   \u001b[90m━━━━━━━━━━━━━━━━━━━━━━━━━━━━━━━━━━━━━━━━\u001b[0m \u001b[32m22.3/22.3 MB\u001b[0m \u001b[31m82.7 MB/s\u001b[0m eta \u001b[36m0:00:00\u001b[0m\n",
            "\u001b[?25hDownloading rasterstats-0.20.0-py3-none-any.whl (17 kB)\n",
            "Downloading cligj-0.7.2-py3-none-any.whl (7.1 kB)\n",
            "Downloading affine-2.4.0-py3-none-any.whl (15 kB)\n",
            "Downloading click_plugins-1.1.1.2-py2.py3-none-any.whl (11 kB)\n",
            "Downloading fiona-1.10.1-cp312-cp312-manylinux_2_17_x86_64.manylinux2014_x86_64.whl (17.2 MB)\n",
            "\u001b[2K   \u001b[90m━━━━━━━━━━━━━━━━━━━━━━━━━━━━━━━━━━━━━━━━\u001b[0m \u001b[32m17.2/17.2 MB\u001b[0m \u001b[31m95.1 MB/s\u001b[0m eta \u001b[36m0:00:00\u001b[0m\n",
            "\u001b[?25hInstalling collected packages: cligj, click-plugins, affine, rasterio, fiona, rasterstats, tobler\n",
            "Successfully installed affine-2.4.0 click-plugins-1.1.1.2 cligj-0.7.2 fiona-1.10.1 rasterio-1.4.3 rasterstats-0.20.0 tobler-0.12.1\n"
          ]
        }
      ]
    },
    {
      "cell_type": "code",
      "execution_count": 18,
      "metadata": {
        "id": "McM7XV1iRujE"
      },
      "outputs": [],
      "source": [
        "from tobler.area_weighted  import area_interpolate as interpolate\n",
        "\n",
        "myExtensive=['AG_ASSLT','BURGLRY']\n",
        "myIntensive=['AG_ASSLT_rate10K','BURGLRY_rate10K']\n",
        "\n",
        "municipalitiesMA_target.set_index('fips_id',inplace=True)\n",
        "\n",
        "\n",
        "areal_municipalities = interpolate(\n",
        "    source_df=countiesMA_source,\n",
        "    target_df=municipalitiesMA_target,\n",
        "    extensive_variables=myExtensive,\n",
        "    intensive_variables=myIntensive\n",
        ")"
      ]
    },
    {
      "cell_type": "markdown",
      "metadata": {
        "id": "ZRCoEsctRujE"
      },
      "source": [
        "This the resulting GDF (interpolated):"
      ]
    },
    {
      "cell_type": "code",
      "execution_count": 19,
      "metadata": {
        "id": "8DtJnv1vRujK",
        "outputId": "fec5431c-6bc9-4225-fc1d-d2a4d207438e",
        "colab": {
          "base_uri": "https://localhost:8080/",
          "height": 455
        }
      },
      "outputs": [
        {
          "output_type": "execute_result",
          "data": {
            "text/plain": [
              "           AG_ASSLT     BURGLRY  AG_ASSLT_rate10K  BURGLRY_rate10K  \\\n",
              "fips_id                                                              \n",
              "25011      4.486106   12.062639         25.273443        67.957480   \n",
              "25017     31.886736   72.617661         14.650933        33.365488   \n",
              "25021     24.438521   58.843591         13.012465        31.331690   \n",
              "25013     36.549520   94.049158         38.004019        97.791872   \n",
              "25021     23.056417   55.515731         13.012466        31.331691   \n",
              "...             ...         ...               ...              ...   \n",
              "25027     30.462052   54.077286         32.937588        58.471943   \n",
              "25015      7.012080   16.145252         17.606958        40.539863   \n",
              "25009    115.488338  158.269799         28.037506        38.423710   \n",
              "25005    100.914340  187.603097         35.547596        66.084156   \n",
              "25013     55.003669  141.535342         38.004019        97.791872   \n",
              "\n",
              "                                                  geometry  \n",
              "fips_id                                                     \n",
              "25011    POLYGON ((110027.553 942832.065, 110708.203 93...  \n",
              "25017    POLYGON ((197690.773 905668.345, 197791.653 90...  \n",
              "25021    POLYGON ((227514.413 885958.825, 229226.782 88...  \n",
              "25013    POLYGON ((147457.513 871335.125, 147357.562 86...  \n",
              "25021    POLYGON ((225443.469 884850.765, 225573.992 88...  \n",
              "...                                                    ...  \n",
              "25027    POLYGON ((188252.282 879479.415, 191146.102 87...  \n",
              "25015    POLYGON ((103344.752 893965.825, 104317.992 89...  \n",
              "25009    POLYGON ((232049.362 942816.125, 233051.542 94...  \n",
              "25005    POLYGON ((233072.343 860388.955, 231021.932 85...  \n",
              "25013    POLYGON ((128209.623 865065.755, 126153.943 86...  \n",
              "\n",
              "[351 rows x 5 columns]"
            ],
            "text/html": [
              "\n",
              "  <div id=\"df-df373be4-7258-4ecc-9848-1487c8501dd4\" class=\"colab-df-container\">\n",
              "    <div>\n",
              "<style scoped>\n",
              "    .dataframe tbody tr th:only-of-type {\n",
              "        vertical-align: middle;\n",
              "    }\n",
              "\n",
              "    .dataframe tbody tr th {\n",
              "        vertical-align: top;\n",
              "    }\n",
              "\n",
              "    .dataframe thead th {\n",
              "        text-align: right;\n",
              "    }\n",
              "</style>\n",
              "<table border=\"1\" class=\"dataframe\">\n",
              "  <thead>\n",
              "    <tr style=\"text-align: right;\">\n",
              "      <th></th>\n",
              "      <th>AG_ASSLT</th>\n",
              "      <th>BURGLRY</th>\n",
              "      <th>AG_ASSLT_rate10K</th>\n",
              "      <th>BURGLRY_rate10K</th>\n",
              "      <th>geometry</th>\n",
              "    </tr>\n",
              "    <tr>\n",
              "      <th>fips_id</th>\n",
              "      <th></th>\n",
              "      <th></th>\n",
              "      <th></th>\n",
              "      <th></th>\n",
              "      <th></th>\n",
              "    </tr>\n",
              "  </thead>\n",
              "  <tbody>\n",
              "    <tr>\n",
              "      <th>25011</th>\n",
              "      <td>4.486106</td>\n",
              "      <td>12.062639</td>\n",
              "      <td>25.273443</td>\n",
              "      <td>67.957480</td>\n",
              "      <td>POLYGON ((110027.553 942832.065, 110708.203 93...</td>\n",
              "    </tr>\n",
              "    <tr>\n",
              "      <th>25017</th>\n",
              "      <td>31.886736</td>\n",
              "      <td>72.617661</td>\n",
              "      <td>14.650933</td>\n",
              "      <td>33.365488</td>\n",
              "      <td>POLYGON ((197690.773 905668.345, 197791.653 90...</td>\n",
              "    </tr>\n",
              "    <tr>\n",
              "      <th>25021</th>\n",
              "      <td>24.438521</td>\n",
              "      <td>58.843591</td>\n",
              "      <td>13.012465</td>\n",
              "      <td>31.331690</td>\n",
              "      <td>POLYGON ((227514.413 885958.825, 229226.782 88...</td>\n",
              "    </tr>\n",
              "    <tr>\n",
              "      <th>25013</th>\n",
              "      <td>36.549520</td>\n",
              "      <td>94.049158</td>\n",
              "      <td>38.004019</td>\n",
              "      <td>97.791872</td>\n",
              "      <td>POLYGON ((147457.513 871335.125, 147357.562 86...</td>\n",
              "    </tr>\n",
              "    <tr>\n",
              "      <th>25021</th>\n",
              "      <td>23.056417</td>\n",
              "      <td>55.515731</td>\n",
              "      <td>13.012466</td>\n",
              "      <td>31.331691</td>\n",
              "      <td>POLYGON ((225443.469 884850.765, 225573.992 88...</td>\n",
              "    </tr>\n",
              "    <tr>\n",
              "      <th>...</th>\n",
              "      <td>...</td>\n",
              "      <td>...</td>\n",
              "      <td>...</td>\n",
              "      <td>...</td>\n",
              "      <td>...</td>\n",
              "    </tr>\n",
              "    <tr>\n",
              "      <th>25027</th>\n",
              "      <td>30.462052</td>\n",
              "      <td>54.077286</td>\n",
              "      <td>32.937588</td>\n",
              "      <td>58.471943</td>\n",
              "      <td>POLYGON ((188252.282 879479.415, 191146.102 87...</td>\n",
              "    </tr>\n",
              "    <tr>\n",
              "      <th>25015</th>\n",
              "      <td>7.012080</td>\n",
              "      <td>16.145252</td>\n",
              "      <td>17.606958</td>\n",
              "      <td>40.539863</td>\n",
              "      <td>POLYGON ((103344.752 893965.825, 104317.992 89...</td>\n",
              "    </tr>\n",
              "    <tr>\n",
              "      <th>25009</th>\n",
              "      <td>115.488338</td>\n",
              "      <td>158.269799</td>\n",
              "      <td>28.037506</td>\n",
              "      <td>38.423710</td>\n",
              "      <td>POLYGON ((232049.362 942816.125, 233051.542 94...</td>\n",
              "    </tr>\n",
              "    <tr>\n",
              "      <th>25005</th>\n",
              "      <td>100.914340</td>\n",
              "      <td>187.603097</td>\n",
              "      <td>35.547596</td>\n",
              "      <td>66.084156</td>\n",
              "      <td>POLYGON ((233072.343 860388.955, 231021.932 85...</td>\n",
              "    </tr>\n",
              "    <tr>\n",
              "      <th>25013</th>\n",
              "      <td>55.003669</td>\n",
              "      <td>141.535342</td>\n",
              "      <td>38.004019</td>\n",
              "      <td>97.791872</td>\n",
              "      <td>POLYGON ((128209.623 865065.755, 126153.943 86...</td>\n",
              "    </tr>\n",
              "  </tbody>\n",
              "</table>\n",
              "<p>351 rows × 5 columns</p>\n",
              "</div>\n",
              "    <div class=\"colab-df-buttons\">\n",
              "\n",
              "  <div class=\"colab-df-container\">\n",
              "    <button class=\"colab-df-convert\" onclick=\"convertToInteractive('df-df373be4-7258-4ecc-9848-1487c8501dd4')\"\n",
              "            title=\"Convert this dataframe to an interactive table.\"\n",
              "            style=\"display:none;\">\n",
              "\n",
              "  <svg xmlns=\"http://www.w3.org/2000/svg\" height=\"24px\" viewBox=\"0 -960 960 960\">\n",
              "    <path d=\"M120-120v-720h720v720H120Zm60-500h600v-160H180v160Zm220 220h160v-160H400v160Zm0 220h160v-160H400v160ZM180-400h160v-160H180v160Zm440 0h160v-160H620v160ZM180-180h160v-160H180v160Zm440 0h160v-160H620v160Z\"/>\n",
              "  </svg>\n",
              "    </button>\n",
              "\n",
              "  <style>\n",
              "    .colab-df-container {\n",
              "      display:flex;\n",
              "      gap: 12px;\n",
              "    }\n",
              "\n",
              "    .colab-df-convert {\n",
              "      background-color: #E8F0FE;\n",
              "      border: none;\n",
              "      border-radius: 50%;\n",
              "      cursor: pointer;\n",
              "      display: none;\n",
              "      fill: #1967D2;\n",
              "      height: 32px;\n",
              "      padding: 0 0 0 0;\n",
              "      width: 32px;\n",
              "    }\n",
              "\n",
              "    .colab-df-convert:hover {\n",
              "      background-color: #E2EBFA;\n",
              "      box-shadow: 0px 1px 2px rgba(60, 64, 67, 0.3), 0px 1px 3px 1px rgba(60, 64, 67, 0.15);\n",
              "      fill: #174EA6;\n",
              "    }\n",
              "\n",
              "    .colab-df-buttons div {\n",
              "      margin-bottom: 4px;\n",
              "    }\n",
              "\n",
              "    [theme=dark] .colab-df-convert {\n",
              "      background-color: #3B4455;\n",
              "      fill: #D2E3FC;\n",
              "    }\n",
              "\n",
              "    [theme=dark] .colab-df-convert:hover {\n",
              "      background-color: #434B5C;\n",
              "      box-shadow: 0px 1px 3px 1px rgba(0, 0, 0, 0.15);\n",
              "      filter: drop-shadow(0px 1px 2px rgba(0, 0, 0, 0.3));\n",
              "      fill: #FFFFFF;\n",
              "    }\n",
              "  </style>\n",
              "\n",
              "    <script>\n",
              "      const buttonEl =\n",
              "        document.querySelector('#df-df373be4-7258-4ecc-9848-1487c8501dd4 button.colab-df-convert');\n",
              "      buttonEl.style.display =\n",
              "        google.colab.kernel.accessAllowed ? 'block' : 'none';\n",
              "\n",
              "      async function convertToInteractive(key) {\n",
              "        const element = document.querySelector('#df-df373be4-7258-4ecc-9848-1487c8501dd4');\n",
              "        const dataTable =\n",
              "          await google.colab.kernel.invokeFunction('convertToInteractive',\n",
              "                                                    [key], {});\n",
              "        if (!dataTable) return;\n",
              "\n",
              "        const docLinkHtml = 'Like what you see? Visit the ' +\n",
              "          '<a target=\"_blank\" href=https://colab.research.google.com/notebooks/data_table.ipynb>data table notebook</a>'\n",
              "          + ' to learn more about interactive tables.';\n",
              "        element.innerHTML = '';\n",
              "        dataTable['output_type'] = 'display_data';\n",
              "        await google.colab.output.renderOutput(dataTable, element);\n",
              "        const docLink = document.createElement('div');\n",
              "        docLink.innerHTML = docLinkHtml;\n",
              "        element.appendChild(docLink);\n",
              "      }\n",
              "    </script>\n",
              "  </div>\n",
              "\n",
              "\n",
              "    <div id=\"df-07813663-da6b-4508-8377-d4cdc246a50a\">\n",
              "      <button class=\"colab-df-quickchart\" onclick=\"quickchart('df-07813663-da6b-4508-8377-d4cdc246a50a')\"\n",
              "                title=\"Suggest charts\"\n",
              "                style=\"display:none;\">\n",
              "\n",
              "<svg xmlns=\"http://www.w3.org/2000/svg\" height=\"24px\"viewBox=\"0 0 24 24\"\n",
              "     width=\"24px\">\n",
              "    <g>\n",
              "        <path d=\"M19 3H5c-1.1 0-2 .9-2 2v14c0 1.1.9 2 2 2h14c1.1 0 2-.9 2-2V5c0-1.1-.9-2-2-2zM9 17H7v-7h2v7zm4 0h-2V7h2v10zm4 0h-2v-4h2v4z\"/>\n",
              "    </g>\n",
              "</svg>\n",
              "      </button>\n",
              "\n",
              "<style>\n",
              "  .colab-df-quickchart {\n",
              "      --bg-color: #E8F0FE;\n",
              "      --fill-color: #1967D2;\n",
              "      --hover-bg-color: #E2EBFA;\n",
              "      --hover-fill-color: #174EA6;\n",
              "      --disabled-fill-color: #AAA;\n",
              "      --disabled-bg-color: #DDD;\n",
              "  }\n",
              "\n",
              "  [theme=dark] .colab-df-quickchart {\n",
              "      --bg-color: #3B4455;\n",
              "      --fill-color: #D2E3FC;\n",
              "      --hover-bg-color: #434B5C;\n",
              "      --hover-fill-color: #FFFFFF;\n",
              "      --disabled-bg-color: #3B4455;\n",
              "      --disabled-fill-color: #666;\n",
              "  }\n",
              "\n",
              "  .colab-df-quickchart {\n",
              "    background-color: var(--bg-color);\n",
              "    border: none;\n",
              "    border-radius: 50%;\n",
              "    cursor: pointer;\n",
              "    display: none;\n",
              "    fill: var(--fill-color);\n",
              "    height: 32px;\n",
              "    padding: 0;\n",
              "    width: 32px;\n",
              "  }\n",
              "\n",
              "  .colab-df-quickchart:hover {\n",
              "    background-color: var(--hover-bg-color);\n",
              "    box-shadow: 0 1px 2px rgba(60, 64, 67, 0.3), 0 1px 3px 1px rgba(60, 64, 67, 0.15);\n",
              "    fill: var(--button-hover-fill-color);\n",
              "  }\n",
              "\n",
              "  .colab-df-quickchart-complete:disabled,\n",
              "  .colab-df-quickchart-complete:disabled:hover {\n",
              "    background-color: var(--disabled-bg-color);\n",
              "    fill: var(--disabled-fill-color);\n",
              "    box-shadow: none;\n",
              "  }\n",
              "\n",
              "  .colab-df-spinner {\n",
              "    border: 2px solid var(--fill-color);\n",
              "    border-color: transparent;\n",
              "    border-bottom-color: var(--fill-color);\n",
              "    animation:\n",
              "      spin 1s steps(1) infinite;\n",
              "  }\n",
              "\n",
              "  @keyframes spin {\n",
              "    0% {\n",
              "      border-color: transparent;\n",
              "      border-bottom-color: var(--fill-color);\n",
              "      border-left-color: var(--fill-color);\n",
              "    }\n",
              "    20% {\n",
              "      border-color: transparent;\n",
              "      border-left-color: var(--fill-color);\n",
              "      border-top-color: var(--fill-color);\n",
              "    }\n",
              "    30% {\n",
              "      border-color: transparent;\n",
              "      border-left-color: var(--fill-color);\n",
              "      border-top-color: var(--fill-color);\n",
              "      border-right-color: var(--fill-color);\n",
              "    }\n",
              "    40% {\n",
              "      border-color: transparent;\n",
              "      border-right-color: var(--fill-color);\n",
              "      border-top-color: var(--fill-color);\n",
              "    }\n",
              "    60% {\n",
              "      border-color: transparent;\n",
              "      border-right-color: var(--fill-color);\n",
              "    }\n",
              "    80% {\n",
              "      border-color: transparent;\n",
              "      border-right-color: var(--fill-color);\n",
              "      border-bottom-color: var(--fill-color);\n",
              "    }\n",
              "    90% {\n",
              "      border-color: transparent;\n",
              "      border-bottom-color: var(--fill-color);\n",
              "    }\n",
              "  }\n",
              "</style>\n",
              "\n",
              "      <script>\n",
              "        async function quickchart(key) {\n",
              "          const quickchartButtonEl =\n",
              "            document.querySelector('#' + key + ' button');\n",
              "          quickchartButtonEl.disabled = true;  // To prevent multiple clicks.\n",
              "          quickchartButtonEl.classList.add('colab-df-spinner');\n",
              "          try {\n",
              "            const charts = await google.colab.kernel.invokeFunction(\n",
              "                'suggestCharts', [key], {});\n",
              "          } catch (error) {\n",
              "            console.error('Error during call to suggestCharts:', error);\n",
              "          }\n",
              "          quickchartButtonEl.classList.remove('colab-df-spinner');\n",
              "          quickchartButtonEl.classList.add('colab-df-quickchart-complete');\n",
              "        }\n",
              "        (() => {\n",
              "          let quickchartButtonEl =\n",
              "            document.querySelector('#df-07813663-da6b-4508-8377-d4cdc246a50a button');\n",
              "          quickchartButtonEl.style.display =\n",
              "            google.colab.kernel.accessAllowed ? 'block' : 'none';\n",
              "        })();\n",
              "      </script>\n",
              "    </div>\n",
              "\n",
              "  <div id=\"id_9886df0d-2a49-4ed8-9d70-aaa005bd96ae\">\n",
              "    <style>\n",
              "      .colab-df-generate {\n",
              "        background-color: #E8F0FE;\n",
              "        border: none;\n",
              "        border-radius: 50%;\n",
              "        cursor: pointer;\n",
              "        display: none;\n",
              "        fill: #1967D2;\n",
              "        height: 32px;\n",
              "        padding: 0 0 0 0;\n",
              "        width: 32px;\n",
              "      }\n",
              "\n",
              "      .colab-df-generate:hover {\n",
              "        background-color: #E2EBFA;\n",
              "        box-shadow: 0px 1px 2px rgba(60, 64, 67, 0.3), 0px 1px 3px 1px rgba(60, 64, 67, 0.15);\n",
              "        fill: #174EA6;\n",
              "      }\n",
              "\n",
              "      [theme=dark] .colab-df-generate {\n",
              "        background-color: #3B4455;\n",
              "        fill: #D2E3FC;\n",
              "      }\n",
              "\n",
              "      [theme=dark] .colab-df-generate:hover {\n",
              "        background-color: #434B5C;\n",
              "        box-shadow: 0px 1px 3px 1px rgba(0, 0, 0, 0.15);\n",
              "        filter: drop-shadow(0px 1px 2px rgba(0, 0, 0, 0.3));\n",
              "        fill: #FFFFFF;\n",
              "      }\n",
              "    </style>\n",
              "    <button class=\"colab-df-generate\" onclick=\"generateWithVariable('areal_municipalities')\"\n",
              "            title=\"Generate code using this dataframe.\"\n",
              "            style=\"display:none;\">\n",
              "\n",
              "  <svg xmlns=\"http://www.w3.org/2000/svg\" height=\"24px\"viewBox=\"0 0 24 24\"\n",
              "       width=\"24px\">\n",
              "    <path d=\"M7,19H8.4L18.45,9,17,7.55,7,17.6ZM5,21V16.75L18.45,3.32a2,2,0,0,1,2.83,0l1.4,1.43a1.91,1.91,0,0,1,.58,1.4,1.91,1.91,0,0,1-.58,1.4L9.25,21ZM18.45,9,17,7.55Zm-12,3A5.31,5.31,0,0,0,4.9,8.1,5.31,5.31,0,0,0,1,6.5,5.31,5.31,0,0,0,4.9,4.9,5.31,5.31,0,0,0,6.5,1,5.31,5.31,0,0,0,8.1,4.9,5.31,5.31,0,0,0,12,6.5,5.46,5.46,0,0,0,6.5,12Z\"/>\n",
              "  </svg>\n",
              "    </button>\n",
              "    <script>\n",
              "      (() => {\n",
              "      const buttonEl =\n",
              "        document.querySelector('#id_9886df0d-2a49-4ed8-9d70-aaa005bd96ae button.colab-df-generate');\n",
              "      buttonEl.style.display =\n",
              "        google.colab.kernel.accessAllowed ? 'block' : 'none';\n",
              "\n",
              "      buttonEl.onclick = () => {\n",
              "        google.colab.notebook.generateWithVariable('areal_municipalities');\n",
              "      }\n",
              "      })();\n",
              "    </script>\n",
              "  </div>\n",
              "\n",
              "    </div>\n",
              "  </div>\n"
            ],
            "application/vnd.google.colaboratory.intrinsic+json": {
              "type": "dataframe",
              "variable_name": "areal_municipalities",
              "summary": "{\n  \"name\": \"areal_municipalities\",\n  \"rows\": 351,\n  \"fields\": [\n    {\n      \"column\": \"fips_id\",\n      \"properties\": {\n        \"dtype\": \"int32\",\n        \"num_unique_values\": 14,\n        \"samples\": [\n          25001,\n          25019,\n          25011\n        ],\n        \"semantic_type\": \"\",\n        \"description\": \"\"\n      }\n    },\n    {\n      \"column\": \"AG_ASSLT\",\n      \"properties\": {\n        \"dtype\": \"number\",\n        \"std\": 163.29146771207576,\n        \"min\": 1.6279662027955055,\n        \"max\": 3011.3061298131943,\n        \"num_unique_values\": 351,\n        \"samples\": [\n          59.07666128128767,\n          33.3302391692996,\n          42.89957843720913\n        ],\n        \"semantic_type\": \"\",\n        \"description\": \"\"\n      }\n    },\n    {\n      \"column\": \"BURGLRY\",\n      \"properties\": {\n        \"dtype\": \"number\",\n        \"std\": 184.20275897055853,\n        \"min\": 3.6357911862432957,\n        \"max\": 3261.0804953575134,\n        \"num_unique_values\": 351,\n        \"samples\": [\n          142.24603917449713,\n          59.168991185724735,\n          97.69789709150791\n        ],\n        \"semantic_type\": \"\",\n        \"description\": \"\"\n      }\n    },\n    {\n      \"column\": \"AG_ASSLT_rate10K\",\n      \"properties\": {\n        \"dtype\": \"number\",\n        \"std\": 8.57688859777592,\n        \"min\": 13.012465021239294,\n        \"max\": 48.35189271253721,\n        \"num_unique_values\": 27,\n        \"samples\": [\n          14.6509342466071,\n          35.49002067638756,\n          23.999691322298105\n        ],\n        \"semantic_type\": \"\",\n        \"description\": \"\"\n      }\n    },\n    {\n      \"column\": \"BURGLRY_rate10K\",\n      \"properties\": {\n        \"dtype\": \"number\",\n        \"std\": 20.591154524617796,\n        \"min\": 31.331689520414166,\n        \"max\": 103.40015814689055,\n        \"num_unique_values\": 27,\n        \"samples\": [\n          33.36549025567973,\n          103.40015198376085,\n          68.75795809700197\n        ],\n        \"semantic_type\": \"\",\n        \"description\": \"\"\n      }\n    },\n    {\n      \"column\": \"geometry\",\n      \"properties\": {\n        \"dtype\": \"geometry\",\n        \"num_unique_values\": 351,\n        \"samples\": [\n          \"POLYGON ((208505.83250000328 876327.614599999, 209508.08250000328 876100.8746000007, 209507.97249999642 876109.6645999998, 209513.79249999672 876108.2945999987, 209522.68249999732 876103.8145999983, 209537.15250000358 876101.2245999984, 209551.1625000015 876100.4545999989, 209594.1424999982 876089.3746000007, 209631.8125 876091.9246000014, 209639.94250000268 876093.8346000016, 209645.68249999732 876096.7045999989, 209648.79249999672 876101.0045999996, 209649.9825000018 876104.8346000016, 209650.4624999985 876111.5245999992, 209654.29249999672 876119.6545999981, 209658.8025000021 876124.4846000001, 209661.4624999985 876126.3546000011, 209665.0225000009 876127.694600001, 209692.3125 876133.5346000008, 209728.4125000015 876135.6845999993, 209739.4125000015 876133.7646000013, 209747.3125 876131.3746000007, 209753.2824999988 876127.3145999983, 209755.44250000268 876119.1845999993, 209753.04249999672 876112.2446000017, 209745.15250000358 876103.3946000002, 209737.50249999762 876099.3346000016, 209721.7025000006 876094.2446000017, 209708.8125 876090.7245999984, 209698.5324999988 876083.7945999987, 209688.9624999985 876073.9846000001, 209684.4224999994 876063.944600001, 209681.7725000009 876052.4646000005, 209682.0225000009 876038.3546000011, 209683.94250000268 876026.6446000002, 209682.79249999672 876016.8746000007, 209680.11249999702 875994.364599999, 209678.9224999994 875983.1246000007, 209679.40250000358 875974.0346000008, 209682.7424999997 875968.5346000008, 209698.04249999672 875960.1645999998, 209711.9125000015 875952.9946000017, 209718.1325000003 875950.6046000011, 209726.0225000009 875949.8845999986, 209731.5225000009 875947.2545999996, 209738.5525000021 875949.0346000008, 209742.76250000298 875952.0346000008, 209745.6325000003 875950.8445999995, 209750.50249999762 875941.2545999996, 209749.4624999985 875935.2945999987, 209741.5724999979 875927.1645999998, 209723.6325000003 875925.2545999996, 209714.3125 875922.6246000007, 209702.69250000268 875927.444600001, 209696.61249999702 875925.9745999984, 209680.6724999994 875935.6845999993, 209670.0724999979 875937.4545999989, 209661.94250000268 875939.1246000007, 209650.22249999642 875930.9946000017, 209646.3924999982 875920.9545999989, 209644.2424999997 875912.8245999999, 209645.2025000006 875905.4045999981, 209651.18249999732 875902.0645999983, 209656.2025000006 875899.4345999993, 209670.0724999979 875883.6446000002, 209679.40250000358 875872.8946000002, 209687.76250000298 875866.1845999993, 209696.37250000238 875864.5146000013, 209703.7824999988 875867.864599999, 209710.4825000018 875882.944600001, 209715.26250000298 875897.9946000017, 209723.6325000003 875902.7745999992, 209733.6724999994 875904.4545999989, 209747.9125000015 875903.0745999999, 209760.5324999988 875899.3746000007, 209784.2824999988 875884.8845999986, 209795.93249999732 875873.4246000014, 209804.76250000298 875860.2846000008, 209806.6625000015 875852.8746000007, 209812.12250000238 875848.6845999993, 209819.76250000298 875839.9545999989, 209829.94250000268 875833.7745999992, 209838.4924999997 875833.6246000007, 209840.50249999762 875834.1345999986, 209842.00249999762 875835.3546000011, 209844.68249999732 875838.1345999986, 209856.3224999979 875855.4246000014, 209863.7725000009 875861.7846000008, 209872.1424999982 875864.5146000013, 209878.3224999979 875864.5146000013, 209883.9624999985 875862.7045999989, 209891.4224999994 875853.0546000004, 209895.6024999991 875847.9545999989, 209905.4224999994 875840.4345999993, 209912.37250000238 875817.864599999, 209910.72249999642 875816.2146000005, 209909.08250000328 875815.5146000013, 209906.61249999702 875816.8445999995, 209902.9525000006 875820.2146000005, 209898.7124999985 875826.8145999983, 209893.0525000021 875832.4646000005, 209886.47249999642 875835.2846000008, 209884.5925000012 875841.4045999981, 209877.9825000018 875846.1345999986, 209870.8125 875845.6545999981, 209863.65250000358 875839.444600001, 209850.29249999672 875826.5546000004, 209847.4224999994 875819.3946000002, 209839.3125 875817.4846000001, 209833.58250000328 875811.7545999996, 209833.1024999991 875795.5245999992, 209835.97249999642 875773.5645999983, 209840.7424999997 875759.7245999984, 209848.3825000003 875737.7745999992, 209858.4125000015 875718.6746000014, 209863.26250000298 875712.4646000005, 209867.29249999672 875711.0245999992, 209884.97249999642 875701.7146000005, 209894.1625000015 875695.6645999998, 209898.50249999762 875688.1246000007, 209901.26250000298 875681.9345999993, 209899.93249999732 875673.7945999987, 209893.25249999762 875666.1645999998, 209880.6024999991 875652.9646000005, 209874.3924999982 875648.6446000002, 209873.19250000268 875644.3546000011, 209873.19250000268 875640.9045999981, 209875.7725000009 875639.194600001, 209876.4525000006 875636.944600001, 209864.0525000021 875626.944600001, 209846.9525000006 875628.9246000014, 209835.01250000298 875626.0645999983, 209830.2424999997 875628.444600001, 209817.2424999997 875626.5945999995, 209811.3425000012 875627.4045999981, 209807.90250000358 875625.3746000007, 209804.1424999982 875624.9045999981, 209802.7725000009 875620.9246000014, 209800.3924999982 875618.9545999989, 209795.2325000018 875619.114599999, 209789.1325000003 875607.2346000001, 209786.00249999762 875606.1446000002, 209778.3425000012 875609.8946000002, 209778.65250000358 875615.6746000014, 209777.0925000012 875617.0846000016, 209773.4924999997 875615.5146000013, 209772.2424999997 875613.3346000016, 209767.86249999702 875613.6446000002, 209766.4624999985 875616.6246000007, 209766.7725000009 875619.114599999, 209768.5724999979 875621.4145999998, 209767.7124999985 875623.3346000016, 209765.0525000021 875623.3346000016, 209762.7025000006 875621.7745999992, 209762.86249999702 875616.4545999989, 209759.11249999702 875613.6545999981, 209755.1724999994 875610.364599999, 209754.1024999991 875608.9545999989, 209755.04249999672 875605.7545999996, 209757.68249999732 875600.7646000013, 209782.97249999642 875576.8946000002, 209785.36249999702 875570.6845999993, 209777.7424999997 875547.7745999992, 209775.3025000021 875542.9345999993, 209771.4224999994 875541.0945999995, 209769.5925000012 875534.364599999, 209759.8025000021 875527.8445999995, 209757.5625 875519.4846000001, 209751.8524999991 875510.5045999996, 209747.36249999702 875508.2646000013, 209745.11249999702 875502.7446000017, 209747.5625 875494.3946000002, 209747.7025000006 875489.9246000014, 209743.86249999702 875485.7545999996, 209742.19250000268 875481.9145999998, 209742.5225000009 875477.9045999981, 209742.0225000009 875475.9045999981, 209742.86249999702 875474.0745999999, 209745.2025000006 875474.5745999999, 209746.7025000006 875477.0745999999, 209749.87250000238 875479.9145999998, 209759.3825000003 875483.5846000016, 209769.8524999991 875485.8346000016, 209770.86249999702 875490.2446000017, 209770.86249999702 875494.864599999, 209772.4624999985 875495.864599999, 209779.90250000358 875493.1345999986, 209781.26250000298 875490.5945999995, 209785.44250000268 875488.3845999986, 209790.7025000006 875487.0346000008, 209794.29249999672 875479.2846000008, 209800.68249999732 875484.444600001, 209803.6325000003 875472.4045999981, 209806.0925000012 875467.4846000001, 209812.9825000018 875467.9745999984, 209817.22249999642 875453.7146000005, 209834.7424999997 875442.444600001, 209838.0525000021 875443.9045999981, 209840.9924999997 875440.9745999984, 209847.4525000006 875434.9646000005, 209850.90250000358 875428.114599999, 209855.68249999732 875420.7846000008, 209862.6625000015 875419.3046000004, 209865.40250000358 875412.9745999984, 209868.5324999988 875402.7745999992, 209867.8025000021 875392.8546000011, 209872.29249999672 875381.8746000007, 209873.3125 875367.1446000002, 209870.00249999762 875359.0645999983, 209868.1724999994 875351.7245999984, 209865.2325000018 875348.4145999998, 209866.33250000328 875343.2745999992, 209871.47249999642 875341.0745999999, 209875.8825000003 875337.3946000002, 209875.1424999982 875332.2545999996, 209871.47249999642 875322.3346000016, 209867.0625 875321.9745999984, 209866.33250000328 875316.8245999999, 209870.4125000015 875313.9545999989, 209872.5724999979 875302.5045999996, 209884.69250000268 875290.0245999992, 209890.5724999979 875287.444600001, 209898.65250000358 875273.4946000017, 209903.79249999672 875255.864599999, 209910.40250000358 875252.1845999993, 209918.12250000238 875233.0945999995, 209917.01250000298 875229.4145999998, 209912.97249999642 875227.2146000005, 209912.2424999997 875221.7045999989, 209912.61249999702 875214.3546000011, 209915.18249999732 875211.0546000004, 209918.8524999991 875190.4846000001, 209923.26250000298 875182.0346000008, 209923.62250000238 875174.3245999999, 209919.5925000012 875168.0846000016, 209920.51250000298 875160.3145999983, 209923.4825000018 875132.3546000011, 210939.43249999732 872996.0346000008, 211642.5724999979 871021.9045999981, 211145.0925000012 869541.0546000004, 209253.5525000021 865629.7245999984, 203651.22249999642 864946.194600001, 203745.9224999994 865966.5546000004, 203750.9624999985 866870.864599999, 203727.75249999762 868081.9345999993, 203651.65250000358 868085.6046000011, 203701.22249999642 869151.0146000013, 203831.33250000328 869135.9646000005, 203974.0724999979 870374.2146000005, 204417.76250000298 872415.1545999981, 204630.12250000238 874100.8245999999, 204732.87250000238 875387.4745999984, 204749.8924999982 875681.5245999992, 204750.68249999732 875691.7446000017, 204774.8825000003 875695.0745999999, 204791.61249999702 875697.364599999, 204809.1024999991 875703.444600001, 204820.6424999982 875712.9745999984, 204821.90250000358 875719.6046000011, 204817.9525000006 875726.0645999983, 204777.9224999994 875737.6746000014, 204766.3425000012 875740.9345999993, 204762.93249999732 875743.8046000004, 204760.9624999985 875746.6746000014, 204760.2424999997 875750.614599999, 204762.04249999672 875755.2745999992, 204774.8825000003 875772.6545999981, 204788.5724999979 875790.1446000002, 204792.37250000238 875818.2945999987, 204790.8524999991 875836.5445999987, 204781.72249999642 875858.6046000011, 204777.1625000015 875865.444600001, 204776.40250000358 875876.0846000016, 204792.37250000238 875895.8746000007, 204798.47249999642 875902.4545999989, 204798.29249999672 875909.7146000005, 204793.12250000238 875915.6446000002, 204784.76250000298 875919.444600001, 204775.2325000018 875921.3546000011, 204771.26250000298 875922.944600001, 204768.00249999762 875927.1446000002, 204764.2325000018 875938.4646000005, 204754.3425000012 875944.5445999987, 204742.1724999994 875945.3046000004, 204733.0525000021 875943.7846000008, 204724.68249999732 875946.8245999999, 204721.11249999702 875954.4545999989, 204721.86249999702 875962.8445999995, 204739.1325000003 875984.0945999995, 204751.3025000021 876007.6746000014, 204763.33250000328 876016.4246000014, 204769.75249999762 876019.2346000001, 204779.12250000238 876021.6446000002, 204799.76250000298 876019.6545999981, 204810.2725000009 876021.7745999992, 204820.9825000018 876028.3746000007, 204842.47249999642 876046.5245999992, 204850.26250000298 876051.4545999989, 204870.43249999732 876058.4145999998, 204895.2424999997 876073.0245999992, 204914.4924999997 876081.1345999986, 204940.93249999732 876095.7446000017, 204945.33250000328 876096.2146000005, 204950.68249999732 876094.5846000016, 204966.44250000268 876090.1845999993, 204991.72249999642 876079.9745999984, 205009.11249999702 876070.4646000005, 205021.6325000003 876068.8445999995, 205033.2424999997 876069.7745999992, 205043.4224999994 876072.7945999987, 205055.4924999997 876082.7646000013, 205060.1325000003 876086.2346000001, 205065.69250000268 876086.7045999989, 205074.04249999672 876086.2346000001, 205081.69250000268 876084.3845999986, 205101.87250000238 876075.3445999995, 205147.79249999672 876058.8746000007, 205189.40250000358 876050.3145999983, 205196.4924999997 876047.7446000017, 205203.1724999994 876045.0745999999, 205228.4924999997 876031.0445999987, 205249.1325000003 876016.4345999993, 205262.58250000328 876003.9145999998, 205270.7025000006 875992.7846000008, 205275.1024999991 875990.2346000001, 205280.6724999994 875989.7646000013, 205306.4125000015 875981.8845999986, 205314.76250000298 875981.4145999998, 205324.50249999762 875977.944600001, 205330.0625 875977.944600001, 205335.40250000358 875979.7945999987, 205360.44250000268 875981.8845999986, 205381.08250000328 875986.0546000004, 205392.68249999732 875990.2346000001, 205409.1424999982 875991.1645999998, 205415.87250000238 875994.1746000014, 205419.8125 875999.7446000017, 205419.11249999702 876011.3346000016, 205416.5625 876020.614599999, 205401.4924999997 876035.9145999998, 205388.2725000009 876054.4545999989, 205385.4924999997 876065.1345999986, 205383.6325000003 876074.1845999993, 205383.7824999988 876092.4745999984, 205381.7824999988 876109.4345999993, 205385.26250000298 876117.3145999983, 205394.76250000298 876131.4646000005, 205405.2025000006 876136.0945999995, 205415.6325000003 876139.8046000004, 205423.29249999672 876139.5745999999, 205428.0324999988 876138.0346000008, 205431.6424999982 876134.0146000013, 205433.9224999994 876119.6645999998, 205434.4224999994 876107.114599999, 205434.4224999994 876095.2846000008, 205432.33250000328 876086.2346000001, 205433.4924999997 876080.2146000005, 205437.6724999994 876076.5045999996, 205442.7725000009 876074.4045999981, 205448.5724999979 876074.8746000007, 205463.18249999732 876079.2846000008, 205473.15250000358 876083.9246000014, 205479.4125000015 876093.4246000014, 205482.6625000015 876100.1545999981, 205483.12250000238 876108.5045999996, 205484.97249999642 876114.3145999983, 205494.9525000006 876129.8346000016, 205497.9624999985 876137.7245999984, 205496.11249999702 876144.4545999989, 205488.22249999642 876150.4745999984, 205481.7325000018 876155.114599999, 205470.83250000328 876159.0546000004, 205467.12250000238 876163.694600001, 205466.19250000268 876168.3346000016, 205467.50249999762 876173.8746000007, 205471.76250000298 876177.8445999995, 205480.1024999991 876179.9246000014, 205486.6024999991 876183.6345999986, 205495.6424999982 876192.2146000005, 205500.9825000018 876199.8746000007, 205503.3025000021 876209.8445999995, 205505.1625000015 876217.7245999984, 205510.72249999642 876222.364599999, 205516.9825000018 876223.7545999996, 205525.79249999672 876227.4646000005, 205531.5925000012 876232.114599999, 205536.9224999994 876239.9946000017, 205541.1024999991 876252.9745999984, 205548.29249999672 876281.2745999992, 205556.40250000358 876303.7646000013, 205565.4525000006 876312.8145999983, 205578.43249999732 876319.5346000008, 205589.33250000328 876333.2146000005, 205598.3825000003 876349.6845999993, 205605.3224999979 876366.614599999, 205609.2824999988 876377.0445999987, 205614.61249999702 876385.3946000002, 205634.0925000012 876402.3145999983, 205641.7424999997 876406.7346000001, 205649.86249999702 876409.2846000008, 205662.61249999702 876410.444600001, 205674.6724999994 876412.2945999987, 205687.2025000006 876417.1645999998, 205699.4924999997 876422.0346000008, 205708.9924999997 876428.5245999992, 205716.65250000358 876442.9045999981, 205715.9525000006 876459.8445999995, 205718.2725000009 876469.5745999999, 205722.68249999732 876479.0846000016, 205736.36249999702 876494.8546000011, 205755.8425000012 876509.0045999996, 205763.72249999642 876511.5546000004, 205779.26250000298 876512.7146000005, 205804.7725000009 876513.1746000014, 205815.90250000358 876511.5546000004, 205824.4825000018 876507.8445999995, 205832.83250000328 876501.8145999983, 205838.6325000003 876493.0045999996, 205840.0225000009 876485.8145999983, 205848.6024999991 876469.5745999999, 205861.3524999991 876453.3445999995, 205876.3025000021 876439.6845999993, 205886.86249999702 876430.8445999995, 205902.87250000238 876424.5846000016, 205951.5724999979 876412.2945999987, 205964.3224999979 876411.6046000011, 205974.76250000298 876415.7745999992, 205987.0525000021 876426.444600001, 206002.72249999642 876447.3445999995, 206027.7124999985 876462.6345999986, 206053.8224999979 876470.0846000016, 206084.7725000009 876472.694600001, 206108.6424999982 876471.9545999989, 206132.15250000358 876474.194600001, 206158.2424999997 876482.3946000002, 206195.9125000015 876499.9246000014, 206222.76250000298 876508.8746000007, 206251.11249999702 876515.9646000005, 206276.47249999642 876517.8245999999, 206293.25249999762 876517.0745999999, 206299.22249999642 876519.694600001, 206302.5724999979 876522.2945999987, 206308.54249999672 876523.4145999998, 206316.37250000238 876524.5346000008, 206337.25249999762 876526.7745999992, 206370.4525000006 876518.944600001, 206402.8924999982 876503.2846000008, 206420.4224999994 876493.9545999989, 206440.19250000268 876485.3746000007, 206462.19250000268 876480.9045999981, 206492.40250000358 876482.0245999992, 206522.2424999997 876482.3946000002, 206558.7824999988 876486.1246000007, 206589.7424999997 876486.8746000007, 206601.6724999994 876488.364599999, 206620.3224999979 876491.7146000005, 206631.8825000003 876497.3145999983, 206643.0724999979 876506.6345999986, 206658.7325000018 876510.3546000011, 206675.5225000009 876508.1246000007, 206688.5724999979 876504.0245999992, 206697.5225000009 876495.4545999989, 206703.11249999702 876482.3946000002, 206701.62250000238 876453.6845999993, 206696.0324999988 876439.5045999996, 206691.18249999732 876433.5346000008, 206682.6024999991 876428.694600001, 206667.68249999732 876421.2346000001, 206645.68249999732 876411.1645999998, 206628.90250000358 876402.5846000016, 206620.69250000268 876395.1246000007, 206610.25249999762 876389.1545999981, 206593.8425000012 876380.9545999989, 206581.1625000015 876372.0045999996, 206570.72249999642 876361.5645999983, 206569.2325000018 876349.2545999996, 206572.58250000328 876337.694600001, 206583.0324999988 876325.7545999996, 206594.6024999991 876320.9145999998, 206601.3025000021 876313.8245999999, 206607.2725000009 876314.194600001, 206614.3524999991 876311.5846000016, 206619.58250000328 876313.4545999989, 206627.4125000015 876319.4246000014, 206629.6424999982 876326.8746000007, 206630.3924999982 876341.4246000014, 206633.75249999762 876351.4946000017, 206640.4525000006 876355.9646000005, 206647.54249999672 876354.4745999984, 206652.0225000009 876350.7446000017, 206669.5324999988 876338.6845999993, 206679.62250000238 876320.5346000008, 206683.3524999991 876305.6246000007, 206683.72249999642 876285.114599999, 206681.4825000018 876275.0346000008, 206684.0925000012 876263.1046000011, 206692.6724999994 876231.4045999981, 206698.6424999982 876225.0645999983, 206709.08250000328 876222.8245999999, 206718.4125000015 876223.944600001, 206728.47249999642 876227.2945999987, 206742.2725000009 876236.2545999996, 206756.8224999979 876246.694600001, 206782.5525000021 876259.7446000017, 206794.4924999997 876258.6246000007, 206800.83250000328 876259.3746000007, 206804.93249999732 876263.1046000011, 206808.6625000015 876272.8046000004, 206813.87250000238 876281.0045999996, 206828.0525000021 876289.5846000016, 206847.0724999979 876307.4846000001, 206873.18249999732 876334.7045999989, 206892.5724999979 876351.114599999, 206932.4825000018 876378.3445999995, 206978.3524999991 876402.5846000016, 206997.37250000238 876414.8946000002, 207010.79249999672 876427.9545999989, 207018.6325000003 876429.4345999993, 207028.3224999979 876425.3346000016, 207032.0525000021 876418.2446000017, 207034.37250000238 876411.2545999996, 207038.3524999991 876408.4846000001, 207043.61249999702 876404.8245999999, 207051.44250000268 876391.3946000002, 207055.1724999994 876372.0045999996, 207051.08250000328 876327.2545999996, 207039.1424999982 876288.8346000016, 207035.04249999672 876269.0745999999, 207027.58250000328 876249.6746000014, 207021.9825000018 876238.864599999, 207014.90250000358 876230.2846000008, 206992.15250000358 876209.7745999992, 206967.90250000358 876187.0245999992, 206961.5724999979 876174.3445999995, 206956.3425000012 876157.5645999983, 206955.6024999991 876146.0045999996, 206958.2124999985 876137.7945999987, 206964.5525000021 876125.114599999, 206979.8425000012 876102.7346000001, 206991.0324999988 876078.4946000017, 206994.2124999985 876063.9145999998, 206997.00249999762 876057.9846000001, 207002.22249999642 876052.3946000002, 207012.2824999988 876044.5546000004, 207025.3425000012 876033.3746000007, 207033.54249999672 876021.0645999983, 207056.6724999994 875992.7346000001, 207093.6024999991 875960.2745999992, 207117.4624999985 875940.1345999986, 207139.4525000006 875930.4345999993, 207159.2325000018 875924.4646000005, 207177.1325000003 875918.1345999986, 207196.15250000358 875910.6746000014, 207218.15250000358 875912.5346000008, 207250.22249999642 875924.8445999995, 207267.75249999762 875943.114599999, 207281.76250000298 875972.7545999996, 207297.69250000268 875989.8746000007, 207312.1325000003 875996.444600001, 207321.4624999985 875993.8346000016, 207325.5625 875996.444600001, 207330.7824999988 876002.7945999987, 207344.2124999985 876003.9045999981, 207352.7824999988 876006.8946000002, 207360.62250000238 876003.1645999998, 207368.8224999979 875995.3346000016, 207380.75249999762 875983.7646000013, 207397.1724999994 875976.6845999993, 207424.76250000298 875960.6446000002, 207431.8524999991 875956.1845999993, 207438.19250000268 875954.6746000014, 207444.8224999979 875955.4145999998, 207462.43249999732 875955.0546000004, 207481.8224999979 875956.5445999987, 207503.4525000006 875961.7646000013, 207527.3224999979 875972.2045999989, 207542.61249999702 875982.2745999992, 207556.0525000021 875994.5045999996, 207578.79249999672 876018.0745999999, 207622.8025000021 876059.1046000011, 207676.1325000003 876129.6046000011, 207693.2824999988 876153.8346000016, 207723.86249999702 876186.6545999981, 207751.4624999985 876213.5045999996, 207766.3825000003 876224.694600001, 207782.4224999994 876233.6446000002, 207798.4525000006 876239.9846000001, 207826.9825000018 876249.9246000014, 207852.4125000015 876265.9345999993, 207867.4825000018 876285.2446000017, 207884.9224999994 876304.8746000007, 207901.50249999762 876325.8145999983, 207922.8125 876354.4045999981, 207957.2025000006 876437.5346000008, 207969.3825000003 876471.9145999998, 207980.1325000003 876495.5745999999, 207988.3025000021 876510.3145999983, 207998.04249999672 876527.8145999983, 208009.9224999994 876540.0745999999, 208031.01250000298 876558.6246000007, 208063.65250000358 876572.6345999986, 208072.9924999997 876573.0346000008, 208082.3425000012 876569.5245999992, 208094.4125000015 876562.1345999986, 208109.2025000006 876551.614599999, 208125.5525000021 876545.7745999992, 208145.8025000021 876540.3245999999, 208166.44250000268 876533.3245999999, 208187.0625 876525.1446000002, 208216.26250000298 876516.5745999999, 208250.1325000003 876507.6246000007, 208285.1724999994 876502.1746000014, 208301.9125000015 876501.7846000008, 208321.3825000003 876496.7245999984, 208342.01250000298 876487.3845999986, 208359.5324999988 876474.5346000008, 208375.1024999991 876463.2446000017, 208400.0225000009 876442.2245999984, 208423.44250000268 876421.3746000007, 208441.29249999672 876399.3946000002, 208454.9125000015 876377.9846000001, 208472.0525000021 876359.2945999987, 208488.7824999988 876347.614599999, 208507.47249999642 876340.9946000017, 208505.83250000328 876327.614599999))\",\n          \"POLYGON ((185280.12250000238 904310.3546000011, 185955.94250000268 904031.5745999999, 185354.61249999702 901643.4345999993, 185471.9224999994 901611.7245999984, 184514.1724999994 897240.6645999998, 184377.5925000012 897293.4145999998, 184245.7124999985 897394.9045999981, 184260.6625000015 897625.3546000011, 183713.79249999672 897470.1746000014, 183710.3224999979 897650.9846000001, 183890.1024999991 897771.8245999999, 183626.2325000018 898009.694600001, 181023.51250000298 896764.5146000013, 180889.7325000018 896408.2045999989, 180067.2025000006 896165.1845999993, 180098.62250000238 896342.8145999983, 178851.18249999732 895770.0945999995, 178199.22249999642 895853.5245999992, 178267.97249999642 899333.6446000002, 178609.18249999732 902281.3845999986, 179099.2824999988 903656.0346000008, 180079.3025000021 904066.3245999999, 181392.8125 904444.6645999998, 183448.4224999994 905052.2346000001, 185280.12250000238 904310.3546000011))\",\n          \"POLYGON ((214113.50249999762 897921.8546000011, 214223.79249999672 896750.7245999984, 214231.5925000012 895929.2545999996, 214035.4924999997 895848.0245999992, 214541.00249999762 894119.0146000013, 215800.8125 891157.8145999983, 215804.7325000018 891137.7646000013, 216263.8125 888664.3346000016, 213841.79249999672 888747.7045999989, 213823.0525000021 888748.1345999986, 213813.5225000009 888731.0645999983, 213809.1625000015 888710.0346000008, 213808.36249999702 888678.6746000014, 213810.36249999702 888653.6746000014, 213815.11249999702 888628.6746000014, 213829.00249999762 888598.114599999, 213789.33250000328 888610.614599999, 213000.7325000018 888900.364599999, 213056.2725000009 889242.3245999999, 212795.8425000012 889275.4745999984, 212508.72249999642 889370.9145999998, 212308.87250000238 889502.9145999998, 212236.9224999994 889494.1545999981, 212230.75249999762 889493.8746000007, 212229.4825000018 889496.194600001, 212229.1024999991 889498.9846000001, 212228.01250000298 889502.7245999984, 212224.22249999642 889506.5146000013, 212221.0925000012 889508.0546000004, 212217.7025000006 889510.944600001, 212216.00249999762 889514.944600001, 212213.68249999732 889521.0546000004, 212209.47249999642 889524.2146000005, 212204.2025000006 889525.694600001, 212191.7824999988 889524.6345999986, 212186.7124999985 889526.114599999, 212182.50249999762 889531.8046000004, 212182.9224999994 889539.1746000014, 212181.43249999732 889541.2745999992, 212176.18249999732 889542.9646000005, 212170.2824999988 889547.4045999981, 212163.3224999979 889550.1345999986, 212156.47249999642 889557.3746000007, 212144.00249999762 889570.5645999983, 212122.87250000238 889588.9045999981, 212108.7025000006 889598.6246000007, 212104.54249999672 889603.0146000013, 212102.2325000018 889607.444600001, 212098.8524999991 889611.2346000001, 212096.1024999991 889612.2945999987, 212092.5324999988 889611.2346000001, 212088.94250000268 889607.6545999981, 212086.6325000003 889605.1246000007, 212081.9924999997 889604.9045999981, 212077.3524999991 889603.2346000001, 212075.0324999988 889602.194600001, 212073.3524999991 889602.1746000014, 212072.7824999988 889603.7545999996, 212070.8224999979 889606.8145999983, 212070.40250000358 889610.3946000002, 212069.5625 889613.5546000004, 212068.29249999672 889616.5045999996, 212061.5525000021 889619.2446000017, 212055.86249999702 889622.4045999981, 212052.5324999988 889625.9946000017, 212052.0724999979 889632.3046000004, 212052.7025000006 889639.6845999993, 212050.8125 889644.9646000005, 212046.3825000003 889651.4846000001, 212041.3924999982 889659.614599999, 212032.47249999642 889671.7146000005, 212027.00249999762 889676.1345999986, 212026.15250000358 889688.1446000002, 212020.6724999994 889696.1545999981, 212014.7824999988 889698.8946000002, 212013.93249999732 889701.2045999989, 212013.72249999642 889704.1545999981, 212016.04249999672 889707.9545999989, 212016.6724999994 889716.3845999986, 212012.8825000003 889721.2245999984, 212009.72249999642 889722.7045999989, 212008.2424999997 889727.9646000005, 212009.72249999642 889730.7045999989, 212010.7725000009 889733.8746000007, 212009.93249999732 889737.0245999992, 212008.01250000298 889737.8046000004, 212006.1424999982 889740.4045999981, 212007.61249999702 889743.3546000011, 212010.5625 889746.0945999995, 212013.72249999642 889749.2545999996, 212022.9924999997 889769.6845999993, 212022.5724999979 889773.2745999992, 212024.68249999732 889776.2245999984, 212021.94250000268 889781.0645999983, 212017.51250000298 889784.2245999984, 212013.51250000298 889789.4946000017, 212011.40250000358 889795.3946000002, 212011.83250000328 889801.9145999998, 212010.1424999982 889805.7245999984, 212005.9224999994 889808.6645999998, 212002.33250000328 889811.614599999, 211997.9224999994 889811.8346000016, 211994.3425000012 889813.0945999995, 211990.33250000328 889813.3046000004, 211986.9624999985 889812.2646000013, 211984.97249999642 889811.444600001, 211979.8025000021 889812.6746000014, 211977.3924999982 889813.7446000017, 211975.8025000021 889813.7245999984, 211974.69250000268 889813.1246000007, 211969.68249999732 889808.4545999989, 211967.37250000238 889808.4545999989, 211964.1724999994 889809.5846000016, 211960.4125000015 889816.2545999996, 211954.93249999732 889821.944600001, 211950.0925000012 889825.7346000001, 211946.08250000328 889826.1545999981, 211938.7025000006 889831.8445999995, 211932.3924999982 889837.7346000001, 211929.86249999702 889843.864599999, 211926.7025000006 889847.2245999984, 211923.9624999985 889848.0846000016, 211915.5324999988 889845.7545999996, 211909.2124999985 889847.444600001, 211906.1024999991 889849.3946000002, 211901.8425000012 889847.6545999981, 211896.9924999997 889848.0846000016, 211893.4125000015 889849.7545999996, 211890.04249999672 889855.6446000002, 211885.25249999762 889859.4745999984, 211879.9224999994 889861.7745999992, 211870.2325000018 889870.8245999999, 211862.43249999732 889871.8845999986, 211861.1625000015 889875.0445999987, 211863.1625000015 889883.1345999986, 211861.8125 889888.9846000001, 211859.5625 889893.9646000005, 211853.2424999997 889898.9246000014, 211841.9624999985 889918.3245999999, 211841.51250000298 889924.6446000002, 211837.08250000328 889931.0945999995, 211834.29249999672 889942.2346000001, 211827.22249999642 889951.3746000007, 211824.8125 889956.2245999984, 211824.12250000238 889959.7945999987, 211825.26250000298 889966.1545999981, 211827.97249999642 889981.4946000017, 211836.5525000021 890006.7646000013, 211840.15250000358 890019.3946000002, 211841.9624999985 890060.9045999981, 211841.0625 890070.8346000016, 211837.4525000006 890078.5045999996, 211829.33250000328 890098.8046000004, 211822.5625 890107.3746000007, 211798.2025000006 890110.9846000001, 211790.5225000009 890117.3145999983, 211790.5225000009 890126.3245999999, 211789.62250000238 890134.9045999981, 211791.8825000003 890140.3046000004, 211789.62250000238 890145.7346000001, 211786.9125000015 890155.2045999989, 211788.2725000009 890160.1645999998, 211786.9125000015 890166.9345999993, 211788.2725000009 890174.1545999981, 211797.29249999672 890180.0245999992, 211806.3125 890181.8245999999, 211810.83250000328 890190.3946000002, 211818.50249999762 890196.2646000013, 211826.0625 890199.3546000011, 211831.58250000328 890203.0346000008, 211834.29249999672 890209.3445999995, 211837.90250000358 890221.0745999999, 211841.9624999985 890238.6746000014, 211840.61249999702 890270.2646000013, 211830.68249999732 890295.0745999999, 211830.22249999642 890313.1246000007, 211826.62250000238 890326.2045999989, 211815.3425000012 890339.7446000017, 211805.83250000328 890346.194600001, 210160.94250000268 891009.3845999986, 209044.2025000006 891277.4946000017, 208591.0525000021 891386.1446000002, 208478.01250000298 892064.1545999981, 208291.9825000018 892247.5045999996, 208038.1724999994 893654.7446000017, 209274.36249999702 894626.9345999993, 210083.29249999672 896027.6545999981, 210348.3825000003 895630.0245999992, 210437.8425000012 895493.4946000017, 210481.0324999988 895489.7745999992, 210524.9624999985 895491.9946000017, 210571.8924999982 895496.4745999984, 210613.58250000328 895509.1345999986, 210638.90250000358 895521.7945999987, 210667.19250000268 895538.9145999998, 210684.3224999979 895555.3046000004, 210699.2124999985 895573.9145999998, 210715.5925000012 895599.9846000001, 210737.5925000012 895639.8145999983, 210768.9825000018 895700.9345999993, 210802.83250000328 895769.0045999996, 210841.54249999672 895822.4045999981, 211203.69250000268 896166.7146000005, 211279.9624999985 896156.3546000011, 211547.61249999702 896305.5245999992, 211936.6325000003 896308.364599999, 212695.7025000006 896046.864599999, 213310.1325000003 896982.2945999987, 213701.4825000018 898003.0945999995, 214113.50249999762 897921.8546000011))\"\n        ],\n        \"semantic_type\": \"\",\n        \"description\": \"\"\n      }\n    }\n  ]\n}"
            }
          },
          "metadata": {},
          "execution_count": 19
        }
      ],
      "source": [
        "areal_municipalities"
      ]
    },
    {
      "cell_type": "markdown",
      "metadata": {
        "id": "hddAuKs8RujK"
      },
      "source": [
        "This is a new GDF. Here, you have the variables for each of the municipalities."
      ]
    },
    {
      "cell_type": "markdown",
      "metadata": {
        "id": "rSy6nzPhRujL"
      },
      "source": [
        "### Concatenating aereal interpolation to Target\n",
        "\n",
        "These new columns will be concatenated (added) to the municipalities. Let's prepare the concatenation:\n",
        "\n",
        "1. Drop the geometry column: once concatenated"
      ]
    },
    {
      "cell_type": "code",
      "execution_count": 20,
      "metadata": {
        "id": "FsekM3VSRujL"
      },
      "outputs": [],
      "source": [
        "areal_municipalities.drop(columns='geometry',inplace=True)"
      ]
    },
    {
      "cell_type": "markdown",
      "metadata": {
        "id": "c4PdvXUdRujL"
      },
      "source": [
        "2. Rename the columns, so as to inform the process:"
      ]
    },
    {
      "cell_type": "code",
      "execution_count": 21,
      "metadata": {
        "id": "ivlLwyLfRujL",
        "outputId": "5bcedade-0198-4e8b-d3b5-05de0c38b1f8",
        "colab": {
          "base_uri": "https://localhost:8080/"
        }
      },
      "outputs": [
        {
          "output_type": "execute_result",
          "data": {
            "text/plain": [
              "Index(['AG_ASSLT', 'BURGLRY', 'AG_ASSLT_rate10K', 'BURGLRY_rate10K'], dtype='object')"
            ]
          },
          "metadata": {},
          "execution_count": 21
        }
      ],
      "source": [
        "# current columns names\n",
        "areal_municipalities.columns"
      ]
    },
    {
      "cell_type": "code",
      "execution_count": 22,
      "metadata": {
        "id": "uXkUyDh5RujL",
        "outputId": "336f0075-d3b5-4147-e817-2da719bdc47b",
        "colab": {
          "base_uri": "https://localhost:8080/"
        }
      },
      "outputs": [
        {
          "output_type": "execute_result",
          "data": {
            "text/plain": [
              "['AG_ASSLT_aereal',\n",
              " 'BURGLRY_aereal',\n",
              " 'AG_ASSLT_rate10K_aereal',\n",
              " 'BURGLRY_rate10K_aereal']"
            ]
          },
          "metadata": {},
          "execution_count": 22
        }
      ],
      "source": [
        "# new names\n",
        "[name+'_aereal' for name in areal_municipalities.columns]"
      ]
    },
    {
      "cell_type": "code",
      "execution_count": 23,
      "metadata": {
        "id": "k5blbDFFRujL",
        "outputId": "37c04a62-859e-4cc7-9e55-972e392f15cf",
        "colab": {
          "base_uri": "https://localhost:8080/"
        }
      },
      "outputs": [
        {
          "output_type": "execute_result",
          "data": {
            "text/plain": [
              "{'AG_ASSLT': 'AG_ASSLT_aereal',\n",
              " 'BURGLRY': 'BURGLRY_aereal',\n",
              " 'AG_ASSLT_rate10K': 'AG_ASSLT_rate10K_aereal',\n",
              " 'BURGLRY_rate10K': 'BURGLRY_rate10K_aereal'}"
            ]
          },
          "metadata": {},
          "execution_count": 23
        }
      ],
      "source": [
        "# dict of renaming\n",
        "old=areal_municipalities.columns\n",
        "new=[name+'_aereal' for name in areal_municipalities.columns]\n",
        "fromOldToNew_dict={o:n for o,n in zip(old,new)}\n",
        "fromOldToNew_dict\n"
      ]
    },
    {
      "cell_type": "code",
      "execution_count": 24,
      "metadata": {
        "id": "uG8W17gVRujM"
      },
      "outputs": [],
      "source": [
        "# renaming\n",
        "areal_municipalities.rename(columns=fromOldToNew_dict,inplace=True)"
      ]
    },
    {
      "cell_type": "markdown",
      "metadata": {
        "id": "JaLmTi4MRujM"
      },
      "source": [
        "Now, we can simply concatenate both:"
      ]
    },
    {
      "cell_type": "code",
      "execution_count": 25,
      "metadata": {
        "id": "4F4y5edWRujM",
        "outputId": "2d544f29-3018-4be5-f132-bfade9db0c73",
        "colab": {
          "base_uri": "https://localhost:8080/",
          "height": 455
        }
      },
      "outputs": [
        {
          "output_type": "execute_result",
          "data": {
            "text/plain": [
              "                  town     county  pop2020  \\\n",
              "fips_id                                      \n",
              "25011           LEYDEN   FRANKLIN      734   \n",
              "25017           HUDSON  MIDDLESEX    20092   \n",
              "25021         WESTWOOD    NORFOLK    16266   \n",
              "25013          HOLLAND    HAMPDEN     2603   \n",
              "25021          NORWOOD    NORFOLK    31611   \n",
              "...                ...        ...      ...   \n",
              "25027      NORTHBRIDGE  WORCESTER    16335   \n",
              "25015      EASTHAMPTON  HAMPSHIRE    16211   \n",
              "25009    NORTH ANDOVER      ESSEX    30915   \n",
              "25005           NORTON    BRISTOL    19202   \n",
              "25013          HAMPDEN    HAMPDEN     4966   \n",
              "\n",
              "                                                  geometry  AG_ASSLT_aereal  \\\n",
              "fips_id                                                                       \n",
              "25011    POLYGON ((110027.553 942832.065, 110708.203 93...         4.486106   \n",
              "25017    POLYGON ((197690.773 905668.345, 197791.653 90...        31.886736   \n",
              "25021    POLYGON ((227514.413 885958.825, 229226.782 88...        24.438521   \n",
              "25013    POLYGON ((147457.513 871335.125, 147357.562 86...        36.549520   \n",
              "25021    POLYGON ((225443.469 884850.765, 225573.992 88...        23.056417   \n",
              "...                                                    ...              ...   \n",
              "25027    POLYGON ((188252.282 879479.415, 191146.102 87...        30.462052   \n",
              "25015    POLYGON ((103344.752 893965.825, 104317.992 89...         7.012080   \n",
              "25009    POLYGON ((232049.362 942816.125, 233051.542 94...       115.488338   \n",
              "25005    POLYGON ((233072.343 860388.955, 231021.932 85...       100.914340   \n",
              "25013    POLYGON ((128209.623 865065.755, 126153.943 86...        55.003669   \n",
              "\n",
              "         BURGLRY_aereal  AG_ASSLT_rate10K_aereal  BURGLRY_rate10K_aereal  \n",
              "fips_id                                                                   \n",
              "25011         12.062639                25.273443               67.957480  \n",
              "25017         72.617661                14.650933               33.365488  \n",
              "25021         58.843591                13.012465               31.331690  \n",
              "25013         94.049158                38.004019               97.791872  \n",
              "25021         55.515731                13.012466               31.331691  \n",
              "...                 ...                      ...                     ...  \n",
              "25027         54.077286                32.937588               58.471943  \n",
              "25015         16.145252                17.606958               40.539863  \n",
              "25009        158.269799                28.037506               38.423710  \n",
              "25005        187.603097                35.547596               66.084156  \n",
              "25013        141.535342                38.004019               97.791872  \n",
              "\n",
              "[351 rows x 8 columns]"
            ],
            "text/html": [
              "\n",
              "  <div id=\"df-6f48edd3-41fa-4f52-934e-f97e80875b31\" class=\"colab-df-container\">\n",
              "    <div>\n",
              "<style scoped>\n",
              "    .dataframe tbody tr th:only-of-type {\n",
              "        vertical-align: middle;\n",
              "    }\n",
              "\n",
              "    .dataframe tbody tr th {\n",
              "        vertical-align: top;\n",
              "    }\n",
              "\n",
              "    .dataframe thead th {\n",
              "        text-align: right;\n",
              "    }\n",
              "</style>\n",
              "<table border=\"1\" class=\"dataframe\">\n",
              "  <thead>\n",
              "    <tr style=\"text-align: right;\">\n",
              "      <th></th>\n",
              "      <th>town</th>\n",
              "      <th>county</th>\n",
              "      <th>pop2020</th>\n",
              "      <th>geometry</th>\n",
              "      <th>AG_ASSLT_aereal</th>\n",
              "      <th>BURGLRY_aereal</th>\n",
              "      <th>AG_ASSLT_rate10K_aereal</th>\n",
              "      <th>BURGLRY_rate10K_aereal</th>\n",
              "    </tr>\n",
              "    <tr>\n",
              "      <th>fips_id</th>\n",
              "      <th></th>\n",
              "      <th></th>\n",
              "      <th></th>\n",
              "      <th></th>\n",
              "      <th></th>\n",
              "      <th></th>\n",
              "      <th></th>\n",
              "      <th></th>\n",
              "    </tr>\n",
              "  </thead>\n",
              "  <tbody>\n",
              "    <tr>\n",
              "      <th>25011</th>\n",
              "      <td>LEYDEN</td>\n",
              "      <td>FRANKLIN</td>\n",
              "      <td>734</td>\n",
              "      <td>POLYGON ((110027.553 942832.065, 110708.203 93...</td>\n",
              "      <td>4.486106</td>\n",
              "      <td>12.062639</td>\n",
              "      <td>25.273443</td>\n",
              "      <td>67.957480</td>\n",
              "    </tr>\n",
              "    <tr>\n",
              "      <th>25017</th>\n",
              "      <td>HUDSON</td>\n",
              "      <td>MIDDLESEX</td>\n",
              "      <td>20092</td>\n",
              "      <td>POLYGON ((197690.773 905668.345, 197791.653 90...</td>\n",
              "      <td>31.886736</td>\n",
              "      <td>72.617661</td>\n",
              "      <td>14.650933</td>\n",
              "      <td>33.365488</td>\n",
              "    </tr>\n",
              "    <tr>\n",
              "      <th>25021</th>\n",
              "      <td>WESTWOOD</td>\n",
              "      <td>NORFOLK</td>\n",
              "      <td>16266</td>\n",
              "      <td>POLYGON ((227514.413 885958.825, 229226.782 88...</td>\n",
              "      <td>24.438521</td>\n",
              "      <td>58.843591</td>\n",
              "      <td>13.012465</td>\n",
              "      <td>31.331690</td>\n",
              "    </tr>\n",
              "    <tr>\n",
              "      <th>25013</th>\n",
              "      <td>HOLLAND</td>\n",
              "      <td>HAMPDEN</td>\n",
              "      <td>2603</td>\n",
              "      <td>POLYGON ((147457.513 871335.125, 147357.562 86...</td>\n",
              "      <td>36.549520</td>\n",
              "      <td>94.049158</td>\n",
              "      <td>38.004019</td>\n",
              "      <td>97.791872</td>\n",
              "    </tr>\n",
              "    <tr>\n",
              "      <th>25021</th>\n",
              "      <td>NORWOOD</td>\n",
              "      <td>NORFOLK</td>\n",
              "      <td>31611</td>\n",
              "      <td>POLYGON ((225443.469 884850.765, 225573.992 88...</td>\n",
              "      <td>23.056417</td>\n",
              "      <td>55.515731</td>\n",
              "      <td>13.012466</td>\n",
              "      <td>31.331691</td>\n",
              "    </tr>\n",
              "    <tr>\n",
              "      <th>...</th>\n",
              "      <td>...</td>\n",
              "      <td>...</td>\n",
              "      <td>...</td>\n",
              "      <td>...</td>\n",
              "      <td>...</td>\n",
              "      <td>...</td>\n",
              "      <td>...</td>\n",
              "      <td>...</td>\n",
              "    </tr>\n",
              "    <tr>\n",
              "      <th>25027</th>\n",
              "      <td>NORTHBRIDGE</td>\n",
              "      <td>WORCESTER</td>\n",
              "      <td>16335</td>\n",
              "      <td>POLYGON ((188252.282 879479.415, 191146.102 87...</td>\n",
              "      <td>30.462052</td>\n",
              "      <td>54.077286</td>\n",
              "      <td>32.937588</td>\n",
              "      <td>58.471943</td>\n",
              "    </tr>\n",
              "    <tr>\n",
              "      <th>25015</th>\n",
              "      <td>EASTHAMPTON</td>\n",
              "      <td>HAMPSHIRE</td>\n",
              "      <td>16211</td>\n",
              "      <td>POLYGON ((103344.752 893965.825, 104317.992 89...</td>\n",
              "      <td>7.012080</td>\n",
              "      <td>16.145252</td>\n",
              "      <td>17.606958</td>\n",
              "      <td>40.539863</td>\n",
              "    </tr>\n",
              "    <tr>\n",
              "      <th>25009</th>\n",
              "      <td>NORTH ANDOVER</td>\n",
              "      <td>ESSEX</td>\n",
              "      <td>30915</td>\n",
              "      <td>POLYGON ((232049.362 942816.125, 233051.542 94...</td>\n",
              "      <td>115.488338</td>\n",
              "      <td>158.269799</td>\n",
              "      <td>28.037506</td>\n",
              "      <td>38.423710</td>\n",
              "    </tr>\n",
              "    <tr>\n",
              "      <th>25005</th>\n",
              "      <td>NORTON</td>\n",
              "      <td>BRISTOL</td>\n",
              "      <td>19202</td>\n",
              "      <td>POLYGON ((233072.343 860388.955, 231021.932 85...</td>\n",
              "      <td>100.914340</td>\n",
              "      <td>187.603097</td>\n",
              "      <td>35.547596</td>\n",
              "      <td>66.084156</td>\n",
              "    </tr>\n",
              "    <tr>\n",
              "      <th>25013</th>\n",
              "      <td>HAMPDEN</td>\n",
              "      <td>HAMPDEN</td>\n",
              "      <td>4966</td>\n",
              "      <td>POLYGON ((128209.623 865065.755, 126153.943 86...</td>\n",
              "      <td>55.003669</td>\n",
              "      <td>141.535342</td>\n",
              "      <td>38.004019</td>\n",
              "      <td>97.791872</td>\n",
              "    </tr>\n",
              "  </tbody>\n",
              "</table>\n",
              "<p>351 rows × 8 columns</p>\n",
              "</div>\n",
              "    <div class=\"colab-df-buttons\">\n",
              "\n",
              "  <div class=\"colab-df-container\">\n",
              "    <button class=\"colab-df-convert\" onclick=\"convertToInteractive('df-6f48edd3-41fa-4f52-934e-f97e80875b31')\"\n",
              "            title=\"Convert this dataframe to an interactive table.\"\n",
              "            style=\"display:none;\">\n",
              "\n",
              "  <svg xmlns=\"http://www.w3.org/2000/svg\" height=\"24px\" viewBox=\"0 -960 960 960\">\n",
              "    <path d=\"M120-120v-720h720v720H120Zm60-500h600v-160H180v160Zm220 220h160v-160H400v160Zm0 220h160v-160H400v160ZM180-400h160v-160H180v160Zm440 0h160v-160H620v160ZM180-180h160v-160H180v160Zm440 0h160v-160H620v160Z\"/>\n",
              "  </svg>\n",
              "    </button>\n",
              "\n",
              "  <style>\n",
              "    .colab-df-container {\n",
              "      display:flex;\n",
              "      gap: 12px;\n",
              "    }\n",
              "\n",
              "    .colab-df-convert {\n",
              "      background-color: #E8F0FE;\n",
              "      border: none;\n",
              "      border-radius: 50%;\n",
              "      cursor: pointer;\n",
              "      display: none;\n",
              "      fill: #1967D2;\n",
              "      height: 32px;\n",
              "      padding: 0 0 0 0;\n",
              "      width: 32px;\n",
              "    }\n",
              "\n",
              "    .colab-df-convert:hover {\n",
              "      background-color: #E2EBFA;\n",
              "      box-shadow: 0px 1px 2px rgba(60, 64, 67, 0.3), 0px 1px 3px 1px rgba(60, 64, 67, 0.15);\n",
              "      fill: #174EA6;\n",
              "    }\n",
              "\n",
              "    .colab-df-buttons div {\n",
              "      margin-bottom: 4px;\n",
              "    }\n",
              "\n",
              "    [theme=dark] .colab-df-convert {\n",
              "      background-color: #3B4455;\n",
              "      fill: #D2E3FC;\n",
              "    }\n",
              "\n",
              "    [theme=dark] .colab-df-convert:hover {\n",
              "      background-color: #434B5C;\n",
              "      box-shadow: 0px 1px 3px 1px rgba(0, 0, 0, 0.15);\n",
              "      filter: drop-shadow(0px 1px 2px rgba(0, 0, 0, 0.3));\n",
              "      fill: #FFFFFF;\n",
              "    }\n",
              "  </style>\n",
              "\n",
              "    <script>\n",
              "      const buttonEl =\n",
              "        document.querySelector('#df-6f48edd3-41fa-4f52-934e-f97e80875b31 button.colab-df-convert');\n",
              "      buttonEl.style.display =\n",
              "        google.colab.kernel.accessAllowed ? 'block' : 'none';\n",
              "\n",
              "      async function convertToInteractive(key) {\n",
              "        const element = document.querySelector('#df-6f48edd3-41fa-4f52-934e-f97e80875b31');\n",
              "        const dataTable =\n",
              "          await google.colab.kernel.invokeFunction('convertToInteractive',\n",
              "                                                    [key], {});\n",
              "        if (!dataTable) return;\n",
              "\n",
              "        const docLinkHtml = 'Like what you see? Visit the ' +\n",
              "          '<a target=\"_blank\" href=https://colab.research.google.com/notebooks/data_table.ipynb>data table notebook</a>'\n",
              "          + ' to learn more about interactive tables.';\n",
              "        element.innerHTML = '';\n",
              "        dataTable['output_type'] = 'display_data';\n",
              "        await google.colab.output.renderOutput(dataTable, element);\n",
              "        const docLink = document.createElement('div');\n",
              "        docLink.innerHTML = docLinkHtml;\n",
              "        element.appendChild(docLink);\n",
              "      }\n",
              "    </script>\n",
              "  </div>\n",
              "\n",
              "\n",
              "    <div id=\"df-548be6d9-442e-4fa6-95cc-2765198e1d12\">\n",
              "      <button class=\"colab-df-quickchart\" onclick=\"quickchart('df-548be6d9-442e-4fa6-95cc-2765198e1d12')\"\n",
              "                title=\"Suggest charts\"\n",
              "                style=\"display:none;\">\n",
              "\n",
              "<svg xmlns=\"http://www.w3.org/2000/svg\" height=\"24px\"viewBox=\"0 0 24 24\"\n",
              "     width=\"24px\">\n",
              "    <g>\n",
              "        <path d=\"M19 3H5c-1.1 0-2 .9-2 2v14c0 1.1.9 2 2 2h14c1.1 0 2-.9 2-2V5c0-1.1-.9-2-2-2zM9 17H7v-7h2v7zm4 0h-2V7h2v10zm4 0h-2v-4h2v4z\"/>\n",
              "    </g>\n",
              "</svg>\n",
              "      </button>\n",
              "\n",
              "<style>\n",
              "  .colab-df-quickchart {\n",
              "      --bg-color: #E8F0FE;\n",
              "      --fill-color: #1967D2;\n",
              "      --hover-bg-color: #E2EBFA;\n",
              "      --hover-fill-color: #174EA6;\n",
              "      --disabled-fill-color: #AAA;\n",
              "      --disabled-bg-color: #DDD;\n",
              "  }\n",
              "\n",
              "  [theme=dark] .colab-df-quickchart {\n",
              "      --bg-color: #3B4455;\n",
              "      --fill-color: #D2E3FC;\n",
              "      --hover-bg-color: #434B5C;\n",
              "      --hover-fill-color: #FFFFFF;\n",
              "      --disabled-bg-color: #3B4455;\n",
              "      --disabled-fill-color: #666;\n",
              "  }\n",
              "\n",
              "  .colab-df-quickchart {\n",
              "    background-color: var(--bg-color);\n",
              "    border: none;\n",
              "    border-radius: 50%;\n",
              "    cursor: pointer;\n",
              "    display: none;\n",
              "    fill: var(--fill-color);\n",
              "    height: 32px;\n",
              "    padding: 0;\n",
              "    width: 32px;\n",
              "  }\n",
              "\n",
              "  .colab-df-quickchart:hover {\n",
              "    background-color: var(--hover-bg-color);\n",
              "    box-shadow: 0 1px 2px rgba(60, 64, 67, 0.3), 0 1px 3px 1px rgba(60, 64, 67, 0.15);\n",
              "    fill: var(--button-hover-fill-color);\n",
              "  }\n",
              "\n",
              "  .colab-df-quickchart-complete:disabled,\n",
              "  .colab-df-quickchart-complete:disabled:hover {\n",
              "    background-color: var(--disabled-bg-color);\n",
              "    fill: var(--disabled-fill-color);\n",
              "    box-shadow: none;\n",
              "  }\n",
              "\n",
              "  .colab-df-spinner {\n",
              "    border: 2px solid var(--fill-color);\n",
              "    border-color: transparent;\n",
              "    border-bottom-color: var(--fill-color);\n",
              "    animation:\n",
              "      spin 1s steps(1) infinite;\n",
              "  }\n",
              "\n",
              "  @keyframes spin {\n",
              "    0% {\n",
              "      border-color: transparent;\n",
              "      border-bottom-color: var(--fill-color);\n",
              "      border-left-color: var(--fill-color);\n",
              "    }\n",
              "    20% {\n",
              "      border-color: transparent;\n",
              "      border-left-color: var(--fill-color);\n",
              "      border-top-color: var(--fill-color);\n",
              "    }\n",
              "    30% {\n",
              "      border-color: transparent;\n",
              "      border-left-color: var(--fill-color);\n",
              "      border-top-color: var(--fill-color);\n",
              "      border-right-color: var(--fill-color);\n",
              "    }\n",
              "    40% {\n",
              "      border-color: transparent;\n",
              "      border-right-color: var(--fill-color);\n",
              "      border-top-color: var(--fill-color);\n",
              "    }\n",
              "    60% {\n",
              "      border-color: transparent;\n",
              "      border-right-color: var(--fill-color);\n",
              "    }\n",
              "    80% {\n",
              "      border-color: transparent;\n",
              "      border-right-color: var(--fill-color);\n",
              "      border-bottom-color: var(--fill-color);\n",
              "    }\n",
              "    90% {\n",
              "      border-color: transparent;\n",
              "      border-bottom-color: var(--fill-color);\n",
              "    }\n",
              "  }\n",
              "</style>\n",
              "\n",
              "      <script>\n",
              "        async function quickchart(key) {\n",
              "          const quickchartButtonEl =\n",
              "            document.querySelector('#' + key + ' button');\n",
              "          quickchartButtonEl.disabled = true;  // To prevent multiple clicks.\n",
              "          quickchartButtonEl.classList.add('colab-df-spinner');\n",
              "          try {\n",
              "            const charts = await google.colab.kernel.invokeFunction(\n",
              "                'suggestCharts', [key], {});\n",
              "          } catch (error) {\n",
              "            console.error('Error during call to suggestCharts:', error);\n",
              "          }\n",
              "          quickchartButtonEl.classList.remove('colab-df-spinner');\n",
              "          quickchartButtonEl.classList.add('colab-df-quickchart-complete');\n",
              "        }\n",
              "        (() => {\n",
              "          let quickchartButtonEl =\n",
              "            document.querySelector('#df-548be6d9-442e-4fa6-95cc-2765198e1d12 button');\n",
              "          quickchartButtonEl.style.display =\n",
              "            google.colab.kernel.accessAllowed ? 'block' : 'none';\n",
              "        })();\n",
              "      </script>\n",
              "    </div>\n",
              "\n",
              "  <div id=\"id_84481580-ecb2-44fd-bb09-716dc2b299da\">\n",
              "    <style>\n",
              "      .colab-df-generate {\n",
              "        background-color: #E8F0FE;\n",
              "        border: none;\n",
              "        border-radius: 50%;\n",
              "        cursor: pointer;\n",
              "        display: none;\n",
              "        fill: #1967D2;\n",
              "        height: 32px;\n",
              "        padding: 0 0 0 0;\n",
              "        width: 32px;\n",
              "      }\n",
              "\n",
              "      .colab-df-generate:hover {\n",
              "        background-color: #E2EBFA;\n",
              "        box-shadow: 0px 1px 2px rgba(60, 64, 67, 0.3), 0px 1px 3px 1px rgba(60, 64, 67, 0.15);\n",
              "        fill: #174EA6;\n",
              "      }\n",
              "\n",
              "      [theme=dark] .colab-df-generate {\n",
              "        background-color: #3B4455;\n",
              "        fill: #D2E3FC;\n",
              "      }\n",
              "\n",
              "      [theme=dark] .colab-df-generate:hover {\n",
              "        background-color: #434B5C;\n",
              "        box-shadow: 0px 1px 3px 1px rgba(0, 0, 0, 0.15);\n",
              "        filter: drop-shadow(0px 1px 2px rgba(0, 0, 0, 0.3));\n",
              "        fill: #FFFFFF;\n",
              "      }\n",
              "    </style>\n",
              "    <button class=\"colab-df-generate\" onclick=\"generateWithVariable('municipalitiesMA_interpolated')\"\n",
              "            title=\"Generate code using this dataframe.\"\n",
              "            style=\"display:none;\">\n",
              "\n",
              "  <svg xmlns=\"http://www.w3.org/2000/svg\" height=\"24px\"viewBox=\"0 0 24 24\"\n",
              "       width=\"24px\">\n",
              "    <path d=\"M7,19H8.4L18.45,9,17,7.55,7,17.6ZM5,21V16.75L18.45,3.32a2,2,0,0,1,2.83,0l1.4,1.43a1.91,1.91,0,0,1,.58,1.4,1.91,1.91,0,0,1-.58,1.4L9.25,21ZM18.45,9,17,7.55Zm-12,3A5.31,5.31,0,0,0,4.9,8.1,5.31,5.31,0,0,0,1,6.5,5.31,5.31,0,0,0,4.9,4.9,5.31,5.31,0,0,0,6.5,1,5.31,5.31,0,0,0,8.1,4.9,5.31,5.31,0,0,0,12,6.5,5.46,5.46,0,0,0,6.5,12Z\"/>\n",
              "  </svg>\n",
              "    </button>\n",
              "    <script>\n",
              "      (() => {\n",
              "      const buttonEl =\n",
              "        document.querySelector('#id_84481580-ecb2-44fd-bb09-716dc2b299da button.colab-df-generate');\n",
              "      buttonEl.style.display =\n",
              "        google.colab.kernel.accessAllowed ? 'block' : 'none';\n",
              "\n",
              "      buttonEl.onclick = () => {\n",
              "        google.colab.notebook.generateWithVariable('municipalitiesMA_interpolated');\n",
              "      }\n",
              "      })();\n",
              "    </script>\n",
              "  </div>\n",
              "\n",
              "    </div>\n",
              "  </div>\n"
            ],
            "application/vnd.google.colaboratory.intrinsic+json": {
              "type": "dataframe",
              "variable_name": "municipalitiesMA_interpolated",
              "summary": "{\n  \"name\": \"municipalitiesMA_interpolated\",\n  \"rows\": 351,\n  \"fields\": [\n    {\n      \"column\": \"fips_id\",\n      \"properties\": {\n        \"dtype\": \"int32\",\n        \"num_unique_values\": 14,\n        \"samples\": [\n          25001,\n          25019,\n          25011\n        ],\n        \"semantic_type\": \"\",\n        \"description\": \"\"\n      }\n    },\n    {\n      \"column\": \"town\",\n      \"properties\": {\n        \"dtype\": \"string\",\n        \"num_unique_values\": 351,\n        \"samples\": [\n          \"FRANKLIN\",\n          \"BOYLSTON\",\n          \"NATICK\"\n        ],\n        \"semantic_type\": \"\",\n        \"description\": \"\"\n      }\n    },\n    {\n      \"column\": \"county\",\n      \"properties\": {\n        \"dtype\": \"category\",\n        \"num_unique_values\": 14,\n        \"samples\": [\n          \"BARNSTABLE\",\n          \"NANTUCKET\",\n          \"FRANKLIN\"\n        ],\n        \"semantic_type\": \"\",\n        \"description\": \"\"\n      }\n    },\n    {\n      \"column\": \"pop2020\",\n      \"properties\": {\n        \"dtype\": \"int32\",\n        \"num_unique_values\": 351,\n        \"samples\": [\n          33261,\n          4849,\n          37006\n        ],\n        \"semantic_type\": \"\",\n        \"description\": \"\"\n      }\n    },\n    {\n      \"column\": \"geometry\",\n      \"properties\": {\n        \"dtype\": \"geometry\",\n        \"num_unique_values\": 351,\n        \"samples\": [\n          \"POLYGON ((208505.83250000328 876327.614599999, 209508.08250000328 876100.8746000007, 209507.97249999642 876109.6645999998, 209513.79249999672 876108.2945999987, 209522.68249999732 876103.8145999983, 209537.15250000358 876101.2245999984, 209551.1625000015 876100.4545999989, 209594.1424999982 876089.3746000007, 209631.8125 876091.9246000014, 209639.94250000268 876093.8346000016, 209645.68249999732 876096.7045999989, 209648.79249999672 876101.0045999996, 209649.9825000018 876104.8346000016, 209650.4624999985 876111.5245999992, 209654.29249999672 876119.6545999981, 209658.8025000021 876124.4846000001, 209661.4624999985 876126.3546000011, 209665.0225000009 876127.694600001, 209692.3125 876133.5346000008, 209728.4125000015 876135.6845999993, 209739.4125000015 876133.7646000013, 209747.3125 876131.3746000007, 209753.2824999988 876127.3145999983, 209755.44250000268 876119.1845999993, 209753.04249999672 876112.2446000017, 209745.15250000358 876103.3946000002, 209737.50249999762 876099.3346000016, 209721.7025000006 876094.2446000017, 209708.8125 876090.7245999984, 209698.5324999988 876083.7945999987, 209688.9624999985 876073.9846000001, 209684.4224999994 876063.944600001, 209681.7725000009 876052.4646000005, 209682.0225000009 876038.3546000011, 209683.94250000268 876026.6446000002, 209682.79249999672 876016.8746000007, 209680.11249999702 875994.364599999, 209678.9224999994 875983.1246000007, 209679.40250000358 875974.0346000008, 209682.7424999997 875968.5346000008, 209698.04249999672 875960.1645999998, 209711.9125000015 875952.9946000017, 209718.1325000003 875950.6046000011, 209726.0225000009 875949.8845999986, 209731.5225000009 875947.2545999996, 209738.5525000021 875949.0346000008, 209742.76250000298 875952.0346000008, 209745.6325000003 875950.8445999995, 209750.50249999762 875941.2545999996, 209749.4624999985 875935.2945999987, 209741.5724999979 875927.1645999998, 209723.6325000003 875925.2545999996, 209714.3125 875922.6246000007, 209702.69250000268 875927.444600001, 209696.61249999702 875925.9745999984, 209680.6724999994 875935.6845999993, 209670.0724999979 875937.4545999989, 209661.94250000268 875939.1246000007, 209650.22249999642 875930.9946000017, 209646.3924999982 875920.9545999989, 209644.2424999997 875912.8245999999, 209645.2025000006 875905.4045999981, 209651.18249999732 875902.0645999983, 209656.2025000006 875899.4345999993, 209670.0724999979 875883.6446000002, 209679.40250000358 875872.8946000002, 209687.76250000298 875866.1845999993, 209696.37250000238 875864.5146000013, 209703.7824999988 875867.864599999, 209710.4825000018 875882.944600001, 209715.26250000298 875897.9946000017, 209723.6325000003 875902.7745999992, 209733.6724999994 875904.4545999989, 209747.9125000015 875903.0745999999, 209760.5324999988 875899.3746000007, 209784.2824999988 875884.8845999986, 209795.93249999732 875873.4246000014, 209804.76250000298 875860.2846000008, 209806.6625000015 875852.8746000007, 209812.12250000238 875848.6845999993, 209819.76250000298 875839.9545999989, 209829.94250000268 875833.7745999992, 209838.4924999997 875833.6246000007, 209840.50249999762 875834.1345999986, 209842.00249999762 875835.3546000011, 209844.68249999732 875838.1345999986, 209856.3224999979 875855.4246000014, 209863.7725000009 875861.7846000008, 209872.1424999982 875864.5146000013, 209878.3224999979 875864.5146000013, 209883.9624999985 875862.7045999989, 209891.4224999994 875853.0546000004, 209895.6024999991 875847.9545999989, 209905.4224999994 875840.4345999993, 209912.37250000238 875817.864599999, 209910.72249999642 875816.2146000005, 209909.08250000328 875815.5146000013, 209906.61249999702 875816.8445999995, 209902.9525000006 875820.2146000005, 209898.7124999985 875826.8145999983, 209893.0525000021 875832.4646000005, 209886.47249999642 875835.2846000008, 209884.5925000012 875841.4045999981, 209877.9825000018 875846.1345999986, 209870.8125 875845.6545999981, 209863.65250000358 875839.444600001, 209850.29249999672 875826.5546000004, 209847.4224999994 875819.3946000002, 209839.3125 875817.4846000001, 209833.58250000328 875811.7545999996, 209833.1024999991 875795.5245999992, 209835.97249999642 875773.5645999983, 209840.7424999997 875759.7245999984, 209848.3825000003 875737.7745999992, 209858.4125000015 875718.6746000014, 209863.26250000298 875712.4646000005, 209867.29249999672 875711.0245999992, 209884.97249999642 875701.7146000005, 209894.1625000015 875695.6645999998, 209898.50249999762 875688.1246000007, 209901.26250000298 875681.9345999993, 209899.93249999732 875673.7945999987, 209893.25249999762 875666.1645999998, 209880.6024999991 875652.9646000005, 209874.3924999982 875648.6446000002, 209873.19250000268 875644.3546000011, 209873.19250000268 875640.9045999981, 209875.7725000009 875639.194600001, 209876.4525000006 875636.944600001, 209864.0525000021 875626.944600001, 209846.9525000006 875628.9246000014, 209835.01250000298 875626.0645999983, 209830.2424999997 875628.444600001, 209817.2424999997 875626.5945999995, 209811.3425000012 875627.4045999981, 209807.90250000358 875625.3746000007, 209804.1424999982 875624.9045999981, 209802.7725000009 875620.9246000014, 209800.3924999982 875618.9545999989, 209795.2325000018 875619.114599999, 209789.1325000003 875607.2346000001, 209786.00249999762 875606.1446000002, 209778.3425000012 875609.8946000002, 209778.65250000358 875615.6746000014, 209777.0925000012 875617.0846000016, 209773.4924999997 875615.5146000013, 209772.2424999997 875613.3346000016, 209767.86249999702 875613.6446000002, 209766.4624999985 875616.6246000007, 209766.7725000009 875619.114599999, 209768.5724999979 875621.4145999998, 209767.7124999985 875623.3346000016, 209765.0525000021 875623.3346000016, 209762.7025000006 875621.7745999992, 209762.86249999702 875616.4545999989, 209759.11249999702 875613.6545999981, 209755.1724999994 875610.364599999, 209754.1024999991 875608.9545999989, 209755.04249999672 875605.7545999996, 209757.68249999732 875600.7646000013, 209782.97249999642 875576.8946000002, 209785.36249999702 875570.6845999993, 209777.7424999997 875547.7745999992, 209775.3025000021 875542.9345999993, 209771.4224999994 875541.0945999995, 209769.5925000012 875534.364599999, 209759.8025000021 875527.8445999995, 209757.5625 875519.4846000001, 209751.8524999991 875510.5045999996, 209747.36249999702 875508.2646000013, 209745.11249999702 875502.7446000017, 209747.5625 875494.3946000002, 209747.7025000006 875489.9246000014, 209743.86249999702 875485.7545999996, 209742.19250000268 875481.9145999998, 209742.5225000009 875477.9045999981, 209742.0225000009 875475.9045999981, 209742.86249999702 875474.0745999999, 209745.2025000006 875474.5745999999, 209746.7025000006 875477.0745999999, 209749.87250000238 875479.9145999998, 209759.3825000003 875483.5846000016, 209769.8524999991 875485.8346000016, 209770.86249999702 875490.2446000017, 209770.86249999702 875494.864599999, 209772.4624999985 875495.864599999, 209779.90250000358 875493.1345999986, 209781.26250000298 875490.5945999995, 209785.44250000268 875488.3845999986, 209790.7025000006 875487.0346000008, 209794.29249999672 875479.2846000008, 209800.68249999732 875484.444600001, 209803.6325000003 875472.4045999981, 209806.0925000012 875467.4846000001, 209812.9825000018 875467.9745999984, 209817.22249999642 875453.7146000005, 209834.7424999997 875442.444600001, 209838.0525000021 875443.9045999981, 209840.9924999997 875440.9745999984, 209847.4525000006 875434.9646000005, 209850.90250000358 875428.114599999, 209855.68249999732 875420.7846000008, 209862.6625000015 875419.3046000004, 209865.40250000358 875412.9745999984, 209868.5324999988 875402.7745999992, 209867.8025000021 875392.8546000011, 209872.29249999672 875381.8746000007, 209873.3125 875367.1446000002, 209870.00249999762 875359.0645999983, 209868.1724999994 875351.7245999984, 209865.2325000018 875348.4145999998, 209866.33250000328 875343.2745999992, 209871.47249999642 875341.0745999999, 209875.8825000003 875337.3946000002, 209875.1424999982 875332.2545999996, 209871.47249999642 875322.3346000016, 209867.0625 875321.9745999984, 209866.33250000328 875316.8245999999, 209870.4125000015 875313.9545999989, 209872.5724999979 875302.5045999996, 209884.69250000268 875290.0245999992, 209890.5724999979 875287.444600001, 209898.65250000358 875273.4946000017, 209903.79249999672 875255.864599999, 209910.40250000358 875252.1845999993, 209918.12250000238 875233.0945999995, 209917.01250000298 875229.4145999998, 209912.97249999642 875227.2146000005, 209912.2424999997 875221.7045999989, 209912.61249999702 875214.3546000011, 209915.18249999732 875211.0546000004, 209918.8524999991 875190.4846000001, 209923.26250000298 875182.0346000008, 209923.62250000238 875174.3245999999, 209919.5925000012 875168.0846000016, 209920.51250000298 875160.3145999983, 209923.4825000018 875132.3546000011, 210939.43249999732 872996.0346000008, 211642.5724999979 871021.9045999981, 211145.0925000012 869541.0546000004, 209253.5525000021 865629.7245999984, 203651.22249999642 864946.194600001, 203745.9224999994 865966.5546000004, 203750.9624999985 866870.864599999, 203727.75249999762 868081.9345999993, 203651.65250000358 868085.6046000011, 203701.22249999642 869151.0146000013, 203831.33250000328 869135.9646000005, 203974.0724999979 870374.2146000005, 204417.76250000298 872415.1545999981, 204630.12250000238 874100.8245999999, 204732.87250000238 875387.4745999984, 204749.8924999982 875681.5245999992, 204750.68249999732 875691.7446000017, 204774.8825000003 875695.0745999999, 204791.61249999702 875697.364599999, 204809.1024999991 875703.444600001, 204820.6424999982 875712.9745999984, 204821.90250000358 875719.6046000011, 204817.9525000006 875726.0645999983, 204777.9224999994 875737.6746000014, 204766.3425000012 875740.9345999993, 204762.93249999732 875743.8046000004, 204760.9624999985 875746.6746000014, 204760.2424999997 875750.614599999, 204762.04249999672 875755.2745999992, 204774.8825000003 875772.6545999981, 204788.5724999979 875790.1446000002, 204792.37250000238 875818.2945999987, 204790.8524999991 875836.5445999987, 204781.72249999642 875858.6046000011, 204777.1625000015 875865.444600001, 204776.40250000358 875876.0846000016, 204792.37250000238 875895.8746000007, 204798.47249999642 875902.4545999989, 204798.29249999672 875909.7146000005, 204793.12250000238 875915.6446000002, 204784.76250000298 875919.444600001, 204775.2325000018 875921.3546000011, 204771.26250000298 875922.944600001, 204768.00249999762 875927.1446000002, 204764.2325000018 875938.4646000005, 204754.3425000012 875944.5445999987, 204742.1724999994 875945.3046000004, 204733.0525000021 875943.7846000008, 204724.68249999732 875946.8245999999, 204721.11249999702 875954.4545999989, 204721.86249999702 875962.8445999995, 204739.1325000003 875984.0945999995, 204751.3025000021 876007.6746000014, 204763.33250000328 876016.4246000014, 204769.75249999762 876019.2346000001, 204779.12250000238 876021.6446000002, 204799.76250000298 876019.6545999981, 204810.2725000009 876021.7745999992, 204820.9825000018 876028.3746000007, 204842.47249999642 876046.5245999992, 204850.26250000298 876051.4545999989, 204870.43249999732 876058.4145999998, 204895.2424999997 876073.0245999992, 204914.4924999997 876081.1345999986, 204940.93249999732 876095.7446000017, 204945.33250000328 876096.2146000005, 204950.68249999732 876094.5846000016, 204966.44250000268 876090.1845999993, 204991.72249999642 876079.9745999984, 205009.11249999702 876070.4646000005, 205021.6325000003 876068.8445999995, 205033.2424999997 876069.7745999992, 205043.4224999994 876072.7945999987, 205055.4924999997 876082.7646000013, 205060.1325000003 876086.2346000001, 205065.69250000268 876086.7045999989, 205074.04249999672 876086.2346000001, 205081.69250000268 876084.3845999986, 205101.87250000238 876075.3445999995, 205147.79249999672 876058.8746000007, 205189.40250000358 876050.3145999983, 205196.4924999997 876047.7446000017, 205203.1724999994 876045.0745999999, 205228.4924999997 876031.0445999987, 205249.1325000003 876016.4345999993, 205262.58250000328 876003.9145999998, 205270.7025000006 875992.7846000008, 205275.1024999991 875990.2346000001, 205280.6724999994 875989.7646000013, 205306.4125000015 875981.8845999986, 205314.76250000298 875981.4145999998, 205324.50249999762 875977.944600001, 205330.0625 875977.944600001, 205335.40250000358 875979.7945999987, 205360.44250000268 875981.8845999986, 205381.08250000328 875986.0546000004, 205392.68249999732 875990.2346000001, 205409.1424999982 875991.1645999998, 205415.87250000238 875994.1746000014, 205419.8125 875999.7446000017, 205419.11249999702 876011.3346000016, 205416.5625 876020.614599999, 205401.4924999997 876035.9145999998, 205388.2725000009 876054.4545999989, 205385.4924999997 876065.1345999986, 205383.6325000003 876074.1845999993, 205383.7824999988 876092.4745999984, 205381.7824999988 876109.4345999993, 205385.26250000298 876117.3145999983, 205394.76250000298 876131.4646000005, 205405.2025000006 876136.0945999995, 205415.6325000003 876139.8046000004, 205423.29249999672 876139.5745999999, 205428.0324999988 876138.0346000008, 205431.6424999982 876134.0146000013, 205433.9224999994 876119.6645999998, 205434.4224999994 876107.114599999, 205434.4224999994 876095.2846000008, 205432.33250000328 876086.2346000001, 205433.4924999997 876080.2146000005, 205437.6724999994 876076.5045999996, 205442.7725000009 876074.4045999981, 205448.5724999979 876074.8746000007, 205463.18249999732 876079.2846000008, 205473.15250000358 876083.9246000014, 205479.4125000015 876093.4246000014, 205482.6625000015 876100.1545999981, 205483.12250000238 876108.5045999996, 205484.97249999642 876114.3145999983, 205494.9525000006 876129.8346000016, 205497.9624999985 876137.7245999984, 205496.11249999702 876144.4545999989, 205488.22249999642 876150.4745999984, 205481.7325000018 876155.114599999, 205470.83250000328 876159.0546000004, 205467.12250000238 876163.694600001, 205466.19250000268 876168.3346000016, 205467.50249999762 876173.8746000007, 205471.76250000298 876177.8445999995, 205480.1024999991 876179.9246000014, 205486.6024999991 876183.6345999986, 205495.6424999982 876192.2146000005, 205500.9825000018 876199.8746000007, 205503.3025000021 876209.8445999995, 205505.1625000015 876217.7245999984, 205510.72249999642 876222.364599999, 205516.9825000018 876223.7545999996, 205525.79249999672 876227.4646000005, 205531.5925000012 876232.114599999, 205536.9224999994 876239.9946000017, 205541.1024999991 876252.9745999984, 205548.29249999672 876281.2745999992, 205556.40250000358 876303.7646000013, 205565.4525000006 876312.8145999983, 205578.43249999732 876319.5346000008, 205589.33250000328 876333.2146000005, 205598.3825000003 876349.6845999993, 205605.3224999979 876366.614599999, 205609.2824999988 876377.0445999987, 205614.61249999702 876385.3946000002, 205634.0925000012 876402.3145999983, 205641.7424999997 876406.7346000001, 205649.86249999702 876409.2846000008, 205662.61249999702 876410.444600001, 205674.6724999994 876412.2945999987, 205687.2025000006 876417.1645999998, 205699.4924999997 876422.0346000008, 205708.9924999997 876428.5245999992, 205716.65250000358 876442.9045999981, 205715.9525000006 876459.8445999995, 205718.2725000009 876469.5745999999, 205722.68249999732 876479.0846000016, 205736.36249999702 876494.8546000011, 205755.8425000012 876509.0045999996, 205763.72249999642 876511.5546000004, 205779.26250000298 876512.7146000005, 205804.7725000009 876513.1746000014, 205815.90250000358 876511.5546000004, 205824.4825000018 876507.8445999995, 205832.83250000328 876501.8145999983, 205838.6325000003 876493.0045999996, 205840.0225000009 876485.8145999983, 205848.6024999991 876469.5745999999, 205861.3524999991 876453.3445999995, 205876.3025000021 876439.6845999993, 205886.86249999702 876430.8445999995, 205902.87250000238 876424.5846000016, 205951.5724999979 876412.2945999987, 205964.3224999979 876411.6046000011, 205974.76250000298 876415.7745999992, 205987.0525000021 876426.444600001, 206002.72249999642 876447.3445999995, 206027.7124999985 876462.6345999986, 206053.8224999979 876470.0846000016, 206084.7725000009 876472.694600001, 206108.6424999982 876471.9545999989, 206132.15250000358 876474.194600001, 206158.2424999997 876482.3946000002, 206195.9125000015 876499.9246000014, 206222.76250000298 876508.8746000007, 206251.11249999702 876515.9646000005, 206276.47249999642 876517.8245999999, 206293.25249999762 876517.0745999999, 206299.22249999642 876519.694600001, 206302.5724999979 876522.2945999987, 206308.54249999672 876523.4145999998, 206316.37250000238 876524.5346000008, 206337.25249999762 876526.7745999992, 206370.4525000006 876518.944600001, 206402.8924999982 876503.2846000008, 206420.4224999994 876493.9545999989, 206440.19250000268 876485.3746000007, 206462.19250000268 876480.9045999981, 206492.40250000358 876482.0245999992, 206522.2424999997 876482.3946000002, 206558.7824999988 876486.1246000007, 206589.7424999997 876486.8746000007, 206601.6724999994 876488.364599999, 206620.3224999979 876491.7146000005, 206631.8825000003 876497.3145999983, 206643.0724999979 876506.6345999986, 206658.7325000018 876510.3546000011, 206675.5225000009 876508.1246000007, 206688.5724999979 876504.0245999992, 206697.5225000009 876495.4545999989, 206703.11249999702 876482.3946000002, 206701.62250000238 876453.6845999993, 206696.0324999988 876439.5045999996, 206691.18249999732 876433.5346000008, 206682.6024999991 876428.694600001, 206667.68249999732 876421.2346000001, 206645.68249999732 876411.1645999998, 206628.90250000358 876402.5846000016, 206620.69250000268 876395.1246000007, 206610.25249999762 876389.1545999981, 206593.8425000012 876380.9545999989, 206581.1625000015 876372.0045999996, 206570.72249999642 876361.5645999983, 206569.2325000018 876349.2545999996, 206572.58250000328 876337.694600001, 206583.0324999988 876325.7545999996, 206594.6024999991 876320.9145999998, 206601.3025000021 876313.8245999999, 206607.2725000009 876314.194600001, 206614.3524999991 876311.5846000016, 206619.58250000328 876313.4545999989, 206627.4125000015 876319.4246000014, 206629.6424999982 876326.8746000007, 206630.3924999982 876341.4246000014, 206633.75249999762 876351.4946000017, 206640.4525000006 876355.9646000005, 206647.54249999672 876354.4745999984, 206652.0225000009 876350.7446000017, 206669.5324999988 876338.6845999993, 206679.62250000238 876320.5346000008, 206683.3524999991 876305.6246000007, 206683.72249999642 876285.114599999, 206681.4825000018 876275.0346000008, 206684.0925000012 876263.1046000011, 206692.6724999994 876231.4045999981, 206698.6424999982 876225.0645999983, 206709.08250000328 876222.8245999999, 206718.4125000015 876223.944600001, 206728.47249999642 876227.2945999987, 206742.2725000009 876236.2545999996, 206756.8224999979 876246.694600001, 206782.5525000021 876259.7446000017, 206794.4924999997 876258.6246000007, 206800.83250000328 876259.3746000007, 206804.93249999732 876263.1046000011, 206808.6625000015 876272.8046000004, 206813.87250000238 876281.0045999996, 206828.0525000021 876289.5846000016, 206847.0724999979 876307.4846000001, 206873.18249999732 876334.7045999989, 206892.5724999979 876351.114599999, 206932.4825000018 876378.3445999995, 206978.3524999991 876402.5846000016, 206997.37250000238 876414.8946000002, 207010.79249999672 876427.9545999989, 207018.6325000003 876429.4345999993, 207028.3224999979 876425.3346000016, 207032.0525000021 876418.2446000017, 207034.37250000238 876411.2545999996, 207038.3524999991 876408.4846000001, 207043.61249999702 876404.8245999999, 207051.44250000268 876391.3946000002, 207055.1724999994 876372.0045999996, 207051.08250000328 876327.2545999996, 207039.1424999982 876288.8346000016, 207035.04249999672 876269.0745999999, 207027.58250000328 876249.6746000014, 207021.9825000018 876238.864599999, 207014.90250000358 876230.2846000008, 206992.15250000358 876209.7745999992, 206967.90250000358 876187.0245999992, 206961.5724999979 876174.3445999995, 206956.3425000012 876157.5645999983, 206955.6024999991 876146.0045999996, 206958.2124999985 876137.7945999987, 206964.5525000021 876125.114599999, 206979.8425000012 876102.7346000001, 206991.0324999988 876078.4946000017, 206994.2124999985 876063.9145999998, 206997.00249999762 876057.9846000001, 207002.22249999642 876052.3946000002, 207012.2824999988 876044.5546000004, 207025.3425000012 876033.3746000007, 207033.54249999672 876021.0645999983, 207056.6724999994 875992.7346000001, 207093.6024999991 875960.2745999992, 207117.4624999985 875940.1345999986, 207139.4525000006 875930.4345999993, 207159.2325000018 875924.4646000005, 207177.1325000003 875918.1345999986, 207196.15250000358 875910.6746000014, 207218.15250000358 875912.5346000008, 207250.22249999642 875924.8445999995, 207267.75249999762 875943.114599999, 207281.76250000298 875972.7545999996, 207297.69250000268 875989.8746000007, 207312.1325000003 875996.444600001, 207321.4624999985 875993.8346000016, 207325.5625 875996.444600001, 207330.7824999988 876002.7945999987, 207344.2124999985 876003.9045999981, 207352.7824999988 876006.8946000002, 207360.62250000238 876003.1645999998, 207368.8224999979 875995.3346000016, 207380.75249999762 875983.7646000013, 207397.1724999994 875976.6845999993, 207424.76250000298 875960.6446000002, 207431.8524999991 875956.1845999993, 207438.19250000268 875954.6746000014, 207444.8224999979 875955.4145999998, 207462.43249999732 875955.0546000004, 207481.8224999979 875956.5445999987, 207503.4525000006 875961.7646000013, 207527.3224999979 875972.2045999989, 207542.61249999702 875982.2745999992, 207556.0525000021 875994.5045999996, 207578.79249999672 876018.0745999999, 207622.8025000021 876059.1046000011, 207676.1325000003 876129.6046000011, 207693.2824999988 876153.8346000016, 207723.86249999702 876186.6545999981, 207751.4624999985 876213.5045999996, 207766.3825000003 876224.694600001, 207782.4224999994 876233.6446000002, 207798.4525000006 876239.9846000001, 207826.9825000018 876249.9246000014, 207852.4125000015 876265.9345999993, 207867.4825000018 876285.2446000017, 207884.9224999994 876304.8746000007, 207901.50249999762 876325.8145999983, 207922.8125 876354.4045999981, 207957.2025000006 876437.5346000008, 207969.3825000003 876471.9145999998, 207980.1325000003 876495.5745999999, 207988.3025000021 876510.3145999983, 207998.04249999672 876527.8145999983, 208009.9224999994 876540.0745999999, 208031.01250000298 876558.6246000007, 208063.65250000358 876572.6345999986, 208072.9924999997 876573.0346000008, 208082.3425000012 876569.5245999992, 208094.4125000015 876562.1345999986, 208109.2025000006 876551.614599999, 208125.5525000021 876545.7745999992, 208145.8025000021 876540.3245999999, 208166.44250000268 876533.3245999999, 208187.0625 876525.1446000002, 208216.26250000298 876516.5745999999, 208250.1325000003 876507.6246000007, 208285.1724999994 876502.1746000014, 208301.9125000015 876501.7846000008, 208321.3825000003 876496.7245999984, 208342.01250000298 876487.3845999986, 208359.5324999988 876474.5346000008, 208375.1024999991 876463.2446000017, 208400.0225000009 876442.2245999984, 208423.44250000268 876421.3746000007, 208441.29249999672 876399.3946000002, 208454.9125000015 876377.9846000001, 208472.0525000021 876359.2945999987, 208488.7824999988 876347.614599999, 208507.47249999642 876340.9946000017, 208505.83250000328 876327.614599999))\",\n          \"POLYGON ((185280.12250000238 904310.3546000011, 185955.94250000268 904031.5745999999, 185354.61249999702 901643.4345999993, 185471.9224999994 901611.7245999984, 184514.1724999994 897240.6645999998, 184377.5925000012 897293.4145999998, 184245.7124999985 897394.9045999981, 184260.6625000015 897625.3546000011, 183713.79249999672 897470.1746000014, 183710.3224999979 897650.9846000001, 183890.1024999991 897771.8245999999, 183626.2325000018 898009.694600001, 181023.51250000298 896764.5146000013, 180889.7325000018 896408.2045999989, 180067.2025000006 896165.1845999993, 180098.62250000238 896342.8145999983, 178851.18249999732 895770.0945999995, 178199.22249999642 895853.5245999992, 178267.97249999642 899333.6446000002, 178609.18249999732 902281.3845999986, 179099.2824999988 903656.0346000008, 180079.3025000021 904066.3245999999, 181392.8125 904444.6645999998, 183448.4224999994 905052.2346000001, 185280.12250000238 904310.3546000011))\",\n          \"POLYGON ((214113.50249999762 897921.8546000011, 214223.79249999672 896750.7245999984, 214231.5925000012 895929.2545999996, 214035.4924999997 895848.0245999992, 214541.00249999762 894119.0146000013, 215800.8125 891157.8145999983, 215804.7325000018 891137.7646000013, 216263.8125 888664.3346000016, 213841.79249999672 888747.7045999989, 213823.0525000021 888748.1345999986, 213813.5225000009 888731.0645999983, 213809.1625000015 888710.0346000008, 213808.36249999702 888678.6746000014, 213810.36249999702 888653.6746000014, 213815.11249999702 888628.6746000014, 213829.00249999762 888598.114599999, 213789.33250000328 888610.614599999, 213000.7325000018 888900.364599999, 213056.2725000009 889242.3245999999, 212795.8425000012 889275.4745999984, 212508.72249999642 889370.9145999998, 212308.87250000238 889502.9145999998, 212236.9224999994 889494.1545999981, 212230.75249999762 889493.8746000007, 212229.4825000018 889496.194600001, 212229.1024999991 889498.9846000001, 212228.01250000298 889502.7245999984, 212224.22249999642 889506.5146000013, 212221.0925000012 889508.0546000004, 212217.7025000006 889510.944600001, 212216.00249999762 889514.944600001, 212213.68249999732 889521.0546000004, 212209.47249999642 889524.2146000005, 212204.2025000006 889525.694600001, 212191.7824999988 889524.6345999986, 212186.7124999985 889526.114599999, 212182.50249999762 889531.8046000004, 212182.9224999994 889539.1746000014, 212181.43249999732 889541.2745999992, 212176.18249999732 889542.9646000005, 212170.2824999988 889547.4045999981, 212163.3224999979 889550.1345999986, 212156.47249999642 889557.3746000007, 212144.00249999762 889570.5645999983, 212122.87250000238 889588.9045999981, 212108.7025000006 889598.6246000007, 212104.54249999672 889603.0146000013, 212102.2325000018 889607.444600001, 212098.8524999991 889611.2346000001, 212096.1024999991 889612.2945999987, 212092.5324999988 889611.2346000001, 212088.94250000268 889607.6545999981, 212086.6325000003 889605.1246000007, 212081.9924999997 889604.9045999981, 212077.3524999991 889603.2346000001, 212075.0324999988 889602.194600001, 212073.3524999991 889602.1746000014, 212072.7824999988 889603.7545999996, 212070.8224999979 889606.8145999983, 212070.40250000358 889610.3946000002, 212069.5625 889613.5546000004, 212068.29249999672 889616.5045999996, 212061.5525000021 889619.2446000017, 212055.86249999702 889622.4045999981, 212052.5324999988 889625.9946000017, 212052.0724999979 889632.3046000004, 212052.7025000006 889639.6845999993, 212050.8125 889644.9646000005, 212046.3825000003 889651.4846000001, 212041.3924999982 889659.614599999, 212032.47249999642 889671.7146000005, 212027.00249999762 889676.1345999986, 212026.15250000358 889688.1446000002, 212020.6724999994 889696.1545999981, 212014.7824999988 889698.8946000002, 212013.93249999732 889701.2045999989, 212013.72249999642 889704.1545999981, 212016.04249999672 889707.9545999989, 212016.6724999994 889716.3845999986, 212012.8825000003 889721.2245999984, 212009.72249999642 889722.7045999989, 212008.2424999997 889727.9646000005, 212009.72249999642 889730.7045999989, 212010.7725000009 889733.8746000007, 212009.93249999732 889737.0245999992, 212008.01250000298 889737.8046000004, 212006.1424999982 889740.4045999981, 212007.61249999702 889743.3546000011, 212010.5625 889746.0945999995, 212013.72249999642 889749.2545999996, 212022.9924999997 889769.6845999993, 212022.5724999979 889773.2745999992, 212024.68249999732 889776.2245999984, 212021.94250000268 889781.0645999983, 212017.51250000298 889784.2245999984, 212013.51250000298 889789.4946000017, 212011.40250000358 889795.3946000002, 212011.83250000328 889801.9145999998, 212010.1424999982 889805.7245999984, 212005.9224999994 889808.6645999998, 212002.33250000328 889811.614599999, 211997.9224999994 889811.8346000016, 211994.3425000012 889813.0945999995, 211990.33250000328 889813.3046000004, 211986.9624999985 889812.2646000013, 211984.97249999642 889811.444600001, 211979.8025000021 889812.6746000014, 211977.3924999982 889813.7446000017, 211975.8025000021 889813.7245999984, 211974.69250000268 889813.1246000007, 211969.68249999732 889808.4545999989, 211967.37250000238 889808.4545999989, 211964.1724999994 889809.5846000016, 211960.4125000015 889816.2545999996, 211954.93249999732 889821.944600001, 211950.0925000012 889825.7346000001, 211946.08250000328 889826.1545999981, 211938.7025000006 889831.8445999995, 211932.3924999982 889837.7346000001, 211929.86249999702 889843.864599999, 211926.7025000006 889847.2245999984, 211923.9624999985 889848.0846000016, 211915.5324999988 889845.7545999996, 211909.2124999985 889847.444600001, 211906.1024999991 889849.3946000002, 211901.8425000012 889847.6545999981, 211896.9924999997 889848.0846000016, 211893.4125000015 889849.7545999996, 211890.04249999672 889855.6446000002, 211885.25249999762 889859.4745999984, 211879.9224999994 889861.7745999992, 211870.2325000018 889870.8245999999, 211862.43249999732 889871.8845999986, 211861.1625000015 889875.0445999987, 211863.1625000015 889883.1345999986, 211861.8125 889888.9846000001, 211859.5625 889893.9646000005, 211853.2424999997 889898.9246000014, 211841.9624999985 889918.3245999999, 211841.51250000298 889924.6446000002, 211837.08250000328 889931.0945999995, 211834.29249999672 889942.2346000001, 211827.22249999642 889951.3746000007, 211824.8125 889956.2245999984, 211824.12250000238 889959.7945999987, 211825.26250000298 889966.1545999981, 211827.97249999642 889981.4946000017, 211836.5525000021 890006.7646000013, 211840.15250000358 890019.3946000002, 211841.9624999985 890060.9045999981, 211841.0625 890070.8346000016, 211837.4525000006 890078.5045999996, 211829.33250000328 890098.8046000004, 211822.5625 890107.3746000007, 211798.2025000006 890110.9846000001, 211790.5225000009 890117.3145999983, 211790.5225000009 890126.3245999999, 211789.62250000238 890134.9045999981, 211791.8825000003 890140.3046000004, 211789.62250000238 890145.7346000001, 211786.9125000015 890155.2045999989, 211788.2725000009 890160.1645999998, 211786.9125000015 890166.9345999993, 211788.2725000009 890174.1545999981, 211797.29249999672 890180.0245999992, 211806.3125 890181.8245999999, 211810.83250000328 890190.3946000002, 211818.50249999762 890196.2646000013, 211826.0625 890199.3546000011, 211831.58250000328 890203.0346000008, 211834.29249999672 890209.3445999995, 211837.90250000358 890221.0745999999, 211841.9624999985 890238.6746000014, 211840.61249999702 890270.2646000013, 211830.68249999732 890295.0745999999, 211830.22249999642 890313.1246000007, 211826.62250000238 890326.2045999989, 211815.3425000012 890339.7446000017, 211805.83250000328 890346.194600001, 210160.94250000268 891009.3845999986, 209044.2025000006 891277.4946000017, 208591.0525000021 891386.1446000002, 208478.01250000298 892064.1545999981, 208291.9825000018 892247.5045999996, 208038.1724999994 893654.7446000017, 209274.36249999702 894626.9345999993, 210083.29249999672 896027.6545999981, 210348.3825000003 895630.0245999992, 210437.8425000012 895493.4946000017, 210481.0324999988 895489.7745999992, 210524.9624999985 895491.9946000017, 210571.8924999982 895496.4745999984, 210613.58250000328 895509.1345999986, 210638.90250000358 895521.7945999987, 210667.19250000268 895538.9145999998, 210684.3224999979 895555.3046000004, 210699.2124999985 895573.9145999998, 210715.5925000012 895599.9846000001, 210737.5925000012 895639.8145999983, 210768.9825000018 895700.9345999993, 210802.83250000328 895769.0045999996, 210841.54249999672 895822.4045999981, 211203.69250000268 896166.7146000005, 211279.9624999985 896156.3546000011, 211547.61249999702 896305.5245999992, 211936.6325000003 896308.364599999, 212695.7025000006 896046.864599999, 213310.1325000003 896982.2945999987, 213701.4825000018 898003.0945999995, 214113.50249999762 897921.8546000011))\"\n        ],\n        \"semantic_type\": \"\",\n        \"description\": \"\"\n      }\n    },\n    {\n      \"column\": \"AG_ASSLT_aereal\",\n      \"properties\": {\n        \"dtype\": \"number\",\n        \"std\": 163.29146771207576,\n        \"min\": 1.6279662027955055,\n        \"max\": 3011.3061298131943,\n        \"num_unique_values\": 351,\n        \"samples\": [\n          59.07666128128767,\n          33.3302391692996,\n          42.89957843720913\n        ],\n        \"semantic_type\": \"\",\n        \"description\": \"\"\n      }\n    },\n    {\n      \"column\": \"BURGLRY_aereal\",\n      \"properties\": {\n        \"dtype\": \"number\",\n        \"std\": 184.20275897055853,\n        \"min\": 3.6357911862432957,\n        \"max\": 3261.0804953575134,\n        \"num_unique_values\": 351,\n        \"samples\": [\n          142.24603917449713,\n          59.168991185724735,\n          97.69789709150791\n        ],\n        \"semantic_type\": \"\",\n        \"description\": \"\"\n      }\n    },\n    {\n      \"column\": \"AG_ASSLT_rate10K_aereal\",\n      \"properties\": {\n        \"dtype\": \"number\",\n        \"std\": 8.57688859777592,\n        \"min\": 13.012465021239294,\n        \"max\": 48.35189271253721,\n        \"num_unique_values\": 27,\n        \"samples\": [\n          14.6509342466071,\n          35.49002067638756,\n          23.999691322298105\n        ],\n        \"semantic_type\": \"\",\n        \"description\": \"\"\n      }\n    },\n    {\n      \"column\": \"BURGLRY_rate10K_aereal\",\n      \"properties\": {\n        \"dtype\": \"number\",\n        \"std\": 20.591154524617796,\n        \"min\": 31.331689520414166,\n        \"max\": 103.40015814689055,\n        \"num_unique_values\": 27,\n        \"samples\": [\n          33.36549025567973,\n          103.40015198376085,\n          68.75795809700197\n        ],\n        \"semantic_type\": \"\",\n        \"description\": \"\"\n      }\n    }\n  ]\n}"
            }
          },
          "metadata": {},
          "execution_count": 25
        }
      ],
      "source": [
        "toConcatenate=[municipalitiesMA_target, areal_municipalities]\n",
        "\n",
        "municipalitiesMA_interpolated=pd.concat(toConcatenate,axis=1)\n",
        "\n",
        "# here it is\n",
        "municipalitiesMA_interpolated\n"
      ]
    },
    {
      "cell_type": "markdown",
      "metadata": {
        "id": "sOv9i7aHRujM"
      },
      "source": [
        "### Plotting comparatively\n",
        "\n",
        "Let's see the aggravated assault results comparatively, let's start with crime counts:"
      ]
    },
    {
      "cell_type": "code",
      "execution_count": 26,
      "metadata": {
        "id": "-CkTxWMBRujM",
        "outputId": "47077ccb-49f0-4c90-e7ba-816bfd9138fa",
        "colab": {
          "base_uri": "https://localhost:8080/",
          "height": 807
        }
      },
      "outputs": [
        {
          "output_type": "display_data",
          "data": {
            "text/plain": [
              "<Figure size 1500x800 with 3 Axes>"
            ],
            "image/png": "[encoded data removed]"
          },
          "metadata": {}
        }
      ],
      "source": [
        "import matplotlib.pyplot as plt\n",
        "\n",
        "# Find the absolute minimum and maximum rate across both datasets\n",
        "count_min = min(countiesMA_source['AG_ASSLT'].min(), municipalitiesMA_interpolated['AG_ASSLT_aereal'].min())\n",
        "count_max = max(countiesMA_source['AG_ASSLT'].max(), municipalitiesMA_interpolated['AG_ASSLT_aereal'].max())\n",
        "\n",
        "# let's create a dict with common parameters\n",
        "dictParams=dict(linewidth=0.8,legend_kwds={'label': \"Crime count\"},\n",
        "                cmap='viridis',\n",
        "                vmin=count_min,              # Ensures the color scale starts at the global min\n",
        "                vmax=count_max)              # Ensures the color scale ends at the global max\n",
        "\n",
        "fig, axes = plt.subplots(1, 2, figsize=(15, 8))\n",
        "\n",
        "\n",
        "# --- MAP 1\n",
        "countiesMA_source.plot(column='AG_ASSLT',ax=axes[0],**dictParams,legend=False)\n",
        "axes[0].set_title('AG_ASSLT (original)', fontsize=14)\n",
        "axes[0].set_axis_off()\n",
        "\n",
        "\n",
        "# --- MAP 2\n",
        "municipalitiesMA_interpolated.plot(column='AG_ASSLT_aereal',ax=axes[1],**dictParams,legend=True)\n",
        "axes[1].set_title('AG_ASSLT (interpolated to Municipalities)', fontsize=14)\n",
        "axes[1].set_axis_off()\n",
        "\n",
        "plt.tight_layout()\n",
        "plt.show()"
      ]
    },
    {
      "cell_type": "markdown",
      "metadata": {
        "id": "uT2nOHz8RujM"
      },
      "source": [
        "Now, crime rates:"
      ]
    },
    {
      "cell_type": "code",
      "execution_count": 27,
      "metadata": {
        "id": "T40CKtOxRujN",
        "outputId": "7c8bd26d-3697-4808-9313-6463d15f2bb0",
        "colab": {
          "base_uri": "https://localhost:8080/",
          "height": 807
        }
      },
      "outputs": [
        {
          "output_type": "display_data",
          "data": {
            "text/plain": [
              "<Figure size 1500x800 with 3 Axes>"
            ],
            "image/png": "[encoded data removed]"
          },
          "metadata": {}
        }
      ],
      "source": [
        "rate_min = min(countiesMA_source['AG_ASSLT_rate10K'].min(), municipalitiesMA_interpolated['AG_ASSLT_rate10K_aereal'].min())\n",
        "rate_max = max(countiesMA_source['AG_ASSLT_rate10K'].max(), municipalitiesMA_interpolated['AG_ASSLT_rate10K_aereal'].max())\n",
        "\n",
        "dictParams=dict(linewidth=0.8,legend_kwds={'label': \"Crimes rate (per 10k)\"},\n",
        "                vmin=rate_min, vmax=rate_max)\n",
        "\n",
        "fig, axes = plt.subplots(1, 2, figsize=(15, 8))\n",
        "\n",
        "# --- MAP 1:\n",
        "countiesMA_source.plot(column='AG_ASSLT_rate10K',ax=axes[0],**dictParams,legend=False)\n",
        "axes[0].set_title('AG_ASSLT_rate10K (original)', fontsize=14)\n",
        "axes[0].set_axis_off()\n",
        "\n",
        "\n",
        "# --- MAP 2:\n",
        "municipalitiesMA_interpolated.plot(column='AG_ASSLT_rate10K_aereal',ax=axes[1],**dictParams,legend=True)\n",
        "axes[1].set_title('AG_ASSLT_rate10K (interpolated to Municipalities)', fontsize=14)\n",
        "axes[1].set_axis_off()\n",
        "\n",
        "plt.tight_layout()\n",
        "plt.show()"
      ]
    },
    {
      "cell_type": "markdown",
      "metadata": {
        "id": "WYrvXCK7RujN"
      },
      "source": [
        "## Option 2: Dasymetric Interpolation\n",
        "\n",
        "Dasymetric interpolation is a smarter way to transfer data from large areas to smaller ones by using auxiliary data to guide the process. Instead of assuming data is spread evenly (like simple Areal Interpolation), Dasymetric methods assume the data follows a pattern dictated by a secondary map.\n",
        "\n",
        "The term \"dasymetric\" comes from Greek roots meaning \"dense measurement\" or \"distribution measurement.\"\n",
        "\n",
        "How It Works?\n",
        "\n",
        "Here we're moving a county's crime  to municipal aereas.\n",
        "\n",
        "Auxiliary Map: You use a secondary, fine-grained map—like land-use pixels (forest, urban, water, etc.)—as the guide.\n",
        "\n",
        "Weighted Transfer: Instead of dividing the crime based on the city's total area, you divide it based on the area of \"relevant\" land use within that block. In our case, the more 'urban' area.\n",
        "\n",
        "If 90% of a county's crime is shown by a model to occur on urban land, the model only places crime on the urban pixels within the city, leaving forest and water areas with a zero crime estimate.\n",
        "\n",
        "Why It's Better?\n",
        "\n",
        "Dasymetric interpolation creates a much denser and more accurate map because it respects the underlying geographical reality. The resulting small areas aren't just averages; they are informed predictions based on where the activity is known to occur."
      ]
    },
    {
      "cell_type": "markdown",
      "metadata": {
        "id": "8gAsGPuwRujN"
      },
      "source": [
        "The auxiliary map with pixel information is a **raster** map. We will a raster that comes from [GHSL - Global Human Settlement Layer](https://human-settlement.emergency.copernicus.eu/download.php?ds=smod). As you read the documentation they will tell the values the cells represent.\n",
        "\n",
        "- Class 30: “Urban Centre grid cell”\n",
        "- Class 23: “Dense Urban Cluster grid cell”\n",
        "- Class 22: “Semi-dense Urban Cluster grid cell”\n",
        "- Class 21: “Suburban or per-urban grid cell”\n",
        "- Class 13: “Rural cluster grid cell”\n",
        "- Class 12: “Low Density Rural grid cell”\n",
        "- Class 11: “Very low density rural grid cell”\n",
        "- Class 10: “Water grid cell”(not populated nor built).\n",
        "\n",
        "For crime distribution, we'll focus on populated urban areas (classes 21-30) since crimes predominantly occur where people live and work, while excluding rural and water areas."
      ]
    },
    {
      "cell_type": "code",
      "execution_count": 29,
      "metadata": {
        "id": "3uLVPdfOBnvF"
      },
      "outputs": [],
      "source": [
        "from tobler.dasymetric import masked_area_interpolate as dasy\n",
        "\n",
        "rasterPath=mainGitHub+\"WORLD/raster/GHS_SMOD_E2030_GLOBE_R2023A_54009_1000_V2_0.tif\"\n",
        "populatedCodes=[21,22,23,30]\n",
        "\n",
        "\n",
        "dasymetric_municipalities=dasy(\n",
        "    source_df=countiesMA_source,\n",
        "    target_df=municipalitiesMA_target,\n",
        "    raster=rasterPath,\n",
        "    pixel_values=populatedCodes,\n",
        "    extensive_variables=myExtensive,\n",
        "    intensive_variables=myIntensive\n",
        ")"
      ]
    },
    {
      "cell_type": "markdown",
      "metadata": {
        "id": "Z3P-xFn6RujO"
      },
      "source": [
        "Here we are:"
      ]
    },
    {
      "cell_type": "code",
      "execution_count": null,
      "metadata": {
        "id": "CDtshOnhRujO"
      },
      "outputs": [],
      "source": [
        "dasymetric_municipalities"
      ]
    },
    {
      "cell_type": "markdown",
      "metadata": {
        "id": "L25aehOARujO"
      },
      "source": [
        "### Concatenating Dasymetric interpolation to Target\n",
        "\n",
        "Given we have the same structure, let's follow the same steps to **concatenate** this results into **municipalitiesMA_interpolated**:"
      ]
    },
    {
      "cell_type": "code",
      "execution_count": null,
      "metadata": {
        "id": "F_hwmblHRujO"
      },
      "outputs": [],
      "source": [
        "# bye column\n",
        "dasymetric_municipalities.drop(columns='geometry',inplace=True)\n",
        "\n",
        "# renaming\n",
        "old=dasymetric_municipalities.columns\n",
        "new=[name+'_dasy' for name in dasymetric_municipalities.columns]\n",
        "fromOldToNew_dict={o:n for o,n in zip(old,new)}\n",
        "dasymetric_municipalities.rename(columns=fromOldToNew_dict,inplace=True)\n",
        "\n",
        "# concatenating\n",
        "toConcatenate=[municipalitiesMA_interpolated, dasymetric_municipalities] #notice this\n",
        "\n",
        "# self concat\n",
        "municipalitiesMA_interpolated=pd.concat(toConcatenate,axis=1)\n",
        "\n",
        "# here it is\n",
        "municipalitiesMA_interpolated"
      ]
    },
    {
      "cell_type": "markdown",
      "metadata": {
        "id": "RD8W-MN9RujO"
      },
      "source": [
        "### Plotting comparatively\n",
        "\n",
        "Let's see the burglary results comparatively, let's start with crime counts:"
      ]
    },
    {
      "cell_type": "code",
      "execution_count": null,
      "metadata": {
        "id": "fw6ikKP4RujP"
      },
      "outputs": [],
      "source": [
        "# common min and max\n",
        "count_min = min(countiesMA_source['BURGLRY'].min(),\n",
        "                municipalitiesMA_interpolated['BURGLRY_aereal'].min(),\n",
        "                municipalitiesMA_interpolated['BURGLRY_dasy'].min()\n",
        "               )\n",
        "count_max = max(countiesMA_source['AG_ASSLT'].max(),\n",
        "                municipalitiesMA_interpolated['AG_ASSLT_aereal'].max(),\n",
        "                municipalitiesMA_interpolated['BURGLRY_dasy'].max()\n",
        "               )\n",
        "\n",
        "# dict with common parameters\n",
        "dictParams=dict(linewidth=0.8,    legend_kwds={'label': \"Crime count\",'orientation': \"horizontal\"},\n",
        "                cmap='viridis',  vmin=count_min,  vmax=count_max)\n",
        "\n",
        "fig, axes = plt.subplots(1, 3, figsize=(15, 8))\n",
        "\n",
        "\n",
        "# --- MAP 1\n",
        "countiesMA_source.plot(column='BURGLRY',ax=axes[0],**dictParams,legend=False)\n",
        "axes[0].set_title('BURGLARY (original)', fontsize=14)\n",
        "axes[0].set_axis_off()\n",
        "\n",
        "\n",
        "# --- MAP 2\n",
        "municipalitiesMA_interpolated.plot(column='BURGLRY_aereal',ax=axes[1],**dictParams,legend=True)\n",
        "axes[1].set_title('BURGLARY (interpolated to Municipalities)', fontsize=14)\n",
        "axes[1].set_axis_off()\n",
        "\n",
        "\n",
        "# --- MAP 3\n",
        "municipalitiesMA_interpolated.plot(column='BURGLRY_dasy',ax=axes[2],**dictParams,legend=False)\n",
        "axes[2].set_title('BURGLARY (interpolated (Dasymetric) to Municipalities)', fontsize=14)\n",
        "axes[2].set_axis_off()\n",
        "\n",
        "plt.tight_layout()\n",
        "plt.show()"
      ]
    },
    {
      "cell_type": "code",
      "execution_count": null,
      "metadata": {
        "id": "h2rsAUJtRujP"
      },
      "outputs": [],
      "source": [
        "# common min and max\n",
        "count_min = min(countiesMA_source['BURGLRY_rate10K'].min(),\n",
        "                municipalitiesMA_interpolated['BURGLRY_rate10K_aereal'].min(),\n",
        "                municipalitiesMA_interpolated['BURGLRY_rate10K_dasy'].min()\n",
        "               )\n",
        "count_max = max(countiesMA_source['BURGLRY_rate10K'].max(),\n",
        "                municipalitiesMA_interpolated['BURGLRY_rate10K_aereal'].max(),\n",
        "                municipalitiesMA_interpolated['BURGLRY_rate10K_dasy'].max()\n",
        "               )\n",
        "\n",
        "# dict with common parameters\n",
        "dictParams=dict(linewidth=0.8, legend_kwds={'label': \"Crime rate (10k)\",'orientation': \"horizontal\"},\n",
        "                cmap='viridis', vmin=count_min,vmax=count_max)\n",
        "\n",
        "fig, axes = plt.subplots(1, 3, figsize=(15, 8))\n",
        "\n",
        "\n",
        "# --- MAP 1\n",
        "countiesMA_source.plot(column='BURGLRY_rate10K',ax=axes[0],legend=False,**dictParams)\n",
        "axes[0].set_title('BURGLARY Rate \\n(original)', fontsize=14)\n",
        "axes[0].set_axis_off()\n",
        "\n",
        "\n",
        "# --- MAP 2\n",
        "municipalitiesMA_interpolated.plot(column='BURGLRY_rate10K_aereal',ax=axes[1],legend=True,**dictParams)\n",
        "axes[1].set_title('BURGLRY Rate \\n(interpolated to Municipalities)', fontsize=14)\n",
        "axes[1].set_axis_off()\n",
        "\n",
        "\n",
        "# --- MAP 3\n",
        "municipalitiesMA_interpolated.plot(column='BURGLRY_rate10K_dasy',ax=axes[2],legend=False,**dictParams)\n",
        "axes[2].set_title('BURGLRY Rate \\n(interpolated (Dasymetric) to Municipalities)', fontsize=14)\n",
        "axes[2].set_axis_off()\n",
        "\n",
        "plt.tight_layout()\n",
        "plt.show()"
      ]
    },
    {
      "cell_type": "markdown",
      "metadata": {
        "id": "ZLzYbDwlRujP"
      },
      "source": [
        "## Option 3: Dasymetric using H3 grid\n",
        "\n",
        "Dasymetric Interpolation using an H3 Grid is the method for getting the most precise, street-level view of your data. It takes the Smart Dasymetric approach (Option 2) and applies it to very tiny, uniform target areas.\n",
        "\n",
        "How It Works?\n",
        "\n",
        "**Tiny Targets**: Instead of using administrative boundaries like cities or blocks, you use a global grid of perfect hexagons called H3 cells . These hexagons are the same size everywhere and can be very small (like a few city blocks).\n",
        "\n",
        "**Same Smart Model**: You take the same spatial weights (the land-use influence: \"urban land attracts this much crime\") determined by your Dasymetric model.\n",
        "\n",
        "**Maximum Detail**: You apply those weights to the land-use pixels found inside each tiny H3 hexagon.\n",
        "\n",
        "This tells you the predicted crime rate for that specific hexagon.\n",
        "\n",
        "Why It's the Best for Decisions?\n",
        "\n",
        "The result is an extremely granular map that shows you exactly where the rate is high or low, block-by-block. This level of detail is perfect for practical applications like evaluating the risk for a single property address, making it the ideal tool for your final buying/renting decision.\n",
        "\n",
        "Let's inspect the smallest municipality area:"
      ]
    },
    {
      "cell_type": "code",
      "execution_count": null,
      "metadata": {
        "id": "MRJYBLiJRujP"
      },
      "outputs": [],
      "source": [
        "municipalitiesMA_target.area.min()/ 1000000"
      ]
    },
    {
      "cell_type": "markdown",
      "metadata": {
        "id": "lYZbLNaLRujQ"
      },
      "source": [
        "The smallest municipality is a little bigger than 3 km2, notice some resolutions offered by H3 grid:"
      ]
    },
    {
      "cell_type": "markdown",
      "metadata": {
        "id": "8RM2h4dkRujQ"
      },
      "source": [
        "### Resolution Comparison\n",
        "\n",
        "\n",
        "| H3 Resolution | Approximate Area per Hexagon |\n",
        "|---------------|------------------------------|\n",
        "| 10            | ∼0.008 km²                   |\n",
        "| 9             | ∼0.11 km²                    |\n",
        "| 8             | ∼0.73 km²                    |"
      ]
    },
    {
      "cell_type": "markdown",
      "metadata": {
        "id": "5h18COGqRujQ"
      },
      "source": [
        "SO, the smallees of our municipalities will be represented by:"
      ]
    },
    {
      "cell_type": "code",
      "execution_count": null,
      "metadata": {
        "id": "tv_ex-i5RujQ"
      },
      "outputs": [],
      "source": [
        "(municipalitiesMA_target.area.min()/ 1000000)/0.73"
      ]
    },
    {
      "cell_type": "markdown",
      "metadata": {
        "id": "WEJKmFwzRujQ"
      },
      "source": [
        "Let's creta a **MA_grid8_target**. Remember that H3 requires geographic coordinates (EPSG:4326) to create the global grid, so we temporarily convert our data, create the hexagons, then convert back to our working projection"
      ]
    },
    {
      "cell_type": "code",
      "execution_count": null,
      "metadata": {
        "id": "xQD_YhfFRujR"
      },
      "outputs": [],
      "source": [
        "from tobler.util import h3fy as h3\n",
        "\n",
        "MA_grid8_target=h3(municipalitiesMA_target.to_crs(4326), resolution=8).to_crs(municipalitiesMA_target.crs)"
      ]
    },
    {
      "cell_type": "markdown",
      "metadata": {
        "id": "KGuuCSqeRujR"
      },
      "source": [
        "He have this:"
      ]
    },
    {
      "cell_type": "code",
      "execution_count": null,
      "metadata": {
        "id": "eoDxX7s5RujR"
      },
      "outputs": [],
      "source": [
        "MA_grid8_target"
      ]
    },
    {
      "cell_type": "markdown",
      "metadata": {
        "id": "UXIroo46RujR"
      },
      "source": [
        "A little change to previous model, no more municipality as target:"
      ]
    },
    {
      "cell_type": "code",
      "execution_count": null,
      "metadata": {
        "id": "FI5coTGxRujR"
      },
      "outputs": [],
      "source": [
        "dasymetric_h3_grid8=dasy(\n",
        "    source_df=countiesMA_source,\n",
        "    target_df=MA_grid8_target,\n",
        "    raster=rasterPath,\n",
        "    pixel_values=populatedCodes,\n",
        "    extensive_variables=myExtensive,\n",
        "    intensive_variables=myIntensive\n",
        ")"
      ]
    },
    {
      "cell_type": "code",
      "execution_count": null,
      "metadata": {
        "id": "AUow8mj6RujU"
      },
      "outputs": [],
      "source": [
        "dasymetric_h3_grid8.columns"
      ]
    },
    {
      "cell_type": "markdown",
      "metadata": {
        "id": "QMdegrrJRujV"
      },
      "source": [
        "We can not concatenate this results as before, they do not match the municipality boundaries:"
      ]
    },
    {
      "cell_type": "code",
      "execution_count": null,
      "metadata": {
        "id": "0gMWsA-nRujV"
      },
      "outputs": [],
      "source": [
        "# COMMON MIN AND MAX ACROSS ALL THREE DATASETS\n",
        "# We now use the rate from the H3 grid instead of the Aereal rate column.\n",
        "count_min = min(\n",
        "    countiesMA_source['BURGLRY_rate10K'].min(),\n",
        "    municipalitiesMA_interpolated['BURGLRY_rate10K_dasy'].min(),\n",
        "    dasymetric_h3_grid8['BURGLRY_rate10K'].min() # Using the new H3 rate column\n",
        ")\n",
        "count_max = max(\n",
        "    countiesMA_source['BURGLRY_rate10K'].max(),\n",
        "    municipalitiesMA_interpolated['BURGLRY_rate10K_dasy'].max(),\n",
        "    dasymetric_h3_grid8['BURGLRY_rate10K'].max() # Using the new H3 rate column\n",
        ")\n",
        "\n",
        "# DICT WITH COMMON PARAMETERS\n",
        "dictParams=dict(linewidth=0.8, legend_kwds={'label': \"Crime rate (10k)\",'orientation': \"horizontal\"},\n",
        "                cmap='inferno_r', # another color map\n",
        "                vmin=count_min,vmax=count_max)\n",
        "\n",
        "\n",
        "# 1 row, 3 columns\n",
        "fig, axes = plt.subplots(1, 3, figsize=(18, 8))\n",
        "\n",
        "# --- MAP 1\n",
        "countiesMA_source.plot(column='BURGLRY_rate10K',ax=axes[0],**dictParams,legend=False)\n",
        "axes[0].set_title('1. BURGLARY Rate \\n(Original County Rate)', fontsize=14)\n",
        "axes[0].set_axis_off()\n",
        "\n",
        "# --- MAP 2\n",
        "municipalitiesMA_interpolated.plot(column='BURGLRY_rate10K_dasy',ax=axes[1],**dictParams,legend=True)\n",
        "axes[1].set_title('2. BURGLARY Rate \\n(Dasymetric to Municipalities)', fontsize=14)\n",
        "axes[1].set_axis_off()\n",
        "\n",
        "# --- MAP 3\n",
        "# This replaces the Areal map and shows the final, highest-resolution result.\n",
        "dasymetric_h3_grid8.plot(column='BURGLRY_rate10K', ax=axes[2],**dictParams,legend=False)\n",
        "axes[2].set_title('3. BURGLARY Rate\\n(Dasymetric to H3 Grid R8)', fontsize=14)\n",
        "axes[2].set_axis_off()\n",
        "\n",
        "plt.tight_layout()\n",
        "plt.show()"
      ]
    },
    {
      "cell_type": "markdown",
      "metadata": {
        "id": "q9BTDdJCRujV"
      },
      "source": [
        "## So, what decision should I make?\n",
        "\n",
        "Let's explore the results statistically:"
      ]
    },
    {
      "cell_type": "code",
      "execution_count": null,
      "metadata": {
        "id": "PDefDox4RujW"
      },
      "outputs": [],
      "source": [
        "dasymetric_h3_grid8[['BURGLRY_rate10K','AG_ASSLT_rate10K']].describe()"
      ]
    },
    {
      "cell_type": "markdown",
      "metadata": {
        "id": "3CYSyGHDRujW"
      },
      "source": [
        "Given these values, we should bin these columns. Let's use Fisher-Jenks (also called \"natural breaks\") for this skewed crime data because:\n",
        "\n",
        "- Right-skewed distribution: Most hexagons have zero/low crime, few have very high values\n",
        "\n",
        "- Natural clustering: Finds inherent groupings in the data rather than arbitrary equal intervals\n",
        "\n",
        "- Optimal for skewed data: Minimizes variance within classes, maximizes between classes\n",
        "\n",
        "- Preserves patterns: Better reveals the actual risk clusters in our spatial data\n",
        "\n",
        "Unlike quantiles (which would force equal counts) or equal intervals (which would misrepresent the distribution), Fisher-Jenks adapts to our data's natural structure."
      ]
    },
    {
      "cell_type": "code",
      "execution_count": null,
      "metadata": {
        "id": "n-QZqaGbRujW"
      },
      "outputs": [],
      "source": [
        "import mapclassify\n",
        "import numpy as np\n",
        "\n",
        "np.random.seed(12345) # so we all get the same results!\n",
        "\n",
        "K=3\n",
        "theVar1=dasymetric_h3_grid8['BURGLRY_rate10K']\n",
        "\n",
        "# based on similarity, good for skewed data\n",
        "fj_burg = mapclassify.FisherJenks(theVar1, k=K)\n",
        "pd.Series(fj_burg.yb).value_counts().sort_index()"
      ]
    },
    {
      "cell_type": "code",
      "execution_count": null,
      "metadata": {
        "id": "c2-spuaORujX"
      },
      "outputs": [],
      "source": [
        "theVar2=dasymetric_h3_grid8['AG_ASSLT_rate10K']\n",
        "\n",
        "# based on similarity, good for skewed data\n",
        "fj_asslt = mapclassify.FisherJenks(theVar2, k=K)\n",
        "pd.Series(fj_asslt.yb).value_counts().sort_index()"
      ]
    },
    {
      "cell_type": "markdown",
      "metadata": {
        "id": "WInOp49BRujX"
      },
      "source": [
        "Notice that the bin '0' represents the hexagons with ZERO value:"
      ]
    },
    {
      "cell_type": "code",
      "execution_count": null,
      "metadata": {
        "id": "cSMgvNjZRujX"
      },
      "outputs": [],
      "source": [
        "(dasymetric_h3_grid8['BURGLRY_rate10K']==0).sum(),(dasymetric_h3_grid8['AG_ASSLT_rate10K']==0).sum()"
      ]
    },
    {
      "cell_type": "markdown",
      "metadata": {
        "id": "LMFTUu-bRujY"
      },
      "source": [
        "Then, we could rename the values computed:"
      ]
    },
    {
      "cell_type": "code",
      "execution_count": null,
      "metadata": {
        "id": "VE76ftfpRujY"
      },
      "outputs": [],
      "source": [
        "# renaming\n",
        "newLabelsForLevels={0:\"0_NoRisk\", 1:\"1_MediumRisk\", 2:\"2_HighRisk\"}\n",
        "\n",
        "\n",
        "dasymetric_h3_grid8['BURGLRY_rate10K_bin']=fj_burg.yb\n",
        "dasymetric_h3_grid8.replace({'BURGLRY_rate10K_bin':newLabelsForLevels},inplace=True)\n",
        "\n",
        "dasymetric_h3_grid8['AG_ASSLT_rate10K_bin']=fj_asslt.yb\n",
        "dasymetric_h3_grid8.replace({'AG_ASSLT_rate10K_bin':newLabelsForLevels},inplace=True)\n"
      ]
    },
    {
      "cell_type": "markdown",
      "metadata": {
        "id": "XSPjfWDvRujY"
      },
      "source": [
        "This is the result:"
      ]
    },
    {
      "cell_type": "code",
      "execution_count": null,
      "metadata": {
        "id": "XkUt_XG7RujZ"
      },
      "outputs": [],
      "source": [
        "dasymetric_h3_grid8"
      ]
    },
    {
      "cell_type": "markdown",
      "metadata": {
        "id": "WO9NmNJXRujZ"
      },
      "source": [
        "This is the location address, here we geocode:"
      ]
    },
    {
      "cell_type": "code",
      "execution_count": null,
      "metadata": {
        "id": "IFl9N1bhRujZ"
      },
      "outputs": [],
      "source": [
        "from geopy.geocoders import Nominatim\n",
        "from shapely.geometry import Point\n",
        "\n",
        "EstateOnSale='82 Sunset Dr, Taunton, MA 02780'\n",
        "\n",
        "geolocator = Nominatim(user_agent=\"theGeocoder\")\n",
        "\n",
        "EstateOnSale_Address = geolocator.geocode(EstateOnSale)\n",
        "\n",
        "EstateOnSale_Address_gdf4326 = gpd.GeoDataFrame(\n",
        "    {'address': [EstateOnSale_Address.address]},\n",
        "    geometry=[Point(EstateOnSale_Address.longitude, EstateOnSale_Address.latitude)],\n",
        "    crs=\"EPSG:4326\" # because of lon/lat\n",
        ")\n",
        "\n",
        "# reprojecting\n",
        "EstateOnSale_Address_gdf = EstateOnSale_Address_gdf4326.to_crs(countiesMA.crs)\n",
        "\n",
        "# here it is\n",
        "EstateOnSale_Address_gdf"
      ]
    },
    {
      "cell_type": "markdown",
      "metadata": {
        "id": "TUg7gEqiRujZ"
      },
      "source": [
        "Let's plot this result:"
      ]
    },
    {
      "cell_type": "code",
      "execution_count": null,
      "metadata": {
        "id": "rezA-aXXRujZ"
      },
      "outputs": [],
      "source": [
        "\n",
        "# DICT WITH COMMON PARAMETERS\n",
        "dictParams=dict(linewidth=0.8, cmap='inferno_r',categorical=True,figsize=(10,10))\n",
        "\n",
        "\n",
        "base=dasymetric_h3_grid8.plot(column='BURGLRY_rate10K_bin', **dictParams,legend=True)\n",
        "EstateOnSale_Address_gdf.plot(color='red',ax=base)"
      ]
    },
    {
      "cell_type": "code",
      "execution_count": null,
      "metadata": {
        "id": "Z-rGiXcHRujZ"
      },
      "outputs": [],
      "source": [
        "# DICT WITH COMMON PARAMETERS\n",
        "dictParams=dict(linewidth=0.8, cmap='inferno_r',categorical=True,figsize=(10,10))\n",
        "\n",
        "\n",
        "base=dasymetric_h3_grid8.plot(column='AG_ASSLT_rate10K_bin', **dictParams,legend=True)\n",
        "EstateOnSale_Address_gdf.plot(color='red',ax=base)"
      ]
    },
    {
      "cell_type": "markdown",
      "metadata": {
        "id": "DuGqTl-RRuja"
      },
      "source": [
        "You can see more details, that tell us not to buy!"
      ]
    },
    {
      "cell_type": "code",
      "execution_count": null,
      "metadata": {
        "id": "f4siLKA5Ruja"
      },
      "outputs": [],
      "source": [
        "EstateOnSale_Address_gdf.sjoin(\n",
        "    dasymetric_h3_grid8,\n",
        "    how=\"left\",\n",
        "    predicate=\"within\"\n",
        ")"
      ]
    },
    {
      "cell_type": "markdown",
      "metadata": {
        "id": "pdITpLSRRuja"
      },
      "source": [
        "______\n",
        "\n",
        "[BACK TO MAIN MENU](https://cienciadedatosespacial.github.io/GDF_OPS_applications/)"
      ]
    }
  ],
  "metadata": {
    "colab": {
      "provenance": []
    },
    "kernelspec": {
      "display_name": "Python 3 (ipykernel)",
      "language": "python",
      "name": "python3"
    },
    "language_info": {
      "codemirror_mode": {
        "name": "ipython",
        "version": 3
      },
      "file_extension": ".py",
      "mimetype": "text/x-python",
      "name": "python",
      "nbconvert_exporter": "python",
      "pygments_lexer": "ipython3",
      "version": "3.11.13"
    }
  },
  "nbformat": 4,
  "nbformat_minor": 0
}